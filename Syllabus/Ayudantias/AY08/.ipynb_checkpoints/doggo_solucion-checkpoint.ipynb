{
 "cells": [
  {
   "cell_type": "markdown",
   "metadata": {},
   "source": [
    "# Ayudantía 08: Networking - pickle\n",
    "\n",
    "## Ejemplo AC09 2019-1: Ejemplo \"Doggo\" (Modificado) [Solución]\n",
    "\n",
    "### Autores: [@bmurtagh01 ](https://github.com/bmurtagh01) & [@StroveLight ](https://github.com/StroveLight ) & [@JoacoCoyu](https://github.com/JoacoCoyu)\n",
    "\n",
    "## Enunciado\n",
    "\n",
    "Deberás de establecer una conexión entre un servidor y un cliente mediante\n",
    "el uso de sockets, para crear un sistema de transferencia de archivos. Para lograr esto, el cliente deberá poder\n",
    "realizar solicitudes a través de comandos que el servidor deberá responder.\n",
    "\n",
    "El objetivo de tu programa es:\n",
    "* poder ver los archivos ubicados en el servidor\n",
    "* poder recibir la imagen ubicada en el servidor\n",
    "* implementar un protocolo de recepcion de datos en el que los primeros bytes indican el largo del contenido\n",
    "\n",
    "Recuerda que el numero de puerto debe ser mayor a 1023, porque los numeros inferiores son para elementos del sistema operativo del computador. Te recomendamos intentar un numero de puerto superior a 9000 para no chocar con otros programas\n",
    "\n",
    "**Notar que el código se presentará de forma fraccionada (dividido en varias celdas) para facilitar la lectura, pero puedes ver y probar los archivos de solución en la carpeta** `Ejemplo pickle AC09 - 2019-1 (Doggo)/`"
   ]
  },
  {
   "cell_type": "markdown",
   "metadata": {},
   "source": [
    "## Servidor (archivo server.py)"
   ]
  },
  {
   "cell_type": "markdown",
   "metadata": {},
   "source": [
    "### Función Servidor.receive()\n",
    "Originalmente, en el esqueleto entregado se poseía esta función:"
   ]
  },
  {
   "cell_type": "code",
   "execution_count": null,
   "metadata": {},
   "outputs": [],
   "source": [
    "def receive(self):\n",
    "    \"\"\"\n",
    "    [MODIFICAR]\n",
    "    Recibe datos binarios del cliente, a través del socket,\n",
    "    cumpliendo con el protocolo establecido en el enunciado.\n",
    "    \"\"\"\n",
    "    return self.cliente.recv(128)  # maldición, esto es demasiado poco."
   ]
  },
  {
   "cell_type": "markdown",
   "metadata": {},
   "source": [
    "...pero esa funcion no recibía todos los datos (solo 128 bytes).\n",
    "\n",
    "Por lo tanto se deberá implementar un sistema que indique cuantos datos se van a enviar.\n",
    "\n",
    "Usualmente se envían primero 4 bytes que indican el tamaño del archivo que se va a enviar, para luego enviar el archivo o mensaje completo; para seguir este formato será necesario modificar el send() del cliente y del servidor posteriormente, pero por ahora asumamos que se está siguiendo este sistema."
   ]
  },
  {
   "cell_type": "code",
   "execution_count": null,
   "metadata": {},
   "outputs": [],
   "source": [
    "def receive(self):\n",
    "    # primero se reciven los primeros 4 bytes que indican el largo del mensaje\n",
    "    numero_de_bytes_en_bytes = self.cliente.recv(4)\n",
    "\n",
    "    # luego se convierte el numero de bytes que se van a recibir a int\n",
    "    numero_de_bytes_a_recibir = int.from_bytes(numero_de_bytes_en_bytes, byteorder='big')\n",
    "\n",
    "    # posteriormente se crea un bytearray para recibir el mensaje\n",
    "    mensaje = bytearray()\n",
    "\n",
    "    # y luego se agrega el mensaje por trozos de 2048 bytes hasta que se complete\n",
    "    while len(mensaje) > numero_de_bytes_a_recibir:\n",
    "        # se recibe aquí un trozo de 2048 bytes y se agrega a lo que se lleva del mensaje\n",
    "        mensaje.extend(self.socket.recv(2048))\n",
    "    return mensaje"
   ]
  },
  {
   "cell_type": "markdown",
   "metadata": {},
   "source": [
    "El método anterior parece hacer todo de buena manera, sin embargo posee un problema:\n",
    "\n",
    "**Se pueden recibir mas de la cantidad de bytes del mensaje**\n",
    "\n",
    "Pues si el mensaje tiene, por ejemplo, tamaño 5.100 bytes, se recibirán correctamente dos bloques de 2048 bytes, pero el tercer trozo tendrá solamente 1004 bytes, mientras que el socket está intentado recibir 2048.\n",
    "\n",
    "El hacer esto puede causar que se pierda información de mensajes posteriores, pues esta será considerada como parte del primer mensaje (si es que ya están en la cola), además de poder causar un error con el JsonEncoder (al esperar un valor distinto de bytes del que está)\n",
    "\n",
    "Debido a lo anterior necesitamos hacer unos ajustes para que se reciba el mensaje por partes, pero sin recibir de mas."
   ]
  },
  {
   "cell_type": "code",
   "execution_count": null,
   "metadata": {},
   "outputs": [],
   "source": [
    "def receive(self):\n",
    "    # (...) el mismo codigo de arriba hasta el while (...)\n",
    "    numero_de_bytes_en_bytes = self.cliente.recv(4)\n",
    "    numero_de_bytes_a_recibir = int.from_bytes(numero_de_bytes_en_bytes, byteorder='big')\n",
    "    mensaje = bytearray()\n",
    "    \n",
    "    # primero, se indica que la cantidad de numero de bytes a recibir será mayor a cero\n",
    "    # esto debido a que se usará la variable como numero de bytes restantes\n",
    "    while numero_de_bytes_a_recibir > 0:\n",
    "        \n",
    "        # Luego, si es que se necesitan recibir mas de 2048 bytes\n",
    "        # se recibirán solo 2048, en caso contrario,\n",
    "        # se recibiran solo los que quedan\n",
    "        largo_por_recibir = min(numero_de_bytes_a_recibir, 2048)\n",
    "        \n",
    "        # se recibe aquí un trozo de 2048 bytes y se agrega a lo que se lleva del mensaje\n",
    "        mensage.extend(self.socket.recv(largo_por_recibir))\n",
    "        \n",
    "        # hay que recordar actualizar la variable despues\n",
    "        numero_de_bytes -= largo_por_recibir\n",
    "        \n",
    "    return mensaje"
   ]
  },
  {
   "cell_type": "markdown",
   "metadata": {},
   "source": [
    "### Función Server.send()\n",
    "Originalmente, en el esqueleto entregado se poseía esta función:"
   ]
  },
  {
   "cell_type": "code",
   "execution_count": null,
   "metadata": {},
   "outputs": [],
   "source": [
    "def send(self, mensaje):\n",
    "        \"\"\"\n",
    "        [MODIFICAR]\n",
    "        Envía datos binarios al servidor conectado por el socket,\n",
    "        cumpliendo con el protocolo establecido en el enunciado.\n",
    "        \"\"\"\n",
    "        self.socket.sendall(mensaje)"
   ]
  },
  {
   "cell_type": "markdown",
   "metadata": {},
   "source": [
    "...pero ahora debemos de implementar el protocolo mencionado anteriormente, enviar primero 4 bytes indicando el largo y luego el resto del mensaje.\n",
    "\n",
    "La funcion quedaría así:"
   ]
  },
  {
   "cell_type": "code",
   "execution_count": null,
   "metadata": {},
   "outputs": [],
   "source": [
    "def send(self, mensaje):\n",
    "    \n",
    "    # Primero se convierte el largo del mensaje a 4 bytes\n",
    "    largo_mensaje_en_bytes = int.to_bytes(len(mensaje), byteorder='big', length=4)\n",
    "    \n",
    "    # Luego se envían esos 4 bytes\n",
    "    self.cliente.sendall(largo_mensaje_en_bytes)\n",
    "    \n",
    "    # Finalmente se envía el mensaje\n",
    "    self.cliente.sendall(mensaje)"
   ]
  },
  {
   "cell_type": "markdown",
   "metadata": {},
   "source": [
    "### Función Server.lista_directorio()\n",
    "Originalmente se tenía lo siguiente:"
   ]
  },
  {
   "cell_type": "code",
   "execution_count": null,
   "metadata": {},
   "outputs": [],
   "source": [
    "def lista_directorio(self):\n",
    "    \"\"\"\n",
    "    [COMPLETAR]\n",
    "    Envía al cliente una lista que contiene los nombres de\n",
    "    todos los archivos existentes en la carpeta del servidor.\n",
    "    \"\"\"\n",
    "    pass"
   ]
  },
  {
   "cell_type": "markdown",
   "metadata": {},
   "source": [
    "Ahora, usando la librería ```os``` obtendremos el directorio actual, como una lista, y luego podemos seriailzar la información, usando ```pickle.dumps()```, para que pueda ser enviada."
   ]
  },
  {
   "cell_type": "code",
   "execution_count": null,
   "metadata": {},
   "outputs": [],
   "source": [
    "def lista_directorio(self):\n",
    "\n",
    "    # Se serializa la informacion\n",
    "    message = pickle.dumps(os.listdir('.'))\n",
    "\n",
    "    # Y luego se usa el método send ya implementado para enviar\n",
    "    self.send(message)"
   ]
  },
  {
   "cell_type": "markdown",
   "metadata": {},
   "source": [
    "### Función Server.enviar_archivo()\n",
    "Para esta función se espera poder enviar todo el contenido de un archivo desde el servidor al cliente.\n",
    "\n",
    "Originalmente se teníamos lo siguiente:"
   ]
  },
  {
   "cell_type": "code",
   "execution_count": null,
   "metadata": {},
   "outputs": [],
   "source": [
    "def enviar_archivo(self, ruta_archivo):\n",
    "    \"\"\"\n",
    "    [COMPLETAR]\n",
    "    Envía al cliente un archivo ubicado en el directorio del servidor.\n",
    "    \"\"\"\n",
    "    pass"
   ]
  },
  {
   "cell_type": "markdown",
   "metadata": {},
   "source": [
    "Como solo es posible mandar bytes a través de los sockets, podemos abrir el archivo con formato de lectura de bytes, de esta forma, no es necesario serializarlo, pues ya tenemos los bytes que lo representan."
   ]
  },
  {
   "cell_type": "code",
   "execution_count": null,
   "metadata": {},
   "outputs": [],
   "source": [
    "def enviar_archivo(self, ruta_archivo):\n",
    "    \n",
    "    # Se abre el archivo en forma de lectura de bytes\n",
    "    with open(ruta_archivo, 'rb') as file:\n",
    "        \n",
    "        # Se guarda toda la informacion del archivo en la variable data\n",
    "        data = file.read()\n",
    "        \n",
    "    # Se usa el metodo send() previamente implementado para enviar la informacion\n",
    "    self.send(data)"
   ]
  },
  {
   "cell_type": "markdown",
   "metadata": {},
   "source": [
    "## Cliente (archivo cliente.py)"
   ]
  },
  {
   "cell_type": "markdown",
   "metadata": {},
   "source": [
    "### Función Cliente.recibir()\n",
    "Para esta función se hace algo muy similar a la función recibir del servidor (solo cambian los nombres de las variables), resultando en la siguiente funcion:"
   ]
  },
  {
   "cell_type": "code",
   "execution_count": null,
   "metadata": {},
   "outputs": [],
   "source": [
    "def receive(self):\n",
    "    # obtenemos el largo del mensaje en 4 bytes y lo transformamos a entero\n",
    "    numero_de_bytes = int.from_bytes(self.socket.recv(4), byteorder='big')\n",
    "    # creamos el arreglo que contendra al mensaje\n",
    "    message = bytearray()\n",
    "    \n",
    "    # recibimios el resto del mensaje\n",
    "    while numero_de_bytes > 0:\n",
    "        largo_por_recibir = min(numero_de_bytes, 2048)\n",
    "        message.extend(self.socket.recv(largo_por_recibir))\n",
    "        numero_de_bytes -= largo_por_recibir\n",
    "\n",
    "    return message"
   ]
  },
  {
   "cell_type": "markdown",
   "metadata": {},
   "source": [
    "### Función Cliente.send()\n",
    "Al igual que la funcion anterior, hay pocos cambios con respecto a su equivalente en el servidor. Esta funcion quedaría así:"
   ]
  },
  {
   "cell_type": "code",
   "execution_count": null,
   "metadata": {},
   "outputs": [],
   "source": [
    "def send(self, mensaje):\n",
    "    # Obtenemos, convertimos y enviamos el largo en 4 bytes\n",
    "    self.socket.sendall(int.to_bytes(len(mensaje), byteorder='big', length=4))\n",
    "    # Enviamos el resto del mensaje\n",
    "    self.socket.sendall(mensaje)"
   ]
  },
  {
   "cell_type": "markdown",
   "metadata": {},
   "source": [
    "### Funcion Cliente.ls()\n",
    "Esta funcion se encargará de mostrar el directorio en pantalla.\n",
    "\n",
    "Para esta función no había esqueleto y su version completa es la siguiente:"
   ]
  },
  {
   "cell_type": "code",
   "execution_count": null,
   "metadata": {},
   "outputs": [],
   "source": [
    "def ls(self):\n",
    "\n",
    "    # primero se usa el metodo ya implementado para recibir la lista de archivos\n",
    "    data = self.receive()\n",
    "\n",
    "    # luego se deserializa la informacion recibida\n",
    "    data2 = pickle.loads(data)\n",
    "\n",
    "    # Y finalmente se imprime cada elemento de la lista obtenida\n",
    "    for archivo in data2:\n",
    "        print(' -', archivo)"
   ]
  },
  {
   "cell_type": "markdown",
   "metadata": {},
   "source": [
    "### Función Cliente.descargar()\n",
    "\n",
    "Recordando como armamos el envío del archivo, sabemos que para esta función ya se están recibiendo los datos en forma de bytes y sin serializar, por lo que no necesitamos deserializarlos. La función resultante será:"
   ]
  },
  {
   "cell_type": "code",
   "execution_count": null,
   "metadata": {},
   "outputs": [],
   "source": [
    "def descargar(self, ruta_archivo):\n",
    "    # se recibe la informacion\n",
    "    data = self.receive()\n",
    "    \n",
    "    # Abrimos el archivo en forma de bytes, pero esta vez en formato de escritura\n",
    "    with open(ruta_archivo, 'wb') as file:\n",
    "        # escribimos la infromación recibida\n",
    "        file.write(data)\n",
    "    print('Archivo creado')"
   ]
  },
  {
   "cell_type": "markdown",
   "metadata": {},
   "source": [
    "Teniendo ya todas las funciones del cliente y del servidor, basta con hacer la conexión de ambos en los main de cada archivo, por lo que te invitamos a leer, ejecutar y si te animas modificar los archivos entregados como solución de este problema.\n",
    "\n",
    "Cabe señalar que la anterior es solamente una posible solución del ejercicio, pero existen múltiples maneras de hacer un programa que funcione correctamente y cumpla con lo pedido, por lo que si tu solución es distinta, pero funciona sin problemas, probablemente también esté correcta :D\n",
    "\n",
    "Un ejemplo de una solución alternativa, es haber realizado la descarga de archivos serializando su contenido usando pickle antes de ser enviado; lo que estará correcto siempre y cuando se revierta el proceso al momento de recibir el archivo."
   ]
  }
 ],
 "metadata": {
  "kernelspec": {
   "display_name": "Python 3",
   "language": "python",
   "name": "python3"
  },
  "language_info": {
   "codemirror_mode": {
    "name": "ipython",
    "version": 3
   },
   "file_extension": ".py",
   "mimetype": "text/x-python",
   "name": "python",
   "nbconvert_exporter": "python",
   "pygments_lexer": "ipython3",
   "version": "3.6.8"
  }
 },
 "nbformat": 4,
 "nbformat_minor": 2
}
