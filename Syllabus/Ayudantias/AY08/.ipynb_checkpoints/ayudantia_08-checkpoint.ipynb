{
 "cells": [
  {
   "cell_type": "markdown",
   "metadata": {
    "colab_type": "text",
    "id": "ZJ8ATy8jEumi"
   },
   "source": [
    "# Ayudantía 08: Networking\n",
    "\n",
    "## Autores: [@bmurtagh01 ](https://github.com/bmurtagh01) & [@StroveLight ](https://github.com/StroveLight ) & [@JoacoCoyu](https://github.com/JoacoCoyu)"
   ]
  },
  {
   "cell_type": "markdown",
   "metadata": {
    "colab_type": "text",
    "id": "GCKRuaWLA6lD"
   },
   "source": [
    "### ¿Qué es Networking?\n",
    "\n",
    "Networking o redes, se refiere al proceso completo de crear y usar conexión de redes entre computadores, en relación a su hardware, protocolos de comunicación y softwares. Esto incluye tecnología tanto alámbrica como inalámbrica y se utiliza en distintos campos de la tecnología como en tecnologías de la información, ciencias de la computación y la ingeniería electrica."
   ]
  },
  {
   "cell_type": "markdown",
   "metadata": {
    "colab_type": "text",
    "id": "lAqyGRyGILz2"
   },
   "source": [
    "### ¿Cómo logramos realizar una conexión en Networking?\n",
    "\n",
    "Para realizar conexiones de redes entre computadores, necesitamos principalmente de tres requisitos fundamentales:\n",
    "\n",
    "1) **Ocupar un medio: wifi, ethernet, etc.**\n",
    "\n",
    "2) **Necesitamos identificar al otro programa: Dirección y Puerto.**\n",
    "\n",
    "3) **Consensuar un protocolo: TCP, UDP (reglas de la conexión).**\n",
    "\n",
    "El Networking necesita de un medio para existir, es decir, de una red a la que conectarse con el fin de traspasar y recibir información. A través del acceso a internet, distintos computadores, dispositivos móviles o redes de computadores pueden conectarse entre sí, pero no sin antes saber \"con quién\" se van a conectar.\n",
    "\n",
    "Para reconocer al dispositivo con el que me voy a conectar necesito una dirección y un puerto. Toda máquina que se encuentra conectada en una red recibe una etiqueta llamada **dirección IP** que sirve para distinguirla de las demás (más adeltante se detalla un poco más). Ahora, cada máquina puede tener varios **puertos** y sirven para que los programas (o aplicaciones) que se estén corriendo tu computador (la máquina) no se mezclen entre sí. Vale decir, cada aplicación puede ocupar uno o más puertos de la máquina, pero **sólo una** aplicación puede estar ocupando un mismo puerto a la vez.\n",
    "\n",
    "Una vez conectados los dispositivos con la dirección y el puerto correspondiente, se debe consensuar entre ellos la forma de comunicación, y aquí entran los **protocolos de comunicación**. Son reglas de comunicación de determinan la modalidad y estilo de envío y recepción de información."
   ]
  },
  {
   "cell_type": "markdown",
   "metadata": {
    "colab_type": "text",
    "id": "cscJlGhNMAoj"
   },
   "source": [
    "## Dirección IP\n",
    "\n",
    "Es un número que identifica, de manera lógica y jerárquica, a la máquina con el fín distinguirse de las demás."
   ]
  },
  {
   "cell_type": "markdown",
   "metadata": {
    "colab_type": "text",
    "id": "e6WN3u5BMWL2"
   },
   "source": [
    "#### Versiones\n",
    "\n",
    "* **IPv4**: número de 32 bits. Por ejemplo `192.30.253.112`\n",
    "\n",
    "* **IPv6**: número de 128 bits. Por ejemplo `2001:0db8:85a3:0000:0000:8a2e:0370:7334`"
   ]
  },
  {
   "cell_type": "markdown",
   "metadata": {
    "colab_type": "text",
    "id": "A6zzUmltOX6E"
   },
   "source": [
    "## Puertos\n",
    "\n",
    "Es la compuerta que utilizan los programas en un mismo ordenador para la recepción y envío de datos.\n",
    "\n",
    "\n",
    "Se representan como un número de 16 bits. Un computador promedio posee 65.536 puertos."
   ]
  },
  {
   "cell_type": "markdown",
   "metadata": {
    "colab_type": "text",
    "id": "le4Zc9xdPpSx"
   },
   "source": [
    "## Protocolos de Comunicación\n",
    "\n",
    "Son las reglas que rigen la comunicación entre los programas y existen dos tipos de protocolos, **TCP** y **UDP**."
   ]
  },
  {
   "cell_type": "markdown",
   "metadata": {
    "colab_type": "text",
    "id": "8-7voY63HRnh"
   },
   "source": [
    "### TCP\n",
    "#### (Transmission Control Protocol)"
   ]
  },
  {
   "cell_type": "markdown",
   "metadata": {
    "colab_type": "text",
    "id": "IHIexAO5Q8SI"
   },
   "source": [
    "* Permite enviar y recibir un stream de bytes de forma confiable (orden y fiabilidad).\n",
    "\n",
    "* En caso de pérdida de información los datos son retransmitidos hasta una recepción correcta.\n",
    "\n",
    "* Orientado a conexión (primero se conecta, luego se realiza la comunicación).\n",
    "\n",
    "* Alta fiabilidad, alta latencia y encabezados pesados (mails, transferencias, etc)."
   ]
  },
  {
   "cell_type": "markdown",
   "metadata": {
    "colab_type": "text",
    "id": "7EsDkj1AHwnz"
   },
   "source": [
    "### UDP\n",
    "\n",
    "#### (User Datagram Protocol)\n"
   ]
  },
  {
   "cell_type": "markdown",
   "metadata": {
    "colab_type": "text",
    "id": "3_tw58SaRH7M"
   },
   "source": [
    "* Permite enviar y recibir un datagramas de forma constante.\n",
    "\n",
    "* Hace su mejor esfuerzo para enviar la información, sacrificando su orden y fiabilidad (no lo prioriza).\n",
    "\n",
    "* No orientado a conexión.\n",
    "\n",
    "* Baja fiabilidad, alta latencia (audio/video streaming, live podcast, etc)."
   ]
  },
  {
   "cell_type": "markdown",
   "metadata": {
    "colab_type": "text",
    "id": "ru6s00E-QjEV"
   },
   "source": [
    "![](./img/TCP_vs_UDP.jfif)"
   ]
  },
  {
   "cell_type": "markdown",
   "metadata": {
    "colab_type": "text",
    "id": "c9sn4y6zMJiS"
   },
   "source": [
    "En resumen, con el protocolo **TCP** se prioriza la calidad en el envío de los datos, mientras que con el protocolo **UDP** se prioriza no restrasar el envío de estos."
   ]
  },
  {
   "cell_type": "markdown",
   "metadata": {
    "colab_type": "text",
    "id": "0NmV_DVqRlJT"
   },
   "source": [
    "## Networking en Python"
   ]
  },
  {
   "cell_type": "markdown",
   "metadata": {
    "colab_type": "text",
    "id": "P8LXB9hME0W2"
   },
   "source": [
    "### *Sockets*"
   ]
  },
  {
   "cell_type": "markdown",
   "metadata": {
    "colab_type": "text",
    "id": "YrmCQEY5E0rf"
   },
   "source": [
    "Un **socket** es un **objeto** encargado de manejar la comunicación entre los distintos programas.\n",
    "\n",
    "Al crear un _socket_, primero necesitamos importarlo para luego especificar qué tipo de dirección IP le otorgaremos (IPv4 o IPv6) y qué protocolo de comunicación usaremos (TCP o UDP). Aquí recordamos que \n",
    "\n",
    "```\n",
    "- `family`\n",
    "    - `AF_INET` para direcciones IPv4\n",
    "    - `AF_INET6` para direcciones IPv6\n",
    "- `type`\n",
    "    - `SOCK_STREAM` para TCP\n",
    "    - `SOCK_DGRAM` para UDP\n",
    "```\n",
    "\n",
    " Lo anterior se puede realizar de manera simple como:"
   ]
  },
  {
   "cell_type": "code",
   "execution_count": null,
   "metadata": {
    "colab": {},
    "colab_type": "code",
    "id": "GduMH_l-E_to"
   },
   "outputs": [],
   "source": [
    "import socket\n",
    "\n",
    "sock = socket.socket(socket.AF_INET, socket.SOCK_STREAM)"
   ]
  },
  {
   "cell_type": "markdown",
   "metadata": {
    "colab_type": "text",
    "id": "DCZ3gaavSMnt"
   },
   "source": [
    "### Arquitectura Cliente - Servidor"
   ]
  },
  {
   "cell_type": "markdown",
   "metadata": {
    "colab_type": "text",
    "id": "Sl_W_6U6SRBZ"
   },
   "source": [
    "![title](https://upload.wikimedia.org/wikipedia/commons/c/c9/Client-server-model.svg)\n",
    "Fuente: [wikipedia](https://en.wikipedia.org/wiki/Client%E2%80%93server_model)"
   ]
  },
  {
   "cell_type": "markdown",
   "metadata": {
    "colab_type": "text",
    "id": "yvRKhgUZ3VDV"
   },
   "source": [
    "### ¿Cómo ejecutar la arquitectura cliente - servidor en código?\n",
    "\n",
    "En orden para hacer correr nuestra arquitectura cliente - servidor, debemos:\n",
    "\n",
    "1) Antes que todo, comprobamos que tanto nuestro servidor como cliente, estén conectados a la misma dirección y puerto. El servidor a través del comando \"bind\" y el cliente a través del comando \"connect\".\n",
    "\n",
    "2) Luego, primero debemos ejecutar nuestro código del servidor. Con esto el servidor estará atento escuchando las posibles conexiones por parte de los clientes. Se ejecuta este código primero y no el de cliente, por que si fuera de la otra manera, el servidor no tomaría en consideración las conexiones hechas antes de el.\n",
    "\n",
    "3) Posteriormente, **en una nueva consola** ejecutamos el código del (los) cliente(s). Este ejercicio se realiza en una nueva consola debido a que necesitamos que la consola del servidor se mantanga escuchando las potenciales conexiones,y no podemos entorpecer su ejecución. Entonces, ejecutando el código del cliente, intentamos conectarnos al servidor."
   ]
  },
  {
   "cell_type": "markdown",
   "metadata": {
    "colab_type": "text",
    "id": "L10G2AayFPka"
   },
   "source": [
    "### Servidor\n",
    "\n",
    "En su contraparte, el servidor va a estar atento escuchando las conexiones de los clientes, también con una dirección y un puerto en particular. Una vez que algún cliente(es) se conecte al servidor, este va a poder realizar distintas acciones. Estas las nombraremos de manera ordenada a continuación:\n",
    "\n",
    "- Para **conectar** al servidor vamos a utilizar el comando ``` bind() ```. En este se especifica la dirección y puerto del servidor de la forma ``` socket.bind((server_host, server_port)) ```.\n",
    "\n",
    "- Una de las funciones más importantes del servidor es **escuchar** a los clientes, esto lo implementa a través del método ``` listen() ```. Sin este comando, ocurren errores de conexión en que por más que los clientes estén bien ejecutados, estos no podrán nunca interconectarse (como veremos más adelante) debido a que no está disponible el servidor para hacerlo.\n",
    "\n",
    "- La acción que viene a continuación es **aceptar** la conexión del cliente. Esto se realiza a través del comando ``` accept() ``` el que se implementa como  ``` socket_servidor.accept() ```, aceptando al socket del cliente.\n",
    "\n",
    "- También, el servidor va a querer **enviar** algún mensaje al cliente(es). Recordamos que los *sockets* **solo envían bytes**, por lo que cualquier cosa que enviemos debemos serializarla a *bytes*. Para enviar información utilizamos los comandos ``` send(mensaje_a_bytes)``` o ``` sendall(mensaje_a_bytes)```.\n",
    "\n",
    "- Para **codificar** (o serializar) nuestros mensajes recordamos aplicando los contenidos de serialización: ``` pickle.dumps(mensaje_no_codificado)``` o ``` json.dumps(mensaje_no_codificado)```. Además, podemos utilizar el comando ``` encode() ``` para que no existan problemas para leer el mensaje.\n",
    "\n",
    "- El servidor también puede **recibir** mensajes que le pueda enviar el cliente(es). Para esto utilizamos el comando ``` recv(cantidad_bytes) ```, en el que se especificamos la cantidad de *bytes* que queremos recibir. Importante recalcar que vamos a recibir *bytes* por parte del servidor, por lo que hay que deserializarlo posteriormente.\n",
    "\n",
    "- Por último, pero no el menos importante, debemos siempre **cerrar** la conexión. Esto lo logramos con el comando ``` close() ```."
   ]
  },
  {
   "cell_type": "markdown",
   "metadata": {
    "colab_type": "text",
    "id": "cGKe_TDdYgSY"
   },
   "source": [
    "Esto parece mucha información, pero veamos al servidor en la práctica de manera ordenada con un ejemplo."
   ]
  },
  {
   "cell_type": "code",
   "execution_count": null,
   "metadata": {
    "colab": {},
    "colab_type": "code",
    "id": "Ceb-cnMkFQgC"
   },
   "outputs": [],
   "source": [
    "# Implementación del servidor que recibe datos y los envía de vuelta.\n",
    "# Esto comúnmente se denomina como 'echo server'.\n",
    "import socket\n",
    "\n",
    "host = ''\n",
    "port = 12345\n",
    "\n",
    "# Creamos el socket con la dirección IP y protocolo correspondiente.\n",
    "sock = socket.socket(socket.AF_INET, socket.SOCK_STREAM)\n",
    "\n",
    "# Conectamos el socket a una dirección y puerto en particular.\n",
    "sock.bind((host, port))\n",
    "\n",
    "# El servidor está atento a las conexiones de los clientes\n",
    "sock.listen()\n",
    "\n",
    "# Servidor acepta la conexión del socket del cliente\n",
    "sock_cliente, (host_cliente, puerto_cliente) = sock.accept()\n",
    "print(\"Conexión desde\", host_cliente, puerto_cliente)\n",
    "\n",
    "while True:\n",
    "    data = sock_cliente.recv(4096)\n",
    "    if not data:\n",
    "        break\n",
    "    sock_cliente.sendall(data)\n",
    "\n",
    "sock_cliente.close()\n",
    "sock.close()"
   ]
  },
  {
   "cell_type": "markdown",
   "metadata": {
    "colab_type": "text",
    "id": "bTSNmX0POqsn"
   },
   "source": [
    "### Cliente\n",
    "\n",
    "El cliente se va a querer conectar a un servidor mediente una dirección y puerto en particular. Una vez conectado va querer realizar distintas acciones, las que nombraremos ordenadamente a continuación:\n",
    "\n",
    "- Bueno, al igual que el servidor, para **conectar** al cliente vamos a utilizar el comando nombrado anteriormente ``` connect() ```. En este se especifica la dirección y puerto del servidor de la forma ``` socket.connect((server_host, server_port)) ```.\n",
    "\n",
    "- También, el cliente va a querer **enviar** algún mensaje al servidor. Los *sockets* **solo envían bytes**, por lo que cualquier cosa que enviemos debemos serializarla a *bytes*. Para enviar información utilizamos los comandos ``` send(mensaje_a_bytes)``` o ``` sendall(mensaje_a_bytes)```.\n",
    "\n",
    "- Para **codificar** (o serializar) nuestros mensajes recordamos aplicando los contenidos de serialización: ``` pickle.dumps(mensaje_no_codificado)``` o ``` json.dumps(mensaje_no_codificado)```. Además, podemos utilizar el comando ``` encode() ``` para que no existan problemas para leer el mensaje.\n",
    "\n",
    "- El cliente también puede **recibir** mensajes que le pueda enviar el servidor. Para esto utilizamos el comando ``` recv(cantidad_bytes) ```, en el que se especificamos la cantidad de *bytes* que queremos recibir. Importante recalcar que vamos a recibir *bytes* por parte del servidor, por lo que hay que deserializarlo posteriormente.\n",
    "\n",
    "- Por último, pero no el menos importante, debemos siempre **cerrar** la conexión. Esto lo logramos también con el comando ``` close() ```.\n",
    "\n"
   ]
  },
  {
   "cell_type": "markdown",
   "metadata": {
    "colab_type": "text",
    "id": "bgO0Vz5MUO3A"
   },
   "source": [
    "Nuevamente mucha información, veamos al cliente en la práctica de manera ordenada con un ejemplo.\n"
   ]
  },
  {
   "cell_type": "code",
   "execution_count": null,
   "metadata": {
    "colab": {},
    "colab_type": "code",
    "id": "EiglmyIbV25H"
   },
   "outputs": [],
   "source": [
    "# Implementación del cliente que envía los datos en formato JSON.\n",
    "# Pon atención en la serialización y transformación a bytes.\n",
    "\n",
    "import json\n",
    "import socket\n",
    "\n",
    "server_host = ''  # Debemos poner aquí la dirección IP del servidor.\n",
    "server_port = 12345\n",
    "\n",
    "# Generamos la información que enviaremos; en este caso, es un simple diccionario.\n",
    "data = {1: \"Hola\", 2: \"Chao\"}\n",
    "\n",
    "# Serializamos el mensaje a bytes para luego enviarlo.\n",
    "mensaje = json.dumps(data)\n",
    "\n",
    "# Creamos el socket con la dirección IP y protocolo correspondiente.\n",
    "sock = socket.socket(socket.AF_INET, socket.SOCK_STREAM)\n",
    "\n",
    "# Conectamos el socket a la dirección y puerto del servidor\n",
    "sock.connect((server_host, server_port))\n",
    "\n",
    "# Debemos enviar bytes al servidor.\n",
    "sock.sendall(mensaje.encode('utf-8'))\n",
    "\n",
    "# Decodificamos los bytes recibidos\n",
    "# luego los deserializamos con JSON.\n",
    "data = json.loads(sock.recv(4096).decode('utf-8'))\n",
    "print(data)\n",
    "sock.close()"
   ]
  },
  {
   "cell_type": "markdown",
   "metadata": {
    "colab_type": "text",
    "id": "10JUI0DgZ2f6"
   },
   "source": [
    "### Alcance al **recibir** la información \n",
    "\n",
    "Van a haber ocasiones en que a la hora de procesar un mensaje recibido, el tamaño de este irá cambiando. Por lo que como buena práctica para que el servidor no se caiga y se optimice el procesamiento de la información, recibimos el mínimo entre **un número prudente de bytes** y **lo que va quedando por procesar** del mensaje completo.  Veamos esto en código:"
   ]
  },
  {
   "cell_type": "code",
   "execution_count": null,
   "metadata": {
    "colab": {},
    "colab_type": "code",
    "id": "wxSJjAAbcHWo"
   },
   "outputs": [],
   "source": [
    "'''\n",
    "Ejemplo de una función que recibe la información del \n",
    "mensaje de manera óptima\n",
    "'''\n",
    "\n",
    "# Función que recibe el mensaje\n",
    "def receive(self):\n",
    "        # Se calcula el largo del mensaje con los primero 4 bytes\n",
    "        largo = int.from_bytes(self.socket.recv(4), byteorder='big')\n",
    "\n",
    "        # Estructura de datos en que ira nuestro mensaje deserializado\n",
    "        datos = bytearray()\n",
    "        \n",
    "        # Recibiendo ...\n",
    "        while len(datos) < largo:\n",
    "            # Leemos el mínimo de bytes entre los valores nombrados anteriormente\n",
    "            read = min(2048, largo - len(datos))\n",
    "\n",
    "            # Recibimos esa cantidad de bytes\n",
    "            recibidos = self.socket.recv(read)\n",
    "\n",
    "            # Los agregamos a nuestro mensaje por deserializar\n",
    "            datos.extend(recibidos)\n",
    "\n",
    "        # Retornamos nuestro mensaje deserializado   \n",
    "        return pickle.loads(datos)"
   ]
  },
  {
   "cell_type": "markdown",
   "metadata": {
    "colab_type": "text",
    "id": "NKIIagLmLgMX"
   },
   "source": [
    "## IMPORTANTE DE RECORDAR\n",
    "\n",
    "Es importante recalcar lo esencial de la arquitectura cliente - servidor. El servidor no actua como otro cliente en la conexión, sino que es el núcleo en el que llegan todas las conexiones, envío y recepción de información. \n",
    "\n",
    "Esto hace más sentido cuando hay más de un cliente conectado al servidor. Toda la información que los clientes quisieran enviarse y recibir entre ellos, pasa por el servidor. Los clientes nunca podrán enviar o recibir información directamente entre ellos, toda esta es procesada por el servidor antes y la reparte a los clientes (que al final son distintos sockets) que tiene conectado."
   ]
  },
  {
   "cell_type": "markdown",
   "metadata": {
    "colab_type": "text",
    "id": "MJUAsL2dY-Uo"
   },
   "source": [
    "## EJEMPLOS\n",
    "\n",
    "A continuación se presentan ejemplos/ejercicios para que pueden poner en práctica todo este conocimiento sobre el networking, y en particular, lograr la interacción y comunicación eficaz entre cliente y servidor. Cabe recalcar que estos se presentan en los otros archivos jupyter (.ipynb) dentro esta carpeta, ycontienen el desarollo comentado de los ejercicios para que puedan ir entendiendo parte por parte lo que va sucediendo.\n",
    "\n",
    "Además, incluimos en las carpetas de ejemplo (Ejemplo json (Japonizador) y Ejemplo pickle AC09 - 2019-1 (Doggo)) archivos .py con todo lo necesario para correr los ejercicios. Esta sería una buena instancia para que practiquen el ejercicio **de correr primero el servidor antes del cliente(s)**, y **correr al cliente en una consola distinta a la del servidor**. Esto para que puedan visualizar *in situ* porque debe ser así, y no de otra forma."
   ]
  },
  {
   "cell_type": "markdown",
   "metadata": {},
   "source": [
    "# Ejercicios\n",
    "\n",
    "A continuación te dejamos dos ejercicios para que complementes tu estudio, te recomendamos intentar resolver el primer ejercicio para sacarle mejor provecho, sin embargo las soluciones de ambos ejercicios están subidas, junto con jupyter notebooks que explican el proceso seguido para llegar a ellas."
   ]
  },
  {
   "cell_type": "markdown",
   "metadata": {
    "colab_type": "text",
    "id": "Y5R-15lB7iqB"
   },
   "source": [
    "### 1) Ejemplo Pickle: AC_09 2019-1 \"Doggo\"\n",
    "\n",
    "**Competancias evaluar**: Manejo de imagenes, enviar y recibir información.\n",
    "\n",
    "Este ejercicio se encuentra en los archivos doggo_enunciado.pynb (a completar) y doggo_solucion.pynb (si quieres revisar una posible solución) en la carpeta de la ayudantía, sin embargo es una adaptación de una actividad pasada y puedes encontrar el enunciado completo [aquí](https://github.com/IIC2233/syllabus-2019-1/blob/master/Actividades/AC09/Enunciado.pdf)."
   ]
  },
  {
   "cell_type": "markdown",
   "metadata": {
    "colab_type": "text",
    "id": "nG3NHux-H-vw"
   },
   "source": [
    "### 2) Ejemplo JSON: \"El Japonizador\"\n",
    "\n",
    "**Competancias evaluar**: Interfaces gráficas y manejo de cantidad indefinida de clientes.\n",
    "\n",
    "Similar al ejercicio anterior, este se encuentra solucionado en *japonizador_explicación.ipynb*, pero los archivos cliente.py y servidor.py se basan en la ayudantía 09 del 2019-01 y puedes revisar los archivos originales [aquí](https://github.com/IIC2233/syllabus-2019-1/tree/master/Ayudantias/AY09%20-%20Networking/Ejemplo-Cachipun)."
   ]
  },
  {
   "cell_type": "markdown",
   "metadata": {},
   "source": [
    "# Muchas gracias! \n",
    "## Éxito en este final de semestre :D!"
   ]
  }
 ],
 "metadata": {
  "colab": {
   "collapsed_sections": [],
   "name": "Solución.ipynb",
   "provenance": []
  },
  "kernelspec": {
   "display_name": "Python 3",
   "language": "python",
   "name": "python3"
  },
  "language_info": {
   "codemirror_mode": {
    "name": "ipython",
    "version": 3
   },
   "file_extension": ".py",
   "mimetype": "text/x-python",
   "name": "python",
   "nbconvert_exporter": "python",
   "pygments_lexer": "ipython3",
   "version": "3.6.8"
  }
 },
 "nbformat": 4,
 "nbformat_minor": 1
}
