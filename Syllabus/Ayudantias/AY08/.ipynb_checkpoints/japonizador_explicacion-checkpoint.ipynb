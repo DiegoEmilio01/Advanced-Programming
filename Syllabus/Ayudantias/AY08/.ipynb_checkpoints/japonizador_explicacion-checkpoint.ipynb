{
 "cells": [
  {
   "cell_type": "markdown",
   "metadata": {},
   "source": [
    "# Ayudantía 08: Networking - json\n",
    "\n",
    "## Ejemplo Japonizador\n",
    "\n",
    "### Autores: [@bmurtagh01 ](https://github.com/bmurtagh01) & [@StroveLight ](https://github.com/StroveLight ) & [@JoacoCoyu](https://github.com/JoacoCoyu)\n"
   ]
  },
  {
   "cell_type": "markdown",
   "metadata": {},
   "source": [
    "### Enunciado\n",
    "\n",
    "El nuevo y revolucionario \"Japonizador\", es una herramienta que permite que le envíes una palabra cualquiera y te responde con la versión \"japonizada\" de la misma, es decir, la misma palabra, pero escrita con caracteres y sílabas del idioma japonés.\n",
    "\n",
    "Además de lo anterior, el \"Japonizador\" cuenta con un entretenido lado social, pues junto con responder los request de cada cliente, el servidor enviará a todos los usuarios actualmente conectados la última consulta que este recibió, ¡así podrás ver, en tiempo real, qué palabras se están \"japonizando\" alrededor del mundo!\n",
    "\n",
    "Para cumplir con lo anterior, cada cliente posee una interfaz gráfica donde podrá ver su última palabra japonizada, junto con la última consulta que ha respondido el servidor."
   ]
  },
  {
   "cell_type": "markdown",
   "metadata": {},
   "source": [
    "Al igual que el ejemplo anterior, el objetivo de este programa es poder enviar requests a un servidor y que este las responda a cada cliente, pero además, queremos que el servidor pueda enviar información a todos los clientes sin necesidad de que estos soliciten nada."
   ]
  },
  {
   "cell_type": "markdown",
   "metadata": {},
   "source": [
    "#### Archivos incluidos\n",
    "* ```cliente/```\n",
    "    * ```cliente.py```: Es el cliente\n",
    "    * ```interfaz.py```: Es la interfaz\n",
    "* ```servidor/```\n",
    "    * ```servidor.py```: Es el servidor\n",
    "    * ```traductor.py```: Provee la funcion traducir, que japoniza una palabra\n",
    "    * ```diccionario.json```: Diccionario en formato json que provee la conversion a algunos caracteres japoneses en funcion del sonido"
   ]
  },
  {
   "cell_type": "markdown",
   "metadata": {},
   "source": [
    "![img/japonizador.jpg](img/japonizador.jpg)"
   ]
  },
  {
   "cell_type": "markdown",
   "metadata": {},
   "source": [
    "#### Consideraciones\n",
    "* Antes que todo, te recomendamos ver la explicación del ejercicio propuesto de pickle (el Doggo), ya que ahí se dice mas detalladamente como se envía y recibe usando el protocolo de los 4 bytes\n",
    "\n",
    "* El codigo se presenta fraccionado (dividido en varias celdas) para facilitar la lectura, pero puedes ver y probar los archivos de solución en la carpeta ```Ejemplo json (Japonizador)/```."
   ]
  },
  {
   "cell_type": "markdown",
   "metadata": {},
   "source": [
    "### Primero echémosle un vistazo al ```servidor.py```\n",
    "#### Primero los import"
   ]
  },
  {
   "cell_type": "code",
   "execution_count": null,
   "metadata": {},
   "outputs": [],
   "source": [
    "import threading\n",
    "import socket\n",
    "import json\n",
    "from traductor import traducir"
   ]
  },
  {
   "cell_type": "markdown",
   "metadata": {},
   "source": [
    "Cabe mencionar que traducir recibe una palabra y entrega una tupla\n",
    "\n",
    "#### Server.\\_\\_init\\_\\_()"
   ]
  },
  {
   "cell_type": "code",
   "execution_count": null,
   "metadata": {},
   "outputs": [],
   "source": [
    "class Server:\n",
    "\n",
    "    '''\n",
    "    Esta es la clase encargada de montar el servidor y realizar las operaciones\n",
    "    lógicas necesarias para el funcionamiento del sistema\n",
    "    '''\n",
    "\n",
    "    def __init__(self):\n",
    "        print(\"Inicializando servidor...\")\n",
    "        # Primero se crea un diccionario de sockets para poder guardar\n",
    "        # a varios clientes de manera simultanea\n",
    "        self.sockets = dict()\n",
    "\n",
    "        # Ponemos la dirección donde va a estar situado nuestro servidor\n",
    "        # El localhost representa \"esta computadora\" en cualquier red.\n",
    "        self.host = \"localhost\"\n",
    "\n",
    "        # Definimos un puerto al cual el servidor va a estar escuchando\n",
    "        self.port = 1238\n",
    "\n",
    "        # Inicializamos el socket principal del servidor.\n",
    "        self.socket_servidor = socket.socket(socket.AF_INET, socket.SOCK_STREAM)\n",
    "\n",
    "        # El método bind enlaza el servidor con el puerto y la dirección.\n",
    "        # Cualquier cosa que llegue al puerto elegido va a ser 'escuchado' por\n",
    "        # el servidor\n",
    "        self.socket_servidor.bind((self.host, self.port))\n",
    "        print(\"Dirección y puerto enlazados..\")\n",
    "\n",
    "        # Luego, con el método listen hacemos que el servidor escuche conexiones\n",
    "        # entrantes. Se le puede pasar como argunento un numero entero, el cual\n",
    "        # representa el número de conexiones máxima que va a tener en espera de ser aceptadas.\n",
    "        # En este caso no se puso un argumento, ya que no se necesita una restriccion de esto\n",
    "        self.socket_servidor.listen()\n",
    "        print(\"Servidor escuchando en {}:{}...\".format(self.host, self.port))\n",
    "\n",
    "        # Inicializamos un thread para aceptar conexiones entrantes. Es útil\n",
    "        # usar un thread para que el programa pueda realizar otras cosas\n",
    "        # mientras acepta conexiones\n",
    "        thread = threading.Thread(target=self.accept_connections_thread, daemon=True)\n",
    "        thread.start()\n",
    "        print(\"Servidor aceptando conexiones...\")\n",
    "        \n",
    "    # (...)"
   ]
  },
  {
   "cell_type": "markdown",
   "metadata": {},
   "source": [
    "Como se puede observar, el servidor crea un socket, lo enlaza a un host y servidor, y luego se pone al socket a escuchar clientes. Para poder escuchar varios clientes, se implementa un thread que se encargará de ello.\n",
    "\n",
    "#### Server.accept_connections_thread()\n",
    "Esta es la función que pusimos como target al thread anterior, se encarga de aceptar conexiones de clientes, y les asigna un thread a cada una, que a su vez escuchará a cada cliente en específico."
   ]
  },
  {
   "cell_type": "code",
   "execution_count": null,
   "metadata": {},
   "outputs": [],
   "source": [
    "class Server:\n",
    "    # (...)\n",
    "    def accept_connections_thread(self):\n",
    "        '''\n",
    "        Este método es utilizado en el thread para ir aceptando conexiones de\n",
    "        manera asíncrona al programa principal\n",
    "        '''\n",
    "        # primero se indica un id para guardar cada cliente distinto\n",
    "        id_ = 1\n",
    "        while True:\n",
    "\n",
    "            # El método accept espera (queda esperando) hasta que algún cliente\n",
    "            # se conecte y luego retorna una tupla con el socket del cliente\n",
    "            # recién conectado y la dirección de ésto.\n",
    "            # Nosotros sólo guardamos el socket.\n",
    "            client_socket, _ = self.socket_servidor.accept()\n",
    "\n",
    "            # Luego, se guarda el socket\n",
    "            self.sockets[id_] = client_socket\n",
    "\n",
    "\n",
    "            print(\"Servidor conectado a un nuevo cliente...\")\n",
    "\n",
    "            # inicializamos un thread para escuchar a la conexión recién aceptada\n",
    "            # Por lo que cada cliente conectado va a tener su propio Thread\n",
    "            # escuchándolo.\n",
    "            # Pasamos como argumento el socket actual y el id del cliente\n",
    "            listening_client_thread = threading.Thread(\n",
    "                target=self.listen_client_thread,\n",
    "                args=(client_socket, id_),\n",
    "                daemon=True\n",
    "            )\n",
    "            listening_client_thread.start()\n",
    "\n",
    "            # Finalmente se cambia el valor del id_ para evitar repeticiones\n",
    "            id_ += 1"
   ]
  },
  {
   "cell_type": "markdown",
   "metadata": {},
   "source": [
    "#### Server.listen_client_thread()\n",
    "\n",
    "Esta funcion funciona como un thread que escucha a un cliente específico: Para cada cliente se crea un thread.\n",
    "\n",
    "Al \"escuchar\" al cliente, este método se encarga de recibir lo que manda el cliente, y de hacer algo con esa informacion antes de responderle usando ```self.manejar_comando```\n",
    "\n",
    "La funcion tambien se encarga de deserializar los datos antes de hacer algo con ellos (Su forma de actuar es muy equivalente a la funcion recieve del ejemplo de pickle)"
   ]
  },
  {
   "cell_type": "code",
   "execution_count": null,
   "metadata": {},
   "outputs": [],
   "source": [
    "class Server:\n",
    "    # (...)\n",
    "    def listen_client_thread(self, client_socket, id_cliente):\n",
    "        '''\n",
    "        Este método va a ser usado múltiples veces en threads pero cada vez con\n",
    "        sockets de clientes distintos.\n",
    "        :param client_socket: objeto socket correspondiente a algún cliente\n",
    "        '''\n",
    "        while True:\n",
    "            try:\n",
    "                # Primero recibimos los 4 bytes del largo\n",
    "                response_bytes_length = client_socket.recv(4)\n",
    "                # Los decodificamos\n",
    "                response_length = int.from_bytes(response_bytes_length,\n",
    "                                                 byteorder=\"big\")\n",
    "\n",
    "                # Luego, creamos un bytearray vacío para juntar el mensaje\n",
    "                response_bytes = bytearray()\n",
    "\n",
    "                # Recibimos datos hasta que alcancemos la totalidad de los datos\n",
    "                # indicados en los primeros 4 bytes recibidos.\n",
    "                while len(response_bytes) < response_length:\n",
    "                    largo_por_recibir = min(response_length - len(response_bytes), 256)\n",
    "                    response_bytes += client_socket.recv(largo_por_recibir)\n",
    "\n",
    "                # Una vez que tenemos todos los bytes, entonces ahí decodificamos\n",
    "                response = response_bytes.decode()\n",
    "\n",
    "                # Luego, debemos cargar lo anterior utilizando json\n",
    "                decoded = json.loads(response)\n",
    "\n",
    "                # Para evitar hacer muy largo este método, el manejo del mensaje se\n",
    "                # realizará en otro método\n",
    "                self.manejar_comando(decoded, client_socket)\n",
    "            except ConnectionResetError:  # Es decir, si el cliente se desconecta\n",
    "                del self.sockets[id_cliente]\n",
    "                break"
   ]
  },
  {
   "cell_type": "markdown",
   "metadata": {},
   "source": [
    "#### send()\n",
    "Este método se encarga de enviar la informacion al cliente usando el protocolo de que los primeros 4 bytes indican el tamaño del archivo"
   ]
  },
  {
   "cell_type": "code",
   "execution_count": null,
   "metadata": {},
   "outputs": [],
   "source": [
    "class Server:\n",
    "    # (...)\n",
    "    @staticmethod\n",
    "    def send(mensaje, socket):\n",
    "        '''\n",
    "        Este método envía la información al cliente correspondiente al socket.\n",
    "        :param msg: diccionario del tipo {\"mensaje\": contenido del mensaje}\n",
    "        :param socket: socket del cliente al cual se le enviará el mensaje\n",
    "        :return:\n",
    "        '''\n",
    "\n",
    "        # Le hacemos json.dumps y luego lo transformamos a bytes\n",
    "        msg_json = json.dumps(mensaje)\n",
    "        msg_bytes = msg_json.encode()\n",
    "\n",
    "        # Luego tomamos el largo de los bytes y creamos 4 bytes de esto\n",
    "        msg_length = len(msg_bytes).to_bytes(4, byteorder=\"big\")\n",
    "\n",
    "        # Finalmente, los enviamos al servidor\n",
    "        socket.send(msg_length + msg_bytes)"
   ]
  },
  {
   "cell_type": "markdown",
   "metadata": {},
   "source": [
    "#### Server.sendall()\n",
    "Este método se encarga de enviar an todos los clientes el último request de algun cliente, para ello, por cada socket hace un send(). Además maneja los casos en los que algún cliente se desconecta"
   ]
  },
  {
   "cell_type": "code",
   "execution_count": null,
   "metadata": {},
   "outputs": [],
   "source": [
    "class Server:\n",
    "    # (...)\n",
    "    \n",
    "    def sendall(self, mensaje):\n",
    "        # primero se copian las id de los sockets\n",
    "        id_sockets = list(self.sockets.keys())[:]\n",
    "        # y luego se iteran sobre ellos\n",
    "        for id_ in id_sockets:\n",
    "            try:\n",
    "                self.send(mensaje, self.sockets[id_])\n",
    "            except ConnectionResetError:\n",
    "                del self.sockets[id_]\n",
    "                print('Error de conexion con cliente')\n",
    "            except ConnectionAbortedError:\n",
    "                del self.sockets[id_]\n",
    "                print('Error de conexion con cliente')\n",
    "            except IndexError:\n",
    "                print('Ya se ha eliminado el cliente del diccionario')\n"
   ]
  },
  {
   "cell_type": "markdown",
   "metadata": {},
   "source": [
    "#### Server.manejar_comando()\n",
    "Esta funcion se encarga de manejar un mensaje recibido por el cliente, además de llamar los métodos send y sendall para enviarselos a los otros clientes"
   ]
  },
  {
   "cell_type": "code",
   "execution_count": null,
   "metadata": {},
   "outputs": [],
   "source": [
    "class Server:\n",
    "    # (...)\n",
    "    def manejar_comando(self, recibido, socket):\n",
    "        '''\n",
    "        Este método toma lo recibido por el cliente correspondiente al socket pasado\n",
    "        como argumento.\n",
    "        :param received: diccionario de la forma: {\"palabra\": Palabra recibida}\n",
    "        :param client_socket: socket correspondiente al cliente que envió el mensaje\n",
    "        :return:\n",
    "        '''\n",
    "\n",
    "        # Podemos imprimir para verificar que toodo anda bien\n",
    "        print(\"Mensaje Recibido: {}\".format(recibido))\n",
    "\n",
    "        palabra = recibido['palabra']\n",
    "        palabra_fonetica, palabra_traducida = traducir(palabra)\n",
    "\n",
    "        mensaje = {\"propio\": True,\n",
    "                   \"original\": palabra,\n",
    "                   \"fonetica\": palabra_fonetica,\n",
    "                   \"traducida\": palabra_traducida}\n",
    "\n",
    "        # primero le enviamos la respuesta al que pidio la conversion\n",
    "        self.send(mensaje, socket)\n",
    "\n",
    "        # despues le actualizamos la ultima consulta a todas los clientes\n",
    "        mensaje.update({\"propio\": False})\n",
    "        self.sendall(mensaje)"
   ]
  },
  {
   "cell_type": "markdown",
   "metadata": {},
   "source": [
    "### Ahora veamos ```Cliente.py```\n",
    "Este archivo posee la clase cliente, la cual se conecta a un servidor y usa una interfaz (que está en otro archivo) para mostrar la información. La interfaz la abre solo si se logra conectar con el servidor. La clase Cliente deberá de heredar de QObject para poder comunicarse con la ventana\n",
    "\n",
    "#### Primero vemos los import"
   ]
  },
  {
   "cell_type": "code",
   "execution_count": null,
   "metadata": {},
   "outputs": [],
   "source": [
    "import threading\n",
    "import socket\n",
    "import json\n",
    "from PyQt5.QtCore import pyqtSignal, QObject  # para poder comunicarse con la ventana\n",
    "from PyQt5.QtWidgets import QApplication  # Para que al ejecutarse pueda haber ventana\n",
    "import sys  # Para ejecutarse con ventana apropiadamente\n",
    "\n",
    "from interfaz import Interfaz  # La ventana"
   ]
  },
  {
   "cell_type": "markdown",
   "metadata": {},
   "source": [
    "#### Client.\\_\\_init\\_\\_()\n",
    "Primero se declara la señal para comunicarse con la interfaz fuera del \\_\\_init\\_\\_, y se hereda de QObject.\n",
    "\n",
    "Posteriormente se crea un socket, y se hace que este se __conecte__ al servidor. en caso de que no haya servidor, se cancela la operación. \n",
    "\n",
    "Cuando se conecta, crea un thread para escuchar al servidor, y abre la interfaz"
   ]
  },
  {
   "cell_type": "code",
   "execution_count": null,
   "metadata": {},
   "outputs": [],
   "source": [
    "class Client(QObject):\n",
    "    \n",
    "    # Señal para avisar cuando llegan resultados del servidor\n",
    "    enviar_a_interfaz = pyqtSignal(dict)\n",
    "\n",
    "    def __init__(self):\n",
    "\n",
    "        # Como heredamos de QObject hay que hacer el llamado a super()\n",
    "        super().__init__()\n",
    "        print(\"Inicializando cliente...\")\n",
    "\n",
    "        # Inicializamos el socket principal del cliente.\n",
    "        # Este corresponde al de una conexión TCP\n",
    "        self.socket_cliente = socket.socket(socket.AF_INET, socket.SOCK_STREAM)\n",
    "\n",
    "        # Primero definimos la dirección a la cual nos conectaremos.\n",
    "        # En este caso se trabaja de manera local\n",
    "        self.host = \"localhost\"\n",
    "\n",
    "        # Definimos un Puerto al cual será conectado el cliente\n",
    "        self.port = 1238\n",
    "\n",
    "        try:\n",
    "            # Primero nos conectamos al servidor, pasándole como argumento la tupla\n",
    "            # (HOST, PORT) al cual nos queremos conectar.\n",
    "            # Esto tira error si la conexión es privada o si no hay un servidor \"escuchando\"\n",
    "            self.socket_cliente.connect((self.host, self.port))\n",
    "            print(\"Cliente conectado exitosamente al servidor...\")\n",
    "\n",
    "            # hacemos True un boolean para que escuche\n",
    "            self.connected = True\n",
    "\n",
    "            # Luego, creamos un thread para comenzar a escuchar lo que nos envía el servidor\n",
    "            # Usamos un thread para permitir que el programa realice otras cosas\n",
    "            # mientras escucha al servidor\n",
    "            thread = threading.Thread(target=self.listen_thread, daemon=True)\n",
    "            thread.start()\n",
    "            print(\"Escuchando al servidor...\")\n",
    "\n",
    "            # Finalmente, conectamos la señal con un método de la ventana\n",
    "            self.interfaz = Interfaz()\n",
    "            self.interfaz.senal_a_backend.connect(self.enviar_al_servidor)\n",
    "            self.enviar_a_interfaz.connect(self.interfaz.desplegar_resultado)\n",
    "\n",
    "        except ConnectionRefusedError:\n",
    "            # Si la conexión es rechazada, entonces se 'cierra' el socket\n",
    "            print(\"No se encontró un servidor\\nAbortando...\")\n",
    "            self.socket_cliente.close()\n",
    "            exit()"
   ]
  },
  {
   "cell_type": "markdown",
   "metadata": {},
   "source": [
    "#### Client.listen_thread()\n",
    "\n",
    "Es la funcion que se usará como thread para escuchar del servidor. Su forma de ser es muy similar a Server.listen_client_thread()\n",
    "\n",
    "Esta funcion recibe el mensaje, lo deserializa, y llama una funcion para ver que hacer con la instruccion"
   ]
  },
  {
   "cell_type": "code",
   "execution_count": null,
   "metadata": {},
   "outputs": [],
   "source": [
    "class Client(QObject):\n",
    "    # (...)\n",
    "    \n",
    "    def listen_thread(self):\n",
    "        '''\n",
    "        Este método es el usado en el thread y la idea es que reciba lo que\n",
    "        envía el servidor. Implementa el protocolo de agregar los primeros\n",
    "        4 bytes, que indican el largo del mensaje\n",
    "        :return:\n",
    "        '''\n",
    "\n",
    "        # Si desean que un usuario pueda desconectarse\n",
    "        while self.connected:\n",
    "            # Primero recibimos los 4 bytes del largo\n",
    "            response_bytes_length = self.socket_cliente.recv(4)\n",
    "            # Los decodificamos\n",
    "            response_length = int.from_bytes(response_bytes_length,\n",
    "                                             byteorder=\"big\")\n",
    "\n",
    "            # Luego, creamos un bytearray vacío para juntar el mensaje\n",
    "            response_bytes = bytearray()\n",
    "\n",
    "            # Recibimos datos hasta que alcancemos la totalidad de los datos\n",
    "            # indicados en los primeros 4 bytes recibidos.\n",
    "            while len(response_bytes) < response_length:\n",
    "                largo_por_recibir = min(response_length - len(response_bytes), 256)\n",
    "                response_bytes += self.socket_cliente.recv(largo_por_recibir)\n",
    "\n",
    "            # Una vez que tenemos todos los bytes, entonces ahí decodificamos\n",
    "            response = response_bytes.decode()\n",
    "\n",
    "            # Luego, debemos cargar lo anterior utilizando json\n",
    "            decoded = json.loads(response)\n",
    "\n",
    "            # Para evitar hacer muy largo este método, el manejo del mensaje se\n",
    "            # realizará en otro método\n",
    "            self.manejar_comando(decoded)"
   ]
  },
  {
   "cell_type": "markdown",
   "metadata": {},
   "source": [
    "#### Client.manejar_comando()\n",
    "\n",
    "Ya que solo se recibe informacion que se verá en ventana, se mandará la señal a la ventana con la informacion mediante una señal"
   ]
  },
  {
   "cell_type": "code",
   "execution_count": null,
   "metadata": {},
   "outputs": [],
   "source": [
    "class Client(QObject):\n",
    "    # (...)\n",
    "    \n",
    "    def manejar_comando(self, mensaje):\n",
    "        '''\n",
    "        :param mensaje: diccionario con la información\n",
    "        :return:\n",
    "        '''\n",
    "        # Podemos imprimir para verificar que toodo anda bien\n",
    "        print(\"Mensaje Recibido: {}\".format(mensaje))\n",
    "        \n",
    "        self.enviar_a_interfaz.emit(mensaje)"
   ]
  },
  {
   "cell_type": "markdown",
   "metadata": {},
   "source": [
    "#### Client.enviar_al_servidor()\n",
    "Es una funcion que se activa mediante una señal de la ventana, recibe un string con la palabra y la convierte a un diccionario para después llevar la informacion al servidor"
   ]
  },
  {
   "cell_type": "code",
   "execution_count": null,
   "metadata": {},
   "outputs": [],
   "source": [
    "class Client(QObject):\n",
    "    # (...)\n",
    "    def enviar_al_servidor(self, palabra):\n",
    "        '''\n",
    "        Este método es el que se gatilla con la señal y manda la información al método send\n",
    "        :param palabra: string que representa la palabra a japonizar\n",
    "        :return:\n",
    "        '''\n",
    "\n",
    "        # Tomamos la información del evento y la pasamos al formato antes descrito\n",
    "        data = {\"palabra\": palabra}\n",
    "\n",
    "        # Llamamos al método send para enviar la info al servidor\n",
    "        self.send(data)"
   ]
  },
  {
   "cell_type": "markdown",
   "metadata": {},
   "source": [
    "#### Client.send()\n",
    "\n",
    "funcion que se encarga de usar el socket para enviar la informacion al servidor usando el protocolo de enviar los primeros 4 bytes con la informacion del mensaje y luego el mensaje"
   ]
  },
  {
   "cell_type": "code",
   "execution_count": null,
   "metadata": {},
   "outputs": [],
   "source": [
    "class Client(QObject):\n",
    "    # (...)\n",
    "    def send(self, msg):\n",
    "        '''\n",
    "        :param msg: diccionario con la información\n",
    "        :return:\n",
    "        '''\n",
    "\n",
    "        # Le hacemos json.dumps y luego lo transformamos a bytes\n",
    "        msg_json = json.dumps(msg)\n",
    "        msg_bytes = msg_json.encode()\n",
    "\n",
    "        # Luego tomamos el largo de los bytes y creamos 4 bytes de esto\n",
    "        msg_length = len(msg_bytes).to_bytes(4, byteorder=\"big\")\n",
    "\n",
    "        # Finalmente, los enviamos al servidor\n",
    "        self.socket_cliente.send(msg_length + msg_bytes)"
   ]
  }
 ],
 "metadata": {
  "kernelspec": {
   "display_name": "Python 3",
   "language": "python",
   "name": "python3"
  },
  "language_info": {
   "codemirror_mode": {
    "name": "ipython",
    "version": 3
   },
   "file_extension": ".py",
   "mimetype": "text/x-python",
   "name": "python",
   "nbconvert_exporter": "python",
   "pygments_lexer": "ipython3",
   "version": "3.6.8"
  }
 },
 "nbformat": 4,
 "nbformat_minor": 2
}
