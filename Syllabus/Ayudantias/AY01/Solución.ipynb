{
 "cells": [
  {
   "cell_type": "markdown",
   "metadata": {},
   "source": [
    "# Ayudantía 01: OOP\n",
    "\n",
    "## Autores: [@jjaguillon](https://github.com/jjaguillon) & [@manarea](https://github.com/manarea) & [@JoacoCoyu](https://github.com/JoacoCoyu)"
   ]
  },
  {
   "cell_type": "markdown",
   "metadata": {},
   "source": [
    "## OOP"
   ]
  },
  {
   "cell_type": "markdown",
   "metadata": {},
   "source": [
    "### Recordemos un poco de intro a la progra"
   ]
  },
  {
   "cell_type": "code",
   "execution_count": 1,
   "metadata": {},
   "outputs": [],
   "source": [
    "class Personaje:\n",
    "    def __init__(self, nombre, vida, ataque, defensa):\n",
    "        self.nombre = nombre\n",
    "        self.vida = vida\n",
    "        self.vida_ac = vida\n",
    "        self.ataque = ataque\n",
    "        self.defensa = defensa\n",
    "    \n",
    "    def atacar(self, otro):\n",
    "        otro.vida_ac = otro.vida_ac - (self.ataque // otro.defensa) - 1\n",
    "        \n",
    "    def __str__(self):\n",
    "        return \"{} ({}/{})\".format(self.nombre, self.vida_ac, self.vida)"
   ]
  },
  {
   "cell_type": "code",
   "execution_count": 2,
   "metadata": {},
   "outputs": [
    {
     "name": "stdout",
     "output_type": "stream",
     "text": [
      "Enzo (10/10)\n",
      "Gioconcha (8/8)\n",
      "Dr. Pinto (12/12)\n",
      "Enzo (4/10)\n",
      "Gioconcha (5/8)\n",
      "Dr. Pinto (10/12)\n"
     ]
    }
   ],
   "source": [
    "enzo = Personaje(\"Enzo\", 10, 10, 5)\n",
    "pinto = Personaje(\"Dr. Pinto\", 12, 8, 6)\n",
    "gioco = Personaje(\"Gioconcha\", 8, 15, 5)\n",
    "\n",
    "print(enzo)\n",
    "print(gioco)\n",
    "print(pinto)\n",
    "\n",
    "pinto.atacar(enzo)\n",
    "enzo.atacar(gioco)\n",
    "enzo.atacar(pinto)\n",
    "gioco.atacar(enzo)\n",
    "\n",
    "print(enzo)\n",
    "print(gioco)\n",
    "print(pinto)"
   ]
  },
  {
   "cell_type": "markdown",
   "metadata": {},
   "source": [
    "# La magia de las Properties\n",
    "\n",
    "Podemos definir tres tipos:\n",
    "\n",
    "- Getter\n",
    "- Setter\n",
    "- Deleter"
   ]
  },
  {
   "cell_type": "markdown",
   "metadata": {},
   "source": [
    "## RPG2233\n",
    "\n",
    "Modele el Jugador de este juego. Este debe ser capaz debe tener los siguientes datos:\n",
    "\n",
    "- Vida\n",
    "- Ataque\n",
    "- Defensa\n",
    "\n",
    "La vida no puede ser menor a 0, ni mayor a la vida máxima\n",
    "\n",
    "Debe ser capaz de tener un arma, la cual, le da un boost a su ataque. Además, debe ser capaz de equiparse y desequiparse del arma."
   ]
  },
  {
   "cell_type": "markdown",
   "metadata": {},
   "source": [
    "### Getter\n",
    "\n",
    "Las properties se definen mediante un getter, lo que permite entregar valores dinámicos sobre un valor.\n",
    "\n",
    "Por ejemplo, el valor del ataque varía si tienes un arma equipada o no.\n",
    "\n",
    "**IMPORTANTE:** un error común es el colocar el mismo nombre a la property y al atributo. "
   ]
  },
  {
   "cell_type": "markdown",
   "metadata": {},
   "source": [
    "### Setter\n",
    "\n",
    "El setter permite dar condiciones al valor seteado.\n",
    " \n",
    "Por ejemplo, que el valor seteado no salga de cierto rango: 0 --- self.vida_maxima"
   ]
  },
  {
   "cell_type": "markdown",
   "metadata": {},
   "source": [
    "### Deleter\n",
    "\n",
    "El deleter permite que el valor de la propertie sea eliminado. Al igual que el setter, puedes darle condiciones a la eliminación del valor.\n",
    "\n",
    "Ejemplo, desequipar el arma."
   ]
  },
  {
   "cell_type": "code",
   "execution_count": 8,
   "metadata": {},
   "outputs": [],
   "source": [
    "class Jugador:\n",
    "    def __init__(self, nombre, vida_maxima, ataque, defensa):\n",
    "        self.nombre = nombre\n",
    "        self._vida_actual = vida_maxima\n",
    "        self.vida_maxima = vida_maxima\n",
    "        self._ataque = ataque\n",
    "        self.defensa = defensa\n",
    "        self._arma = None\n",
    "       \n",
    "    \n",
    "    def atacar(self, otro):\n",
    "        otro.vida_actual = otro.vida_actual - (self.ataque // otro.defensa) - 1\n",
    "\n",
    "            \n",
    "    # getter\n",
    "    @property\n",
    "    def ataque(self):\n",
    "        if self._arma:\n",
    "            return self._ataque + self.arma.ataque\n",
    "        return self._ataque\n",
    "    \n",
    "    @property\n",
    "    def vida_actual(self):\n",
    "        return self._vida_actual\n",
    "\n",
    "    #setter\n",
    "    @vida_actual.setter\n",
    "    def vida_actual(self, value):\n",
    "        if value < 0:\n",
    "            self._vida_actual = 0\n",
    "        elif self.vida_maxima < value:\n",
    "            self._vida_actual = self.vida_maxima\n",
    "        else:\n",
    "            self._vida_actual = value\n",
    "            \n",
    "    @property\n",
    "    def arma(self):\n",
    "        return self._arma\n",
    "\n",
    "    @arma.setter\n",
    "    def arma(self, value):\n",
    "        if not(self._arma):\n",
    "            print(\"Equipada:\", value.nombre)\n",
    "            self._arma = value\n",
    "\n",
    "    #deleter\n",
    "    @arma.deleter\n",
    "    def arma(self):\n",
    "        if self._arma:\n",
    "            print(\"Desequipada:\", self._arma.nombre)\n",
    "            self._arma = None\n",
    "            \n",
    "class Arma:\n",
    "    def __init__(self, nombre, daño):\n",
    "        self.nombre = nombre\n",
    "        self.ataque = daño\n",
    "        \n",
    "    def __repr__(self):\n",
    "        return \"{} - Ataque: {}\".format(self.nombre, self.ataque)"
   ]
  },
  {
   "cell_type": "markdown",
   "metadata": {},
   "source": [
    "![img/RPG1.png](img/RPG1.png)"
   ]
  },
  {
   "cell_type": "code",
   "execution_count": 13,
   "metadata": {},
   "outputs": [
    {
     "name": "stdout",
     "output_type": "stream",
     "text": [
      "Equipada: Espada Demoniaca\n",
      "80\n",
      "75\n",
      "100\n",
      "93\n",
      "Desequipada: Espada Demoniaca\n",
      "Equipada: El fua\n",
      "0\n"
     ]
    }
   ],
   "source": [
    "Viking_Juan = Jugador(\"Viking Juan\", 100, 14, 2)\n",
    "Cawarrior = Jugador(\"Cawarrior\", 80, 11, 3)\n",
    "\n",
    "Espada_demoniaca = Arma(\"Espada Demoniaca\", 2)\n",
    "Cawarrior.arma = Espada_demoniaca\n",
    "\n",
    "print(Cawarrior.vida_actual)\n",
    "Viking_Juan.atacar(Cawarrior)\n",
    "print(Cawarrior.vida_actual)\n",
    "\n",
    "print(Viking_Juan.vida_actual)\n",
    "Cawarrior.atacar(Viking_Juan)\n",
    "print(Viking_Juan.vida_actual)\n",
    "\n",
    "\n",
    "del Cawarrior.arma\n",
    "Viking_Juan.atacar(Cawarrior)\n",
    "\n",
    "Apoyo_de_la_people = Arma(\"El fua\", 999999999)\n",
    "Cawarrior.arma  = Apoyo_de_la_people\n",
    "\n",
    "Cawarrior.atacar(Viking_Juan)\n",
    "print(Viking_Juan.vida_actual)"
   ]
  },
  {
   "cell_type": "markdown",
   "metadata": {},
   "source": [
    "## Herencia y Polimorfismo\n",
    "\n",
    "VikingJuan fue derrotado, pero Cawarrior no sabía que este tenía un discípulo de la clase de los Magos oscuros, era capaz de revivirlo y convertirlo en un ser mejorado.\n",
    "    \n",
    "VikingJuan ha vuelto, y más fuerte que nunca"
   ]
  },
  {
   "cell_type": "markdown",
   "metadata": {},
   "source": [
    "## ¿Cómo se hereda y qué alcances tiene?\n",
    "\n",
    "- El proceso de herencia corresponde al legado de una clase madre (Atributos escogidos y métodos) a una clase hija, la cual recibe y hace propias estas últimas, de manera que las comparten.\n",
    "\n",
    "- Entre otras cosas, la clase hija puede especializarse, hacer override(cambiar los métodos que heredó de la clase madre) o editar los atributos que la conforman.\n",
    "\n",
    "### Supongamos el caso anterior para realizar la herencia..."
   ]
  },
  {
   "cell_type": "code",
   "execution_count": 16,
   "metadata": {},
   "outputs": [],
   "source": [
    "\"\"\"\n",
    "La clase Jugador, corresponde a los participantes normales, pero VikingJuan\n",
    "ahora pasará a formar parte de los Revivi3\n",
    "\"\"\"\n",
    "## Para realizar la herencia de una forma práctica, considerando ediciones \n",
    "## posteriores, usaremos el método super().\n",
    "\n",
    "class Revivi3(Jugador):\n",
    "    def __init__(self, nombre, vida_maxima, ataque, defensa):\n",
    "        super().__init__(nombre, vida_maxima, ataque, defensa)\n",
    "        #Se agregan atributos nuevos para especializar la clase\n",
    "        self.bonus_revivido = 1.1\n",
    "    '''\n",
    "    Definimos el override de atacar, para usar la misma funcion\n",
    "    pero hacemos un pequeño cambio para agregar el bonus de revivido\n",
    "    '''\n",
    "    def atacar(self, otro):\n",
    "        otro._vida_actual = otro._vida_actual - ((self.bonus_revivido*self.ataque) // otro.defensa) - 1\n",
    "\n",
    "\n",
    "    '''\n",
    "    Todos los demás atributos y métodos quedan iguales que los de la clase madre.\n",
    "    Acabamos de definir una clase nueva y nos ahorramos mucho código\n",
    "    '''"
   ]
  },
  {
   "cell_type": "markdown",
   "metadata": {},
   "source": [
    "## Herencia con built-ins:\n",
    "\n",
    "- Supongamos que Cawarrior necesita crear un ejercito para combatir a los no muertos del bando de VikingJuan, puede ser práctico extender una clase y especializarla para estas funciones\n"
   ]
  },
  {
   "cell_type": "code",
   "execution_count": 17,
   "metadata": {},
   "outputs": [],
   "source": [
    "import random\n",
    "class Ejercito(list):\n",
    "    \"\"\"\n",
    "    Esta nueva clase se comportará como lo haría una lista, y nos permitirá definir\n",
    "    algunas funciones de manera cómoda\n",
    "    \"\"\"\n",
    "    \n",
    "    #Agregamos objetos de tipo Jugador para poblar las filas del ejercito\n",
    "    def reclutar(self):\n",
    "        for soldado in range(100):\n",
    "            self.append(Jugador(\"Soldado \"+str(soldado), 10, random.randint(1,100), 10))\n",
    "    '''\n",
    "    Creamos un método especifico para esta clase, que nos permita seleccionar \n",
    "    al mejor guerrero de nuestras filas\n",
    "    ''' \n",
    "    \n",
    "    def Berserker(self):\n",
    "        seleccionado = self[0]\n",
    "        for soldado in self:\n",
    "            if soldado.ataque > seleccionado.ataque:\n",
    "                seleccionado = soldado\n",
    "        return seleccionado"
   ]
  },
  {
   "cell_type": "code",
   "execution_count": 19,
   "metadata": {},
   "outputs": [
    {
     "name": "stdout",
     "output_type": "stream",
     "text": [
      "Hay 0 soldados listos para la batalla\n",
      "Hay 100 soldados listos para la batalla\n",
      "Soldado 29\n"
     ]
    }
   ],
   "source": [
    "ejercito = Ejercito()\n",
    "print(\"Hay \"+str(len(ejercito))+\" soldados listos para la batalla\")\n",
    "ejercito.reclutar()\n",
    "print(\"Hay \"+str(len(ejercito))+\" soldados listos para la batalla\")\n",
    "print(ejercito.Berserker().nombre)"
   ]
  },
  {
   "cell_type": "markdown",
   "metadata": {},
   "source": [
    "## Concepto de Duck Typing:\n",
    "\n",
    "- \"Si suena como un pato y camina como un pato, entonces es un pato\"    \n",
    "\n",
    "- Todos los objetos que sean poseedores de métodos con el mismo nombre, podrán hacer uso de ellos, sin tener que recurrir a la herencia."
   ]
  },
  {
   "cell_type": "code",
   "execution_count": 20,
   "metadata": {},
   "outputs": [
    {
     "name": "stdout",
     "output_type": "stream",
     "text": [
      "Por Odín!!!\n",
      "Por los kbros!!!\n"
     ]
    }
   ],
   "source": [
    "class Vikingo:\n",
    "    \n",
    "    def grito_de_guerra(self):\n",
    "        print(\"Por Odín!!!\")\n",
    "               \n",
    "    \n",
    "class Warrior:\n",
    "    \n",
    "    def grito_de_guerra(self):\n",
    "        print(\"Por los kbros!!!\")\n",
    "               \n",
    "\n",
    "        \n",
    "def Batallar(): # Esto en otro tipo de lenguaje obligaría a que pato sea del tipo \"Pato\", por lo tanto\n",
    "    vikingo.grito_de_guerra() # la función activar no podría ser llamada con un argumento tipo \"Persona\"\n",
    "    warrior.grito_de_guerra()\n",
    "    \n",
    "warrior = Warrior()\n",
    "vikingo = Vikingo()\n",
    "Batallar()"
   ]
  },
  {
   "cell_type": "markdown",
   "metadata": {},
   "source": [
    "# Multiherencia y Clases Abstractas"
   ]
  },
  {
   "cell_type": "markdown",
   "metadata": {},
   "source": [
    "Primero, **Clases Abstractas**. ¡No hay que enredarse tanto con ellas! La idea principal es que:\n",
    "- Nos permiten representar de mejor manera el modelamiento de las clases.\n",
    "- Ahorrarnos escribir una y otra vez métodos y atributos que se repiten en las subclases.\n",
    "- Se deben instanciar las subclases de la clase abstracta, **NO LA CLASE ABSTRACTA**.\n",
    "\n",
    "¿Cómo es esto? ¡Veamoslo con un ejemplo! En la misma línea de RPG2233."
   ]
  },
  {
   "cell_type": "markdown",
   "metadata": {},
   "source": [
    "![img/dragon_coyu.PNG](img/dragon_coyu.PNG)"
   ]
  },
  {
   "cell_type": "markdown",
   "metadata": {},
   "source": [
    "Lord Coyu tiene un criadero de dragones y el sabe que cuando nace un dragon, este es de cierto tipo en especifico, es decir, su raza corresponde a una subclase de Dragon. Por lo tanto no exite un \"Dragon especie Dragon\".\n",
    "\n",
    "¡Veamos cómo se traduce a código!\n"
   ]
  },
  {
   "cell_type": "code",
   "execution_count": 2,
   "metadata": {},
   "outputs": [],
   "source": [
    "from abc import ABC, abstractmethod\n",
    "\n",
    "# Clase Dragon nunca debe ser instanciada.\n",
    "class Dragon(ABC):\n",
    "        \n",
    "    @abstractmethod\n",
    "    def defensa(self):\n",
    "        pass\n",
    "    @abstractmethod\n",
    "    def ataque(self):\n",
    "        pass\n",
    "\n",
    "# Esta es una SubClase de Dragon (abstracta), por lo que puede ser instanciada.\n",
    "class SaphireDragon(Dragon):\n",
    "    \n",
    "    def defensa(self):\n",
    "        return('Su defensa es por su coraza de poderoso safiro')\n",
    "\n",
    "    def ataque(self):\n",
    "        return('Super poder del rayo azulejo')"
   ]
  },
  {
   "cell_type": "code",
   "execution_count": 3,
   "metadata": {},
   "outputs": [
    {
     "name": "stdout",
     "output_type": "stream",
     "text": [
      "Super poder del rayo azulejo\n"
     ]
    }
   ],
   "source": [
    "d1 = SaphireDragon()\n",
    "print(d1.ataque())"
   ]
  },
  {
   "cell_type": "markdown",
   "metadata": {},
   "source": [
    "![img/saphire.png](img/saphire.png)"
   ]
  },
  {
   "cell_type": "markdown",
   "metadata": {},
   "source": [
    "Ahora, **Multiherencia**. En la misma línea del criadero de dragones, es posible que un dragon (SubClase) herede datos y comportamiento de su dragon madre (SuperClase). También es posible heredar de más de una clase a la vez.\n",
    "\n",
    "Por ejemplo, supongamos que existen los \"SaphireDragon\" y \"AquaDragon\", y que juntos son capaces de crear una nueva y poderosa especie: los \"IceDragon\"."
   ]
  },
  {
   "cell_type": "markdown",
   "metadata": {},
   "source": [
    "![img/ambos.PNG](img/ambos.PNG)"
   ]
  },
  {
   "cell_type": "code",
   "execution_count": 5,
   "metadata": {},
   "outputs": [],
   "source": [
    "class SaphireDragon:\n",
    "    def __init__(self, alas):\n",
    "        self.alas = alas \n",
    "    \n",
    "    def defensa(self):\n",
    "        print('Su defensa es por su coraza de poderoso safiro')\n",
    "\n",
    "    def ataque(self):\n",
    "        print('Super poder del rayo azulejo')\n",
    "\n",
    "class AquaDragon:\n",
    "    def __init__(self, cola):\n",
    "        self.cola = cola\n",
    "    \n",
    "    def defensa(self):\n",
    "        print('Su defensa es muro de agua')\n",
    "\n",
    "    def ataque(self):\n",
    "        print('Super poder del rayo de trueno')\n",
    "\n",
    "class IceDragon(AquaDragon, SaphireDragon):\n",
    "    def __init__(self, garras, armadura, cola, alas):\n",
    "        SaphireDragon.__init__(self, alas)\n",
    "        AquaDragon.__init__(self, cola)\n",
    "        self.garras = garras\n",
    "        self.armadura = armadura\n",
    "    \n",
    "    def defensa(self):\n",
    "        print('Su defensa es escudo de hielo')\n",
    "\n",
    "    def ataque(self):\n",
    "        print('Super poder de lanzas de escarcha')\n",
    "    "
   ]
  },
  {
   "cell_type": "code",
   "execution_count": 8,
   "metadata": {},
   "outputs": [
    {
     "name": "stdout",
     "output_type": "stream",
     "text": [
      "garras heladas\n",
      "armadura firme\n",
      "aqua cola\n",
      "alas saphire\n"
     ]
    },
    {
     "ename": "TypeError",
     "evalue": "defensa() takes 0 positional arguments but 1 was given",
     "output_type": "error",
     "traceback": [
      "\u001b[1;31m---------------------------------------------------------------------------\u001b[0m",
      "\u001b[1;31mTypeError\u001b[0m                                 Traceback (most recent call last)",
      "\u001b[1;32m<ipython-input-8-d0fc3a01de4d>\u001b[0m in \u001b[0;36m<module>\u001b[1;34m\u001b[0m\n\u001b[0;32m      4\u001b[0m \u001b[0mprint\u001b[0m\u001b[1;33m(\u001b[0m\u001b[0md2\u001b[0m\u001b[1;33m.\u001b[0m\u001b[0mcola\u001b[0m\u001b[1;33m)\u001b[0m\u001b[1;33m\u001b[0m\u001b[1;33m\u001b[0m\u001b[0m\n\u001b[0;32m      5\u001b[0m \u001b[0mprint\u001b[0m\u001b[1;33m(\u001b[0m\u001b[0md2\u001b[0m\u001b[1;33m.\u001b[0m\u001b[0malas\u001b[0m\u001b[1;33m)\u001b[0m\u001b[1;33m\u001b[0m\u001b[1;33m\u001b[0m\u001b[0m\n\u001b[1;32m----> 6\u001b[1;33m \u001b[0mprint\u001b[0m\u001b[1;33m(\u001b[0m\u001b[0md2\u001b[0m\u001b[1;33m.\u001b[0m\u001b[0mdefensa\u001b[0m\u001b[1;33m(\u001b[0m\u001b[1;33m)\u001b[0m\u001b[1;33m)\u001b[0m\u001b[1;33m\u001b[0m\u001b[1;33m\u001b[0m\u001b[0m\n\u001b[0m",
      "\u001b[1;31mTypeError\u001b[0m: defensa() takes 0 positional arguments but 1 was given"
     ]
    }
   ],
   "source": [
    "d2 = IceDragon('garras heladas', 'armadura firme', 'aqua cola', 'alas saphire')\n",
    "print(d2.garras)\n",
    "print(d2.armadura)\n",
    "print(d2.cola)\n",
    "print(d2.alas)\n",
    "print(d2.defensa())"
   ]
  },
  {
   "cell_type": "markdown",
   "metadata": {},
   "source": [
    "![img/ice.jpg](img/ice.jpg)"
   ]
  },
  {
   "cell_type": "markdown",
   "metadata": {},
   "source": [
    "### Multiherencia y el problema del diamante\n",
    "\n",
    "Como habrán visto en los contenidos, el ejemplo muestra lo que ocurre en un contexto de multiherencia. Al tener que una clase hereda de otras dos superclases, nos enfrentamos al **problema del diamante**.\n",
    "\n",
    "La estructura de jerarquía en forma de diamante ocurre siempre que tengamos una clase que hereda de dos clases, aun cuando no tengamos una tercera superclase explícita. ¿Por qué? Porque en Python (y en varios lenguajes OOP), existe una clase `object` de la cual heredan todas las clases que creamos. "
   ]
  },
  {
   "cell_type": "markdown",
   "metadata": {},
   "source": [
    "Con el siguiente ejemplo se puede apreciar que al heredar de dos clases, la clase `object` (ClaseB)es llamada dos veces, siguiendo el dilema del diamante."
   ]
  },
  {
   "cell_type": "code",
   "execution_count": 8,
   "metadata": {},
   "outputs": [
    {
     "name": "stdout",
     "output_type": "stream",
     "text": [
      "Estoy en Subclase A\n",
      "Estoy en Subclase Izquierda\n",
      "Llamando método en Clase B\n",
      "Llamando método en Subclase Izquierda\n",
      "Estoy en Subclase Derecha\n",
      "Llamando método en Clase B\n",
      "Llamando método en Subclase Derecha\n",
      "Llamando método en Subclase A\n",
      "\n",
      "Llamadas en Subclase A: 1\n",
      "Llamadas en Subclase Izquierda: 1\n",
      "Llamadas en Subclase Derecha: 1\n",
      "Llamadas en Clase B: 2\n"
     ]
    }
   ],
   "source": [
    "class ClaseB:\n",
    "    \n",
    "    num_llamadas_B = 0\n",
    "    \n",
    "    def llamar(self):\n",
    "        print(\"Llamando método en Clase B\")\n",
    "        self.num_llamadas_B += 1\n",
    "\n",
    "\n",
    "class SubClaseIzquierda(ClaseB):\n",
    "    \n",
    "    num_llamadas_izq = 0\n",
    "    \n",
    "    def llamar(self):\n",
    "        print(\"Estoy en Subclase Izquierda\")\n",
    "        ClaseB.llamar(self)\n",
    "        print(\"Llamando método en Subclase Izquierda\")\n",
    "        self.num_llamadas_izq += 1\n",
    "\n",
    "        \n",
    "class SubClaseDerecha(ClaseB):\n",
    "    \n",
    "    num_llamadas_der = 0\n",
    "    \n",
    "    def llamar(self):\n",
    "        print(\"Estoy en Subclase Derecha\")\n",
    "        ClaseB.llamar(self)\n",
    "        print(\"Llamando método en Subclase Derecha\")\n",
    "        self.num_llamadas_der += 1\n",
    "\n",
    "        \n",
    "class SubClaseA(SubClaseIzquierda, SubClaseDerecha):\n",
    "    \n",
    "    num_llamadas_subA = 0\n",
    "    \n",
    "    def llamar(self):\n",
    "        print(\"Estoy en Subclase A\")        \n",
    "        SubClaseIzquierda.llamar(self)\n",
    "        SubClaseDerecha.llamar(self)\n",
    "        print(\"Llamando método en Subclase A\")\n",
    "        self.num_llamadas_subA += 1\n",
    "\n",
    "\n",
    "s = SubClaseA()\n",
    "s.llamar()\n",
    "print()\n",
    "print(f\"Llamadas en Subclase A: {s.num_llamadas_subA}\")\n",
    "print(f\"Llamadas en Subclase Izquierda: {s.num_llamadas_izq}\")\n",
    "print(f\"Llamadas en Subclase Derecha: {s.num_llamadas_der}\")\n",
    "print(f\"Llamadas en Clase B: {s.num_llamadas_B}\")"
   ]
  },
  {
   "cell_type": "markdown",
   "metadata": {},
   "source": [
    "### ¡Los salvavidas: `*args` y `**kwargs`!\n",
    "\n",
    "El dilema que tenemos se produce porque, aunque entreguemos todos los argumentos a `super().__init__()`, ninguno de los inicializadores sabe cuáles argumentos son para él, y cuáles para otro inicializador. Pero Python provee una solución."
   ]
  },
  {
   "cell_type": "markdown",
   "metadata": {},
   "source": [
    "Por un lado, los `**kwargs` es una *secuencia de argumentos de largo variable*, donde cada elemento de la lista tiene asociado un **keyword**. El `**` mapea los elementos contenidos en el diccionario `kwargs` y los pasa a la función como _argumentos no posicionales_. Esto significa que los argumentos no se asignan a la función por su posición en el orden en que se entregan (como es lo habitual) sino por su _keyword_ asociado. De ahí el nombre _kwargs_ o _keyword arguments_. El `**kwargs` puede ser usado para enviar una cantidad variable de argumentos.\n",
    "\n",
    "Por otro lado, los `*args` también es una *secuencia de argumentos de largo variable* pero los elementos de la estructura que es entregada a la función **SI** respetan un orden. Veamoslos a prueba con el ejemplo anterior."
   ]
  },
  {
   "cell_type": "code",
   "execution_count": 9,
   "metadata": {},
   "outputs": [],
   "source": [
    "class SaphireDragon:\n",
    "    def __init__(self, alas='', **kwargs):\n",
    "        super().__init__(**kwargs)\n",
    "        self.alas = alas \n",
    "    \n",
    "    def defensa(self):\n",
    "        print('Su defensa es por su coraza de poderoso safiro')\n",
    "\n",
    "    def ataque(self):\n",
    "        print('Super poder del rayo azulejo')\n",
    "\n",
    "class AquaDragon:\n",
    "    def __init__(self, cola='', **kwargs):\n",
    "        super().__init__(**kwargs)\n",
    "        self.cola = cola\n",
    "    \n",
    "    def defensa():\n",
    "        print('Su defensa es muro de agua')\n",
    "\n",
    "    def ataque():\n",
    "        print('Super poder del rayo de trueno')\n",
    "\n",
    "class IceDragon(AquaDragon, SaphireDragon):\n",
    "    def __init__(self, garras, armadura, **kwargs):\n",
    "        super().__init__(**kwargs)\n",
    "        self.garras = garras\n",
    "        self.armadura = armadura\n",
    "    \n",
    "    def defensa():\n",
    "        print('Su defensa es escudo de hielo')\n",
    "\n",
    "    def ataque():\n",
    "        print('Super poder de lanzas de escarcha')"
   ]
  },
  {
   "cell_type": "code",
   "execution_count": 10,
   "metadata": {},
   "outputs": [
    {
     "name": "stdout",
     "output_type": "stream",
     "text": [
      "garras heladas\n",
      "armadura firme\n",
      "aqua cola\n",
      "alas saphire\n"
     ]
    }
   ],
   "source": [
    "d2 = IceDragon('garras heladas', 'armadura firme', cola='aqua cola', alas='alas saphire')\n",
    "print(d2.garras)\n",
    "print(d2.armadura)\n",
    "print(d2.cola)\n",
    "print(d2.alas)"
   ]
  },
  {
   "cell_type": "code",
   "execution_count": null,
   "metadata": {},
   "outputs": [],
   "source": []
  }
 ],
 "metadata": {
  "kernelspec": {
   "display_name": "Python 3",
   "language": "python",
   "name": "python3"
  },
  "language_info": {
   "codemirror_mode": {
    "name": "ipython",
    "version": 3
   },
   "file_extension": ".py",
   "mimetype": "text/x-python",
   "name": "python",
   "nbconvert_exporter": "python",
   "pygments_lexer": "ipython3",
   "version": "3.7.4"
  }
 },
 "nbformat": 4,
 "nbformat_minor": 2
}
