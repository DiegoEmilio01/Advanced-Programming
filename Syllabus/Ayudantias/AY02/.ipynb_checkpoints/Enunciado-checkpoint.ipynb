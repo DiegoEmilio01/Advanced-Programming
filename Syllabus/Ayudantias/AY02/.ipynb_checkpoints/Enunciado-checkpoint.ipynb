{
 "cells": [
  {
   "cell_type": "markdown",
   "metadata": {},
   "source": [
    "# AY02: Estructuras de Datos Básicas (*Built-Ins*)\n",
    "\n",
    "#### Ayudantes: `@bimartinez`, `@javieraochoa`, `@marioreinike`"
   ]
  },
  {
   "cell_type": "markdown",
   "metadata": {},
   "source": [
    "En esta ayudantía veremos en que ocasiones ocupar una EDD (Estructura de Datos) está justificada según el problema que se nos presenta. Las estructuras que veremos serán listas, tuplas, *namedtuples*, colas, *stacks*, diccionarios, *defaultdicts* y sets.\n",
    "\n",
    "A continuación les presentaremos 6 problemas y veremos qué ocupar y cómo resolverlos."
   ]
  },
  {
   "cell_type": "markdown",
   "metadata": {},
   "source": [
    "## Problema 1"
   ]
  },
  {
   "cell_type": "markdown",
   "metadata": {},
   "source": [
    "La famosa app de pedidos de supermercado _PartnerShop_ tiene una base de datos en formato de archivo de texto plano llamada `personas.txt`, y necesita que implementes una lista con cada uno de sus clientes en una estructura que no sea modificable, y que se pueda acceder a su rut, nombre y dirección de manera rápida por el nombre del atributo. ¿Cómo lo aplicarías?"
   ]
  },
  {
   "cell_type": "code",
   "execution_count": null,
   "metadata": {},
   "outputs": [],
   "source": []
  },
  {
   "cell_type": "markdown",
   "metadata": {},
   "source": [
    "## Problema 2"
   ]
  },
  {
   "cell_type": "markdown",
   "metadata": {},
   "source": [
    "El sistema de _PartnerShop_ se ha caído, y muchos clientes no pueden realizar sus compras! Afortunadamente, el sistema ha guardado todos los productos que pidieron los clientes en un archivo llamado `pedidos.txt`, pero está desordenado, donde cada fila tiene a un producto de cada pedido asociado con el rut del cliente, de la forma `rut;producto`. Se te pide que organices los pedidos de tal forma que puedas acceder a todos los productos pedidos por un cliente de manera **eficiente**, para que se puedan realizar los pedidos de forma manual."
   ]
  },
  {
   "cell_type": "code",
   "execution_count": null,
   "metadata": {},
   "outputs": [],
   "source": []
  },
  {
   "cell_type": "markdown",
   "metadata": {},
   "source": [
    "## Problema 3"
   ]
  },
  {
   "cell_type": "markdown",
   "metadata": {},
   "source": [
    "Los estudiantes que tomaron Progra Avanzada están ansiosos por saber qué nota se han sacado. Para esto, utiliza una estructura de datos que sea manejada de forma eficiente, de forma que al poner el número de alumno de la persona nos diga la nota que se sacó."
   ]
  },
  {
   "cell_type": "code",
   "execution_count": null,
   "metadata": {},
   "outputs": [],
   "source": []
  },
  {
   "cell_type": "markdown",
   "metadata": {},
   "source": [
    "## Problema 4"
   ]
  },
  {
   "cell_type": "markdown",
   "metadata": {},
   "source": [
    "Un desconocido malvado ~~Dr. Pinto~~ ha decidido infectar la base de datos de los alumnos de Progra Avanzada y poner un 1 a todos los alumnos. Los ayudantes se dieron cuenta de esta situación antes del ataque por lo que decidieron guardar los datos de cada alumno en una estructura de datos que no pueda ser modificada por el ataque del malvado."
   ]
  },
  {
   "cell_type": "code",
   "execution_count": null,
   "metadata": {},
   "outputs": [],
   "source": []
  },
  {
   "cell_type": "markdown",
   "metadata": {},
   "source": [
    "## Problema 5"
   ]
  },
  {
   "cell_type": "markdown",
   "metadata": {},
   "source": [
    "Una empresa de logística no sabe como organizar sus camiones para poder ser cargados con encomiendas. El sistema de carga funciona de la siguiente manera, el primer camión en espera será el que se llevará la última encomienda envasada. La empresa te proporciona dos archivos en los cuales tiene el orden de los camiones ordenados desde el primero que llegó al último y los pedidos ordenados desde el primero envasado hasta el ultimo. Debes utilizar dos estructuras de datos tal que al momento de despachar a un camión se cumplan los requerimientos de la empresa."
   ]
  },
  {
   "cell_type": "code",
   "execution_count": null,
   "metadata": {},
   "outputs": [],
   "source": []
  },
  {
   "cell_type": "markdown",
   "metadata": {},
   "source": [
    "## Problema 6"
   ]
  },
  {
   "cell_type": "markdown",
   "metadata": {},
   "source": [
    "Te pidieron hackear la base de datos de _Spontify_, y para eso se te pide que utilices una estructura adecuada que te permita guardar los nombres de las últimas canciones escuchadas por sus usuarios. Para esto, sabes que cada usuario es único y esta guardado de la forma usuario;canción. Luego, te pedirán consultas como:\n",
    "- ¿Qué canciones han escuchado dos usuarios?\n",
    "- ¿Qué canciones ha escuchado un usuario que no ha escuchado el otro?"
   ]
  },
  {
   "cell_type": "code",
   "execution_count": null,
   "metadata": {},
   "outputs": [],
   "source": []
  }
 ],
 "metadata": {
  "kernelspec": {
   "display_name": "Python 3",
   "language": "python",
   "name": "python3"
  },
  "language_info": {
   "codemirror_mode": {
    "name": "ipython",
    "version": 3
   },
   "file_extension": ".py",
   "mimetype": "text/x-python",
   "name": "python",
   "nbconvert_exporter": "python",
   "pygments_lexer": "ipython3",
   "version": "3.6.8"
  }
 },
 "nbformat": 4,
 "nbformat_minor": 2
}
