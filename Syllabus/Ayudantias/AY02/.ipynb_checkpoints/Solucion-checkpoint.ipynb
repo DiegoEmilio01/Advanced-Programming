{
 "cells": [
  {
   "cell_type": "markdown",
   "metadata": {},
   "source": [
    "# AY02: Estructuras de Datos Básicas (*Built-Ins*)\n",
    "\n",
    "#### Ayudantes: `@bimartinez`, `@javieraochoa`, `@marioreinike`"
   ]
  },
  {
   "cell_type": "markdown",
   "metadata": {},
   "source": [
    "En esta ayudantía veremos en que ocasiones ocupar una EDD (Estructura de Datos) está justificada según el problema que se nos presenta. Las estructuras que veremos serán listas, tuplas, *namedtuples*, colas, *stacks*, diccionarios, *defaultdicts* y sets.\n",
    "\n",
    "A continuación les presentaremos 6 problemas y veremos qué ocupar y cómo resolverlos."
   ]
  },
  {
   "cell_type": "markdown",
   "metadata": {},
   "source": [
    "**Primero, unos tips y recordatorios :D**"
   ]
  },
  {
   "cell_type": "markdown",
   "metadata": {},
   "source": [
    "- Los diccionarios los utilizamos cuando tenemos muchos datos con un identificador único\n",
    "- Las tuplas son inmutables!\n",
    "- Los named tuples  es como una clase con sólo atributos\n",
    "- Los sets son conjuntos de elementos (inmutables) sin repetir y sin orden."
   ]
  },
  {
   "cell_type": "markdown",
   "metadata": {},
   "source": [
    "## Problema 1"
   ]
  },
  {
   "cell_type": "markdown",
   "metadata": {},
   "source": [
    "La famosa app de pedidos de supermercado _PartnerShop_ tiene una base de datos en formato de archivo de texto plano llamada `personas.txt`, y necesita que implementes una lista con cada uno de sus clientes en una estructura que no sea modificable, y que se pueda acceder a su rut, nombre y dirección de manera rápida por el nombre del atributo. ¿Cómo lo aplicarías? **(comentario) Esta parte yo en realidad haría un diccionario para acceder con el rut, y así usarlo en el problema 5. Pondría además estos 2 problemas después del problema de los diccionarios (y/o otros).**"
   ]
  },
  {
   "cell_type": "code",
   "execution_count": null,
   "metadata": {},
   "outputs": [],
   "source": [
    "from collections import namedtuple\n",
    "\n",
    "Persona = namedtuple(\"Persona\", [\"rut\", \"nombre\", \"direccion\"])\n",
    "personas = dict()\n",
    "\n",
    "with open(\"personas.txt\", encoding=\"utf-8\") as file:\n",
    "    for line in file:\n",
    "        data = line.strip().split(\";\")\n",
    "        personas[data[0]] = Persona(*data)\n",
    "    \n",
    "    # Alternativa (equivalente):\n",
    "    for line in file:\n",
    "        data = line.strip().split(\";\")\n",
    "        personas[data[0]] = Persona(data[0], data[1], data[2])\n",
    "\n",
    "print(personas[\"10.899.738-9\"])"
   ]
  },
  {
   "cell_type": "markdown",
   "metadata": {},
   "source": [
    "## Problema 2"
   ]
  },
  {
   "cell_type": "markdown",
   "metadata": {},
   "source": [
    "El sistema de _PartnerShop_ se ha caído, y muchos clientes no pueden realizar sus compras! Afortunadamente, el sistema ha guardado todos los productos que pidieron los clientes en un archivo llamado `pedidos.txt`, pero está desordenado, donde cada fila tiene a un producto de cada pedido asociado con el rut del cliente, de la forma `rut;producto`. Se te pide que organices los pedidos de tal forma que puedas acceder a todos los productos pedidos por un cliente de manera **eficiente**, para que se puedan realizar los pedidos de forma manual."
   ]
  },
  {
   "cell_type": "code",
   "execution_count": null,
   "metadata": {},
   "outputs": [],
   "source": [
    "from collections import defaultdict\n",
    "\n",
    "pedidos = defaultdict(list)\n",
    "\n",
    "with open(\"pedidos.txt\") as file:\n",
    "    for line in file:\n",
    "        data = line.strip().split(\";\")\n",
    "        pedidos[data[0]].append(data[1])\n",
    "\n",
    "print(pedidos[\"10.812.073-8\"])"
   ]
  },
  {
   "cell_type": "markdown",
   "metadata": {},
   "source": [
    "Ahora se te pide entregar información detallada de un pedido (nombre, dirección y detalles), dado el rut de una persona. ¿cómo lo harías?"
   ]
  },
  {
   "cell_type": "code",
   "execution_count": null,
   "metadata": {},
   "outputs": [],
   "source": [
    "def detalles(rut):\n",
    "    persona = personas[rut]\n",
    "    print(f\"Nombre: {persona.nombre}\")\n",
    "    print(f\"Dirección: {persona.direccion}\")\n",
    "    print(f\"Detalles: {pedidos[rut]}\")\n",
    "\n",
    "detalles(\"10.812.073-8\")"
   ]
  },
  {
   "cell_type": "markdown",
   "metadata": {},
   "source": [
    "## Problema 3"
   ]
  },
  {
   "cell_type": "markdown",
   "metadata": {},
   "source": [
    "Los estudiantes que tomaron Progra Avanzada están ansiosos por saber qué nota se han sacado. Para esto, utiliza una estructura de datos que sea manejada de forma eficiente, de forma que al poner el número de alumno de la persona nos diga la nota que se sacó."
   ]
  },
  {
   "cell_type": "code",
   "execution_count": null,
   "metadata": {},
   "outputs": [],
   "source": [
    "estudiantes = dict()\n",
    "\n",
    "with open(\"notas.txt\") as file:\n",
    "    for line in file:\n",
    "        estudiante, nota = line.strip().split(\";\")\n",
    "        estudiantes[estudiante] = nota\n",
    "        \n",
    "print(estudiantes[\"16636864\"])"
   ]
  },
  {
   "cell_type": "markdown",
   "metadata": {},
   "source": [
    "## Problema 4"
   ]
  },
  {
   "cell_type": "markdown",
   "metadata": {},
   "source": [
    "Un desconocido malvado ~~Dr. Pinto~~ ha decidido infectar la base de datos de los alumnos de Progra Avanzada y poner un 1 a todos los alumnos. Los ayudantes se dieron cuenta de esta situación antes del ataque por lo que decidieron guardar los datos de cada alumno en una estructura de datos que no pueda ser modificada por el ataque del malvado."
   ]
  },
  {
   "cell_type": "code",
   "execution_count": null,
   "metadata": {},
   "outputs": [],
   "source": [
    "estudiantes = list()\n",
    "\n",
    "with open(\"notas.txt\") as file:\n",
    "    for line in file:\n",
    "        persona, nota = line.strip().split(\";\")\n",
    "        estudiantes.append((persona, nota))\n",
    "\n",
    "tupla_estudiantes = tuple(estudiantes)\n",
    "        \n",
    "print(tupla_estudiantes)\n",
    "estudiantes[0][0] = '10'"
   ]
  },
  {
   "cell_type": "markdown",
   "metadata": {},
   "source": [
    "## Problema 5"
   ]
  },
  {
   "cell_type": "markdown",
   "metadata": {},
   "source": [
    "Una empresa de logística no sabe como organizar sus camiones para poder ser cargados con encomiendas. El sistema de carga funciona de la siguiente manera, el primer camión en espera será el que se llevará la última encomienda envasada. La empresa te proporciona dos archivos en los cuales tiene el orden de los camiones ordenados desde el primero que llegó al ultimo y los pedidos ordenados desde el primer envasado hasta el ultimo. Debes utilizar dos estructuras de datos tal que al momento de despachar a un camión se cumplan los requerimientos de la empresa."
   ]
  },
  {
   "cell_type": "code",
   "execution_count": null,
   "metadata": {},
   "outputs": [],
   "source": [
    "from collections import deque\n",
    "\n",
    "camiones = deque()\n",
    "encomiendas = list()\n",
    "\n",
    "with open('camiones.txt', 'r') as archivo_camiones:\n",
    "    for camion in archivo_camiones:\n",
    "        camiones.append(camion.strip())\n",
    "        \n",
    "\n",
    "with open('encomiendas.txt', 'r') as archivo_encom:\n",
    "    for encomienda in archivo_encom:\n",
    "        encomiendas.append(encomienda.strip())\n",
    "\n",
    "def despachar_camiones(camiones, encomiendas):\n",
    "    while camiones and encomiendas:\n",
    "        camion_actual = camiones.popleft()\n",
    "        encomienda_actual = encomiendas.pop()\n",
    "        print(f\"El camión #{camion_actual} se lleva la encomienda envasada a las {encomienda_actual}\")\n",
    "\n",
    "despachar_camiones(camiones, encomiendas)"
   ]
  },
  {
   "cell_type": "markdown",
   "metadata": {},
   "source": [
    "## Problema 6"
   ]
  },
  {
   "cell_type": "markdown",
   "metadata": {},
   "source": [
    "Te pidieron hackear la base de datos de _Spontify_, y para eso se te pide que utilices una estructura adecuada que te permita guardar los nombres de las últimas canciones escuchadas por sus usuarios. Para esto, sabes que cada usuario es único y esta guardado de la forma usuario;canción. Luego, te pedirán consultas como:\n",
    "- ¿Qué canciones han escuchado dos usuarios?\n",
    "- ¿Qué canciones ha escuchado un usuario que no ha escuchado el otro?"
   ]
  },
  {
   "cell_type": "code",
   "execution_count": null,
   "metadata": {},
   "outputs": [],
   "source": [
    "from collections import defaultdict\n",
    "\n",
    "canciones_usuarios = defaultdict(set)\n",
    "\n",
    "with open(\"canciones.txt\", 'r') as archivo:\n",
    "    for linea in archivo:\n",
    "        usuario, cancion = linea.strip().split(\";\")\n",
    "        canciones_usuarios[usuario].add(cancion)"
   ]
  }
 ],
 "metadata": {
  "kernelspec": {
   "display_name": "Python 3",
   "language": "python",
   "name": "python3"
  },
  "language_info": {
   "codemirror_mode": {
    "name": "ipython",
    "version": 3
   },
   "file_extension": ".py",
   "mimetype": "text/x-python",
   "name": "python",
   "nbconvert_exporter": "python",
   "pygments_lexer": "ipython3",
   "version": "3.6.8"
  }
 },
 "nbformat": 4,
 "nbformat_minor": 2
}
