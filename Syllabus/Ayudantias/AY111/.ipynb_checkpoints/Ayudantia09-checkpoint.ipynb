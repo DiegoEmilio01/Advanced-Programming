{
 "cells": [
  {
   "cell_type": "markdown",
   "metadata": {},
   "source": [
    "# Ayudantía 0b111 : I/O + Serialización + Regex\n",
    "## Autores: [@jjaguillon](https://github.com/jjaguillon) & [@csantiagopaz](https://github.com/csantiagopaz)"
   ]
  },
  {
   "cell_type": "markdown",
   "metadata": {},
   "source": [
    "Esta ayudantía tiene dos partes, un pequeño resumen de la materia de la semana y ejercicios con material audiovisual complementario."
   ]
  },
  {
   "cell_type": "markdown",
   "metadata": {},
   "source": [
    "# Resumen"
   ]
  },
  {
   "cell_type": "markdown",
   "metadata": {},
   "source": [
    "## Serialización\n",
    "\n",
    "### ¿Que significa serializar?\n",
    "   Serializar es transformar un objeto en una secuencia o serie de *bytes*. Con eso tenemos la información en un estado de forma persistente, lo que sirve para enviar el objeto a otros computadores y programas.\n"
   ]
  },
  {
   "cell_type": "markdown",
   "metadata": {},
   "source": [
    "## JSON\n",
    "### ¿Que es JSON?\n",
    "JSON es un formato estándar de intercambio de datos que puede ser interpretado por muchos lenguajes, resumiendo es una forma de serealizar.\n",
    "\n",
    "Este formato es limitado, pues permite serializar solamente algunos objetos específicos como strings y diccionarios, sin embargo es legible por humanos."
   ]
  },
  {
   "cell_type": "markdown",
   "metadata": {},
   "source": [
    "## Pickle\n",
    "### ¿Que es Pickle?\n",
    "\n",
    "Pickle es un formato específico de Python de serialización. Debido a esto, permite serializar cualquier objeto de python, sin embargo no puede ser leído por otros lenguajes de programación ni por humanos.\n",
    "\n",
    "Debido a lo anterior, es posible incluír código malicioso en un programa que utiliza pickle, por lo que **NO** deberías ejecutar código que incluya pickle si es que no confías en su origen."
   ]
  },
  {
   "cell_type": "markdown",
   "metadata": {},
   "source": [
    "## Pickle vs JSON\n",
    "![Resumen](imgs/resumen.png)"
   ]
  },
  {
   "cell_type": "markdown",
   "metadata": {},
   "source": [
    "## *Bytes*\n"
   ]
  },
  {
   "cell_type": "markdown",
   "metadata": {},
   "source": [
    "### ¿Qué es un *byte*?\n",
    "\n",
    "Es una unidad de información utilizada en computación, tal que tu computador pueda interpretar y entregarte esa información.\n",
    "\n",
    "Tal como medimos la naturaleza mediante unidades de medida (gramos, litros, Newton, etc.), el *byte* lo utilizamos para medir el tamaño de los archivos de un computador.\n",
    "\n",
    "**Para mayor información de como el computador interpreta esta info, puede tomar el curso IIC2343 Arquitectura de Computadores**"
   ]
  },
  {
   "cell_type": "markdown",
   "metadata": {},
   "source": [
    "### *Bytes* en IIC2233 \n",
    "\n",
    "En el curso, se les solicitará que puedan utilizar el lenguaje Python para leer y manejar esta unidad de información como si fuera un dato, tal como un string, int, list, etc."
   ]
  },
  {
   "cell_type": "markdown",
   "metadata": {},
   "source": [
    "### Modo bytes en open()\n",
    "\n",
    "En Python podrán leer y escribir archivos en modo bytes.\n",
    "\n",
    "¿Qué permite eso? Leer archivos que no son de texto, por ejemplo: imágenes, videos, audio, etc. Y trabajar con sus bytes"
   ]
  },
  {
   "cell_type": "code",
   "execution_count": null,
   "metadata": {},
   "outputs": [],
   "source": [
    "with open('texto.txt', 'r') as text_file:\n",
    "    print(text_file.read())\n",
    "    \n",
    "with open('datos.bin', 'rb') as byte_file:\n",
    "    print(byte_file.read())"
   ]
  },
  {
   "cell_type": "markdown",
   "metadata": {},
   "source": [
    "### bytes() v/s bytearray() \n",
    "\n",
    "En Python existen dos metodos llamados **bytes()** y **bytearray()** que crean estructuras de datos especializadas en bytes.\n",
    "\n",
    "Estos métodos permitirán contener bytes o transformar otros tipos de datos a un objeto de tipo *bytes*.\n",
    "\n",
    "La diferencia entre *bytes* y *bytearrays* es la misma que entre *tuples* y *lists*:\n",
    "\n",
    " - *bytes* y *tuples* son **inmutables**. Mientras que,\n",
    "\n",
    " - *bytearrays* y *lists* son **mutables**."
   ]
  },
  {
   "cell_type": "code",
   "execution_count": null,
   "metadata": {},
   "outputs": [],
   "source": [
    "datos = bytes([1, 12, 133]) #transformo una lista de ints (0 <= x <= 255)\n",
    "print(datos)\n",
    "\n",
    "inversos = bytearray()\n",
    "for i in range(len(datos)-1, -1, -1):\n",
    "    inversos.append(datos[i])\n",
    "\n",
    "print(inversos)"
   ]
  },
  {
   "cell_type": "markdown",
   "metadata": {},
   "source": [
    "### *bytes* a números enteros.\n",
    "\n",
    "Como podemos observar, los bytes podemos tratarlos como un array (lista, tupla), pero también , los bytes los podemos tratar como un número entero."
   ]
  },
  {
   "cell_type": "code",
   "execution_count": null,
   "metadata": {},
   "outputs": [],
   "source": [
    "print(int.from_bytes(b'\\x01\\x01', byteorder='big')) # Utilizaremos el estandar big endian [leer un número de izquierda a derecha]"
   ]
  },
  {
   "cell_type": "markdown",
   "metadata": {},
   "source": [
    "### *bits*\n",
    "\n",
    "**¿Qué es un *bit*?**: es la unidad de información básica de la computación.\n",
    "\n",
    "Un *byte* se compone de 8 *bits*. \n",
    "\n",
    "#### Obtener los *bits* de *bytes*.\n",
    "\n",
    "Para obtener los bits de un byte, debemos realizar el siguiente algoritmo"
   ]
  },
  {
   "cell_type": "code",
   "execution_count": null,
   "metadata": {},
   "outputs": [],
   "source": [
    "un_byte = b'\\x7a'\n",
    "\n",
    "#pasamos de bytes a int\n",
    "int_byte = int.from_bytes(un_byte, 'big')\n",
    "print('1.', int_byte)\n",
    "\n",
    "#transformamos a un string binario\n",
    "bin_byte = bin(int_byte)\n",
    "print('2.', bin_byte)\n",
    "\n",
    "#eliminamos el 0b del formato bin\n",
    "bin_byte = bin_byte[2:]\n",
    "print('3.', bin_byte)\n",
    "\n",
    "#rellenamos con 0 a la izquierda, para ajustar el tamaño a 8 bits.\n",
    "bits_byte = bin_byte.zfill(8)\n",
    "print('4.', bits_byte)"
   ]
  },
  {
   "cell_type": "markdown",
   "metadata": {},
   "source": [
    "## Regex"
   ]
  },
  {
   "cell_type": "markdown",
   "metadata": {},
   "source": [
    "Las \"Expresiones regulares\" o *regex* son una secuencia de caracteres utilizados para la búsqueda de patrones de texto. Estas pueden ser de mucha utilidad, pues te entrega alternativas para analizar y dar formato a texto; una expresión regular se forma utilizando los caracteres que deseas buscar, junto con 3 principales elementos descritos a continuación. "
   ]
  },
  {
   "cell_type": "markdown",
   "metadata": {},
   "source": [
    "Los tres elementos principales que pueden conformar una expresión regular (además de los carácteres que se quieren buscar) son:\n",
    "\n",
    "- Alternación: |\n",
    "- Cuantificación: ? * + {1}\n",
    "- Agrupación: ( )"
   ]
  },
  {
   "cell_type": "markdown",
   "metadata": {},
   "source": [
    "**¿Donde practicar el uso de RegEx?**\n",
    "\n",
    "[https://pythex.org/](https://pythex.org/)"
   ]
  },
  {
   "cell_type": "markdown",
   "metadata": {},
   "source": [
    "# Ejercicios\n",
    "\n",
    "A continuación se encuentran dos ejercicios correspondientes a actividades pasadas. Para complementar su aprendizaje, grabamos una solución de cada uno de estos en video.\n",
    "\n",
    "Sinceramente esperamos que les sirva los videos y la ayudantia. Ánimo y éxito con lo que resta del semestre, los queremos :D"
   ]
  },
  {
   "cell_type": "markdown",
   "metadata": {},
   "source": [
    "## Ejercicio 1: En búsqueda de los contenidos del infinito: Alma\n",
    "\n",
    "Video: https://vimeo.com/372694040"
   ]
  },
  {
   "cell_type": "markdown",
   "metadata": {},
   "source": [
    "Para recuperar el contenido del Alma, debes encontrar un archivo corrupto, arreglarlo y deserializarlo.\n"
   ]
  },
  {
   "cell_type": "markdown",
   "metadata": {},
   "source": [
    "Se te acerca un personaje de extraña reputación, **Red Skullwirth**, y te entrega el siguiente mensaje: ''El contenido del alma tiene cierta sabiduría, para conseguirlo, debes completar la siguiente función''\n",
    "\n",
    "La funcion **obtener_contenido(path_alma)** debe recibir el path del archivo **contenido.alma**, y desencriptarlo utilizando el siguiente algoritmo:"
   ]
  },
  {
   "cell_type": "markdown",
   "metadata": {},
   "source": [
    "1. Leer el archivo completo en forma de *bytes*.\n",
    "2. Deberá obtener pedazos de a 5 *bytes* del archivo y eliminar el máximo de ese *chunk* de *bytes*, ignorando el *chunk* que reste al final.\n",
    "3. Debes sacrificar el último *byte* obtenido del total (es decir, eliminarlo del **bytearray**)\n",
    "\n",
    "Terminado esto, debes escribir los *bytes* resultantes en un archivo nuevo llamado **desencriptado.alma**."
   ]
  },
  {
   "cell_type": "code",
   "execution_count": null,
   "metadata": {},
   "outputs": [],
   "source": [
    "def obtener_contenido(path_alma):\n",
    "    out = bytearray()\n",
    "    with open(path_alma, 'rb') as file:\n",
    "        data = bytearray(file.read())\n",
    "        for i in range(0, len(data), 5):\n",
    "            extracto = data[i:i+5]\n",
    "            extracto.remove(max(extracto))\n",
    "            out.extend(extracto)\n",
    "    out = out[:-1]\n",
    "    with open('desencriptado.alma', 'wb') as out_file:\n",
    "        out_file.write(out)"
   ]
  },
  {
   "cell_type": "markdown",
   "metadata": {},
   "source": [
    "Para obtener el contenido del infinito, deberas cargar la informacion del archivo generado en la funcion anterior mediante algun metodo de deserialización. \n",
    "Este archivo esta serializado en uno de los metodos deserializacion visto en las clases de **Fernando Banner**, el cual debes identificar abriendo el archivo con tu editor de texto."
   ]
  },
  {
   "cell_type": "markdown",
   "metadata": {},
   "source": [
    "Primero deberas completar el metodo de deserialización que corresponda para el tipo de archivo generado (*set_state* u *object_hook*). Este metodo debera filtrar los valores de los parametros del objeto, ys olo mantener aquellos parametros cuyos nombres estan dentro de la tupla **params** (que es una constante entregada). Ademas, el metodo debe agregar el atributo **sacrificio** cuyo valor sera un *string* con lo que usted sacrifico para esta mision (es decir, lo que pudo haber estado haciendo hoy en vez de la actividad)"
   ]
  },
  {
   "cell_type": "markdown",
   "metadata": {},
   "source": [
    "Finalmente, completar la función **deserializar_contenido(path_serializado)** que retornará una instancia de la clase **ContenidoDelInfinito**, mediante alguno de los métodos de serialización descritos."
   ]
  },
  {
   "cell_type": "code",
   "execution_count": null,
   "metadata": {},
   "outputs": [],
   "source": [
    "import os\n",
    "import pickle\n",
    "# import json\n",
    "\n",
    "\n",
    "class ContenidoDelInfinito:\n",
    "    def __init__(self, nombre, semana, contenido):\n",
    "        self.nombre = nombre\n",
    "        self.semana = semana\n",
    "        self.contenido = contenido\n",
    "\n",
    "    def __setstate__(self, state):\n",
    "        '''COMPLETAR SOLO SI ES CORRESPONDIENTE'''\n",
    "        params = ('nombre', 'semana', 'contenido')\n",
    "        state = {key: state[key] for key in params}\n",
    "        state.update({'sacrificio': 'mis sueños y esperanzas en la vida'})\n",
    "        self.__dict__ = state\n",
    "\n",
    "    def __str__(self):\n",
    "        return 'nombre: {} - semana: {} - contenido: {} - sacrificio: {}'.format(\n",
    "            self.nombre,\n",
    "            self.semana,\n",
    "            self.contenido,\n",
    "            self.sacrificio)\n",
    "\n",
    "def contenido_hook(contenido):\n",
    "    '''COMPLETAR SOLO SI ES CORRESPONDIENTE'''\n",
    "    params = ('nombre', 'semana', 'contenido')\n",
    "    # No se completa jeje\n",
    "    pass\n",
    "\n",
    "def deserializar_contenido(path_serializado):\n",
    "    with open(path_serializado, 'rb') as file:\n",
    "        data = pickle.load(file)\n",
    "        return data"
   ]
  },
  {
   "cell_type": "markdown",
   "metadata": {},
   "source": [
    "## Ejercicio 2: YesCo, eliminaron mi arroz\n",
    "\n",
    "Video: https://vimeo.com/372724280"
   ]
  },
  {
   "cell_type": "markdown",
   "metadata": {},
   "source": [
    "YesCo es una empresa alimenticia que crea alimentos muy nutritivos, y han sufrido un ataque en su base de datos.\n",
    "\n",
    "Su base de datos es un archivo de texto **recetas.txt**, que contiene todos alimentos base utilizados para crear sus recetas, pero ahora esta lleno de palabras extrañas que no corresponden a las recetas.\n",
    "\n",
    "Estas palabras inician con la letra **aA** y terminan con la letra **zZ**. Sin embargo, el **Arroz** es un alimento base que es muy utilizado en estas recetas, y temen que sea eliminado, ya que posee las mismas características que estas palabras incorrectas.\n",
    "\n",
    "Se te pide que elimine las palabras que no correspondan a las recetas, o identifique las palabras que si corresponden mediante RegEx, y escribirlas en un nuevo archivo **recetas_new.txt**."
   ]
  },
  {
   "cell_type": "code",
   "execution_count": null,
   "metadata": {},
   "outputs": [],
   "source": [
    "import re\n",
    "\n",
    "#verificamos si la palabra cumple de empezar con aA y terminar con zZ y es distinto de Arroz, si no haces, la guardamos.\n",
    "\n",
    "with open('recetas.txt', \"r\", encoding=\"UTF-8\") as file:\n",
    "    nuevas_recetas = []  # es una lista con todas las nuevas recetas\n",
    "    for line in file:\n",
    "        nueva_receta = []  # es una lista temporaria para verificar si la receta contiene algo\n",
    "        lista_palabras = line.strip().split(\" \")\n",
    "        for palabra in lista_palabras:\n",
    "            if not re.match('(?![a|A]{1}[r|R]{2}[o|O]{1}[z|Z]{1})(^[a|A].*[z|Z]$)', palabra): # esa linea es la más importante\n",
    "# con ella verificamos si Arroz, arroz, aRroz ... etc esta contido(?!) en la palabra y si no (^)empezá con a|A y termina($) con z|Z\n",
    "# ?! eso en verdad seria un NO esta contido, pero como tenemos un if not, doble negación = afirmación\n",
    "                nueva_receta.append(palabra)\n",
    "        if nueva_receta:  #verificamos si resto algun ingrediente en la receta\n",
    "            nueva_receta.append(\"\\n\")\n",
    "            nuevas_recetas.extend(nueva_receta)\n",
    "    with open(\"recetas_new.txt.\", \"w+\") as new_file: #escribimos la nueva receta\n",
    "        new_file.write(\" \".join(nuevas_recetas))\n",
    "        \n",
    "        "
   ]
  }
 ],
 "metadata": {
  "kernelspec": {
   "display_name": "Python 3",
   "language": "python",
   "name": "python3"
  },
  "language_info": {
   "codemirror_mode": {
    "name": "ipython",
    "version": 3
   },
   "file_extension": ".py",
   "mimetype": "text/x-python",
   "name": "python",
   "nbconvert_exporter": "python",
   "pygments_lexer": "ipython3",
   "version": "3.6.8"
  }
 },
 "nbformat": 4,
 "nbformat_minor": 2
}
