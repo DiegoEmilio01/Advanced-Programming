{
 "cells": [
  {
   "cell_type": "markdown",
   "metadata": {
    "colab_type": "text",
    "id": "YgwXRqyd1P9C"
   },
   "source": [
    "# Ayudantía 11:  I/O - Manejo de bytes\n",
    "### Autores: Santiago Laguna (`@santilaguna`) y Benjamín Martínez (`@bimartinez`)\n"
   ]
  },
  {
   "cell_type": "markdown",
   "metadata": {
    "colab_type": "text",
    "id": "YTwbVExUrwfB"
   },
   "source": [
    "## Actividad 11, 2018-1"
   ]
  },
  {
   "cell_type": "markdown",
   "metadata": {
    "colab_type": "text",
    "id": "Ke7im2Xb0IZY"
   },
   "source": [
    "### Manejo de carpetas"
   ]
  },
  {
   "cell_type": "markdown",
   "metadata": {
    "colab_type": "text",
    "id": "y1thcAzOvF7k"
   },
   "source": [
    "Para poder resolver el primer problema, tenemos N carpetas que se encuentran dentro de otras M carpetas. En alguna de estas M X N carpetas se esconderán aleatoriamente dos archivos corruptos: marciano64.png y marcianozurdo.pep. Tu primera misión es encontrar automáticamente el path a cada uno de esos archivos corruptos, para poder leer esos archivos posteriormente"
   ]
  },
  {
   "cell_type": "code",
   "execution_count": null,
   "metadata": {
    "colab": {},
    "colab_type": "code",
    "id": "yxYtLCRb0f_9"
   },
   "outputs": [],
   "source": [
    "import os\n",
    "\n",
    "\n",
    "def encontrar_path(nombre_archivo):\n",
    "    pass"
   ]
  },
  {
   "cell_type": "markdown",
   "metadata": {
    "colab_type": "text",
    "id": "hJNl-5pU0iUb"
   },
   "source": [
    "### Rotar chunks"
   ]
  },
  {
   "cell_type": "markdown",
   "metadata": {
    "colab_type": "text",
    "id": "Woye-H5HGocv"
   },
   "source": [
    "- Este algoritmo se aplica a una sub-secuencia de bytes, que denominaremos chunk. El tamaño de cada chunk se\n",
    "definirá a la hora de juntar los archivos.\n",
    "- El algoritmo consiste en que a cada chunk se le rota un byte a la izquierda, es decir, todos avanzan\n",
    "una posición y el primero pasa a la última posición."
   ]
  },
  {
   "cell_type": "code",
   "execution_count": null,
   "metadata": {
    "colab": {},
    "colab_type": "code",
    "id": "TiTbDlSgAZwW"
   },
   "outputs": [],
   "source": [
    "# De la siguiente forma podemos rotar un chunk\n",
    "# los bytearray tienen muchas funcionalidades en común con las listas\n",
    "def rotar(chunk):\n",
    "    nuevo = chunk[1:]\n",
    "    nuevo.append(chunk[0])\n",
    "    return nuevo"
   ]
  },
  {
   "cell_type": "markdown",
   "metadata": {
    "colab_type": "text",
    "id": "WAISw5CG0e79"
   },
   "source": [
    "### Algoritmo base64\n"
   ]
  },
  {
   "cell_type": "markdown",
   "metadata": {
    "colab_type": "text",
    "id": "D5MGg3W0sQJB"
   },
   "source": [
    "- Este algoritmo se lo debes aplicar a los bytes del archivo **marciano64.png**\n",
    "- Leer los bytes del archivo marciano64.png.\n",
    "- Transformar cada byte a su carácter ASCII correspondiente.\n",
    "- Cada carácter obtenido se cambia por su valor base64 decimal. "
   ]
  },
  {
   "cell_type": "code",
   "execution_count": null,
   "metadata": {
    "colab": {},
    "colab_type": "code",
    "id": "eG2AmwonolkF"
   },
   "outputs": [],
   "source": [
    "import string\n",
    "\n",
    "\n",
    "ARCHIVO_BASE64 = \"marciano64.png\" \n",
    "ARCHIVO_A_ROTAR =  \"marcianozurdo.pep\"\n",
    "cwd = os.getcwd()  # current working directory\n",
    "\n",
    "# todas las letras de base64, mayúsculas, minúsculas, \"+\" y \"/\".\n",
    "mis_letras = string.ascii_uppercase + string.ascii_lowercase\\\n",
    "             + string.digits +  \"+/\"  \n",
    "\n",
    "# para asignar a cada letra el número base64 que le corresponde\n",
    "dict_letras = {mis_letras[i]: i for i in range(len(mis_letras))} "
   ]
  },
  {
   "cell_type": "code",
   "execution_count": null,
   "metadata": {
    "colab": {
     "base_uri": "https://localhost:8080/",
     "height": 338
    },
    "colab_type": "code",
    "id": "rryTGAMW0hmn",
    "outputId": "75acb531-da99-4010-f77b-5dfd87e7ca1a"
   },
   "outputs": [],
   "source": [
    "def algoritmo_base_64(nombre_archivo):\n",
    "    with open(encontrar_path(nombre_archivo) + os.sep \n",
    "              + nombre_archivo, \"rb\") as file:\n",
    "        letras = [chr(byte) for byte in file.read()]  # de ascii a letras\n",
    "        base = [dict_letras[x] for x in letras]\n",
    "        # ahora debemos convertir a binario de 6 bits, recordar el uso de zfill\n",
    "        # luego los concatenamos, para esto debemos convertirlos a string.\n",
    "        binarios = [str(bin(x)[2:].zfill(6)) for x in base]\n",
    "        # también se puede de la siguiente forma\n",
    "        # \"{0:b}\".format(x) > '100101'\n",
    "        unidos = \"\".join(binarios)\n",
    "        # dividimos en grupos de 8 bits.\n",
    "        i = 0\n",
    "        cadena = []\n",
    "        while i < len(unidos):\n",
    "            cadena.append(unidos[i: i + 8])\n",
    "            i += 8\n",
    "        # convertimos los binarios de 8 bits a sus equivalentes en decimales\n",
    "        # guardaremos el entero con base 2 (binaria)\n",
    "        return [int(binario, 2) for binario in cadena]"
   ]
  },
  {
   "cell_type": "markdown",
   "metadata": {
    "colab_type": "text",
    "id": "JEQRz3MMAaOq"
   },
   "source": [
    "### Juntamos los archivos"
   ]
  },
  {
   "cell_type": "markdown",
   "metadata": {
    "colab_type": "text",
    "id": "astECUBmKMAl"
   },
   "source": [
    "Para crear este archivo de resultado, debes juntar chunks de ambos archivos en un bytearray. Estos se\n",
    "agregarán al bytearray de manera intercalada partiendo por el archivo marcianozurdo.pep, de la siguiente\n",
    "manera:\n",
    ">- chunk 1: Aplicar algoritmo 2 al primer chunk del archivo marcianozurdo.pep, y agregar el resultado al bytearray.\n",
    ">- chunk 2: Agregar el primer chunk del archivo marciano64.png, y agregar el resultado al bytearray.\n",
    ">- ..."
   ]
  },
  {
   "cell_type": "code",
   "execution_count": null,
   "metadata": {
    "colab": {},
    "colab_type": "code",
    "id": "J_yYPMgeAE14"
   },
   "outputs": [],
   "source": [
    "def generador_size():\n",
    "    \"\"\"fibonacci generator\"\"\"\n",
    "    a, b = 1, 1\n",
    "    while True:\n",
    "        yield a\n",
    "        a, b = b, a + b"
   ]
  },
  {
   "cell_type": "code",
   "execution_count": null,
   "metadata": {
    "colab": {},
    "colab_type": "code",
    "id": "QgyiW4IA0i9m"
   },
   "outputs": [],
   "source": [
    "def juntar(archivo_64, archivo_a_rotar):\n",
    "    # abrimos los archivos respectivos\n",
    "    base_64 = algoritmo_base_64(archivo_64)\n",
    "    with open(encontrar_path(archivo_a_rotar) + os.sep \n",
    "              + archivo_a_rotar, \"rb\") as file:\n",
    "        por_rotar = file.read()\n",
    "    # creamos un bytearray que será el archivo de resultado que escribiremos\n",
    "    array = bytearray()\n",
    "    # inicializamos el generador fibonacci para el tamaño de los chunks\n",
    "    fib = generador_size()\n",
    "    inico = 0\n",
    "    fin = len(base_64) + len(por_rotar)\n",
    "    while inico < fin:\n",
    "        # rotamos un chunk\n",
    "        size = next(fib)\n",
    "        chunk = rotar(bytearray(por_rotar[:size]))\n",
    "        por_rotar = por_rotar[size:]\n",
    "        # añadimos el chunk del archivo rotado\n",
    "        array.extend(chunk)\n",
    "        inico += size\n",
    "        # añadimos el chunk del archivo en base_64\n",
    "        size = next(fib)\n",
    "        chunk = base_64[:size]\n",
    "        base_64 = base_64[size:]\n",
    "        array.extend(chunk)\n",
    "        inico += size\n",
    "    return array"
   ]
  },
  {
   "cell_type": "code",
   "execution_count": null,
   "metadata": {
    "colab": {},
    "colab_type": "code",
    "id": "oiP_x6TLA-JW"
   },
   "outputs": [],
   "source": [
    "def escribir(text, archivo_resultado=\"resultado.png\"):\n",
    "    \"\"\"escribimos un archivo binario\"\"\"\n",
    "    with open(archivo_resultado, \"wb\") as file:\n",
    "        file.write(text)\n",
    "\n",
    "escribir(juntar(ARCHIVO_BASE64, ARCHIVO_A_ROTAR))"
   ]
  }
 ],
 "metadata": {
  "colab": {
   "name": "Solucion_AY11.ipynb",
   "provenance": [],
   "toc_visible": true,
   "version": "0.3.2"
  },
  "kernelspec": {
   "display_name": "Python 3",
   "language": "python",
   "name": "python3"
  },
  "language_info": {
   "codemirror_mode": {
    "name": "ipython",
    "version": 3
   },
   "file_extension": ".py",
   "mimetype": "text/x-python",
   "name": "python",
   "nbconvert_exporter": "python",
   "pygments_lexer": "ipython3",
   "version": "3.6.8"
  }
 },
 "nbformat": 4,
 "nbformat_minor": 1
}
