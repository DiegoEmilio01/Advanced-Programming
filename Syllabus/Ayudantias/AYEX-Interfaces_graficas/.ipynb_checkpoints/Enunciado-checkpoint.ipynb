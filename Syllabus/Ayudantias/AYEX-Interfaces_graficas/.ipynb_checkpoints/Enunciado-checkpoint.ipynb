{
 "cells": [
  {
   "cell_type": "markdown",
   "metadata": {
    "slideshow": {
     "slide_type": "slide"
    }
   },
   "source": [
    "# Ayudantía Extra - Interfaces gráficas."
   ]
  },
  {
   "cell_type": "markdown",
   "metadata": {
    "slideshow": {
     "slide_type": "slide"
    }
   },
   "source": [
    "Para esta ayudantía, deberas implementar un pequeño juego 2D. Este juego contara con un menú de inicio y una ventana principal.\n",
    "\n",
    "A continuación se muestra una referencia de como debería verse el juego terminado.\n",
    "\n",
    "![alt text][captura]\n",
    "\n",
    "[captura]: Captura.png \"Captura Juego\""
   ]
  },
  {
   "cell_type": "markdown",
   "metadata": {
    "slideshow": {
     "slide_type": "subslide"
    }
   },
   "source": [
    "### Menú de Inicio:\n",
    "\n",
    "La primera ventana del juego será un menu de inicio. Esta ventana posee un boton que al apretarlo incrementará un contador, y cuando el contador supere el número 5 se iniciará el juego."
   ]
  },
  {
   "cell_type": "markdown",
   "metadata": {
    "slideshow": {
     "slide_type": "subslide"
    }
   },
   "source": [
    "### Ventana de Juego:\n",
    "\n",
    "El juego a programar es simple, consiste en un personaje que se mueve a lo largo de un mapa 2D y sigue algunas reglas básicas. Se debe implementar lo siguiente:\n",
    "\n",
    "* Con las teclas `A` y `D` se debe mover horizontalmente al personaje, respentando los bordes de la ventana.\n",
    "* Con la tecla `S` el personaje debe agacharse y debe mantenerse en esta posición hasta soltar la tecla.\n",
    "* Con la tecla `SPACE` se debe hacer saltar el personaje, considera que debe existir gravedad y solamente se puede saltar si el personaje está tocando el suelo.\n",
    "* Se debe agregar dinamismo al personaje, es decir, cada vez que este se mueva, debe existir una animación. Lo anterior puede hacerse mediante el uso de **sprites**."
   ]
  }
 ],
 "metadata": {
  "celltoolbar": "Slideshow",
  "kernelspec": {
   "display_name": "Python 3",
   "language": "python",
   "name": "python3"
  },
  "language_info": {
   "codemirror_mode": {
    "name": "ipython",
    "version": 3
   },
   "file_extension": ".py",
   "mimetype": "text/x-python",
   "name": "python",
   "nbconvert_exporter": "python",
   "pygments_lexer": "ipython3",
   "version": "3.6.8"
  }
 },
 "nbformat": 4,
 "nbformat_minor": 2
}
