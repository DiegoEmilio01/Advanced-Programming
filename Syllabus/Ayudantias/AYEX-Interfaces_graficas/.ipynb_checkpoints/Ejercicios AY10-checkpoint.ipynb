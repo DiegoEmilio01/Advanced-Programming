{
 "cells": [
  {
   "cell_type": "markdown",
   "metadata": {},
   "source": [
    "# Ejercicios de Práctica\n",
    "\n",
    "Estos son algunos pocos ejercicios para que practiquen la materia de esta semana.\n",
    "\n",
    "Los \"enunciados\" serán hechos de instrucciones explícitas para que puedan guiarse fácilmente. Si tienen dudas, repasen la materia, busquen en Google y, si persiste, no duden en publicar una Issue.\n",
    "\n",
    "Se recomienda que hagan estos ejercicios en su editor de texto habitual, Jupyter probablemente les tire problemas con las interfaces gráficas :(\n",
    "\n",
    "-----"
   ]
  },
  {
   "cell_type": "code",
   "execution_count": null,
   "metadata": {},
   "outputs": [],
   "source": [
    "#Algunos imports nescesarios\n",
    "import sys\n",
    "from PyQt5.QtWidgets import QWidget, QApplication, QPushButton, QLabel, QLineEdit, QHBoxLayout, QVBoxLayout\n",
    "from PyQt5.QtCore import pyqtSignal\n",
    "from PyQt5.QtGui import QPixmap"
   ]
  },
  {
   "cell_type": "markdown",
   "metadata": {},
   "source": [
    "\n",
    "\n",
    "## Ejercicio 1\n",
    "\n",
    "Para este primer ejercicio debes crear una ventana con `QWidget` la cual simplemente tendrá que tener un `QLabel` el cual diga \"Amo progra avanzada\"."
   ]
  },
  {
   "cell_type": "code",
   "execution_count": null,
   "metadata": {},
   "outputs": [],
   "source": []
  },
  {
   "cell_type": "markdown",
   "metadata": {},
   "source": [
    "## Ejercicio 2\n",
    "\n",
    "Ahora comenzaremos a introducir la noción de `backend` el cual en nuestros programas con interfaz gráfica, será el encargado de manejar la lógica. \n",
    "\n",
    "Para esto debes crear un `QPushButton` y un `QLabel` que comience en 0, cada vez que se aprete el botón el label deberá aumentar en 1 su valor. Recuerda `backend` y `frontend` se comunican a través de `QtCore.pyqtSignal`."
   ]
  },
  {
   "cell_type": "code",
   "execution_count": null,
   "metadata": {},
   "outputs": [],
   "source": []
  },
  {
   "cell_type": "markdown",
   "metadata": {},
   "source": [
    "## Ejercicio 3\n",
    "\n",
    "Ahora por úlitmo, debes agregarle un fondo a tu aplicación contadora, esto lo lograrás con `QPixmap` el cual cargará la imagen a tu programa y `setPixmap` que se encargará de lucirla en tu aplicación."
   ]
  },
  {
   "cell_type": "code",
   "execution_count": null,
   "metadata": {},
   "outputs": [],
   "source": []
  }
 ],
 "metadata": {
  "kernelspec": {
   "display_name": "Python 3",
   "language": "python",
   "name": "python3"
  },
  "language_info": {
   "codemirror_mode": {
    "name": "ipython",
    "version": 3
   },
   "file_extension": ".py",
   "mimetype": "text/x-python",
   "name": "python",
   "nbconvert_exporter": "python",
   "pygments_lexer": "ipython3",
   "version": "3.6.8"
  }
 },
 "nbformat": 4,
 "nbformat_minor": 2
}
