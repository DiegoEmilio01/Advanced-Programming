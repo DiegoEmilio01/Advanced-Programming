{
 "cells": [
  {
   "cell_type": "markdown",
   "metadata": {},
   "source": [
    "## Ayudantía 06 - Grafos\n",
    "Autores: Benjamín Martínez (`@bimartinez`) y Matías Oportus (`@matioprts`)"
   ]
  },
  {
   "cell_type": "markdown",
   "metadata": {},
   "source": [
    "En esta ayudantía veremos qué es un grafo, sus propiedades, cómo recorrerlos y cómo podemos utilizarlo para modelar problemas reales."
   ]
  },
  {
   "cell_type": "markdown",
   "metadata": {},
   "source": [
    "## Mapa Interdimensional - (AC03 2018-1)"
   ]
  },
  {
   "cell_type": "markdown",
   "metadata": {},
   "source": [
    "Luego de una discusión con un familiar, tomas tu pistola interdimensional y huyes lo más lejos que puedes. Lamentablemente, caíste en el peor lugar posible y no puedes ir directo a casa porque tiraste la pistola, haciendo que trace una serie de rutas interconectadas que pueden llevarte a casa o a la muerte. Por suerte, tienes acceso a un conveniente (pero arcaico) computador con Python que puedes utilizar para encontrar el camino a casa.\n",
    "\n",
    "A continuación, se presenta un ejemplo de la relación que se crea a partir de las líneas de código entregadas para probar el programa."
   ]
  },
  {
   "cell_type": "markdown",
   "metadata": {},
   "source": [
    "<img src=\"img/grafo_actividad.png\" width=\"800\" style=\"float: middle;\"/>"
   ]
  },
  {
   "cell_type": "code",
   "execution_count": null,
   "metadata": {},
   "outputs": [],
   "source": [
    "from collections import defaultdict, deque\n",
    "\n",
    "\n",
    "class Nodo:\n",
    "    def __init__(self, valor):\n",
    "        self.valor = valor\n",
    "        self.vecinos = set()\n",
    "\n",
    "    def agregar_vecino(self, vecino):\n",
    "        self.vecinos.add(vecino)\n",
    "\n",
    "    def eliminar_vecino(self, vecino):\n",
    "        self.vecinos.remove(vecino)\n",
    "\n",
    "    def __repr__(self):\n",
    "        return f'Nodo {self.valor}'\n",
    "\n",
    "class Grafo:\n",
    "    def __init__(self):\n",
    "        self.nodos = dict()\n",
    "\n",
    "    def crear_nodo(self, valor):\n",
    "        if not self.nodos.get(valor):\n",
    "            self.nodos[valor] = Nodo(valor)\n",
    "   \n",
    "    def agregar_conexion(self, origen, destino):\n",
    "        \"\"\"\n",
    "        Recibe como parámetro el nombre del nodo de origen y \n",
    "        el nombre del nodo de destino entre los que se debe crear una conexión\n",
    "        \"\"\"\n",
    "        self.crear_nodo(origen)\n",
    "        self.crear_nodo(destino)\n",
    "        self.nodos[origen].agregar_vecino(self.nodos[destino])\n",
    "\n",
    "    def quitar_conexion(self, origen, destino):\n",
    "        \"\"\"\n",
    "        Recibe el nombre del nodo de origen y del nodo de destino al cual se \n",
    "        eliminará la conexión entre ambos sin borrar las relaciones que pueda \n",
    "        tener el nodo de destino\n",
    "        \"\"\"\n",
    "        self.nodos[origen].eliminar_vecino(self.nodos[destino])\n",
    "\n",
    "    def encontrar_camino(self, origen, destino):\n",
    "        \"\"\"\n",
    "        Recibe el nombre del nodo de origen y del nodo destino para retornar True \n",
    "        en caso de que exista un camino entre los nodos, y False en caso contrario\n",
    "        \"\"\"\n",
    "        visitados = set()  # Guardamos los nodos ya visitados\n",
    "        stack = [self.nodos[origen]]  # Ordena el recorrido con un stack\n",
    "\n",
    "        boolean = False\n",
    "\n",
    "        while len(stack) > 0:  # Mientras queden nodos visitables\n",
    "            nodo_actual = stack.pop()  # Sacamos el último agregado\n",
    "            if nodo_actual not in visitados:  # Importante check visitados\n",
    "                visitados.add(nodo_actual)  # Registramos como visitado\n",
    "                if nodo_actual.valor == destino:  # Check llegamos al destino\n",
    "                    boolean = True\n",
    "                    break\n",
    "                # Vecinos del nodo actual\n",
    "                for vecino in nodo_actual.vecinos:\n",
    "                    if vecino not in visitados:  # Importante check visitados x2\n",
    "                        stack.append(vecino)  # Agregamos vecinos al stack\n",
    "\n",
    "        return boolean  # Retornamos lo que estamos buscando\n",
    "\n",
    "    def encontrar_intermediario(self, origen, destino):\n",
    "        visitados = set()  # Guardamos los nodos ya visitados\n",
    "        nodo_origen = self.nodos[origen]\n",
    "        cola = deque([nodo_origen])  # Ordena el recorrido con un deque\n",
    "\n",
    "        intermediarios = list()  # Guardamos una lista de nodos intermediarios\n",
    "        check = set(nodo_origen.vecinos)  # Creamos condición para el while\n",
    "        check.add(nodo_origen)\n",
    "\n",
    "        while visitados != check:  # Mientras queden nodos visitables\n",
    "            nodo_actual = cola.popleft()  # Sacamos el primero en la cola\n",
    "            if nodo_actual not in visitados:  # Importante check visitados\n",
    "                visitados.add(nodo_actual)  # Registramos como visitado\n",
    "                if nodo_actual in self.nodos[destino].vecinos:\n",
    "                    intermediarios.append(nodo_actual)\n",
    "                # Vecinos del nodo actual\n",
    "                for vecino in nodo_actual.vecinos:\n",
    "                    if vecino not in visitados:  # Importante check visitados x2\n",
    "                        cola.append(vecino)  # Agregamos vecinos a la cola\n",
    "\n",
    "        return intermediarios  # Retornamos lo que estamos buscando\n",
    "\n",
    "    def encontrar_camino_corto(self, origen, destino, camino=None):\n",
    "        \"\"\"\n",
    "        Recibe el nombre del nodo de origen y del nodo de destino, retorna una lista \n",
    "        con el nombre de los nodos intermedios entre origen y destino, si es que existen.\n",
    "        \"\"\"\n",
    "        camino = list() if camino is None else camino  # Importante NONE\n",
    "        nodo_origen = self.nodos[origen]\n",
    "        camino = camino + [nodo_origen]  # Agregamos el nodo actual al camino\n",
    "        if origen == destino:  # Check que llegamos al destino\n",
    "            return camino  # Retornamos lo que estamos buscando con la condición\n",
    "        camino_corto = None\n",
    "        for nodo in nodo_origen.vecinos:  # Vecinos del nodo actual\n",
    "            if nodo not in camino:  # Importante check camino\n",
    "                # Comenzamos recursión\n",
    "                camino_recursion = self.encontrar_camino_corto(\n",
    "                    nodo.valor, destino, camino)\n",
    "                if camino_recursion:  # Si encontramos un camino\n",
    "                    if not camino_corto or len(camino_recursion) < len(camino_corto):\n",
    "                        # Si el camino encontrado es mas corto que el camino_corto\n",
    "                        camino_corto = camino_recursion\n",
    "\n",
    "        return camino_corto  # Retornamos lo que estamos buscando\n",
    "\n",
    "    def __repr__(self):\n",
    "        data = [f'Nodo: {nodo.valor} --> {list(nodo.vecinos)}' for llave, nodo in self.nodos.items()]\n",
    "        return '\\n'.join(data)"
   ]
  },
  {
   "cell_type": "markdown",
   "metadata": {},
   "source": [
    "### Prueba el código con los siguientes ejemplos:"
   ]
  },
  {
   "cell_type": "code",
   "execution_count": null,
   "metadata": {},
   "outputs": [],
   "source": [
    "grafo = Grafo()\n",
    "grafo.agregar_conexion('A', 'B')\n",
    "grafo.agregar_conexion('A', 'C')\n",
    "grafo.agregar_conexion('B', 'D')\n",
    "grafo.agregar_conexion('B', 'E')\n",
    "grafo.agregar_conexion('D', 'E')\n",
    "grafo.agregar_conexion('E', 'C')\n",
    "print(grafo.encontrar_camino(\"A\", \"C\"))  # True\n",
    "print(grafo.encontrar_camino(\"B\", \"A\"))  # False\n",
    "print(grafo.encontrar_camino_corto(\"A\", \"E\"))  # [A, B, E]\n",
    "print(grafo.encontrar_camino_corto(\"A\", \"C\"))  # [A, C]"
   ]
  },
  {
   "cell_type": "markdown",
   "metadata": {},
   "source": [
    "## ¡Por favor! recuerden llenar el feedback de la ayudantía [aquí](https://docs.google.com/forms/d/e/1FAIpQLSfPFwzIpuF8ZnJe8ONgQkZKDCSjoMjxBBDIA3o35YI2FXkNNQ/viewform?usp=sf_link) :)"
   ]
  }
 ],
 "metadata": {
  "kernelspec": {
   "display_name": "Python 3",
   "language": "python",
   "name": "python3"
  },
  "language_info": {
   "codemirror_mode": {
    "name": "ipython",
    "version": 3
   },
   "file_extension": ".py",
   "mimetype": "text/x-python",
   "name": "python",
   "nbconvert_exporter": "python",
   "pygments_lexer": "ipython3",
   "version": "3.6.8"
  }
 },
 "nbformat": 4,
 "nbformat_minor": 2
}
