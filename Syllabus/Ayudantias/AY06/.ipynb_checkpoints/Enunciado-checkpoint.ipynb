{
 "cells": [
  {
   "cell_type": "markdown",
   "metadata": {},
   "source": [
    "## Ayudantía 06 - Grafos\n",
    "Autores: Benjamín Martínez (`@bimartinez`) y Matías Oportus (`@matioprts`)"
   ]
  },
  {
   "cell_type": "markdown",
   "metadata": {},
   "source": [
    "En esta ayudantía veremos qué es un grafo, sus propiedades, cómo recorrerlos y cómo podemos utilizarlo para modelar problemas reales."
   ]
  },
  {
   "cell_type": "markdown",
   "metadata": {},
   "source": [
    "### Repaso Contenidos:\n",
    "\n",
    "* ¿Qué es un nodo?\n",
    "* ¿Qué es un grafo?\n",
    "* ¿Cómo representamos un grafo?\n",
    "* ¿Cómo recorremos un grafo?"
   ]
  },
  {
   "cell_type": "markdown",
   "metadata": {},
   "source": [
    "\n",
    "\n",
    "## Mapa Interdimensional - (AC03 2018-1)"
   ]
  },
  {
   "cell_type": "markdown",
   "metadata": {},
   "source": [
    "Luego de una discusión con un familiar, tomas tu pistola interdimensional y huyes lo más lejos que puedes. Lamentablemente, caíste en el peor lugar posible y no puedes ir directo a casa porque tiraste la pistola, haciendo que trace una serie de rutas interconectadas que pueden llevarte a casa o a la muerte. Por suerte, tienes acceso a un conveniente (pero arcaico) computador con Python que puedes utilizar para encontrar el camino a casa.\n",
    "\n",
    "A continuación, se presenta un ejemplo de la relación que se crea a partir de las líneas de código entregadas para probar el programa."
   ]
  },
  {
   "cell_type": "markdown",
   "metadata": {},
   "source": [
    "<img src=\"img/grafo_actividad.png\" width=\"800\" style=\"float: middle;\"/>"
   ]
  },
  {
   "cell_type": "code",
   "execution_count": null,
   "metadata": {},
   "outputs": [],
   "source": [
    "class Nodo:\n",
    "    def __init__(self, valor):\n",
    "        self.valor = valor\n",
    "        self.vecinos = set()\n",
    "    \n",
    "    def agregar_vecino(self, vecino):\n",
    "        pass\n",
    "\n",
    "    def eliminar_vecino(self, vecino):\n",
    "        pass\n",
    "    \n",
    "    def __repr__(self):\n",
    "        return f'Nodo {self.valor}'\n",
    "\n",
    "class Grafo:\n",
    "    def __init__(self):\n",
    "        self.nodos = dict()\n",
    "\n",
    "    def agregar_conexion(self, origen, destino):\n",
    "        \"\"\"\n",
    "        Recibe como parámetro el nombre del nodo de origen y \n",
    "        el nombre del nodo de destino entre los que se debe crear una conexión\n",
    "        \"\"\"\n",
    "        pass\n",
    "\n",
    "    def quitar_conexion(self, origen, destino):\n",
    "        \"\"\"\n",
    "        Recibe el nombre del nodo de origen y del nodo de destino al cual se \n",
    "        eliminará la conexión entre ambos sin borrar las relaciones que pueda \n",
    "        tener el nodo de destino\n",
    "        \"\"\"\n",
    "        pass\n",
    "\n",
    "    def encontrar_camino(self, origen, destino):\n",
    "        \"\"\"\n",
    "        Recibe el nombre del nodo de origen y del nodo destino para retornar True \n",
    "        en caso de que exista un camino entre los nodos, y False en caso contrario\n",
    "        \"\"\"\n",
    "        pass\n",
    "    \n",
    "    def encontrar_intermediario(self, origen, destino):\n",
    "        \"\"\"\n",
    "        Recibe el nombre del nodo de origen y del nodo de destino, retorna una lista \n",
    "        con el nombre de los nodos intermedios entre origen y destino, si es que existen.\n",
    "        \"\"\"\n",
    "        pass\n",
    "    \n",
    "    def encontrar_camino_corto(self, origen, destino):\n",
    "        \"\"\"\n",
    "        Función recursiva, esta recibe el nombre del nodo origen y del nodo destino, \n",
    "        además de la lista camino actual. Debe retornar el camino mas corto entre los \n",
    "        dos nodos, si es que existe.\n",
    "        \"\"\"\n",
    "        pass\n",
    "    \n",
    "    def __repr__(self):\n",
    "        data = [\n",
    "            f'Nodo: {nodo.valor} --> {list(nodo.vecinos)}' for llave, nodo in self.nodos.items()]\n",
    "        return '\\n'.join(data)"
   ]
  },
  {
   "cell_type": "markdown",
   "metadata": {},
   "source": [
    "### Prueba el código con los siguientes ejemplos:"
   ]
  },
  {
   "cell_type": "code",
   "execution_count": null,
   "metadata": {},
   "outputs": [],
   "source": [
    "grafo = Grafo()\n",
    "grafo.agregar_conexion('A', 'B')\n",
    "grafo.agregar_conexion('A', 'C')\n",
    "grafo.agregar_conexion('B', 'D')\n",
    "grafo.agregar_conexion('B', 'E')\n",
    "grafo.agregar_conexion('D', 'E')\n",
    "grafo.agregar_conexion('E', 'C')\n",
    "print(grafo.encontrar_camino(\"A\", \"C\"))  # True\n",
    "print(grafo.encontrar_camino(\"B\", \"A\"))  # False\n",
    "print(grafo.encontrar_camino_corto(\"A\", \"E\"))  # [A, B, E]\n",
    "print(grafo.encontrar_camino_corto(\"A\", \"C\"))  # [A, C]"
   ]
  },
  {
   "cell_type": "markdown",
   "metadata": {},
   "source": [
    "## ¡Por favor! recuerden llenar el feedback de la ayudantía [aquí](https://docs.google.com/forms/d/e/1FAIpQLSfPFwzIpuF8ZnJe8ONgQkZKDCSjoMjxBBDIA3o35YI2FXkNNQ/viewform?usp=sf_link) :)"
   ]
  }
 ],
 "metadata": {
  "kernelspec": {
   "display_name": "Python 3",
   "language": "python",
   "name": "python3"
  },
  "language_info": {
   "codemirror_mode": {
    "name": "ipython",
    "version": 3
   },
   "file_extension": ".py",
   "mimetype": "text/x-python",
   "name": "python",
   "nbconvert_exporter": "python",
   "pygments_lexer": "ipython3",
   "version": "3.6.8"
  }
 },
 "nbformat": 4,
 "nbformat_minor": 2
}
