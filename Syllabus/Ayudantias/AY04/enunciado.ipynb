{
 "cells": [
  {
   "cell_type": "markdown",
   "metadata": {},
   "source": [
    "# Ayudantía 04 - Interfaces gráficas\n",
    "__Autores: Pablo Araneda, Nicolás Benítez y Cauã Paz__"
   ]
  },
  {
   "cell_type": "markdown",
   "metadata": {},
   "source": [
    "En esta ayudantia veremos el uso de *interfaces gráficas* utilizando PyQt5. Primero, se dará una noción de la creación de ventanas, botones y el uso de eventos. Luego, se utilizará QtDesigner para diseñar una ventana que sea capaz de mostrar la ventana de **controles** y la del **juego**. Por último, se mostraran algunos métodos importantes del juego creado para la ayudantía."
   ]
  },
  {
   "cell_type": "markdown",
   "metadata": {},
   "source": [
    "## Game Control\n"
   ]
  },
  {
   "cell_type": "markdown",
   "metadata": {},
   "source": [
    "Utilizando los contenidos vistos en **semana06-07**, en particular, **2-elementos-gráficos-básicos** y **3-eventos-y-señales**. Deberás realizar lo que se detalla a continuación.\n",
    "\n",
    "Con los sprites que se encuentran en **sprites_game_control** deberás crear una ventana que tenga lo siguiente:\n",
    "* Contenga los botones A, S, W y D sin presionar como estado inicial.\n",
    "* Que al presionar los botones respectivos su imagen cambie a la de estado *pressed*."
   ]
  },
  {
   "cell_type": "markdown",
   "metadata": {},
   "source": [
    "Así se debe ver el estado inicial:\n",
    "![](img/initial_state.png)"
   ]
  },
  {
   "cell_type": "markdown",
   "metadata": {},
   "source": [
    "Así se debe ver el estado *pressed*:\n",
    "![](img/pressed_state.png)"
   ]
  },
  {
   "cell_type": "markdown",
   "metadata": {},
   "source": [
    "## QtDesigner"
   ]
  },
  {
   "cell_type": "markdown",
   "metadata": {},
   "source": [
    "Debes crear una ventana en **QtDesigner** que sea capaz de realizar **tres** funciones:\n",
    "* Redirigir a la ventana de controles.\n",
    "* Redirigir a la ventana de juego.\n",
    "* Salir del programa.\n",
    "\n",
    "Para lo anterior, debes crear tres botones que realicen cada acción y luego asociar su estado *clickeado* con la apertura de las ventanas indicadas. Para instanciar esta ventana es necesario modificar el archivo **main.py**.\n",
    "\n",
    "Además, deberás habilitar la posibilidad de salir con la letra **E**, ir a GameControl con la letra **C** y por último ir al juego con la letra **G**.\n",
    "\n",
    "La idea es que quede una ventana de la siguiente forma:"
   ]
  },
  {
   "cell_type": "markdown",
   "metadata": {},
   "source": [
    "![](img/main_window.png)"
   ]
  },
  {
   "cell_type": "markdown",
   "metadata": {},
   "source": [
    "## Propuesto: Juego Anaconda (Snake)"
   ]
  },
  {
   "cell_type": "markdown",
   "metadata": {},
   "source": [
    "Debes crear una ventana de juego en el que se mueva una serpiente, la cual:\n",
    "* Tenga la arquitectura frontend-backend\n",
    "    * Por lo que deberás usar las pyqtSignal\n",
    "* Pueda mover a la anaconda con las teclas W,A,S,D\n",
    "    * Para ello necesitarás el keyPressEvent de una ventana\n",
    "* Haga que la anaconda no se salga de la pantalla\n",
    "    * Para ello deberás usar las properties para ver cuando el valor de las coordenadas se salgan de las dimensiones del mapa\n",
    "\n",
    "Si deseas le puedes agregar mas funcionalidades:\n",
    "* Tener un ente (QThread) que cree librerías \n",
    "    * Que la anaconda se pueda comer las librerías\n",
    "* Hacer que el movimiento sea el apropiado para un juego de snake (es decir, que si presionas una tecla, que la serpienta siga en esa direccion hasta que oprimas otra)\n",
    "    * Para esto deberás tener un QThread que se encarge de ello\n",
    "\n",
    "Para esta parte puedes hacer uso de los sprites que están en la carpeta **sprites_game**.\n",
    "\n",
    "A continuación se muestra una imagen de cómo debería verse idealmente:"
   ]
  },
  {
   "cell_type": "markdown",
   "metadata": {},
   "source": [
    "![](img/snake.png)"
   ]
  }
 ],
 "metadata": {
  "kernelspec": {
   "display_name": "Python 3",
   "language": "python",
   "name": "python3"
  },
  "language_info": {
   "codemirror_mode": {
    "name": "ipython",
    "version": 3
   },
   "file_extension": ".py",
   "mimetype": "text/x-python",
   "name": "python",
   "nbconvert_exporter": "python",
   "pygments_lexer": "ipython3",
   "version": "3.6.8"
  }
 },
 "nbformat": 4,
 "nbformat_minor": 2
}
