{
 "cells": [
  {
   "cell_type": "markdown",
   "metadata": {},
   "source": [
    "# Ayudantía 05 - Árboles y Listas Ligadas\n",
    "__Autores: Benjamín Murtagh ([@bmurtagh01](https://github.com/bmurtagh01)) e Ian Basly ([@igbasly](https://github.com/igbasly))__"
   ]
  },
  {
   "cell_type": "markdown",
   "metadata": {},
   "source": [
    "## DCCableling"
   ]
  },
  {
   "cell_type": "markdown",
   "metadata": {},
   "source": [
    "Luego de que el **PhD. Pinto** fue derrotado, el malvado Doctor Valdivieso cansado del exilio, le propuso robar todos los cables del sistema eléctrico de Chile para construir el gran Olvida-inador, un artefacto capaz de borrar cualquier leguaje de programación de la mente de las personas."
   ]
  },
  {
   "cell_type": "markdown",
   "metadata": {},
   "source": [
    "<img src=\"files/logo_pynel.png\" alt=\"drawing\" width=\"300\"/>Es por esto, que Pynel ha elegido a los grandes estudiantes del IIC2233 para modelar la reconstrucción del sistema mediante el DCCableling, así poder restablecer el sistema el ́ectrico y hackear la malévola máquina para iniciar su autodestrucción."
   ]
  },
  {
   "cell_type": "markdown",
   "metadata": {},
   "source": [
    "### Sistemas eléctricos"
   ]
  },
  {
   "cell_type": "markdown",
   "metadata": {},
   "source": [
    "Cada sistema eléctrico está modelado en forma de árboles, donde cada nodo es una instalación del sistema. Estás instalaciones se encuentran en el orden jerarquico: **Central generadora, Distribuidora regional, Distribuidora comunal, Casa.** Donde la Central generadora es el nodo raaíz del sistema."
   ]
  },
  {
   "cell_type": "markdown",
   "metadata": {},
   "source": [
    "<img src=\"files/arbol.png\" alt=\"drawing\" width=\"900\"/>"
   ]
  },
  {
   "cell_type": "markdown",
   "metadata": {},
   "source": [
    "Cada instalación posee los siguientes atributos:\n",
    "- **`self.tip`**: *string* que indica el tipo de instalción.**\"Generadora\", \"Distribuidora Regional\", \"Distribuidora Comunal\" o \"Casa\".**\n",
    "- **`self.region`**: *string* con la región en la que se encuentra la instalación.\n",
    "- **`self.comuna`:** *string* con la comuna en la que se encuentra la instalación.\n",
    "- **`self.hijos`:** *list* para contener a los hijos que dependen directamente de ella.\n",
    "- **`self.energia`**: *float* con la energía que posee la instalación al comienzo.\n",
    "- **`self.consumo`:** *float* que representa la cantidad de energía utilizada por la instalción.\n"
   ]
  },
  {
   "cell_type": "markdown",
   "metadata": {},
   "source": [
    "### Aramado del sistema"
   ]
  },
  {
   "cell_type": "markdown",
   "metadata": {},
   "source": [
    "Para el sistema, lo primero que se crea es la **Central generadora**, quien se encaraga de recibir todas las nuevas instalaciones. Cada instalación se comporta de igual manera para recibir instalaciones, si la instalación que está recibiendo es del nivel jerarquico **directamente siguiente**, entonces la conecta como hija.\n",
    "En caso que no se cumpla lo anterior, entonces debe elegir uno de sus hijos para entregarle la nueva instalación. Esta selección se hace en base a las caracteristicas geográficas de la instalación, en el caso de las Distribuidoras regionales buscarán una coincidencia en la **región**, en cambio, las Distribuidoras Comunales en la **comuna** de la nueva instalación. Así hasta que la nueva instalación llegue a su lugar.\n",
    "\n",
    "Un ejemplo:\n",
    "<img src=\"files/ejemplo.png\" alt=\"drawing\" width=\"900\"/>"
   ]
  },
  {
   "cell_type": "markdown",
   "metadata": {},
   "source": [
    "Al agregar esta nueva casa, se debe buscar primero la Distribuidora regional de su región y luego la Distribuidora comunal de su comuna, donde quedará finalmente ubicada."
   ]
  },
  {
   "cell_type": "markdown",
   "metadata": {},
   "source": [
    "### Métodos"
   ]
  },
  {
   "cell_type": "code",
   "execution_count": null,
   "metadata": {},
   "outputs": [],
   "source": [
    "def agregar_instalación:(self, instalacion):"
   ]
  },
  {
   "cell_type": "markdown",
   "metadata": {},
   "source": [
    "Recibe una instalación y la agrega a sus conexiones directas o escoge entre una de sus conexiones actuales a la más conveniente, para que esta a su vez repita el proceso."
   ]
  },
  {
   "cell_type": "code",
   "execution_count": null,
   "metadata": {},
   "outputs": [],
   "source": [
    "def distribuir_energia(self, energia_recibida):"
   ]
  },
  {
   "cell_type": "markdown",
   "metadata": {},
   "source": [
    "Es un método que distribuye la energía recibida hacia cada uno de sus hijos siguiendo la siguiente formula:\n",
    "\n",
    "- `E_hijo` = (energia_recibida - consumo) / numero_de_hijos\n",
    "\n",
    "Entonces, para cada hijo, se le entregará `E_hijo` como `energia_recibida`."
   ]
  },
  {
   "cell_type": "markdown",
   "metadata": {},
   "source": [
    "### Funcionalidades"
   ]
  },
  {
   "cell_type": "markdown",
   "metadata": {},
   "source": [
    "Para que el programa funcione como Pynel lo requiere, se les solicita además completar 2 funciones:"
   ]
  },
  {
   "cell_type": "code",
   "execution_count": null,
   "metadata": {},
   "outputs": [],
   "source": [
    "def contar_instalaciones(sistema, n=1)"
   ]
  },
  {
   "cell_type": "markdown",
   "metadata": {},
   "source": [
    "Esta recibe un sistema y debe contar todas las instalaciones que este posea.\n",
    "\n",
    "El argumento `n` es por defecto 1, lo cual puede ser util si quieres hacerlo de forma recursiva. (Si no, puedes cambairlo)"
   ]
  },
  {
   "cell_type": "code",
   "execution_count": null,
   "metadata": {},
   "outputs": [],
   "source": [
    "def contar_consumo(sistema)"
   ]
  },
  {
   "cell_type": "markdown",
   "metadata": {},
   "source": [
    "Acá también recibes un sistema y debes contar el consumo total de este. Para esto debes recorrer todas las entidades y revisar su argumento `consumo`."
   ]
  },
  {
   "cell_type": "markdown",
   "metadata": {},
   "source": [
    "## A trabajar!"
   ]
  },
  {
   "cell_type": "code",
   "execution_count": null,
   "metadata": {},
   "outputs": [],
   "source": [
    "from textwrap import indent\n",
    "\n",
    "\n",
    "class Instalacion:\n",
    "    hijos = {\n",
    "        \"Generadora\": \"Distribuidora Regional\",\n",
    "        \"Distribuidora Regional\": \"Distribuidora Comunal\",\n",
    "        \"Distribuidora Comunal\": \"Casa\",\n",
    "        \"Casa\": None\n",
    "    }\n",
    "\n",
    "    def __init__(self, **kwargs):\n",
    "        self.tipo = kwargs[\"tipo\"]\n",
    "        self.region = kwargs[\"region\"]\n",
    "        self.comuna = kwargs[\"comuna\"]\n",
    "        self.hijos = []\n",
    "        self.consumo = float(kwargs[\"consumo\"])\n",
    "        self.energia = float(kwargs[\"energia\"])\n",
    "\n",
    "    def agregar_instalacion(self, instalacion):\n",
    "        # Implementar\n",
    "        pass\n",
    "\n",
    "    def distribuir_energia(self, energia):\n",
    "        # Implementar\n",
    "        pass\n",
    "    \n",
    "    def __repr__(self):\n",
    "        repr_hijos = [indent(str(hijo), \"    \") for hijo in self.hijos]\n",
    "        \n",
    "        salto = \"\\n\" if repr_hijos else \"\"\n",
    "            \n",
    "        return f\"{self.tipo}: {self.comuna} - {self.region}, energia: {round(self.energia, 2)}{salto}\" +\\\n",
    "                \"\\n\".join(repr_hijos)"
   ]
  },
  {
   "cell_type": "code",
   "execution_count": null,
   "metadata": {},
   "outputs": [],
   "source": [
    "def contar_instalaciones(sistema, n=1):\n",
    "    # Implememtar\n",
    "    return n\n",
    "\n",
    "def contar_consumo(sistema):\n",
    "    # Implementar\n",
    "    return 0"
   ]
  },
  {
   "cell_type": "code",
   "execution_count": null,
   "metadata": {},
   "outputs": [],
   "source": [
    "from files.archivos import generator, instanciar_sistema\n",
    "import os\n",
    "\n",
    "# No modificar\n",
    "def resumen_sistema(sistema):\n",
    "    print(\"Resumen del Sistema:\")\n",
    "    print(f\"Consumo Total: {contar_consumo(sistema)}\")\n",
    "    print(f\"Número de Instalaciones: {contar_instalaciones(sistema)}\")\n",
    "    print(sistema)\n",
    "\n",
    "# Se probará DCCableling para 4 sistemas electricos:    \n",
    "generador = generator()\n",
    "for i in range(1, 5):\n",
    "    print(f\"CONSULTAS SISTEMA ELÉCTRICO N°{i}\")\n",
    "    print(\"---------------------\" * 2)\n",
    "    atributos_de_sistema = next(generador)\n",
    "    sistema_electrico = instanciar_sistema(Instalacion, atributos_de_sistema)\n",
    "    resumen_sistema(sistema_electrico)\n",
    "    #comuna_mayor_gasto(sistema_electrico)\n",
    "    #casas_insuficiencia(sistema_electrico)\n",
    "    print(\"---------------------\" * 2)"
   ]
  }
 ],
 "metadata": {
  "kernelspec": {
   "display_name": "Python 3",
   "language": "python",
   "name": "python3"
  },
  "language_info": {
   "codemirror_mode": {
    "name": "ipython",
    "version": 3
   },
   "file_extension": ".py",
   "mimetype": "text/x-python",
   "name": "python",
   "nbconvert_exporter": "python",
   "pygments_lexer": "ipython3",
   "version": "3.6.8"
  }
 },
 "nbformat": 4,
 "nbformat_minor": 2
}
