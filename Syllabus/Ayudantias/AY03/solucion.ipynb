{
 "cells": [
  {
   "cell_type": "markdown",
   "metadata": {},
   "source": [
    "# Ayudantía 03 - Threading\n",
    "__Autores: Nicolás Orellana(@nhorellana), Matías Oportus (@matioprts) y Roberto Negrin (@roberto009)__"
   ]
  },
  {
   "cell_type": "markdown",
   "metadata": {
    "slideshow": {
     "slide_type": "subslide"
    }
   },
   "source": [
    "**¿Qué es un thread?**\n",
    "\n",
    "_Es una pequeña sección de código, que puede ser ejecutada por un sistema operativo._\n",
    "\n",
    "__¿En que se diferencia de lo que han estado haciendo hasta ahora?__\n",
    "\n",
    "Actualmente, ustedes ya saben usar threads, pero **solo uno** 😁. Esta semana aprenderán a manejar múltiples threads"
   ]
  },
  {
   "cell_type": "markdown",
   "metadata": {
    "slideshow": {
     "slide_type": "fragment"
    }
   },
   "source": [
    "# Ayudando a Jorry\n",
    "\n",
    "En un multiverso paralelo el genio cientifico Ricardo Sánchez no ~~quiere~~ tiene tiempo para\n",
    "compartir con su familia. le ocurre la genial idea de otorgarle a su familia la Caja de Meeseeks!, \n",
    "para que disfruten de la increible compañía de un Mr Meeseek. El problema es que cuando la construyó \n",
    "estaba ~~borracho~~ distraido y se equivoco en la configuración de la caja.\n",
    "\n",
    "En lugar de ayudar a su familia, los Mr Meeseeks comienzan a \n",
    "perseguir a su yerno Jorry.\n",
    "Ricardo se encuentra en otra galaxia en este momento y solo estás \n",
    "tu para salvar a Jorry de los Mr Meeseeks."
   ]
  },
  {
   "cell_type": "markdown",
   "metadata": {
    "slideshow": {
     "slide_type": "fragment"
    }
   },
   "source": [
    "# Entidades:"
   ]
  },
  {
   "cell_type": "markdown",
   "metadata": {},
   "source": [
    "# Jorry\n",
    "\n",
    "<img src=\"img/img2.png\" width=\"150\" style=\"float: middle;\"/>"
   ]
  },
  {
   "cell_type": "code",
   "execution_count": null,
   "metadata": {
    "slideshow": {
     "slide_type": "subslide"
    }
   },
   "outputs": [],
   "source": [
    "class Jorry:\n",
    "    def __init__(self, x, y):\n",
    "        self.x = x\n",
    "        self.y = y\n",
    "        \n",
    "    def mover(self):\n",
    "        mov = int(input(\"Ingresa la cantidad de casillas: \"))\n",
    "        self.x += mov\n",
    "        self.y += mov\n",
    "        print(f'Jorry se movió a {self.x}, {self.y}\\n')\n",
    "    "
   ]
  },
  {
   "cell_type": "markdown",
   "metadata": {
    "slideshow": {
     "slide_type": "fragment"
    }
   },
   "source": [
    "Recuerden que lo estamos ayudando, por lo que nosotros controlamos su movimiento"
   ]
  },
  {
   "cell_type": "markdown",
   "metadata": {
    "slideshow": {
     "slide_type": "slide"
    }
   },
   "source": [
    "# Los Meeseeks \n",
    "\n",
    "\n",
    "<img src=\"img/img1.png\" width=\"150\" style=\"float: middle;\"/>"
   ]
  },
  {
   "cell_type": "markdown",
   "metadata": {
    "slideshow": {
     "slide_type": "fragment"
    }
   },
   "source": [
    "Modelaremos a los Mr Meeseeks para que cambien de posición cada 1 segundo:"
   ]
  },
  {
   "cell_type": "code",
   "execution_count": null,
   "metadata": {
    "slideshow": {
     "slide_type": "slide"
    }
   },
   "outputs": [],
   "source": [
    "import time\n",
    "import random\n",
    "\n",
    "class MrMeeseeks:\n",
    "    def __init__(self, numero, x, y):\n",
    "        self.x = x\n",
    "        self.y = y\n",
    "        self.numero = numero\n",
    "        \n",
    "    def mover(self):\n",
    "        mov = random.randint(1, 2)\n",
    "        self.x += mov\n",
    "        self.y += mov\n",
    "        print(f'El Mr Meeseeks{self.numero} se movió a {self.x}, {self.y}\\n')\n",
    "\n",
    "meeseeks1 = MrMeeseeks(\"1\",0,0)\n",
    "for i in range (3):\n",
    "    meeseeks1.mover()\n",
    "    time.sleep(1)"
   ]
  },
  {
   "cell_type": "markdown",
   "metadata": {
    "slideshow": {
     "slide_type": "slide"
    }
   },
   "source": [
    "Como la Caja de Meeseeks crea varios Mr Meeseeks, probemos con más de uno:"
   ]
  },
  {
   "cell_type": "code",
   "execution_count": null,
   "metadata": {
    "slideshow": {
     "slide_type": "subslide"
    }
   },
   "outputs": [],
   "source": [
    "meeseeks1 = MrMeeseeks(\"1\",0,0)\n",
    "meeseeks2 = MrMeeseeks(\"2\",0,0)\n",
    "for i in range (3):\n",
    "    meeseeks1.mover()\n",
    "    meeseeks2.mover()\n",
    "    time.sleep(1)"
   ]
  },
  {
   "cell_type": "markdown",
   "metadata": {
    "slideshow": {
     "slide_type": "slide"
    }
   },
   "source": [
    "Ahora agregemos a Jorry"
   ]
  },
  {
   "cell_type": "code",
   "execution_count": null,
   "metadata": {
    "slideshow": {
     "slide_type": "fragment"
    }
   },
   "outputs": [],
   "source": [
    "meeseeks1 = MrMeeseeks(\"1\",0,0)\n",
    "meeseeks2 = MrMeeseeks(\"2\",0,0)\n",
    "jorry = Jorry(0,0)\n",
    "for i in range (2):\n",
    "    jorry.mover()\n",
    "    meeseeks1.mover()\n",
    "    meeseeks2.mover()\n",
    "\n",
    "    time.sleep(1)"
   ]
  },
  {
   "cell_type": "markdown",
   "metadata": {
    "slideshow": {
     "slide_type": "slide"
    }
   },
   "source": [
    "__¿Cual es el problema?__\n",
    "\n",
    "_No se mueven al mismo tiempo_\n",
    "\n",
    "\n",
    "__¿Cómo lo arreglamos?__\n",
    "\n",
    "¡Con **threads**!"
   ]
  },
  {
   "cell_type": "markdown",
   "metadata": {},
   "source": [
    "### Primero recordemos como crear un thread: "
   ]
  },
  {
   "cell_type": "code",
   "execution_count": null,
   "metadata": {
    "slideshow": {
     "slide_type": "subslide"
    }
   },
   "outputs": [],
   "source": [
    "import threading as thr\n",
    "\n",
    "def thread_target():\n",
    "    vida = random.randint(1,5)\n",
    "    mi_nombre = thr.current_thread().name\n",
    "    print(f\"Soy el thread {mi_nombre} y viviré durante {vida} segundos\")\n",
    "    time.sleep(vida)\n",
    "    print(f\"Soy el thread {mi_nombre} y me muri :(\")\n",
    "    \n",
    "\n",
    "thread_uno = thr.Thread(name=\"uno\", target= thread_target)\n",
    "thread_dos = thr.Thread(name=\"dos\", target= thread_target)\n",
    "\n",
    "thread_uno.start()\n",
    "thread_dos.start()"
   ]
  },
  {
   "cell_type": "markdown",
   "metadata": {
    "slideshow": {
     "slide_type": "slide"
    }
   },
   "source": [
    "Apliquemos lo aprendido para ayudar a Jorry"
   ]
  },
  {
   "cell_type": "code",
   "execution_count": null,
   "metadata": {
    "slideshow": {
     "slide_type": "fragment"
    }
   },
   "outputs": [],
   "source": [
    "def movedor(movible):  # duck typing ;)\n",
    "    for _ in range(2):\n",
    "        movible.mover()\n",
    "        time.sleep(1)   \n",
    "\n",
    "meeseeks1 = MrMeeseeks(\"1\",0,0)\n",
    "meeseeks2 = MrMeeseeks(\"2\",0,0)\n",
    "jorry = Jorry(0,0)\n",
    "\n",
    "movedor0 = thr.Thread(target=movedor,args=(jorry,) )\n",
    "movedor1 = thr.Thread(target=movedor,args=(meeseeks1,) )\n",
    "movedor2 = thr.Thread(target=movedor,args=(meeseeks2,) )\n",
    "\n",
    "muevanse_plz = [movedor0, movedor1, movedor2]\n",
    "for mueve in muevanse_plz:\n",
    "    mueve.start()  "
   ]
  },
  {
   "cell_type": "markdown",
   "metadata": {
    "slideshow": {
     "slide_type": "slide"
    }
   },
   "source": [
    "Existe otra forma de crear Threads\n",
    "\n",
    "Si se dieron cuenta , `thr.Thread` es una clase , entonces:\n",
    "\n",
    "¿Podemos **heredar** de Thread? 🤔\n",
    "\n",
    "¡Si! Y se usa mucho \n",
    "\n",
    "Veamos cómo:"
   ]
  },
  {
   "cell_type": "code",
   "execution_count": null,
   "metadata": {
    "slideshow": {
     "slide_type": "slide"
    }
   },
   "outputs": [],
   "source": [
    "class Jorry(thr.Thread):\n",
    "    def __init__(self, x, y):\n",
    "        # Siempre debos inicializar el super cuando heredamos\n",
    "        super().__init__()\n",
    "        self.x = x\n",
    "        self.y = y\n",
    "        \n",
    "    def mover(self):\n",
    "        mov = int(input(\"Ingresa la cantidad de casillas: \"))\n",
    "        self.x += mov\n",
    "        self.y += mov\n",
    "        print(f'Jorry se movió a {self.x}, {self.y}\\n')\n",
    "        \n",
    "    def run(self):\n",
    "        for i in range(3):\n",
    "            self.mover()\n",
    "            time.sleep(1)\n",
    "\n",
    "class MrMeeseeks(thr.Thread):\n",
    "    def __init__(self, numero, x, y):\n",
    "        super().__init__()\n",
    "        self.x = x\n",
    "        self.y = y\n",
    "        self.numero = numero\n",
    "        \n",
    "    def mover(self):\n",
    "        mov = random.randint(1, 2)\n",
    "        self.x += mov\n",
    "        self.y += mov\n",
    "        print(f'El Mr Meeseeks{self.numero} se movió a {self.x}, {self.y}\\n')\n",
    "    \n",
    "    def run(self):\n",
    "        for i in range(3):\n",
    "            self.mover()\n",
    "            time.sleep(1)\n",
    "\n",
    "            \n",
    "meeseeks1 = MrMeeseeks(\"1\",0,0)\n",
    "meeseeks2 = MrMeeseeks(\"2\",0,0)\n",
    "jorry = Jorry(0,0)\n",
    "\n",
    "meeseeks1.start()\n",
    "meeseeks2.start()\n",
    "jorry.start()\n"
   ]
  },
  {
   "cell_type": "markdown",
   "metadata": {
    "slideshow": {
     "slide_type": "slide"
    }
   },
   "source": [
    "¿Que pasa si queremos que los MrMeeseeks se detengan cuando Jorry deja de moverse?\n",
    "\n",
    "Primero, hagamos que Jorry se mueva una sola vez"
   ]
  },
  {
   "cell_type": "code",
   "execution_count": null,
   "metadata": {
    "slideshow": {
     "slide_type": "slide"
    }
   },
   "outputs": [],
   "source": [
    "class Jorry(thr.Thread):\n",
    "    def __init__(self, x, y):\n",
    "        # Siempre debos inicializar el super cuando heredamos\n",
    "        super().__init__()\n",
    "        self.x = x\n",
    "        self.y = y\n",
    "        \n",
    "    def mover(self):\n",
    "        mov = int(input(\"Ingresa la cantidad de casillas: \"))\n",
    "        self.x += mov\n",
    "        self.y += mov\n",
    "        print(f'Jorry se movió a {self.x}, {self.y}\\n')\n",
    "        \n",
    "    def run(self):\n",
    "        # Modificamos el run \n",
    "        for i in range(1):\n",
    "            self.mover()\n",
    "            time.sleep(1)\n",
    "\n",
    "meeseeks1 = MrMeeseeks(\"1\",0,0)\n",
    "meeseeks2 = MrMeeseeks(\"2\",0,0)\n",
    "jorry = Jorry(0,0)\n",
    "\n",
    "meeseeks1.start()\n",
    "meeseeks2.start()\n",
    "jorry.start()"
   ]
  },
  {
   "cell_type": "markdown",
   "metadata": {
    "slideshow": {
     "slide_type": "slide"
    }
   },
   "source": [
    "Vemos que los Meeseeks se siguen moviendo cuando Jorry se detiene\n",
    "\n",
    "__¿Cómo lo solucionamos?__\n",
    "\n",
    "¡Con *daemon_threads*!\n",
    "\n",
    "__¿Qué es eso?__\n",
    "\n",
    "Es un thread que permite al programa principal finalizar su ejecución, aunque el thread **no haya terminado**. \n",
    "\n",
    "¡Veamos como impelentarlo !"
   ]
  },
  {
   "cell_type": "code",
   "execution_count": null,
   "metadata": {
    "slideshow": {
     "slide_type": "subslide"
    }
   },
   "outputs": [],
   "source": [
    "meeseeks1 = MrMeeseeks(\"1\",0,0)\n",
    "meeseeks2 = MrMeeseeks(\"2\",0,0)\n",
    "jorry = Jorry(0,0)\n",
    "\n",
    "meeseeks1.daemon = True\n",
    "meeseeks2.daemon = True \n",
    "\n",
    "meeseeks1.start()\n",
    "meeseeks2.start()\n",
    "jorry.start()"
   ]
  },
  {
   "cell_type": "markdown",
   "metadata": {
    "slideshow": {
     "slide_type": "slide"
    }
   },
   "source": [
    "Tambíen podemos declaralo al definir nuestra clase "
   ]
  },
  {
   "cell_type": "code",
   "execution_count": null,
   "metadata": {
    "slideshow": {
     "slide_type": "subslide"
    }
   },
   "outputs": [],
   "source": [
    "class MrMeeseeks(thr.Thread):\n",
    "    def __init__(self, numero, x, y):\n",
    "        super().__init__()\n",
    "        self.x = x\n",
    "        self.y = y\n",
    "        self.numero = numero\n",
    "        self.daemon = True # esto hace que sea un daemon_thread\n",
    "        \n",
    "    def mover(self):\n",
    "        mov = random.randint(1, 2)\n",
    "        self.x += mov\n",
    "        self.y += mov\n",
    "        print(f'El Mr Meeseeks{self.numero} se movió a {self.x}, {self.y}\\n')\n",
    "    \n",
    "    def run(self):\n",
    "        for i in range(3):\n",
    "            self.mover()\n",
    "            time.sleep(1)\n",
    "\n",
    "meeseeks1 = MrMeeseeks(\"1\",0,0)\n",
    "meeseeks2 = MrMeeseeks(\"2\",0,0)\n",
    "jorry = Jorry(0,0)\n",
    "meeseeks1.start()\n",
    "meeseeks2.start()\n",
    "jorry.start()"
   ]
  },
  {
   "cell_type": "markdown",
   "metadata": {
    "slideshow": {
     "slide_type": "slide"
    }
   },
   "source": [
    "~~¡Que bien, funciona!~~\n",
    "Como se habrán dado cuenta lo anterior **NO** funcionó.\n",
    "Esto es por la forma en que jupyter  maneja los threads, pero si lo corren en su computador ~~deberia😅~~ va a funcionar. "
   ]
  },
  {
   "cell_type": "markdown",
   "metadata": {
    "slideshow": {
     "slide_type": "slide"
    }
   },
   "source": [
    "# Desaparición de Meeseeks\n",
    "\n",
    "Ahora un Meeseek desaparece después de 3 movimintos\n",
    "\n",
    "\n",
    "¿Cómo creamos un nuevo Meeseek cuando otro desparace?"
   ]
  },
  {
   "cell_type": "markdown",
   "metadata": {
    "slideshow": {
     "slide_type": "subslide"
    }
   },
   "source": [
    "### Forma ~~de intro a la progra~~ intuitiva:\n",
    "\n",
    "Creamos un `while` que cada constantemente revise si es que un Meeseek sigue vivo y cree uno nuevo si no es así. ❌\n",
    "\n",
    "Esto es una __muy mala práctica__ que se conoce como _Busy Waiting_."
   ]
  },
  {
   "cell_type": "markdown",
   "metadata": {},
   "source": [
    "### Forma correcta:\n",
    "\n",
    "Nosotros usaremos los __join()__ \n",
    "\n",
    "¿Que es un join()?\n",
    "\n",
    "`Thread.join()` se usa para **detener** el programa principal hasta que termina otro Thread\n",
    "\n",
    "Veamos como se usa:"
   ]
  },
  {
   "cell_type": "code",
   "execution_count": null,
   "metadata": {
    "slideshow": {
     "slide_type": "slide"
    }
   },
   "outputs": [],
   "source": [
    "import threading as thr\n",
    "import time \n",
    "def haciendo_tiempo():\n",
    "    timer = 0 \n",
    "    for i in range(5):\n",
    "        print(f\"Llevo {timer} segundos haciendo tiempo\")\n",
    "        timer += 1\n",
    "        time.sleep(1)\n",
    "\n",
    "el_que_espera = thr.Thread(target = haciendo_tiempo)\n",
    "\n",
    "for i in range(5):\n",
    "    if i ==3:\n",
    "        el_que_espera.start()\n",
    "        el_que_espera.join()\n",
    "    print(i)\n",
    "\n",
    "jorry = Jorry(0, 0)\n",
    "jorry.start()\n",
    "\n",
    "c1 = 0\n",
    "c2 = 1\n",
    "while True:\n",
    "    meeseeks1 = MrMeeseeks(c1,0,0)\n",
    "    meeseeks2 = MrMeeseeks(c2,0,0)\n",
    "    meeseeks1.start()\n",
    "    meeseeks2.start()\n",
    "    \n",
    "    meeseeks1.join()\n",
    "    meeseeks2.join()\n",
    "    \n",
    "    c1 += 2\n",
    "    c2 += 2"
   ]
  },
  {
   "cell_type": "markdown",
   "metadata": {
    "slideshow": {
     "slide_type": "slide"
    }
   },
   "source": [
    "## Inicio del movimiento\n",
    "\n",
    "Ahora queremos que los Mr Meeseeks no deberían empezar a perseguir a Jorry si es que el no se está moviendo...\n",
    "\n",
    "¿Cómo agregamos esto a nuestro modelamiento? "
   ]
  },
  {
   "cell_type": "markdown",
   "metadata": {
    "slideshow": {
     "slide_type": "slide"
    }
   },
   "source": [
    "### threading.Event()\n",
    "\n",
    "¿Qué es threading.Event()?\n",
    "\n",
    "Un `threading.Event()` es una clase que se usa para **señalizar** entre Threads, ocupando como señal la ocurrencia de este evento.\n",
    "\n",
    "Principales métodos:\n",
    "* `wait`\n",
    "* `set`\n",
    "* `clear`"
   ]
  },
  {
   "cell_type": "code",
   "execution_count": null,
   "metadata": {
    "slideshow": {
     "slide_type": "slide"
    }
   },
   "outputs": [],
   "source": [
    "class MrMeeseeks(thr.Thread):\n",
    "    def __init__(self, numero, x, y, start_event):\n",
    "        super().__init__()\n",
    "        self.x = x\n",
    "        self.y = y\n",
    "        self.numero = numero\n",
    "        self.start_event = start_event # Agragamos el evento\n",
    "        \n",
    "    def mover(self):\n",
    "        mov = random.randint(1, 2)\n",
    "        self.x += mov\n",
    "        self.y += mov\n",
    "        print(f'El Mr Meeseeks{self.numero} se movió a {self.x}, {self.y}\\n')\n",
    "    \n",
    "    def run(self):\n",
    "        self.start_event.wait() # Esperamos a que ocurra el evento para partir\n",
    "        for i in range(3):\n",
    "            self.mover()\n",
    "            time.sleep(1)\n",
    "\n",
    "class Jorry(thr.Thread):\n",
    "    def __init__(self, x, y, move_event):\n",
    "        super().__init__()\n",
    "        self.x = x\n",
    "        self.y = y\n",
    "        self.move_event = move_event # Definimos el evento\n",
    "        \n",
    "    def mover(self):\n",
    "        mov = int(input(\"Ingresa la cantidad de casillas: \"))\n",
    "        self.move_event.set() # Jorry se movió y se activa el evento\n",
    "        self.x += mov\n",
    "        self.y += mov\n",
    "        print(f'Jorry se movió a {self.x}, {self.y}\\n')\n",
    "        \n",
    "    def run(self):\n",
    "        for i in range(1):\n",
    "            self.mover()\n",
    "            time.sleep(1)\n",
    "\n",
    "jorry_se_mueve = thr.Event()\n",
    "\n",
    "meeseeks1 = MrMeeseeks(1,0,0, jorry_se_mueve)\n",
    "meeseeks2 = MrMeeseeks(2,0,0, jorry_se_mueve)\n",
    "jorry = Jorry(0,0, jorry_se_mueve)\n",
    "\n",
    "jorry.start()\n",
    "meeseeks1.start()\n",
    "meeseeks2.start()"
   ]
  },
  {
   "cell_type": "markdown",
   "metadata": {
    "slideshow": {
     "slide_type": "slide"
    }
   },
   "source": [
    "# Ataque de los Meeseeks"
   ]
  },
  {
   "cell_type": "markdown",
   "metadata": {
    "slideshow": {
     "slide_type": "slide"
    }
   },
   "source": [
    "Ahora queremos modelar el ataque de los Meeseks, estos atacan cada segundo y le quitan vida a Jorry.\n",
    "Para hacer esto tendremos que modelar una nueva situación. \n",
    "\n",
    "Primero, Jorry..."
   ]
  },
  {
   "cell_type": "code",
   "execution_count": null,
   "metadata": {
    "slideshow": {
     "slide_type": "fragment"
    }
   },
   "outputs": [],
   "source": [
    "class Jorry(thr.Thread):\n",
    "    def __init__(self):\n",
    "        super().__init__()\n",
    "        self.hp = random.randint(50, 100) # Seteamos la vida de Jorry\n",
    "        \n",
    "    def run(self):\n",
    "        while self.hp > 0:\n",
    "            print(f'Estúpidos meeseeks eso duele! Mi vida está en {self.hp}')\n",
    "            time.sleep(1/2)\n",
    "        print('RIP Jorry 2019')"
   ]
  },
  {
   "cell_type": "markdown",
   "metadata": {
    "slideshow": {
     "slide_type": "subslide"
    }
   },
   "source": [
    "Ahora, los Mr Meeseeks"
   ]
  },
  {
   "cell_type": "code",
   "execution_count": null,
   "metadata": {
    "slideshow": {
     "slide_type": "fragment"
    }
   },
   "outputs": [],
   "source": [
    "class MrMeeseeks(thr.Thread):\n",
    "    def __init__(self, numero, jorry):\n",
    "        super().__init__()\n",
    "        self.daemon = True #No pueden golpear a un Jorry muerto\n",
    "        self.numero = numero\n",
    "        self.jorry = jorry\n",
    "        \n",
    "    def atacar(self):\n",
    "        ataque = random.randint(1, 3)\n",
    "        self.jorry.hp -= ataque\n",
    "        print(f'El Mr Meeseeks{self.numero} atacó a Jorry con un daño de {ataque}\\n')\n",
    "    \n",
    "    def run(self):\n",
    "        while True:\n",
    "            self.atacar()\n",
    "            time.sleep(1/2)\n",
    "\n",
    "jorry = Jorry()\n",
    "meeseeks1 = MrMeeseeks(1, jorry)\n",
    "meeseeks2 = MrMeeseeks(2, jorry)\n",
    "\n",
    "jorry.start()\n",
    "meeseeks1.start()\n",
    "meeseeks2.start()"
   ]
  },
  {
   "cell_type": "markdown",
   "metadata": {
    "slideshow": {
     "slide_type": "notes"
    }
   },
   "source": [
    "Acá mostrar en consola que funciona bien en caso de solo 2 Meeseeks\n",
    "\n",
    "Funciona perfecto! Pero, ¿qué pasa si aumentamos la cantidad de Meeseeks atacando a Jorry?"
   ]
  },
  {
   "cell_type": "code",
   "execution_count": null,
   "metadata": {
    "slideshow": {
     "slide_type": "fragment"
    }
   },
   "outputs": [],
   "source": [
    "jorry = Jorry()\n",
    "meeseeks1 = MrMeeseeks(1, jorry)\n",
    "meeseeks2 = MrMeeseeks(2, jorry)\n",
    "meeseeks3 = MrMeeseeks(3, jorry)\n",
    "meeseeks4 = MrMeeseeks(4, jorry)\n",
    "meeseeks5 = MrMeeseeks(5, jorry)\n",
    "\n",
    "jorry.start()\n",
    "meeseeks1.start()\n",
    "meeseeks2.start()\n",
    "meeseeks3.start()\n",
    "meeseeks4.start()\n",
    "meeseeks5.start()"
   ]
  },
  {
   "cell_type": "markdown",
   "metadata": {
    "slideshow": {
     "slide_type": "notes"
    }
   },
   "source": [
    "Acá mostrar en consola que funciona muy extraño el contador de vida de Jorry (contar daño total de Meeseeks en cada interacción y notar que difiere del HP de Jorry) cuando muchos Meeseeks lo atacan al mismo tiempo\n",
    "\n",
    "__¿Como solucionamos esto?__\n",
    "\n",
    "_Con threading.Lock()_\n",
    "\n",
    "**¿Qué es threading.Lock()?**\n",
    "\n",
    "\n",
    "Un `threading.Lock()` es una clase que se usa para **bloquear** el acceso a un recurso entre los Threads que intentan interactuar con el y modificarlo."
   ]
  },
  {
   "cell_type": "code",
   "execution_count": null,
   "metadata": {
    "slideshow": {
     "slide_type": "slide"
    }
   },
   "outputs": [],
   "source": [
    "class Jorry(thr.Thread):\n",
    "    def __init__(self):\n",
    "        super().__init__()\n",
    "        self.hp = random.randint(50, 100) # Seteamos la vida de Jorry\n",
    "        \n",
    "    def run(self):\n",
    "        while self.hp > 0:\n",
    "            print(f'Estúpidos meeseeks eso duele! Mi vida está en {self.hp}')\n",
    "            time.sleep(1/2)\n",
    "        print('RIP Jorry 2019')"
   ]
  },
  {
   "cell_type": "markdown",
   "metadata": {
    "slideshow": {
     "slide_type": "fragment"
    }
   },
   "source": [
    "Nuestro Jorry sigue igual, ya que es el recurso que intentan modificar los Meeseeks"
   ]
  },
  {
   "cell_type": "code",
   "execution_count": null,
   "metadata": {
    "slideshow": {
     "slide_type": "subslide"
    }
   },
   "outputs": [],
   "source": [
    "class MrMeeseeks(thr.Thread):\n",
    "    lock_jorry = thr.Lock() #Creamos el lock como variable de clase\n",
    "    def __init__(self, numero, jorry):\n",
    "        super().__init__()\n",
    "        self.daemon = True #No pueden golpear a un Jorry muerto\n",
    "        self.numero = numero\n",
    "        self.jorry = jorry\n",
    "        \n",
    "    def atacar(self):\n",
    "        ataque = random.randint(1, 3)\n",
    "        self.jorry.hp -= ataque\n",
    "        print(f'El Mr Meeseeks{self.numero} atacó a Jorry con un daño de {ataque}\\n')\n",
    "    \n",
    "    def run(self):\n",
    "        while True:\n",
    "            with self.lock_jorry: #Fijo el lock mientras mi thread Meeseek realiza el ataque\n",
    "                self.atacar()\n",
    "            time.sleep(1/2)\n",
    "\n",
    "jorry = Jorry()\n",
    "meeseeks1 = MrMeeseeks(1, jorry)\n",
    "meeseeks2 = MrMeeseeks(2, jorry)\n",
    "meeseeks3 = MrMeeseeks(3, jorry)\n",
    "meeseeks4 = MrMeeseeks(4, jorry)\n",
    "meeseeks5 = MrMeeseeks(5, jorry)\n",
    "\n",
    "jorry.start()\n",
    "meeseeks1.start()\n",
    "meeseeks2.start()\n",
    "meeseeks3.start()\n",
    "meeseeks4.start()\n",
    "meeseeks5.start()"
   ]
  },
  {
   "cell_type": "markdown",
   "metadata": {
    "slideshow": {
     "slide_type": "notes"
    }
   },
   "source": [
    "Acá mostrar en consola que funciona perfecto el contador de vida de Jorry (contar daño total de Meeseeks en cada interacción y notar que coincide con el HP de Jorry)"
   ]
  },
  {
   "cell_type": "markdown",
   "metadata": {
    "slideshow": {
     "slide_type": "slide"
    }
   },
   "source": [
    "## Recuerden llenar el feedback de la ayudantía [aquí](https://docs.google.com/forms/d/e/1FAIpQLSfPFwzIpuF8ZnJe8ONgQkZKDCSjoMjxBBDIA3o35YI2FXkNNQ/viewform?usp=sf_link)"
   ]
  }
 ],
 "metadata": {
  "kernelspec": {
   "display_name": "Python 3",
   "language": "python",
   "name": "python3"
  },
  "language_info": {
   "codemirror_mode": {
    "name": "ipython",
    "version": 3
   },
   "file_extension": ".py",
   "mimetype": "text/x-python",
   "name": "python",
   "nbconvert_exporter": "python",
   "pygments_lexer": "ipython3",
   "version": "3.6.8"
  }
 },
 "nbformat": 4,
 "nbformat_minor": 2
}
