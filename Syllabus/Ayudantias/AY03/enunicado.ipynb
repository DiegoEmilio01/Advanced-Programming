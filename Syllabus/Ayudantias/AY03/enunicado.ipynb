{
 "cells": [
  {
   "cell_type": "markdown",
   "metadata": {},
   "source": [
    "# Ayudantía 03 - Threading\n",
    "__Autores: Nicolás Orellana(@nhorellana), Matías Oportus (@matioprts) y Roberto Negrin (@roberto009)__"
   ]
  },
  {
   "cell_type": "markdown",
   "metadata": {},
   "source": [
    "En esta ayudantia veremos el uso de *threads*. Aprenderemos las distintas formas de craer *threads*, como coordinarlos y evitar problemas que peudan surgir al manejarlos."
   ]
  },
  {
   "cell_type": "markdown",
   "metadata": {},
   "source": [
    "## Ayudando  Jorry\n"
   ]
  },
  {
   "cell_type": "markdown",
   "metadata": {},
   "source": [
    "En un multiverso paralelo el genio cientifico Ricardo Sánchez no ~~quiere~~ tiene tiempo para\n",
    "compartir con su familia. le ocurre la genial idea de otorgarle a su familia la Caja de Meeseeks!, \n",
    "para que disfruten de la increible compañía de un Mr Meeseek. El problema es que cuando la construyó \n",
    "estaba ~~borracho~~ distraido y se equivoco en la configuración de la caja."
   ]
  },
  {
   "cell_type": "markdown",
   "metadata": {},
   "source": [
    "En lugar de ayudar a su familia, los Mr Meeseeks comienzan a \n",
    "perseguir a su yerno Jorry.\n",
    "Ricardo se encuentra en otra galaxia en este momento y solo estás \n",
    "tu para salvar a Jorry de los Mr Meeseeks."
   ]
  },
  {
   "cell_type": "code",
   "execution_count": null,
   "metadata": {},
   "outputs": [],
   "source": []
  },
  {
   "cell_type": "markdown",
   "metadata": {},
   "source": [
    "¡Espera un poco! ¿Porque los Mr Meeseeks se siguen moviendo cuando Jerry deja de moverse? Esto no debería pasar.. Su objetivo es atraparlo! Arreglemoslo..."
   ]
  },
  {
   "cell_type": "code",
   "execution_count": null,
   "metadata": {},
   "outputs": [],
   "source": []
  },
  {
   "cell_type": "markdown",
   "metadata": {},
   "source": [
    "Te acabas de dar cuenta que los Meeseeks desaparecen despúes de realizar 3 movimientos, pero cuando un Meeseek desaparece, vuelve a aparecer otro! Implementemos esto en la modelación:"
   ]
  },
  {
   "cell_type": "code",
   "execution_count": null,
   "metadata": {},
   "outputs": [],
   "source": []
  },
  {
   "cell_type": "markdown",
   "metadata": {},
   "source": [
    "Además, los Meeseks no comienzan a moverse si es que Jorry no se escapa! Módifica tu codigo anterior para representar la situación."
   ]
  },
  {
   "cell_type": "code",
   "execution_count": null,
   "metadata": {},
   "outputs": [],
   "source": []
  },
  {
   "cell_type": "markdown",
   "metadata": {},
   "source": [
    "## El ataque de los Meeseeks"
   ]
  },
  {
   "cell_type": "markdown",
   "metadata": {},
   "source": [
    "Finalmente, la tropa de Meeseeks a logrado atrapar a Jorry y no piensan en nada más que en acabar con su vida. Estos se dedican a atacar a Jorry cada segundo, hasta que ~~muere~~ su vida llega a cero. Debes modelar la situación, precupandote de que los calculos de la vida de Jorry se efectuen correctamente. Recuerda que cuando muchos *threads* acceden a una variable al mismo tiempo ~~hay~~ puede haber problemas."
   ]
  },
  {
   "cell_type": "code",
   "execution_count": null,
   "metadata": {},
   "outputs": [],
   "source": []
  }
 ],
 "metadata": {
  "kernelspec": {
   "display_name": "Python 3",
   "language": "python",
   "name": "python3"
  },
  "language_info": {
   "codemirror_mode": {
    "name": "ipython",
    "version": 3
   },
   "file_extension": ".py",
   "mimetype": "text/x-python",
   "name": "python",
   "nbconvert_exporter": "python",
   "pygments_lexer": "ipython3",
   "version": "3.7.4"
  }
 },
 "nbformat": 4,
 "nbformat_minor": 2
}
