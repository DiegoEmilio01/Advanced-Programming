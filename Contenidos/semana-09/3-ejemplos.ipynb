{
 "cells": [
  {
   "cell_type": "markdown",
   "metadata": {
    "ExecuteTime": {
     "end_time": "2019-04-05T19:09:20.231800Z",
     "start_time": "2019-04-05T19:09:20.218679Z"
    }
   },
   "source": [
    "<p>\n",
    "<font size='5' face='Georgia, Arial'>IIC-2233 Apunte Programación Avanzada</font><br>\n",
    "<font size='1'>Editado por Equipo Docente IIC2233 2019-1 y 2019-2. </font><br>\n",
    "<font size='1'>Material confeccionado por Fernando Florenzano y Antonio Ossa en 2019.</font>\n",
    "<br>\n",
    "</p>"
   ]
  },
  {
   "cell_type": "markdown",
   "metadata": {},
   "source": [
    "## Ejemplos de estructuras nodales\n",
    "\n",
    "Los siguientes son ejemplos del uso de estructuras nodales como herramienta de modelación."
   ]
  },
  {
   "cell_type": "markdown",
   "metadata": {},
   "source": [
    "### Eficiencia de Listas Ligadas\n",
    "\n",
    "Una de las ventajas del funcionamiento de Listas Ligadas es que utilizan el **cambio de referencia de objetos** como mecanismo de guardado de datos. Esta es la idea detrás de la implementación de `deque`, que si bien recuerdas, era capaz de extraer rápidamente el primer elemento de la cola, a diferencia de `list`. \n",
    "\n",
    "La razón detrás de esto radica en reconocer que `popleft` lo único que realiza para eliminar un elemento es cambiar referencias de objetos, mientras que `list` debe mover todos los elementos contenidos para mantener su estructura, haciendola una operación muy costosa en cuanto a tiempo y recursos de ejecución. Es importante notar que no todo es mejor en estructuras ligadas, la operación de obtener un objeto cualquiera por ejemplo es más costosa en ellas que en `list`. `list` es capaz de acceder directamente a un elemento cualquiera de la lista según su indice, mientras que una cola debe navegar a través de sus elementos para llegar al elemento que se busca.\n",
    "\n",
    "A continuación se muestra una implementación mediante nodos ligados para una cola, y luego se muestra una prueba de tiempo en contra de `list` para ver que estructura demora más con ciertas operaciones."
   ]
  },
  {
   "cell_type": "code",
   "execution_count": 1,
   "metadata": {},
   "outputs": [],
   "source": [
    "class Nodo:\n",
    "    \"\"\"Esta clase representa un nodo de una lista ligada\"\"\"\n",
    "    def __init__(self, valor=None):\n",
    "        \"\"\"Inicializa la estructura del nodo\"\"\"\n",
    "        self.valor = valor\n",
    "        self.siguiente = None\n",
    "\n",
    "class Cola:\n",
    "    \"\"\"Clase que representa una lista ligada\"\"\"\n",
    "    \n",
    "    def __init__(self, iterable=None):\n",
    "        \"\"\"Inicializa una cola, con una referencia nula a su cabeza y cola\"\"\"\n",
    "        self.cabeza = None\n",
    "        self.cola = None\n",
    "        if iterable is not None:\n",
    "            for elemento in iterable:\n",
    "                self.push(elemento)\n",
    "        \n",
    "    def push(self, valor):\n",
    "        \"\"\"Agrega un nodo al final de la cola\"\"\"\n",
    "        nuevo = Nodo(valor)\n",
    "        if self.cabeza is None:\n",
    "            self.cabeza = nuevo\n",
    "            self.cola = self.cabeza\n",
    "        else:\n",
    "            self.cola.siguiente = nuevo\n",
    "            self.cola = self.cola.siguiente\n",
    "\n",
    "            \n",
    "    def obtener(self, posicion):\n",
    "        \"\"\"Busca el valor del nodo que está en la posición indicada, partiendo de 0\"\"\"\n",
    "        nodo_actual = self.cabeza\n",
    "        for _ in range(posicion):\n",
    "            if nodo_actual is not None:\n",
    "                nodo_actual = nodo_actual.siguiente\n",
    "        if nodo_actual is None:\n",
    "            return None\n",
    "        return nodo_actual.valor\n",
    "    \n",
    "    def popleft(self):\n",
    "        nodo = self.cabeza\n",
    "        if self.cabeza is not None:\n",
    "            self.cabeza = self.cabeza.siguiente\n",
    "            if self.cabeza is None:\n",
    "                self.cola = self.cabeza\n",
    "        return nodo"
   ]
  },
  {
   "cell_type": "code",
   "execution_count": 2,
   "metadata": {},
   "outputs": [],
   "source": [
    "from time import time\n",
    "\n",
    "N = 10000000\n",
    "# Creamos una Cola y una lista con 10000000 elementos\n",
    "cola = Cola(range(N))\n",
    "lista = list(range(N))"
   ]
  },
  {
   "cell_type": "code",
   "execution_count": 3,
   "metadata": {},
   "outputs": [
    {
     "name": "stdout",
     "output_type": "stream",
     "text": [
      "Buscar el elemento 5000000 en la cola se demoró 0.598151 segundos.\n",
      "Buscar el elemento 5000000 en la lista se demoró 0.000039 segundos.\n",
      "El buscar el elemento demoró en la cola 15391.58 veces el tiempo de lista.\n"
     ]
    }
   ],
   "source": [
    "# Vemos el time actual\n",
    "tiempo_inicial = time()\n",
    "# Buscamos el valor intermedio de la estructura, \n",
    "cola.obtener(N // 2)\n",
    "tiempo_final = time()\n",
    "tiempo_cola = tiempo_final - tiempo_inicial\n",
    "# Imprimimos el tiempo transcurrido\n",
    "print(f\"\"\"Buscar el elemento {N // 2} en la cola se demoró \"\"\"\n",
    "      f\"\"\"{tiempo_cola:.6f} segundos.\"\"\")\n",
    "\n",
    "# Vemos el time actual\n",
    "tiempo_inicial = time()\n",
    "# Buscamos el valor intermedio de la estructura, \n",
    "lista[N // 2]\n",
    "tiempo_final = time()\n",
    "tiempo_lista = tiempo_final - tiempo_inicial\n",
    "# Imprimimos el tiempo transcurrido\n",
    "print(f\"\"\"Buscar el elemento {N // 2} en la lista se demoró \"\"\"\n",
    "      f\"\"\"{tiempo_lista:.6f} segundos.\"\"\")\n",
    "print(f\"El buscar el elemento demoró en la cola {tiempo_cola/tiempo_lista:.2f} veces el tiempo de lista.\")"
   ]
  },
  {
   "cell_type": "code",
   "execution_count": 4,
   "metadata": {},
   "outputs": [
    {
     "name": "stdout",
     "output_type": "stream",
     "text": [
      "Sacar los primeros 1000 elementos de la lista se demoró 9.177135 segundos.\n",
      "Sacar los primeros 1000 elementos de la cola se demoró 0.000569 segundos.\n",
      "La extracción en lista fue 16125.55 veces el tiempo de la cola.\n",
      "\n"
     ]
    }
   ],
   "source": [
    "# Vamos a hacer remover de los primeros 1000 elementos de la lista\n",
    "N = 1000\n",
    "tiempo_inicial = time()\n",
    "for i in range(N):\n",
    "    lista.pop(0)\n",
    "tiempo_final = time()\n",
    "tiempo_lista = tiempo_final - tiempo_inicial\n",
    "print(f\"Sacar los primeros {N} elementos de la lista se demoró {tiempo_lista:.6f} segundos.\")\n",
    "\n",
    "# Vamos a hacer remover de los primeros 1000 elementos de la cola\n",
    "tiempo_inicial = time()\n",
    "for i in range(N):\n",
    "    cola.popleft()\n",
    "tiempo_final = time()\n",
    "tiempo_cola = tiempo_final - tiempo_inicial\n",
    "print(f\"Sacar los primeros {N} elementos de la cola se demoró {tiempo_cola:.6f} segundos.\")\n",
    "print(f\"La extracción en lista fue {tiempo_lista/tiempo_cola:.2f} veces el tiempo de la cola.\")\n",
    "print()"
   ]
  },
  {
   "cell_type": "markdown",
   "metadata": {},
   "source": [
    "### Árbol de operaciones\n",
    "\n",
    "En este ejemplo usaremos la idea árboles como herramienta de modelación para un ejemplo particular.\n",
    "\n",
    "Trabajaremos con una representación de operaciones matemáticas. Podemos representar una operacion como un árbol donde la raíz contiene la operación o función matemática en sí y esta se aplica sobre sus hijos. \n",
    "\n",
    "Por ejemplo, `suma(1, 2)` se representaría con 3 nodos:\n",
    "* `suma` sería el nodo raíz\n",
    "* 1 sería un nodo hijo del nodo raíz\n",
    "* 2 sería otro nodo hijo del nodo raíz"
   ]
  },
  {
   "cell_type": "markdown",
   "metadata": {},
   "source": [
    "Lo importante en este modealamiento es que los nodos hijos pueden ser otras operaciones, no solamente números. Supongamos que queremos realizar la siguiente operación: `((3+7)*5)*2**1`. Notamos que esto es una composición de distintas operaciones. Primero definiremos cuáles son las operaciones que podemos utilizar:"
   ]
  },
  {
   "cell_type": "code",
   "execution_count": 5,
   "metadata": {
    "ExecuteTime": {
     "end_time": "2019-04-05T19:27:03.952388Z",
     "start_time": "2019-04-05T19:27:03.943778Z"
    }
   },
   "outputs": [],
   "source": [
    "def sumar(x, y):\n",
    "    \"\"\"Suma de x e y, es decir, x + y\"\"\"\n",
    "    return x + y\n",
    "\n",
    "\n",
    "def multiplicar(x, y):\n",
    "    \"\"\"Multiplica a x e y, es decir, x * y\"\"\"\n",
    "    return x * y\n",
    "\n",
    "\n",
    "def mi_operador(x, y, z):\n",
    "    \"\"\"Este es un operador que calcula x*(y^z)\"\"\"\n",
    "    return x * (y ** z)"
   ]
  },
  {
   "cell_type": "markdown",
   "metadata": {},
   "source": [
    "Ahora, recordemos que para calcular algo como `((3+7)*5)*2**1` necesitamos operar de adentro hacia afuera:\n",
    "* Primero sumamos 3 + 7\n",
    "* Este resultado lo multiplicamos por 5\n",
    "* Y luego a este resultado le aplicamos el operador `mi_operador` junto con 2 y 1 como argumentos.\n",
    "\n",
    "Como se puede notar, la cantidad de argumentos sobre los que se aplica una operación puede cambiar, por lo que aprovecharemos de ocupar `*args` para recibir cualquier cantidad de argumentos en el constructor de un operador."
   ]
  },
  {
   "cell_type": "code",
   "execution_count": 6,
   "metadata": {
    "ExecuteTime": {
     "end_time": "2019-04-05T19:27:04.019090Z",
     "start_time": "2019-04-05T19:27:03.961601Z"
    }
   },
   "outputs": [],
   "source": [
    "class Operacion:\n",
    "\n",
    "    def __init__(self, operacion, *factores):\n",
    "        # Operacion es la raiz\n",
    "        self.operacion = operacion\n",
    "        # Los factores son los nodos hijos\n",
    "        self.factores = factores\n",
    "\n",
    "    def calcular(self):\n",
    "        factores = []\n",
    "        # Iteramos sobre cada factor\n",
    "        for factor in self.factores:\n",
    "            # Si el factor es una operación\n",
    "            if type(factor) is Operacion:\n",
    "                # ... calculamos el resultado de esa operacion\n",
    "                factor = factor.calcular()\n",
    "            # Cada factor (ya calculado) lo guardamos para darselo a la funcion\n",
    "            factores.append(factor)\n",
    "        # Podemos hacer esto con programacion funcional en una línea!\n",
    "        # factores = map(lambda f: f.calcular() if type(f) is Operacion else f, self.factores)\n",
    "        return self.operacion(*factores)"
   ]
  },
  {
   "cell_type": "markdown",
   "metadata": {},
   "source": [
    "Ahora que tenemos nuestra propia representación de una operación, podemos ocupar el código para resolver `((3+7)*5)*2**1` tal como se comentó antes."
   ]
  },
  {
   "cell_type": "code",
   "execution_count": 7,
   "metadata": {
    "ExecuteTime": {
     "end_time": "2019-04-05T19:27:04.094055Z",
     "start_time": "2019-04-05T19:27:04.024416Z"
    }
   },
   "outputs": [
    {
     "data": {
      "text/plain": [
       "100"
      ]
     },
     "execution_count": 7,
     "metadata": {},
     "output_type": "execute_result"
    }
   ],
   "source": [
    "a = Operacion(sumar, 3, 7)  # 10\n",
    "# a es un arbol con valor \"+\" y con hijos [3, 7]\n",
    "\n",
    "b = Operacion(multiplicar, a, 5)  # 10 * 5 = 50\n",
    "# b es un arbol con valor \"*\" y con hijos [a, 5]\n",
    "\n",
    "c = Operacion(mi_operador, b, 2, 1)  # 50 * 2 ** 1 = 100\n",
    "# c es un arbol con valor \"* **\" y con hijos [b, 2, 1]\n",
    "\n",
    "# También podemos ocupar funciones lambda\n",
    "# Operacion(lambda x, y: x + y, 3, 7)\n",
    "    \n",
    "# El resultado deberia ser 100\n",
    "c.calcular()"
   ]
  }
 ],
 "metadata": {
  "kernelspec": {
   "display_name": "Python 3",
   "language": "python",
   "name": "python3"
  },
  "language_info": {
   "codemirror_mode": {
    "name": "ipython",
    "version": 3
   },
   "file_extension": ".py",
   "mimetype": "text/x-python",
   "name": "python",
   "nbconvert_exporter": "python",
   "pygments_lexer": "ipython3",
   "version": "3.6.6"
  },
  "varInspector": {
   "cols": {
    "lenName": 16,
    "lenType": 16,
    "lenVar": 40
   },
   "kernels_config": {
    "python": {
     "delete_cmd_postfix": "",
     "delete_cmd_prefix": "del ",
     "library": "var_list.py",
     "varRefreshCmd": "print(var_dic_list())"
    },
    "r": {
     "delete_cmd_postfix": ") ",
     "delete_cmd_prefix": "rm(",
     "library": "var_list.r",
     "varRefreshCmd": "cat(var_dic_list()) "
    }
   },
   "types_to_exclude": [
    "module",
    "function",
    "builtin_function_or_method",
    "instance",
    "_Feature"
   ],
   "window_display": false
  }
 },
 "nbformat": 4,
 "nbformat_minor": 2
}
