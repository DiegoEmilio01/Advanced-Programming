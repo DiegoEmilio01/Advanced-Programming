{
 "cells": [
  {
   "cell_type": "markdown",
   "metadata": {},
   "source": [
    "<p>\n",
    "<font size='5' face='Georgia, Arial'>IIC-2233 Apunte Programación Avanzada</font><br>\n",
    "<font size='1'>&copy; 2015 Karim Pichara - Christian Pieringer. Todos los derechos reservados. Editado el 2018-1, 2018-2, 2019-1 y 2019-2 por Equipo Docente IIC2233.</font>\n",
    "</p>"
   ]
  },
  {
   "cell_type": "markdown",
   "metadata": {},
   "source": [
    "## Introducción"
   ]
  },
  {
   "cell_type": "markdown",
   "metadata": {},
   "source": [
    "Hasta el momento, los programas que hemos escrito solo ejecutan una secuencia de instrucciones a la vez. Son solo un flujo que comienza, ejecuta instrucciones en cierto orden, y eventualmente termina. Al ver nuestros computadores, pareciera que hay varios programas y aplicaciones funcionando a la vez. Entonces es solo lógico pensar que una máquina es capaz de ejecutar varios programas o instrucciones a la vez. Pero, ¿es posible para nuestro programa en Python realizar varias instrucciones a la vez? Aprenderemos lo básico para responder esta pregunta en los contenidos de esta semana.\n",
    "\n",
    "Al funcionamiento de un programa o aplicación en un computador se le conoce como un **proceso**. Todo lo que funciona en una máquina es un proceso individual: un reproductor de música, un navegador web, un editor de texto e incluso un programa escrito por nosotros en Python. Los sistemas operativos modernos tienen muchos procesos corriendo en paralelo, donde nuestro programa en Python es solo uno de esos tantos procesos.\n",
    "\n",
    "El procesador de un computador, en general, es solo capaz de realizar una instrucción a la vez. Pero podemos también ver que varios procesos corren simultaneamente en computadores con un sólo procesador, ¿cómo es posible? En realidad, el paralelismo que observamos es solo una **ilusión**. Lo que hace el sistema operativo es **compartir la CPU (procesador) entre todos los procesos**. Esto consiste en tomar un proceso, hacerlo avanzar unas cuantas operaciones, dejarlo en pausa, y volver a repetir lo mismo con otro proceso. Esto ocurre tan rápido que parece que todos los procesos avanzan al mismo tiempo.\n",
    "\n",
    "En la actualidad, la mayoría de los computadores tiene procesadores con más de un núcleo (***dualcore***, ***quadcore***, ***octacore***, etc...), que sí les permite ejecutar múltiples operaciones de forma simultanea. No obstante, la cantidad de procesos es mucho más grande que la de núcleos, por lo que el sistema de igual forma tiene que compartir las CPUs entre todos los procesos.\n",
    "\n",
    "En esta unidad, aprenderemos a hacer correr dos o más tareas – dentro de nuestro programa – como si fueran simultáneas. Para ello, usamos ***threads***."
   ]
  },
  {
   "cell_type": "markdown",
   "metadata": {},
   "source": [
    "## *Threading*"
   ]
  },
  {
   "cell_type": "markdown",
   "metadata": {},
   "source": [
    "Los ***threads*** (o hilos) son las unidades más pequeñas que pueden ser programadas para ser ejecutadas en un sistema operativo. Son una especie de proceso liviano, que están dentro de un programa o de un proceso mayor. Los *threads* que están dentro de un mismo proceso comparten la memoria y el estado de las variables. Este uso compartido de los recursos permite a los *threads* ejecutarse más rápido que correr varias instancias del mismo programa. La siguiente figura muestra un esquema de la interacción de los *threads* con el proceso principal."
   ]
  },
  {
   "cell_type": "markdown",
   "metadata": {},
   "source": [
    "![thread](imgs/thread.png)"
   ]
  },
  {
   "cell_type": "markdown",
   "metadata": {},
   "source": [
    "Un proceso (o programa en ejecución) puede tener uno o varios *threads*. En el momento en que se crea un proceso se crea un *thread* con él, que llamamos *thread* principal. Un *thread* puede crear otros *threads*, los que serán ejecutados **como si fueran tareas en paralelo**.\n",
    "\n",
    "Como dijimos antes, este paralelismo no es real. Para simular el paralelismo se realiza *thread scheduling* o *time slicing*, que funciona – en general – turnando los *threads* de la siguiente manera:\n",
    "\n",
    "1. Se escoge un *thread* entre los que están en espera.\n",
    "2. Se ejecuta un cierto número de instrucciones de ese *thread*.\n",
    "3. Se deja el *thread* actual en espera.\n",
    "4. Se vuelve al paso 1.\n",
    "\n",
    "Cuando hay un sólo procesador, no existe un verdadero aumento de la velocidad de ejecución, pero sí de la manera en que el programa responde. En máquinas con más procesadores, efectivamente se logra la ejecución en paralelo de varios *threads*, que tiene como resultado una ejecución más rápida del programa."
   ]
  },
  {
   "cell_type": "markdown",
   "metadata": {},
   "source": [
    "Algunos ejemplos donde resulta útil implementar _threads_ son:\n",
    "\n",
    "- Separar funciones independientes que trabajan sobre un mismo almacen de datos pero pueden ejecutarse simulaneamente. Por ejemplo, un *thread* que se encargue de recibir *input* de texto de un usuario y colocarlo en una cola de texto por procesar, y otro *thread* que procese línea a línea y los saque de la cola. Este tipo de patrón, donde existen procesos que se ejecutan secuencialmente con acceso al mismo almecen de datos, pero que son independientes entre ellos, se conoce como delegación de trabajos **consumidor-productor** y se ejemplifica aún más en uno de los siguientes cuadernos.\n",
    "- Interfaces de rápida respuesta, donde se necesita interactuar con el usuario mientras se ejecuta algún *thread* de cómputo pesado. Por ejemplo, las interfaces gráficas en un computador: reciben *input* de usuario mediante entradas de texto y botones mientras actualizan su compontente visual simulatenamente.\n",
    "- Aplicaciones multiusuario, en donde cada *thread* se encargaría de las peticiones de cada usuario independientemente. Por ejemplo, un servidor de páginas web debe atender a varios clientes a la vez: cada vez que se conecta un usuario, se debe responder a este de forma correcta, y múltiples usuarios pueden pedir al mismo tiempo una conexión. "
   ]
  },
  {
   "cell_type": "markdown",
   "metadata": {},
   "source": [
    "### Creación de *threads*"
   ]
  },
  {
   "cell_type": "markdown",
   "metadata": {},
   "source": [
    "En Python 3, el manejo de *threads* se realiza mediante la librería `threading`, en donde los *threads* son representados por objetos. Muchas de las funcionalidades necesarias están implementadas en esta librería. "
   ]
  },
  {
   "cell_type": "code",
   "execution_count": 1,
   "metadata": {},
   "outputs": [],
   "source": [
    "import threading"
   ]
  },
  {
   "cell_type": "markdown",
   "metadata": {},
   "source": [
    "La clase `Thread` representa un hilo (o *thread*). Como tal, la intención es que cada hilo ejecute una secuencia de instrucciones específica de manera simultanea al resto de nuestro programa. Para especificar qué instrucciones ejecutará, se le entregan en forma de una función, la que se recibe en el parámetro `target` al crear el *thread*. Es decir, cuando el *thread* comience a funcionar, ejecutará la función entregada en este parámetro."
   ]
  },
  {
   "cell_type": "code",
   "execution_count": 2,
   "metadata": {},
   "outputs": [],
   "source": [
    "def contar_diez_ovejas():\n",
    "    print('Tengo sueño...')\n",
    "    for numero in range(1, 11):\n",
    "        print(f'({numero} oveja{\"s\" if numero > 1 else \"\"})')\n",
    "    print('A dormir...')\n",
    "\n",
    "\n",
    "mi_hilo = threading.Thread(target=contar_diez_ovejas)"
   ]
  },
  {
   "cell_type": "markdown",
   "metadata": {},
   "source": [
    "Aquí, se creó una instancia de `Thread`, y se almacenó en la variable `mi_hilo`. Recibió como argumento para ejecutar la función `contar_diez_ovejas`. Notamos que al crear una instancia de `Thread`, este **NO** se ejecuta automáticamente. Es por eso que no vemos *output* generado, ya que no se están ejecutando las instrucciones de `contar_diez_ovejas`.\n",
    "\n",
    "Para efectivamente ejecutar el *thread*, se debe llamar al método `start()`."
   ]
  },
  {
   "cell_type": "code",
   "execution_count": 3,
   "metadata": {},
   "outputs": [
    {
     "name": "stdout",
     "output_type": "stream",
     "text": [
      "Tengo sueño...\n",
      "(1 oveja)\n",
      "(2 ovejas)\n",
      "(3 ovejas)\n",
      "(4 ovejas)\n",
      "(5 ovejas)\n",
      "(6 ovejas)\n",
      "(7 ovejas)\n",
      "(8 ovejas)\n",
      "(9 ovejas)\n",
      "(10 ovejas)\n",
      "A dormir...\n"
     ]
    }
   ],
   "source": [
    "mi_hilo.start()"
   ]
  },
  {
   "cell_type": "markdown",
   "metadata": {},
   "source": [
    "Es importante notar, que los `Threads` definidos de esta forma por defecto son de un solo uso. Es decir, una vez ejecutados, no es posible volver a ejecutarlos. Para eso, es necesario volver a instanciar el *thread*. El siguiente código lanzará un error, ya que el *thread* que intentamos comenzar ya lo hizo antes:"
   ]
  },
  {
   "cell_type": "code",
   "execution_count": 4,
   "metadata": {},
   "outputs": [
    {
     "ename": "RuntimeError",
     "evalue": "threads can only be started once",
     "output_type": "error",
     "traceback": [
      "\u001b[0;31m---------------------------------------------------------------------------\u001b[0m",
      "\u001b[0;31mRuntimeError\u001b[0m                              Traceback (most recent call last)",
      "\u001b[0;32m<ipython-input-4-8bc48cfd30cd>\u001b[0m in \u001b[0;36m<module>\u001b[0;34m\u001b[0m\n\u001b[0;32m----> 1\u001b[0;31m \u001b[0mmi_hilo\u001b[0m\u001b[0;34m.\u001b[0m\u001b[0mstart\u001b[0m\u001b[0;34m(\u001b[0m\u001b[0;34m)\u001b[0m\u001b[0;34m\u001b[0m\u001b[0m\n\u001b[0m",
      "\u001b[0;32m~/.pyenv/versions/3.6.6/lib/python3.6/threading.py\u001b[0m in \u001b[0;36mstart\u001b[0;34m(self)\u001b[0m\n\u001b[1;32m    840\u001b[0m \u001b[0;34m\u001b[0m\u001b[0m\n\u001b[1;32m    841\u001b[0m         \u001b[0;32mif\u001b[0m \u001b[0mself\u001b[0m\u001b[0;34m.\u001b[0m\u001b[0m_started\u001b[0m\u001b[0;34m.\u001b[0m\u001b[0mis_set\u001b[0m\u001b[0;34m(\u001b[0m\u001b[0;34m)\u001b[0m\u001b[0;34m:\u001b[0m\u001b[0;34m\u001b[0m\u001b[0m\n\u001b[0;32m--> 842\u001b[0;31m             \u001b[0;32mraise\u001b[0m \u001b[0mRuntimeError\u001b[0m\u001b[0;34m(\u001b[0m\u001b[0;34m\"threads can only be started once\"\u001b[0m\u001b[0;34m)\u001b[0m\u001b[0;34m\u001b[0m\u001b[0m\n\u001b[0m\u001b[1;32m    843\u001b[0m         \u001b[0;32mwith\u001b[0m \u001b[0m_active_limbo_lock\u001b[0m\u001b[0;34m:\u001b[0m\u001b[0;34m\u001b[0m\u001b[0m\n\u001b[1;32m    844\u001b[0m             \u001b[0m_limbo\u001b[0m\u001b[0;34m[\u001b[0m\u001b[0mself\u001b[0m\u001b[0;34m]\u001b[0m \u001b[0;34m=\u001b[0m \u001b[0mself\u001b[0m\u001b[0;34m\u001b[0m\u001b[0m\n",
      "\u001b[0;31mRuntimeError\u001b[0m: threads can only be started once"
     ]
    }
   ],
   "source": [
    "mi_hilo.start()"
   ]
  },
  {
   "cell_type": "markdown",
   "metadata": {},
   "source": [
    "Como se mencionó inicialmente, todo programa (y proceso) tiene al menos un *thread*: el *thread* principal. Este corresponde al hilo que ejecuta el flujo principal de nuestro programa. La clase `Thread` admite el argumento `name`, que es un nombre que le podemos dar al *thread* para poder identificarlo. El nombre que se le asigna por defecto al *thread* principal es `'MainThread'`. En el siguiente código, la función `saludar` imprime el nombre del *thread* que lo ejecuta."
   ]
  },
  {
   "cell_type": "code",
   "execution_count": 5,
   "metadata": {},
   "outputs": [],
   "source": [
    "def saludar():\n",
    "    thread_actual = threading.current_thread()\n",
    "    print(f\"Hola desde {thread_actual.name}\")\n",
    "\n",
    "\n",
    "hilo_1 = threading.Thread(name=\"Mi thread 1\", target=saludar)\n",
    "hilo_2 = threading.Thread(name=\"Mi thread 2\", target=saludar)"
   ]
  },
  {
   "cell_type": "markdown",
   "metadata": {},
   "source": [
    "`threading.current_thread()` es una función que retorna una referencia de la instancia del *thread* que está ejecutando esa porción de código. Gracias a eso, se puede acceder a atributos de la instancia de `Thread`, como el nombre (`name`). A continuación, veremos que cada *thread* imprime su nombre correspondiente, incluso el *thread* principal:"
   ]
  },
  {
   "cell_type": "code",
   "execution_count": 6,
   "metadata": {},
   "outputs": [
    {
     "name": "stdout",
     "output_type": "stream",
     "text": [
      "Hola desde Mi thread 1\n",
      "Hola desde Mi thread 2\n",
      "Hola desde MainThread\n"
     ]
    }
   ],
   "source": [
    "# Llamaremos a saludar() desde los threads nombrados\n",
    "hilo_1.start()\n",
    "hilo_2.start()\n",
    "# Ahora llamaremos a saludar() desde el thread principal\n",
    "saludar()"
   ]
  },
  {
   "cell_type": "markdown",
   "metadata": {},
   "source": [
    "En el siguiente ejemplo, crearemos tres _threads_ `hilo_lento`, `hilo_rapido_1` e `hilo_rapido_2`, que ejecutarán distintas instancias de las funciones `fast_worker` y `slow_worker`."
   ]
  },
  {
   "cell_type": "code",
   "execution_count": 7,
   "metadata": {},
   "outputs": [
    {
     "name": "stdout",
     "output_type": "stream",
     "text": [
      "Thread principal: Fueron creados 3 threads\n"
     ]
    }
   ],
   "source": [
    "import threading\n",
    "import time\n",
    "\n",
    "\n",
    "def fast_worker():\n",
    "    # Función rápida, que toma 2 segundos\n",
    "    thread_actual = threading.current_thread()\n",
    "    print(f\"{thread_actual.name} partiendo...\")\n",
    "    # Pondremos a dormir el thread por 2 segundos simulando \n",
    "    # que ocurre algun proceso dentro de la función\n",
    "    time.sleep(2) \n",
    "    print(f\"{thread_actual.name} terminando...\")\n",
    "\n",
    "def slow_worker():\n",
    "    # Función lenta, que toma 6 segundos\n",
    "    thread_actual = threading.current_thread()\n",
    "    print(f\"{thread_actual.name} partiendo...\")\n",
    "    # Ponemos a dormir el thread por 6 segundos simulando\n",
    "    # un proceso más largo que el anterior dentro de la función\n",
    "    time.sleep(6) \n",
    "    print(f\"{thread_actual.name} terminando...\")\n",
    "\n",
    "# Creamos los threads usando la clase Thread\n",
    "hilo_lento = threading.Thread(name=\"Hilo lento (6s)\", target=slow_worker)\n",
    "hilo_rapido_1 = threading.Thread(name=\"Hilo rápido (2s)\", target=fast_worker)\n",
    "hilo_rapido_2 = threading.Thread(target=fast_worker)  # Usa el nombre asignado por defecto\n",
    "print(\"Thread principal: Fueron creados 3 threads\")"
   ]
  },
  {
   "cell_type": "code",
   "execution_count": 8,
   "metadata": {},
   "outputs": [
    {
     "name": "stdout",
     "output_type": "stream",
     "text": [
      "Hilo rápido (2s) partiendo...\n",
      "Thread-5 partiendo...\n",
      "Hilo lento (6s) partiendo...\n",
      "Thread principal: Fueron iniciados 3 threads\n",
      "\n",
      "Thread principal: Segundo actual: 0\n",
      "Thread principal: Segundo actual: 1\n",
      "Hilo rápido (2s) terminando...Thread-5 terminando...\n",
      "\n",
      "Thread principal: Segundo actual: 2\n",
      "Thread principal: Segundo actual: 3\n",
      "Thread principal: Segundo actual: 4\n",
      "Thread principal: Segundo actual: 5\n",
      "Hilo lento (6s) terminando...\n",
      "Thread principal: Segundo actual: 6\n",
      "Thread principal: Segundo actual: 7\n",
      "Thread principal: Segundo actual: 8\n",
      "Thread principal: Segundo actual: 9\n"
     ]
    }
   ],
   "source": [
    "# Se inicializan los threads creados\n",
    "hilo_rapido_1.start() # Dormirá por 2 segundos\n",
    "hilo_rapido_2.start() # Dormirá por 2 segundos\n",
    "hilo_lento.start() # Dormirá por 6 segundos\n",
    "print(\"Thread principal: Fueron iniciados 3 threads\")\n",
    "# Todas estas líneas serán ejecutadas mientras los threads se ejecutan\n",
    "# independientemente del programa principal\n",
    "\n",
    "print()\n",
    "# El thread principal ejecutará lo que queda código\n",
    "# mientras los otros 3 threads hacen lo suyo\n",
    "\n",
    "for i in range(10):\n",
    "    print(f\"Thread principal: Segundo actual: {i}\")\n",
    "    time.sleep(1)"
   ]
  },
  {
   "cell_type": "markdown",
   "metadata": {},
   "source": [
    "#### (Abre paréntesis...\n",
    "#### *Warning*: los *prints* están extraños\n",
    "\n",
    "A partir de este ejemplo en adelante, es altamente probable que al ejecutar `print` falten o sobran saltos de línea. La pregunta es, ¿tienen que ver los *threads* con este extraño comportamiento? La respuesta es sí.\n",
    "\n",
    "De acuerdo a [este post en StackOverflow](https://stackoverflow.com/questions/31142566/print-skipping-newline) esto se produce porque – a nivel de máquina – escribir el texto del `print` y escribir el salto de línea son **dos instrucciones distintas**. Por lo tanto, es posible que un *thread* imprima el texto, se pause ese *thread*, luego otro *thread* imprima su texto y su respectivo salto de línea, y luego al volver al primer *thread* este imprima el salto de línea que faltaba.\n",
    "#### ...cierra paréntesis)\n",
    "\n",
    "En el ejemplo, vemos que una vez inicializados los *threads*, el programa principal continúa con el resto de instrucciones mientras los *threads* se ejecutan. Luego los tres *threads* terminan independientemente en distintos momentos. El programa principal esperará a que todos los *threads* hayan terminado correctamente.\n",
    "\n",
    "También es posible, mediante el atributo `args` o `kwargs`, pasar los argumentos a la función definida como `target` del *thread*."
   ]
  },
  {
   "cell_type": "code",
   "execution_count": 9,
   "metadata": {},
   "outputs": [
    {
     "name": "stdout",
     "output_type": "stream",
     "text": [
      "Thread 1 tiene sueño...\n",
      "Thread 2 tiene sueño...\n",
      "(Thread 1: 1 oveja)(Thread 2: 1 oveja)\n",
      "\n",
      "(Thread 1: 2 ovejas)(Thread 2: 2 ovejas)\n",
      "\n",
      "(Thread 2: 3 ovejas)\n",
      "(Thread 1: 3 ovejas)\n",
      "(Thread 2: 4 ovejas)\n",
      "(Thread 1: 4 ovejas)\n",
      "(Thread 2: 5 ovejas)\n",
      "(Thread 1: 5 ovejas)\n",
      "(Thread 2: 6 ovejas)\n",
      "(Thread 1: 6 ovejas)\n",
      "(Thread 1: 7 ovejas)(Thread 2: 7 ovejas)\n",
      "\n",
      "(Thread 1: 8 ovejas)\n",
      "(Thread 2: 8 ovejas)\n",
      "(Thread 1: 9 ovejas)\n",
      "(Thread 2: 9 ovejas)\n",
      "(Thread 1: 10 ovejas)\n",
      "Thread 1 a dormir...\n",
      "(Thread 2: 10 ovejas)\n",
      "(Thread 2: 11 ovejas)\n",
      "(Thread 2: 12 ovejas)\n",
      "(Thread 2: 13 ovejas)\n",
      "(Thread 2: 14 ovejas)\n",
      "(Thread 2: 15 ovejas)\n",
      "Thread 2 a dormir...\n"
     ]
    }
   ],
   "source": [
    "import threading\n",
    "import time\n",
    "\n",
    "def contar_ovejas_hasta(max_ovejas):\n",
    "    thread_actual = threading.current_thread()\n",
    "    print(f\"{thread_actual.name} tiene sueño...\")\n",
    "    for numero in range(1, max_ovejas + 1):\n",
    "        time.sleep(1)\n",
    "        print(f'({thread_actual.name}: {numero} oveja{\"s\" if numero > 1 else \"\"})')\n",
    "    print(f\"{thread_actual.name} a dormir...\")\n",
    "\n",
    "\n",
    "# Se crean los threads usando la clase Thread, asociada a la función objetivo para \n",
    "# ser ejecutada por el thread, y los atributos de la función son ingresados en \n",
    "# args o kwargs\n",
    "\n",
    "t1 = threading.Thread(name=\"Thread 1\", target=contar_ovejas_hasta, args=(10,))\n",
    "t2 = threading.Thread(name=\"Thread 2\", target=contar_ovejas_hasta, kwargs={\"max_ovejas\": 15})\n",
    "t1.start()\n",
    "t2.start()"
   ]
  },
  {
   "cell_type": "markdown",
   "metadata": {},
   "source": [
    "En concordancia con el modelamiento basado en OOP, podemos crear también *threads* como instancias de una clase que hereda desde la clase `Thread`. Es decir, podemos crear clases para *threads* con comportamiento común. Para definir las instrucciones que serán ejecutadas por la instancia de *thread*, se debe definir el método `run()` en la clase, el cual se ejecuta luego de llamar a `start`, al igual que antes. En realidad, más que definir el método `run`, estamos redefiniendolo, es decir, haciendo *overrride* del método original de la clase madre `Thread`. El método `run` original simplemente ejecuta la función recibida `target` de antes. Ahora, podemos sobrescribir este método para definir las instrucciones a ejecutar directamente."
   ]
  },
  {
   "cell_type": "code",
   "execution_count": 10,
   "metadata": {},
   "outputs": [
    {
     "name": "stdout",
     "output_type": "stream",
     "text": [
      "Thread principal: Fueron creados 2 threads\n"
     ]
    }
   ],
   "source": [
    "import threading\n",
    "import time\n",
    "\n",
    "\n",
    "class CuentaOvejas(threading.Thread):\n",
    "    \"\"\"Este será nuestro nuevo Cuenta Ovejas basado en Thread\"\"\"\n",
    "    def __init__(self, nombre, max_ovejas):\n",
    "        # En el caso de los threads, lo primero es invocar al init original. SIEMPRE.\n",
    "        super().__init__(name=nombre)\n",
    "        self.max_ovejas = max_ovejas\n",
    "    \n",
    "    def run(self):\n",
    "        # Este metodo define las instrucciones a ejecutar de este thread\n",
    "        # cuando lo ejecutamos el metodo start()\n",
    "        print(f\"{self.name} tiene sueño...\")\n",
    "        tiempo_partida = time.time()\n",
    "        for numero in range(1, self.max_ovejas + 1):\n",
    "            time.sleep(1)\n",
    "            print(f'({self.name}: {numero} oveja{\"s\" if numero > 1 else \"\"})')\n",
    "        print(f\"{self.name} a dormir...\")\n",
    "        print(f\"{self.name} se durmió después de {time.time() - tiempo_partida} seg.\")\n",
    "\n",
    "        \n",
    "class CuentaLiebres(threading.Thread):\n",
    "    \"\"\"\n",
    "    Este será un nuevo Cuenta Liebres basado en Thread\n",
    "    Las liebres son más rápidas, así que cuenta dos por segundo\n",
    "    \"\"\"\n",
    "    def __init__(self, nombre, max_liebres):\n",
    "        super().__init__(name=nombre)\n",
    "        self.max_liebres = max_liebres\n",
    "    \n",
    "    def run(self):\n",
    "        print(f\"{self.name} tiene sueño...\")\n",
    "        tiempo_partida = time.time()\n",
    "        for numero in range(1, self.max_liebres + 1):\n",
    "            if numero % 2 == 1:\n",
    "                time.sleep(1)\n",
    "            print(f'({self.name}: {numero} liebre{\"s\" if numero > 1 else \"\"})')\n",
    "        print(f\"{self.name} a dormir...\")\n",
    "        print(f\"{self.name} se durmió después de {time.time() - tiempo_partida} seg.\")\n",
    "        \n",
    "\n",
    "# Se crean los threads\n",
    "cuenta_ovejas = CuentaOvejas('Fernando', 10)\n",
    "cuenta_liebres = CuentaLiebres('Antonio', 10)\n",
    "print(\"Thread principal: Fueron creados 2 threads\")"
   ]
  },
  {
   "cell_type": "code",
   "execution_count": 11,
   "metadata": {},
   "outputs": [
    {
     "name": "stdout",
     "output_type": "stream",
     "text": [
      "Fernando tiene sueño...\n",
      "Antonio tiene sueño...\n",
      "Thread principal: Fueron iniciados 2 threads\n",
      "\n",
      "Thread principal: Segundo actual: 0\n",
      "(Fernando: 1 oveja)\n",
      "Thread principal: Segundo actual: 1(Antonio: 1 liebre)\n",
      "\n",
      "(Antonio: 2 liebres)\n",
      "(Fernando: 2 ovejas)\n",
      "Thread principal: Segundo actual: 2\n",
      "(Antonio: 3 liebres)\n",
      "(Antonio: 4 liebres)\n",
      "(Fernando: 3 ovejas)\n",
      "Thread principal: Segundo actual: 3\n",
      "(Antonio: 5 liebres)\n",
      "(Antonio: 6 liebres)\n",
      "(Fernando: 4 ovejas)\n",
      "Thread principal: Segundo actual: 4\n",
      "(Antonio: 7 liebres)\n",
      "(Antonio: 8 liebres)\n",
      "(Fernando: 5 ovejas)\n",
      "Thread principal: Segundo actual: 5\n",
      "(Antonio: 9 liebres)\n",
      "(Antonio: 10 liebres)\n",
      "Antonio a dormir...\n",
      "Antonio se durmió después de 5.009629011154175 seg.\n",
      "(Fernando: 6 ovejas)\n",
      "Thread principal: Segundo actual: 6\n",
      "(Fernando: 7 ovejas)\n",
      "Thread principal: Segundo actual: 7\n",
      "(Fernando: 8 ovejas)\n",
      "Thread principal: Segundo actual: 8\n",
      "(Fernando: 9 ovejas)\n",
      "Thread principal: Segundo actual: 9\n",
      "(Fernando: 10 ovejas)\n",
      "Fernando a dormir...\n",
      "Fernando se durmió después de 10.015545129776001 seg.\n"
     ]
    }
   ],
   "source": [
    "# Se inicializan los threads creados\n",
    "cuenta_ovejas.start()\n",
    "cuenta_liebres.start()\n",
    "print(\"Thread principal: Fueron iniciados 2 threads\")\n",
    "# Todas estas líneas serán ejecutadas mientras los threads se ejecutan\n",
    "# independientemente del programa principal\n",
    "    \n",
    "print()\n",
    "# El thread principal ejecutará lo que queda código\n",
    "# mientras los otros 2 threads hacen lo suyo\n",
    "for i in range(10):\n",
    "    print(f\"Thread principal: Segundo actual: {i}\")\n",
    "    time.sleep(1)"
   ]
  },
  {
   "cell_type": "markdown",
   "metadata": {},
   "source": [
    "### `join()`"
   ]
  },
  {
   "cell_type": "markdown",
   "metadata": {},
   "source": [
    "Hasta ahora hemos visto comportamiento de *threads* que se ejecutan \"en paralelo\" y de forma independiente al flujo del programa principal. Pero hay ocasiones dónde el programa principal puede necesitar que otros *threads* terminen antes de ejecutar ciertas instrucciones.\n",
    "\n",
    "Por ejemplo, un programa que debe obtener el total de compras de una tienda, donde el detalle de las compras se encuentran en cinco archivos en distintos formatos. El programa delega a cinco *threads* distintos el leer y sumar el total de compras de cada archivo, **espera** a que cada *thread* termine de hacer sus cálculos y luego obtiene los cinco resultados y los suma.\n",
    "\n",
    "Si necesitamos que el programa principal espere a que termine la ejecución de algún *thread* (o grupo de *threads*), debemos usar el método `join(timeout=None)` después de que el *thread* ha sido iniciado mediante `start()`.\n",
    "\n",
    "Al usar `join()`, el programa principal queda bloqueado hasta que los *threads* referenciados terminen correctamente. No obstante, si se especifica un `timeout` (en segundos) el programa esperará al *thread* referenciado solo por ese tiempo y luego continuará.\n",
    "\n",
    "La figura siguiente explica gráficamente la ejecución del programa usando `join()`.\n",
    "\n",
    "![join](imgs/join.png)\n",
    "\n",
    "Veamos ahora una extensión del ejemplo anterior pero con la incorporación de `join()`. Aquí, los ayudantes del curso esperan a que los profesores (o casi todos) se duerman para empezar a festejar. Notar que el comportamiento de los ayudantes está en el programa principal, y el festejo no comienza hasta después de que la mayoría de los *threads* ejecutados terminan."
   ]
  },
  {
   "cell_type": "code",
   "execution_count": 12,
   "metadata": {},
   "outputs": [
    {
     "name": "stdout",
     "output_type": "stream",
     "text": [
      "Fernando tiene sueño...Cristian tiene sueño...\n",
      "Antonio tiene sueño...\n",
      "\n",
      "Vicente tiene sueño...\n",
      "Ayudantes: Los profes se fueron a dormir...\n",
      "(Cristian: 1 oveja)(Antonio: 1 liebre)\n",
      "(Antonio: 2 liebres)\n",
      "(Vicente: 1 liebre)\n",
      "(Fernando: 1 oveja)\n",
      "(Vicente: 2 liebres)\n",
      "\n",
      "(Cristian: 2 ovejas)\n",
      "(Vicente: 3 liebres)\n",
      "(Vicente: 4 liebres)\n",
      "(Antonio: 3 liebres)\n",
      "(Antonio: 4 liebres)\n",
      "(Fernando: 2 ovejas)\n",
      "(Cristian: 3 ovejas)(Vicente: 5 liebres)\n",
      "(Fernando: 3 ovejas)\n",
      "(Vicente: 6 liebres)\n",
      "\n",
      "(Antonio: 5 liebres)\n",
      "Antonio a dormir...\n",
      "Antonio se durmió después de 3.013759136199951 seg.\n",
      "Ayudantes: ¡ANTONIO SE DURMIÓ!\n",
      "(Cristian: 4 ovejas)\n",
      "(Vicente: 7 liebres)(Fernando: 4 ovejas)\n",
      "(Vicente: 8 liebres)\n",
      "\n",
      "(Cristian: 5 ovejas)\n",
      "(Fernando: 5 ovejas)\n",
      "Fernando a dormir...\n",
      "Fernando se durmió después de 5.018772125244141 seg.\n",
      "Ayudantes: ¡FERNANDO SE DURMIÓ!(Vicente: 9 liebres)\n",
      "(Vicente: 10 liebres)\n",
      "\n",
      "(Vicente: 11 liebres)\n",
      "(Vicente: 12 liebres)\n",
      "(Cristian: 6 ovejas)\n",
      "(Vicente: 13 liebres)\n",
      "(Vicente: 14 liebres)\n",
      "(Cristian: 7 ovejas)\n",
      "Cristian a dormir...\n",
      "Cristian se durmió después de 7.032484769821167 seg.\n",
      "Ayudantes: ¡CRISTIAN SE DURMIÓ!\n",
      "(Vicente: 15 liebres)\n",
      "(Vicente: 16 liebres)\n",
      "Ayudantes: ¡(casi todos) los profes se durmieron! ¡A festejar!\n",
      "Ayudantes: 🎵🎶🎵🎶🎵🎶🎵🎶🎵🎶🎵🎶🎵🎶🎵🎶\n",
      "(Vicente: 17 liebres)\n",
      "(Vicente: 18 liebres)\n",
      "Ayudantes: 🎵🎶🎵🎶🎵🎶🎵🎶🎵🎶🎵🎶🎵🎶🎵🎶\n",
      "(Vicente: 19 liebres)Ayudantes: 🎵🎶🎵🎶🎵🎶🎵🎶🎵🎶🎵🎶🎵🎶🎵🎶\n",
      "(Vicente: 20 liebres)\n",
      "\n",
      "Ayudantes: 🎵🎶🎵🎶🎵🎶🎵🎶🎵🎶🎵🎶🎵🎶🎵🎶(Vicente: 21 liebres)\n",
      "(Vicente: 22 liebres)\n",
      "\n",
      "(Vicente: 23 liebres)Ayudantes: 🎵🎶🎵🎶🎵🎶🎵🎶🎵🎶🎵🎶🎵🎶🎵🎶\n",
      "(Vicente: 24 liebres)\n",
      "\n",
      "(Vicente: 25 liebres)\n",
      "Vicente a dormir...\n",
      "Vicente se durmió después de 13.05020809173584 seg.\n",
      "Ayudantes: 🎵🎶🎵🎶🎵🎶🎵🎶🎵🎶🎵🎶🎵🎶🎵🎶\n",
      "Ayudantes: 🎵🎶🎵🎶🎵🎶🎵🎶🎵🎶🎵🎶🎵🎶🎵🎶\n",
      "Ayudantes: 🎵🎶🎵🎶🎵🎶🎵🎶🎵🎶🎵🎶🎵🎶🎵🎶\n",
      "Ayudantes: 🎵🎶🎵🎶🎵🎶🎵🎶🎵🎶🎵🎶🎵🎶🎵🎶\n",
      "Ayudantes: 🎵🎶🎵🎶🎵🎶🎵🎶🎵🎶🎵🎶🎵🎶🎵🎶\n",
      "Ayudantes: Ojalá no nos hayan escuchado...\n"
     ]
    }
   ],
   "source": [
    "import threading\n",
    "import time\n",
    "\n",
    "# Usamos la definicion de los Thread declarados en el ejemplo anterior\n",
    "# Se crean los threads usando la clase Thread.\n",
    "fernando = CuentaOvejas(\"Fernando\", 5)\n",
    "cristian = CuentaOvejas(\"Cristian\", 7)\n",
    "antonio = CuentaLiebres(\"Antonio\", 5)\n",
    "vicente = CuentaLiebres(\"Vicente\", 25)\n",
    "\n",
    "# Se inicializan los threads creados\n",
    "fernando.start()\n",
    "cristian.start()\n",
    "antonio.start()\n",
    "vicente.start()\n",
    "print(\"Ayudantes: Los profes se fueron a dormir...\")\n",
    "\n",
    "# Aquí incorporamos el método join() para bloquear el programa principal\n",
    "antonio.join()  # Esperaremos lo que sea necesario.\n",
    "print(\"Ayudantes: ¡ANTONIO SE DURMIÓ!\")\n",
    "fernando.join() # No especificamos timeout, esperará lo que sea necesario\n",
    "print(\"Ayudantes: ¡FERNANDO SE DURMIÓ!\")\n",
    "cristian.join() # Esperaremos lo que sea necesario.\n",
    "print(\"Ayudantes: ¡CRISTIAN SE DURMIÓ!\")\n",
    "vicente.join(1)  # Esperaremos máximo 1 segundos después del último dormido, ya es muy tarde\n",
    "print(\"Ayudantes: ¡(casi todos) los profes se durmieron! ¡A festejar!\")\n",
    "\n",
    "# En este punto, el programa ha esperado por los cuatro threads que creamos\n",
    "# Estas líneas serán ejecutadas después de que los threads hayan terminado\n",
    "for _ in range(10):\n",
    "    print(\"Ayudantes: 🎵🎶🎵🎶🎵🎶🎵🎶🎵🎶🎵🎶🎵🎶🎵🎶\")\n",
    "    time.sleep(1)\n",
    "print(\"Ayudantes: Ojalá no nos hayan escuchado...\")"
   ]
  },
  {
   "cell_type": "markdown",
   "metadata": {},
   "source": [
    "### `is_alive()`"
   ]
  },
  {
   "cell_type": "markdown",
   "metadata": {},
   "source": [
    "Es posible identificar si un *thread* todavía está en funcionamiento mediante el uso del método `is_alive()`. Por lo general este método se implementa para saber el estado del *thread* después del uso de `join()`, al cual se le ha definido su tiempo máximo de espera."
   ]
  },
  {
   "cell_type": "code",
   "execution_count": 13,
   "metadata": {
    "scrolled": false
   },
   "outputs": [
    {
     "name": "stdout",
     "output_type": "stream",
     "text": [
      "Fernando tiene sueño...\n",
      "Cristian tiene sueño...\n",
      "Antonio tiene sueño...\n",
      "Vicente tiene sueño...\n",
      "Ayudantes: Los profes se fueron a dormir...\n",
      "(Fernando: 1 oveja)(Cristian: 1 oveja)(Antonio: 1 liebre)\n",
      "(Antonio: 2 liebres)\n",
      "\n",
      "\n",
      "(Vicente: 1 liebre)\n",
      "(Vicente: 2 liebres)\n",
      "(Antonio: 3 liebres)\n",
      "Antonio a dormir...\n",
      "Antonio se durmió después de 2.002469301223755 seg.\n",
      "Ayudantes: ¡ANTONIO SE DURMIÓ!\n",
      "(Fernando: 2 ovejas)(Cristian: 2 ovejas)\n",
      "\n",
      "(Vicente: 3 liebres)\n",
      "(Vicente: 4 liebres)\n",
      "(Cristian: 3 ovejas)(Fernando: 3 ovejas)\n",
      "\n",
      "Fernando a dormir...\n",
      "Fernando se durmió después de 3.004487991333008 seg.\n",
      "Ayudantes: ¡FERNANDO SE DURMIÓ!\n",
      "(Vicente: 5 liebres)\n",
      "(Vicente: 6 liebres)\n",
      "(Cristian: 4 ovejas)\n",
      "(Vicente: 7 liebres)\n",
      "(Vicente: 8 liebres)\n",
      "(Cristian: 5 ovejas)\n",
      "(Vicente: 9 liebres)\n",
      "(Vicente: 10 liebres)\n",
      "(Cristian: 6 ovejas)\n",
      "Cristian a dormir...\n",
      "Cristian se durmió después de 6.014775037765503 seg.\n",
      "Ayudantes: ¡CRISTIAN SE DURMIÓ!\n",
      "(Vicente: 11 liebres)\n",
      "(Vicente: 12 liebres)\n",
      "Ayudantes: Vicente sigue despierto 😞. A la casa cabros.\n",
      "(Vicente: 13 liebres)\n",
      "(Vicente: 14 liebres)\n",
      "(Vicente: 15 liebres)\n",
      "Vicente a dormir...\n",
      "Vicente se durmió después de 8.018288850784302 seg.\n"
     ]
    }
   ],
   "source": [
    "import threading\n",
    "import time\n",
    "\n",
    "# Usamos la definicion de los Thread declarados en el ejemplo anterior\n",
    "# Se crean los threads usando la clase Thread.\n",
    "fernando = CuentaOvejas(\"Fernando\", 3)\n",
    "cristian = CuentaOvejas(\"Cristian\", 6)\n",
    "antonio = CuentaLiebres(\"Antonio\", 3)\n",
    "vicente = CuentaLiebres(\"Vicente\", 15)\n",
    "\n",
    "# Se inicializan los threads creados\n",
    "fernando.start()\n",
    "cristian.start()\n",
    "antonio.start()\n",
    "vicente.start()\n",
    "print(\"Ayudantes: Los profes se fueron a dormir...\")\n",
    "\n",
    "antonio.join()  # Esperaremos lo que sea necesario.\n",
    "print(\"Ayudantes: ¡ANTONIO SE DURMIÓ!\")\n",
    "fernando.join() # No especificamos timeout, esperará lo que sea necesario\n",
    "print(\"Ayudantes: ¡FERNANDO SE DURMIÓ!\")\n",
    "cristian.join() # Esperaremos lo que sea necesario.\n",
    "print(\"Ayudantes: ¡CRISTIAN SE DURMIÓ!\")\n",
    "vicente.join(1)  # Esperaremos máximo 1 segundos después del último dormido, ya es muy tarde\n",
    "\n",
    "if vicente.is_alive():\n",
    "    print(\"Ayudantes: Vicente sigue despierto 😞. A la casa cabros.\")\n",
    "else:\n",
    "    print(\"Ayudantes: ¡Todos los profes se durmieron! ¡A festejar!\")\n",
    "    for i in range(10):\n",
    "        print(\"Ayudantes: 🎵🎶🎵🎶🎵🎶🎵🎶🎵🎶🎵🎶🎵🎶🎵🎶\")\n",
    "        time.sleep(1)"
   ]
  },
  {
   "cell_type": "code",
   "execution_count": 14,
   "metadata": {},
   "outputs": [
    {
     "name": "stdout",
     "output_type": "stream",
     "text": [
      "(Ayudantes vuelven)\n",
      "Ayudantes: Esperemos un poco más cabros...\n",
      "Ayudantes: ¡Fernando se quedó dormido!\n",
      "Ayudantes: ¡Cristian se quedó dormido!\n",
      "Ayudantes: ¡Antonio se quedó dormido!\n",
      "Ayudantes: ¡Vicente se quedó dormido!\n"
     ]
    }
   ],
   "source": [
    "print(\"(Ayudantes vuelven)\")\n",
    "print(\"Ayudantes: Esperemos un poco más cabros...\")\n",
    "time.sleep(2)\n",
    "for profe in [fernando, cristian, antonio, vicente]:\n",
    "    if profe.is_alive():\n",
    "        print(f\"Ayudantes: {profe.name} aún está despierto 😞\")\n",
    "    else:\n",
    "        print(f\"Ayudantes: ¡{profe.name} se quedó dormido!\")"
   ]
  },
  {
   "cell_type": "markdown",
   "metadata": {},
   "source": [
    "### *Daemons*\n",
    "\n",
    "En los ejemplos anteriores, el programa espera a que todos los *threads* terminen su trabajo antes de terminar su ejecución. Los ***daemon threads*** son los que, a pesar de que estén aún corriendo, no impiden que el programa principal termine.\n",
    "\n",
    "Si no existieran los *daemon threads*, tendríamos que preocuparnos de tener en cuenta todos nuestros *threads* y preocuparnos de terminarlos a todos para que el programa principal pueda terminar. Con los *daemon threads*, podemos ponerlos a correr y olvidarnos de ellos, y cuando el programa termina, los *daemon threads* serán terminados inmediatamente. El programa principal terminará cuando todos los *threads no-daemon* hayan finalizado.\n",
    "\n",
    "Para especificar que un *thread* debe ser *daemon*, se especifica el parámetro `daemon=True` en el constructor del *thread*. Una forma alternativa es escribir el atributo `daemon` del *thread*, después de haberlo creado.\n",
    "\n",
    "#### (Abre paréntesis...\n",
    "#### *Warning*: este cuaderno no refleja el efecto de *daemon*\n",
    "\n",
    "Debido al funcionamiento interno de los Jupyter Notebooks, no se puede notar el efecto de utilizar esta propiedad de los threads en las celdas. Es por esto que el siguiente código se encuentra en el archivo adjunto `daemon_threads.py`, para ser ejecutado fuera de este cuaderno.\n",
    "#### ...cierra paréntesis)"
   ]
  },
  {
   "cell_type": "code",
   "execution_count": null,
   "metadata": {},
   "outputs": [],
   "source": [
    "import threading\n",
    "import time\n",
    "\n",
    "\n",
    "def dormilon():\n",
    "    print(f\"{threading.current_thread().name} tiene sueño...\")\n",
    "    time.sleep(2)\n",
    "    print(f\"{threading.current_thread().name} se durmió.\")\n",
    "\n",
    "    \n",
    "def con_insonmio():\n",
    "    print(f\"{threading.current_thread().name} tiene sueño...\")\n",
    "    time.sleep(10)\n",
    "    print(f\"{threading.current_thread().name} se durmió.\")\n",
    "\n",
    "\n",
    "# Forma 1 de hacer un thread daemon\n",
    "dormilon = threading.Thread(name=\"Dormilón\", target=dormilon, daemon=True)\n",
    "# Forma 2 de hacer un thread daemon\n",
    "con_insomnio = threading.Thread(name=\"Con insonmio\", target=con_insonmio)\n",
    "con_insomnio.daemon = True\n",
    "\n",
    "# Se inicializan los threads\n",
    "dormilon.start()\n",
    "con_insomnio.start()"
   ]
  },
  {
   "cell_type": "markdown",
   "metadata": {},
   "source": [
    "La siguiente figura muestra la salida en la consola para el programa **con** los *threads* configurados como *daemon*. Los *threads* se interrumpen abruptamente, luego de que el programa principal termina su ejecución.\n",
    "\n",
    "![daemon](imgs/daemon.png)\n",
    "\n",
    "Comparemos el resultado anterior con la salida en la consola para el programa **sin** los *threads* configurados como *daemon* (`daemon=False`), como muestra la imagen siguiente. Podemos ver que la ejecución de los *threads* fue completada y que el programa no se cierra hasta que los *threads* terminan.\n",
    "\n",
    "![non_daemon](imgs/non-daemon.png)"
   ]
  },
  {
   "cell_type": "markdown",
   "metadata": {},
   "source": [
    "En la penúltima imagen, podemos apreciar que el programa principal termina antes que los *daemon threads*. Es posible hacer que el programa espere a un *daemon thread* mediante el uso de `join()`, lo que tendría sentido cuando debemos esperar algún resultado del *thread* para el resto del programa."
   ]
  },
  {
   "cell_type": "code",
   "execution_count": null,
   "metadata": {},
   "outputs": [],
   "source": [
    "import threading\n",
    "import time\n",
    "\n",
    "\n",
    "def dormilon():\n",
    "    print(f\"{threading.current_thread().name} tiene sueño...\")\n",
    "    time.sleep(2)\n",
    "    print(f\"{threading.current_thread().name} se durmió.\")\n",
    "\n",
    "    \n",
    "def con_insonmio():\n",
    "    print(f\"{threading.current_thread().name} tiene sueño...\")\n",
    "    time.sleep(10)\n",
    "    print(f\"{threading.current_thread().name} se durmió.\")\n",
    "\n",
    "\n",
    "# Forma 1 de hacer un thread daemon\n",
    "dormilon = threading.Thread(name=\"Dormilón\", target=dormilon, daemon=True)\n",
    "# Forma 2 de hacer un thread daemon\n",
    "con_insomnio = threading.Thread(name=\"Con insonmio\", target=con_insonmio)\n",
    "con_insomnio.daemon = True\n",
    "\n",
    "# Se inicializan los threads\n",
    "dormilon.start()\n",
    "con_insomnio.start()\n",
    "\n",
    "# Esperamos los threads.\n",
    "# Lo esperamos por una cantidad indefinida de tiempo\n",
    "dormilon.join()\n",
    "# Esperamos sólo 5 segundos\n",
    "con_insomnio.join(5)"
   ]
  },
  {
   "cell_type": "markdown",
   "metadata": {},
   "source": [
    "Un aspecto importante a notar es que una vez que se ha llamado el método `start()` un *thread* no puede cambiar desde *daemon* a *no-daemon*, o vicecersa. Si tratamos de hacerlo, se lanza una excepción del tipo `RuntimeError`."
   ]
  },
  {
   "cell_type": "code",
   "execution_count": 16,
   "metadata": {},
   "outputs": [
    {
     "name": "stderr",
     "output_type": "stream",
     "text": [
      "Exception in thread Dormilón:\n",
      "Traceback (most recent call last):\n",
      "  File \"/Users/fdoflorenzano/.pyenv/versions/3.6.6/lib/python3.6/threading.py\", line 916, in _bootstrap_inner\n",
      "    self.run()\n",
      "  File \"/Users/fdoflorenzano/.pyenv/versions/3.6.6/lib/python3.6/threading.py\", line 864, in run\n",
      "    self._target(*self._args, **self._kwargs)\n",
      "TypeError: 'Thread' object is not callable\n",
      "\n"
     ]
    },
    {
     "ename": "RuntimeError",
     "evalue": "cannot set daemon status of active thread",
     "output_type": "error",
     "traceback": [
      "\u001b[0;31m---------------------------------------------------------------------------\u001b[0m",
      "\u001b[0;31mRuntimeError\u001b[0m                              Traceback (most recent call last)",
      "\u001b[0;32m<ipython-input-16-6079ba9e05fc>\u001b[0m in \u001b[0;36m<module>\u001b[0;34m\u001b[0m\n\u001b[1;32m      3\u001b[0m \u001b[0;34m\u001b[0m\u001b[0m\n\u001b[1;32m      4\u001b[0m \u001b[0;31m# Noo!\u001b[0m\u001b[0;34m\u001b[0m\u001b[0;34m\u001b[0m\u001b[0m\n\u001b[0;32m----> 5\u001b[0;31m \u001b[0mdormilon\u001b[0m\u001b[0;34m.\u001b[0m\u001b[0mdaemon\u001b[0m \u001b[0;34m=\u001b[0m \u001b[0;32mFalse\u001b[0m\u001b[0;34m\u001b[0m\u001b[0m\n\u001b[0m\u001b[1;32m      6\u001b[0m \u001b[0;34m\u001b[0m\u001b[0m\n\u001b[1;32m      7\u001b[0m \u001b[0mdormilon\u001b[0m\u001b[0;34m.\u001b[0m\u001b[0mjoin\u001b[0m\u001b[0;34m(\u001b[0m\u001b[0;34m)\u001b[0m\u001b[0;34m\u001b[0m\u001b[0m\n",
      "\u001b[0;32m~/.pyenv/versions/3.6.6/lib/python3.6/threading.py\u001b[0m in \u001b[0;36mdaemon\u001b[0;34m(self, daemonic)\u001b[0m\n\u001b[1;32m   1139\u001b[0m             \u001b[0;32mraise\u001b[0m \u001b[0mRuntimeError\u001b[0m\u001b[0;34m(\u001b[0m\u001b[0;34m\"Thread.__init__() not called\"\u001b[0m\u001b[0;34m)\u001b[0m\u001b[0;34m\u001b[0m\u001b[0m\n\u001b[1;32m   1140\u001b[0m         \u001b[0;32mif\u001b[0m \u001b[0mself\u001b[0m\u001b[0;34m.\u001b[0m\u001b[0m_started\u001b[0m\u001b[0;34m.\u001b[0m\u001b[0mis_set\u001b[0m\u001b[0;34m(\u001b[0m\u001b[0;34m)\u001b[0m\u001b[0;34m:\u001b[0m\u001b[0;34m\u001b[0m\u001b[0m\n\u001b[0;32m-> 1141\u001b[0;31m             \u001b[0;32mraise\u001b[0m \u001b[0mRuntimeError\u001b[0m\u001b[0;34m(\u001b[0m\u001b[0;34m\"cannot set daemon status of active thread\"\u001b[0m\u001b[0;34m)\u001b[0m\u001b[0;34m\u001b[0m\u001b[0m\n\u001b[0m\u001b[1;32m   1142\u001b[0m         \u001b[0mself\u001b[0m\u001b[0;34m.\u001b[0m\u001b[0m_daemonic\u001b[0m \u001b[0;34m=\u001b[0m \u001b[0mdaemonic\u001b[0m\u001b[0;34m\u001b[0m\u001b[0m\n\u001b[1;32m   1143\u001b[0m \u001b[0;34m\u001b[0m\u001b[0m\n",
      "\u001b[0;31mRuntimeError\u001b[0m: cannot set daemon status of active thread"
     ]
    }
   ],
   "source": [
    "dormilon = threading.Thread(name=\"Dormilón\", target=dormilon, daemon=True)\n",
    "dormilon.start()\n",
    "\n",
    "# Noo!\n",
    "dormilon.daemon = False\n",
    "\n",
    "dormilon.join()"
   ]
  },
  {
   "cell_type": "markdown",
   "metadata": {},
   "source": [
    "Al hacer una subclase de `Thread`, que queremos que sea *daemon*, podemos indicar que el *thread* es *daemon* durante su inicialización, usando el atributo `daemon`."
   ]
  },
  {
   "cell_type": "code",
   "execution_count": 17,
   "metadata": {},
   "outputs": [
    {
     "name": "stdout",
     "output_type": "stream",
     "text": [
      "Daemon thread: Empezando...\n",
      "Daemon thread: Terminando...\n"
     ]
    }
   ],
   "source": [
    "class Daemon(threading.Thread):\n",
    "    \n",
    "    def __init__(self):\n",
    "        super().__init__()\n",
    "        # Cuando inicializamos el thread lo declaramos como daemon\n",
    "        self.daemon = True\n",
    "    \n",
    "    def run(self):\n",
    "        print(\"Daemon thread: Empezando...\")\n",
    "        time.sleep(2)\n",
    "        print(\"Daemon thread: Terminando...\")\n",
    "\n",
    "daemon = Daemon()\n",
    "daemon.start()\n",
    "daemon.join()"
   ]
  },
  {
   "cell_type": "markdown",
   "metadata": {},
   "source": [
    "### *Timers*\n",
    "\n",
    "La clase `Timer` es una subclase de la clase `Thread` y permite ejecutar un proceso o acción después que ha pasado un determinado tiempo. Es decir, al ser ejecutado, espera un tiempo que se le especifica y luego ejecuta las instrucciones determinadas. `Timer` requiere, como parámetros básicos, el tiempo en segundos después del cual debe ejecutarse el *thread*, la función a ejecutar, y los argumentos de la función a ejecutar.\n",
    "\n",
    "El método `cancel()` permite, si se requiere, cancelar la ejecución del *timer* antes que este sea ejecutado.\n",
    "\n",
    "#### (Abre paréntesis...\n",
    "#### *Warning*: este cuaderno no refleja el efecto de un *Timer*\n",
    "\n",
    "Al igual que con *daemon*, no se puede notar el efecto de utilizar esta propiedad de los *threads* en las celdas. En este caso, recomendamos probar el código de la siguiente celda en un editor de texto y ejecutandolo por tu cuenta.\n",
    "#### ...cierra paréntesis)"
   ]
  },
  {
   "cell_type": "code",
   "execution_count": null,
   "metadata": {},
   "outputs": [],
   "source": [
    "def mi_timer(ruta_archivo):\n",
    "    with open(ruta_archivo) as archivo:\n",
    "        for linea in archivo:\n",
    "            print(linea)\n",
    "\n",
    "t1 = threading.Timer(10.0, mi_timer, args=(\"files/mensaje_01.txt\",))\n",
    "t2 = threading.Timer(5.0, mi_timer, kwargs={\"ruta_archivo\": \"files/mensaje_02.txt\"})\n",
    "\n",
    "t1.start() # el thread t comenzará después de 10 seconds\n",
    "t2.start() # el thread t comenzará después de 5 seconds"
   ]
  }
 ],
 "metadata": {
  "kernelspec": {
   "display_name": "Python 3",
   "language": "python",
   "name": "python3"
  },
  "language_info": {
   "codemirror_mode": {
    "name": "ipython",
    "version": 3
   },
   "file_extension": ".py",
   "mimetype": "text/x-python",
   "name": "python",
   "nbconvert_exporter": "python",
   "pygments_lexer": "ipython3",
   "version": "3.6.6"
  },
  "varInspector": {
   "cols": {
    "lenName": 16,
    "lenType": 16,
    "lenVar": 40
   },
   "kernels_config": {
    "python": {
     "delete_cmd_postfix": "",
     "delete_cmd_prefix": "del ",
     "library": "var_list.py",
     "varRefreshCmd": "print(var_dic_list())"
    },
    "r": {
     "delete_cmd_postfix": ") ",
     "delete_cmd_prefix": "rm(",
     "library": "var_list.r",
     "varRefreshCmd": "cat(var_dic_list()) "
    }
   },
   "types_to_exclude": [
    "module",
    "function",
    "builtin_function_or_method",
    "instance",
    "_Feature"
   ],
   "window_display": false
  }
 },
 "nbformat": 4,
 "nbformat_minor": 1
}
