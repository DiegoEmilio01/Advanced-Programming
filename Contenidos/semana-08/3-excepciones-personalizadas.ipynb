{
 "cells": [
  {
   "cell_type": "markdown",
   "metadata": {},
   "source": [
    "<p>\n",
    "<font size='5' face='Georgia, Arial'>IIC-2233 Apunte Programación Avanzada</font><br>\n",
    "<font size='1'>&copy; 2015 Karim Pichara - Christian Pieringer. Todos los derechos reservados.</font>\n",
    "<br>\n",
    "<font size='1'> Modificado en 2017-2, 2018-1, 2018-2, 2019-1 y 2019-2 por Equipo Docente IIC2233</font>\n",
    "</p>"
   ]
  },
  {
   "cell_type": "markdown",
   "metadata": {},
   "source": [
    "## Clases de Excepciones"
   ]
  },
  {
   "cell_type": "markdown",
   "metadata": {},
   "source": [
    "En Python, todas las excepciones heredan de `BaseException`. A partir de ella existen tres tipos de excepciones: **`SystemExit`**, **`KeyboardInterrupt`**, y **`Exception`**. Todas las excepciones generadas por errores durante la ejecución de un programa son subclases de `Exception`, tal como se muestra en el siguiente diagrama:"
   ]
  },
  {
   "cell_type": "markdown",
   "metadata": {},
   "source": [
    "![](img/jerarquia-excepciones.png)"
   ]
  },
  {
   "cell_type": "markdown",
   "metadata": {},
   "source": [
    "Esto quiere decir, que si se usa `Exception` para manejar los errores, actuaremos sobre todas las subclases de `Exception`. De esta forma el tratamiento es general y no específico a un tipo de error en especial. En general es recomendable actuar de forma selectiva sobre un tipo determinado de excepciones (`IOError`, `AtributeError`, `ValueError`, etc.), sin embargo, existen otros casos en que no se sabe por cuál razón el programa podría fallar en los que conviene actuar de manera general usando `Exception`."
   ]
  },
  {
   "cell_type": "code",
   "execution_count": 1,
   "metadata": {},
   "outputs": [],
   "source": [
    "def dividir(num,den):\n",
    "    if not (isinstance(num, int) and isinstance(den, int)):\n",
    "        raise TypeError(\"Error de tipo en numerador o denominador. :'(\")\n",
    "\n",
    "    if num < 0 or den < 0:\n",
    "        raise ValueError(\"Hay un valor negativo entre numerador y denominador >:(\")\n",
    "\n",
    "    return float(num)/float(den)"
   ]
  },
  {
   "cell_type": "code",
   "execution_count": 2,
   "metadata": {},
   "outputs": [
    {
     "name": "stdout",
     "output_type": "stream",
     "text": [
      "Error: float division by zero\n",
      "Revise los datos de entrada. Algo pasó ahí, pero no sé qué tipo específico de Exception ... \n"
     ]
    }
   ],
   "source": [
    "try:\n",
    "    print(dividir(4,0))\n",
    "    \n",
    "except Exception as err:\n",
    "    # Este bloque opera para todos los tipos de excepciones que hereden de Exception\n",
    "    print(f\"Error: {err}\")\n",
    "    print(\"Revise los datos de entrada. Algo pasó ahí, pero no sé qué tipo específico de Exception ... \")"
   ]
  },
  {
   "cell_type": "markdown",
   "metadata": {},
   "source": [
    "## Excepciones personalizadas\n",
    "\n",
    "Podemos crear nuestros propios tipos de excepciones. Para ello debemos heredar desde la clase `Exception`. Podemos modificar el comportamiento heredado sobreescribiendo los métodos que tiene implementada esta clase."
   ]
  },
  {
   "cell_type": "code",
   "execution_count": 3,
   "metadata": {},
   "outputs": [],
   "source": [
    "class Excepcion1(Exception):\n",
    "    # Al no sobreescribir nada, hereda todo sin modificaciones\n",
    "    pass\n",
    "\n",
    "\n",
    "class Excepcion2(Exception):\n",
    "    def __init__(self, a, b):\n",
    "        # Sobreescribimos el __init__ para cambiar el ingreso de los parámetros\n",
    "        super().__init__(f\"Alguno de los valores {a} o {b} no es entero\\n\")\n",
    "\n",
    "\n",
    "def dividir(num, den):\n",
    "    # Por ejemplo, redefiniremos las excepciones que\n",
    "    # utilizamos en los ejemplos anteriores.\n",
    "    if not (isinstance(num, int) and isinstance(den, int)):\n",
    "        raise Excepcion2(num, den)\n",
    "\n",
    "    if num < 0 or den < 0:\n",
    "        raise Excepcion1(\"Los valores son negativos\\n\")\n",
    "\n",
    "    return float(num) / float(den)"
   ]
  },
  {
   "cell_type": "code",
   "execution_count": 4,
   "metadata": {},
   "outputs": [
    {
     "name": "stdout",
     "output_type": "stream",
     "text": [
      "Error: Los valores son negativos\n",
      "\n"
     ]
    }
   ],
   "source": [
    "# Este ejempo lanza una Excepcion1\n",
    "try:\n",
    "    print(dividir(4, -3))\n",
    "\n",
    "except Excepcion1 as err:\n",
    "    # Este bloque opera para la Excepcion1\n",
    "    print(f\"Error: {err}\")\n",
    "\n",
    "except Excepcion2 as err:\n",
    "    # Este bloque opera para Excepcion2 cuando los datos no son enteros\n",
    "    print(f\"Error: {err}\")"
   ]
  },
  {
   "cell_type": "code",
   "execution_count": 5,
   "metadata": {},
   "outputs": [
    {
     "name": "stdout",
     "output_type": "stream",
     "text": [
      "Error: Alguno de los valores 4.4 o -3 no es entero\n",
      "\n"
     ]
    }
   ],
   "source": [
    "# Este ejemplo lanza una Excepcion2\n",
    "try:\n",
    "    print(dividir(4.4, -3))\n",
    "\n",
    "except Excepcion1 as err:\n",
    "    # Este bloque opera para la Excepcion1\n",
    "    print(f\"Error: {err}\")\n",
    "\n",
    "except Excepcion2 as err:\n",
    "    # Este bloque opera para Excepcion2 cuando los datos no son enteros\n",
    "    print(f\"Error: {err}\")\n"
   ]
  },
  {
   "cell_type": "markdown",
   "metadata": {},
   "source": [
    "Podemos definir comportamientos personalizados para las excepciones que creamos como, por ejemplo, agregar métodos que nos permitan recuperar información de la excepción."
   ]
  },
  {
   "cell_type": "code",
   "execution_count": 6,
   "metadata": {},
   "outputs": [
    {
     "name": "stdout",
     "output_type": "stream",
     "text": [
      "Error: El dinero en la billetera no alcanza para pagar $1500. Hay un exceso de gastos de $500.\n"
     ]
    }
   ],
   "source": [
    "class ErrorTransaccion(Exception):\n",
    "    \n",
    "    def __init__(self, fondos, gasto):\n",
    "        super().__init__(f\"El dinero en la billetera no alcanza para pagar ${gasto}\")\n",
    "        self.fondos = fondos\n",
    "        self.gasto = gasto\n",
    "    \n",
    "    def exceso(self):\n",
    "        return self.gasto - self.fondos\n",
    "\n",
    "\n",
    "class Billetera:\n",
    "    \n",
    "    def __init__(self, dinero):\n",
    "        self.fondos = dinero\n",
    "    \n",
    "    def pagar(self, gasto):\n",
    "        if self.fondos - gasto < 0:\n",
    "            raise ErrorTransaccion(self.fondos, gasto)\n",
    "        self.fondos -= gasto\n",
    "\n",
    "        \n",
    "b = Billetera(1000)\n",
    "\n",
    "try:\n",
    "    b.pagar(1500)\n",
    "\n",
    "except ErrorTransaccion as err:\n",
    "    print(f\"Error: {err}. Hay un exceso de gastos de ${err.exceso()}.\")"
   ]
  },
  {
   "cell_type": "markdown",
   "metadata": {},
   "source": [
    "## Un ejemplo: La lista del curso\n",
    "\n",
    "Este ejemplo desea modelar la siguiente situación: se desean inscribir alumnes en distintos cursos universitarios, para lo cual se cuentan con listas de las peticiones de varios estudiantes por curso. El problema, es que estas listas fueron afectadas por *hackers* que poblaron de información falsa, específicamente, hay alumnes con número de identificación duplicados. Ya que no se tiene como identificar los falsos de los verdaderos, se incribirán solamente aquelles con un identificador nuevo, y los duplicados de almacenará de alguna forma, para futura referencia.\n",
    "\n",
    "La siguiente solución utiliza una excepción personalizada para llevar el registro de los duplicados encontrados en la lista. Aprovecha el uso de atributos de clase para mantener un registro general de todos los duplicados, y atributos de instancia para obtener información."
   ]
  },
  {
   "cell_type": "code",
   "execution_count": 7,
   "metadata": {},
   "outputs": [],
   "source": [
    "from collections import namedtuple, defaultdict\n",
    "\n",
    "# Modelamos les alumnes como entidades simples\n",
    "Alumne = namedtuple('Alumne', ['numero', 'nombre', 'apellido'])\n",
    "\n",
    "class ErrorAlumneRepetide(Exception):\n",
    "    \n",
    "    # Se mantiene un diccionario como atributo de clase para almacenar todos los duplicados\n",
    "    alumnes_repetides = defaultdict(list)\n",
    "    \n",
    "    def __init__(self, alumne):\n",
    "        # Se almacena le alumne que lanzó la excepción\n",
    "        self.alumne = alumne\n",
    "        numero = alumne.numero\n",
    "        # Se almacena el duplicado\n",
    "        self.alumnes_repetides[numero].append(alumne)\n",
    "        super().__init__('¡Error de alumne repetide de número: {numero}')\n",
    "    \n",
    "    # Creamos property de instancia que accede a todos los duplicados del mismo número\n",
    "    @property\n",
    "    def repetides(self):\n",
    "        return self.alumnes_repetides[self.alumne.numero]\n",
    "    \n",
    "    # Creamos property de instancia que calcula la cantidad de duplicados del mismo número\n",
    "    @property\n",
    "    def cantidad(self):\n",
    "        return len(self.alumnes_repetides[self.alumne.numero])\n",
    "    \n",
    "    \n",
    "# Modelamos el curso con una estructura simple para almacenar sus alumnes\n",
    "class Curso:\n",
    "    \n",
    "    def __init__(self, nombre):\n",
    "        self.nombre = nombre\n",
    "        self.alumnes = dict()\n",
    "    \n",
    "    # Método encargado de inscribir nuevo alumne, en caso de encontrar duplicado, lanza error\n",
    "    def inscribir(self, alumne):\n",
    "        if alumne.numero in self.alumnes:\n",
    "            raise ErrorAlumneRepetide(alumne)\n",
    "        else:\n",
    "            self.alumnes[alumne.numero] = alumne\n",
    "            print(f'✅ Alumne de número {alumne.numero} inscrito exitosamente.\\n')\n"
   ]
  },
  {
   "cell_type": "code",
   "execution_count": 8,
   "metadata": {},
   "outputs": [
    {
     "name": "stdout",
     "output_type": "stream",
     "text": [
      "✅ Alumne de número 15633459 inscrito exitosamente.\n",
      "\n",
      "✅ Alumne de número 1663525J inscrito exitosamente.\n",
      "\n",
      "✅ Alumne de número 17632451 inscrito exitosamente.\n",
      "\n",
      "❌ Alumne repetido de número 15633459 encontrado\n",
      "Ya van 1 repetidos con el mismo número:\n",
      "Fernanda Errazuriz\n",
      "\n",
      "✅ Alumne de número 1563001J inscrito exitosamente.\n",
      "\n",
      "❌ Alumne repetido de número 1663525J encontrado\n",
      "Ya van 1 repetidos con el mismo número:\n",
      "Benjamín Valdivieso\n",
      "\n",
      "❌ Alumne repetido de número 15633459 encontrado\n",
      "Ya van 2 repetidos con el mismo número:\n",
      "Fernanda Errazuriz, Cristian Soto\n",
      "\n"
     ]
    }
   ],
   "source": [
    "alumnes_no_inscritos = [\n",
    "    Alumne('15633459', 'Juan', 'Hernández'),\n",
    "    Alumne('1663525J', 'Belén', 'Pinto'),\n",
    "    Alumne('17632451', 'Ariel', 'Gonzalez'),\n",
    "    Alumne('15633459', 'Fernanda', 'Errazuriz'),\n",
    "    Alumne('1563001J', 'Javiera', 'Martínez'),\n",
    "    Alumne('1663525J', 'Benjamín', 'Valdivieso'),\n",
    "    Alumne('15633459', 'Cristian', 'Soto'),\n",
    "]\n",
    "\n",
    "iic2233 = Curso('IIC2233')\n",
    "\n",
    "for alumne in alumnes_no_inscritos:\n",
    "    try:\n",
    "        iic2233.inscribir(alumne)\n",
    "    except ErrorAlumneRepetide as error:\n",
    "        print(f'❌ Alumne repetido de número {alumne.numero} encontrado')\n",
    "        print(f'Ya van {error.cantidad} repetidos con el mismo número:')\n",
    "        print(', '.join([f'{alumne.nombre} {alumne.apellido}' for alumne in error.repetides]))\n",
    "        print()"
   ]
  }
 ],
 "metadata": {
  "kernelspec": {
   "display_name": "Python 3",
   "language": "python",
   "name": "python3"
  },
  "language_info": {
   "codemirror_mode": {
    "name": "ipython",
    "version": 3
   },
   "file_extension": ".py",
   "mimetype": "text/x-python",
   "name": "python",
   "nbconvert_exporter": "python",
   "pygments_lexer": "ipython3",
   "version": "3.6.6"
  }
 },
 "nbformat": 4,
 "nbformat_minor": 2
}
