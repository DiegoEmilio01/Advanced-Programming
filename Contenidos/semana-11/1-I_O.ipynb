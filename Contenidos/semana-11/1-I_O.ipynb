{
 "cells": [
  {
   "cell_type": "markdown",
   "metadata": {},
   "source": [
    "<p>\n",
    "<font size='5' face='Georgia, Arial'>IIC-2233 Apunte Programación Avanzada</font><br>\n",
    "<font size='1'> Modificado en 2019-1 y 2019-2 por Equipo Docente IIC2233. </font>\n",
    "</p>"
   ]
  },
  {
   "cell_type": "markdown",
   "metadata": {},
   "source": [
    "Esta semana estudiaremos detalles del uso de archivos y de la representación de *strings* en Python. Aprenderemos que no solamente podemos almacenar *strings* como caracteres que podemos ver en la pantalla, sino que podemos también manipular la representación de más bajo nivel en el lenguaje que habla el computador: *bytes*."
   ]
  },
  {
   "cell_type": "markdown",
   "metadata": {},
   "source": [
    "# *Input/Output*\n",
    "\n",
    "En este capítulo, estudiaremos a fondo el manejo de *strings*, *bytes*, arreglos de *bytes*, archivos, y *context managers*."
   ]
  },
  {
   "cell_type": "markdown",
   "metadata": {},
   "source": [
    "## *Strings*\n",
    "\n",
    "Hasta ahora, hemos trabajado muchas veces con *strings* que, como sabemos, corresponden a una secuencia inmutable de caracteres. En Python 3, todos los *strings* se representan en [Unicode](https://es.wikipedia.org/wiki/Unicode), codificación que permite representar virtualmente cualquier caracter en cualquier lenguaje que veremos con más detalle posteriormente. Entonces, pensemos que en Python un *string* es una secuencia inmutable de caracteres Unicode. A continuación, algunas formas distintas de crear un *string* en Python:"
   ]
  },
  {
   "cell_type": "code",
   "execution_count": 1,
   "metadata": {},
   "outputs": [
    {
     "name": "stdout",
     "output_type": "stream",
     "text": [
      "programando\n",
      "mucho\n",
      "un string\n",
      "con múltiples\n",
      "lineas\n",
      "Multiples con\n",
      "     comillas dobles\n",
      "Tres strings juntos\n",
      "un string concatenado\n",
      "Otra forma de string que nos permite utilizar más de una línea pero en verdad solo es una, lo que es muy útil para cumplir PEP-8 :)\n"
     ]
    }
   ],
   "source": [
    "a = \"programando\"\n",
    "b = 'mucho'\n",
    "c = '''un string\n",
    "con múltiples\n",
    "lineas'''\n",
    "\n",
    "d = \"\"\"Multiples con\n",
    "     comillas dobles\"\"\"\n",
    "e = (\"Tres\" \" strings\" \" juntos\")\n",
    "f = \"un string \" + \"concatenado\"\n",
    "g = (\"Otra forma de string que nos permite \"\n",
    "    \"utilizar más de una línea pero en verdad solo es una,\"\n",
    "    \" lo que es muy útil para cumplir PEP-8 :)\")\n",
    "\n",
    "print(a)\n",
    "print(b)\n",
    "print(c)\n",
    "print(d)\n",
    "print(e)\n",
    "print(f)\n",
    "print(g)"
   ]
  },
  {
   "cell_type": "markdown",
   "metadata": {},
   "source": [
    "### Métodos disponibles"
   ]
  },
  {
   "cell_type": "markdown",
   "metadata": {},
   "source": [
    "La clase `str` tiene muchos métodos para manipular *strings*. La función [`dir`](https://docs.python.org/3/library/functions.html#dir) nos permite obtener la lista:"
   ]
  },
  {
   "cell_type": "code",
   "execution_count": 2,
   "metadata": {},
   "outputs": [
    {
     "name": "stdout",
     "output_type": "stream",
     "text": [
      "['__add__', '__class__', '__contains__', '__delattr__', '__dir__', '__doc__', '__eq__', '__format__', '__ge__', '__getattribute__', '__getitem__', '__getnewargs__', '__gt__', '__hash__', '__init__', '__init_subclass__', '__iter__', '__le__', '__len__', '__lt__', '__mod__', '__mul__', '__ne__', '__new__', '__reduce__', '__reduce_ex__', '__repr__', '__rmod__', '__rmul__', '__setattr__', '__sizeof__', '__str__', '__subclasshook__', 'capitalize', 'casefold', 'center', 'count', 'encode', 'endswith', 'expandtabs', 'find', 'format', 'format_map', 'index', 'isalnum', 'isalpha', 'isdecimal', 'isdigit', 'isidentifier', 'islower', 'isnumeric', 'isprintable', 'isspace', 'istitle', 'isupper', 'join', 'ljust', 'lower', 'lstrip', 'maketrans', 'partition', 'replace', 'rfind', 'rindex', 'rjust', 'rpartition', 'rsplit', 'rstrip', 'split', 'splitlines', 'startswith', 'strip', 'swapcase', 'title', 'translate', 'upper', 'zfill']\n"
     ]
    }
   ],
   "source": [
    "print(dir(str))"
   ]
  },
  {
   "cell_type": "markdown",
   "metadata": {},
   "source": [
    "Los siguientes métodos nos permiten responder preguntas sobre un string (una instancia) en particular. \"¿Está compuesto solo por dígitos?\" (`str.isdigit()`). \"¿Termina con este otro string?\" (`str.endswith(s)`). \"¿En qué posición empieza este otro string?\" (`str.index(s)`). Veamos algunos ejemplos:"
   ]
  },
  {
   "cell_type": "code",
   "execution_count": 3,
   "metadata": {},
   "outputs": [
    {
     "name": "stdout",
     "output_type": "stream",
     "text": [
      "True\n",
      "False\n",
      "True\n",
      "True\n",
      "True\n",
      "4\n",
      "4\n",
      "6\n"
     ]
    }
   ],
   "source": [
    "# El método isalpha retorna True si todos los caracteres del string\n",
    "# están en el alfabeto de algún lenguaje.\n",
    "print(\"abñ\".isalpha()) \n",
    "\n",
    "# Si hay algún número, espacio o puntuación dentro del string, retornará False.\n",
    "print(\"t/\".isalpha())\n",
    "\n",
    "# El método isdigit retorna True si todos los caracteres en el string\n",
    "# son dígitos numéricos.\n",
    "print(\"34\".isdigit())\n",
    "\n",
    "s = \"estoy programando\"\n",
    "print(s.startswith(\"est\"))\n",
    "print(s.endswith(\"do\"))\n",
    "\n",
    "# Devuelve el índice donde comienza en s la secuencia que se pasa como argumento.\n",
    "print(s.find(\"y p\"))\n",
    "\n",
    "# El método index retorna el índice donde comienza la secuencia.\n",
    "# Acepta dos argumentos opcionales:\n",
    "# - la posición inicial donde comenzar la búsqueda\n",
    "# - y la posición final (hasta dónde llega buscando)\n",
    "print(s.index(\"y\", 4, 10))\n",
    "print(s.index(\"p\", 5, 10))"
   ]
  },
  {
   "cell_type": "markdown",
   "metadata": {},
   "source": [
    "A diferencia de los anteriores, existen otros métodos que actúan diractamente sobre el *string* y retornan un *string* nuevo, sin modificar el original, ya que **los *strings* son objetos inmutables**. Algunos ejemplos útiles:"
   ]
  },
  {
   "cell_type": "code",
   "execution_count": 4,
   "metadata": {},
   "outputs": [
    {
     "name": "stdout",
     "output_type": "stream",
     "text": [
      "['hola', 'a', 'todos,', 'cómo', 'están']\n",
      "hola#a#todos,#cómo#están\n",
      "hola**a**todos,**cómo**están\n",
      "hola a todos, cómo están\n"
     ]
    }
   ],
   "source": [
    "s = \"hola a todos, cómo están\"\n",
    "\n",
    "# Retorna una lista de strings a partir de separar el original en base a \" \"\n",
    "s2 = s.split(\" \")\n",
    "print(s2)\n",
    "\n",
    "# Concatena todos los elementos de la secuencia dada por medio del string \"#\"\n",
    "s3 = \"#\".join(s2)\n",
    "print(s3)\n",
    "\n",
    "# Entrega un nuevo string en que se reemplazó cada \" \" por \"**\"\n",
    "print(s.replace(\" \", \"**\"))\n",
    "\n",
    "# Notar que el string inicial sigue intacto, solo obtuvimos nuevas versiones\n",
    "print(s)"
   ]
  },
  {
   "cell_type": "markdown",
   "metadata": {},
   "source": [
    "### Uso de variables dentro de un *string*"
   ]
  },
  {
   "cell_type": "markdown",
   "metadata": {},
   "source": [
    "A lo largo del curso, seguramente has visto este uso de *strings*. Los *f-strings* son una forma de formatear *strings* que permite añadir expresiones de Python directamente en un *string*. Para indicarle a Python que utilizaremos esta funcionalida, debemos antemponer el string con la letra `f` (de ahí el nombre *f-string*). \n",
    "\n",
    "Este método es muy útil para completar un *string* que estemos usando como \"plantilla\", para insertar valores de variables dentro de un *string*. Las ventajas de esta sintaxis, son que el código queda más legible, conciso y es menos susceptible a errores, además de ser más rápida que otras formas de concatenación."
   ]
  },
  {
   "cell_type": "code",
   "execution_count": 5,
   "metadata": {},
   "outputs": [
    {
     "name": "stdout",
     "output_type": "stream",
     "text": [
      "Hola Juan Pérez, estás aprobado. Tu nota fue un 4.5.\n"
     ]
    }
   ],
   "source": [
    "nombre = \"Juan Pérez\"\n",
    "nota = 4.5\n",
    "if nota >= 4.0:\n",
    "    resultado = \"aprobado\"\n",
    "else:\n",
    "    resultado = \"reprobado\"\n",
    "\n",
    "print(f\"Hola {nombre}, estás {resultado}. Tu nota fue un {nota}.\")"
   ]
  },
  {
   "cell_type": "markdown",
   "metadata": {},
   "source": [
    "Si queremos incluir las *llaves* (`{`, `}`) dentro del *string*, podemos agregar un *escape character*, que permite invocar una interpretación alternativa de los caracteres siguientes. Más concretamente, las llaves en este caso, se utilizan para encapsular la variable que queremos imprimir. Sin embargo, la representación alternativa, sería la representación literal de la llave. Luego, para este caso, si queremos imprimir una llave, esto se logrará con una doble llave.\n",
    "\n",
    "Veamos un ejemplo. Digamos que buscamos imprimir una simple definición de una clase en Java."
   ]
  },
  {
   "cell_type": "code",
   "execution_count": 6,
   "metadata": {
    "scrolled": true
   },
   "outputs": [
    {
     "name": "stdout",
     "output_type": "stream",
     "text": [
      "\n",
      "public class MiClase \n",
      "{\n",
      "       public static void main(String[] args) \n",
      "       {\n",
      "           System.out.println('hola mundo');\n",
      "       } \n",
      "}\n"
     ]
    }
   ],
   "source": [
    "# Con estas variables generaremos el string\n",
    "clase = \"MiClase\"\n",
    "salida = \"'hola mundo'\"\n",
    "\n",
    "# En nuestra plantilla utilizamos llaves dobles cuando queremos mantenerlas...\n",
    "codigo = f\"\"\"\n",
    "public class {clase} \n",
    "{{\n",
    "       public static void main(String[] args) \n",
    "       {{\n",
    "           System.out.println({salida});\n",
    "       }} \n",
    "}}\"\"\"\n",
    "\n",
    "# ... pero en el resultado a imprimir solo se verá una llave simple\n",
    "print(codigo)"
   ]
  },
  {
   "cell_type": "markdown",
   "metadata": {},
   "source": [
    "A veces queremos incluir muchas variables dentro de un *string*, pero como vimos eso no es un problema. Sin embargo, a veces queremos asociar estas variables dentro de objetos más complejos, que hagan sentido en nuestra modelación. Pensemos en el siguiente ejemplo, dándole forma a un correo:"
   ]
  },
  {
   "cell_type": "code",
   "execution_count": 7,
   "metadata": {},
   "outputs": [
    {
     "name": "stdout",
     "output_type": "stream",
     "text": [
      "\n",
      "From: <cruz@ing.puc.cl>\n",
      "To: <alumnos@iic2233.com>\n",
      "Subject: IIC2233 - Este correo es urgente\n",
      "\n",
      "Este es un mail de prueba.\n",
      "\n",
      "Espero que el mensaje te sea de mucha utilidad!\n",
      "\n"
     ]
    }
   ],
   "source": [
    "# Las variables necesarias para crear nuestro string\n",
    "from_email = \"cruz@ing.puc.cl\"\n",
    "to_email = \"alumnos@iic2233.com\"\n",
    "message = (\"\\nEste es un mail de prueba.\\n\"\n",
    "           \"\\nEspero que el mensaje te sea de mucha utilidad!\")\n",
    "subject = \"IIC2233 - Este correo es urgente\"\n",
    "\n",
    "# Nuestro f-string\n",
    "print(f\"\"\"\n",
    "From: <{from_email}>\n",
    "To: <{to_email}>\n",
    "Subject: {subject}\n",
    "{message}\n",
    "\"\"\")"
   ]
  },
  {
   "cell_type": "markdown",
   "metadata": {},
   "source": [
    "Podemos utilizar estructuras más complejas que una variable, tales como listas, tuplas o diccionarios como variables dentro de nuestro *f-string*."
   ]
  },
  {
   "cell_type": "code",
   "execution_count": 8,
   "metadata": {},
   "outputs": [
    {
     "name": "stdout",
     "output_type": "stream",
     "text": [
      "\n",
      "From: <a@ejemplo.com>\n",
      "To: <b@ejemplo.com>\n",
      "Subject: Tienes un correo\n",
      "\n",
      "Este es un correo para ti\n",
      "\n"
     ]
    }
   ],
   "source": [
    "# Las variables necesarias para crear nuestro string\n",
    "emails = (\"a@ejemplo.com\", \"b@ejemplo.com\")\n",
    "message = {\n",
    "    'subject': \"Tienes un correo\",\n",
    "    'message': \"\\nEste es un correo para ti\",\n",
    "}\n",
    "\n",
    "# Nuestro f-string\n",
    "print(f\"\"\"\n",
    "From: <{emails[0]}>\n",
    "To: <{emails[1]}>\n",
    "Subject: {message['subject']}\n",
    "{message['message']}\n",
    "\"\"\")"
   ]
  },
  {
   "cell_type": "markdown",
   "metadata": {},
   "source": [
    "También podemos usar un diccionario que contenga listas e indexar la lista dentro del *string*."
   ]
  },
  {
   "cell_type": "code",
   "execution_count": 9,
   "metadata": {},
   "outputs": [
    {
     "name": "stdout",
     "output_type": "stream",
     "text": [
      "\n",
      "From: <yo@ejemplo.com>\n",
      "To: <tu@ejemplo.com>\n",
      "Subject: mira este correo\n",
      "Sorry no era tan importante\n",
      "\n"
     ]
    }
   ],
   "source": [
    "# Las variables necesarias para crear nuestro string\n",
    "message = {\n",
    "    \"emails\": [\"yo@ejemplo.com\", \"tu@ejemplo.com\"],\n",
    "    \"subject\": \"mira este correo\",\n",
    "    \"message\": \"Sorry no era tan importante\"\n",
    "}\n",
    "\n",
    "# Nuestro f-string\n",
    "print(f\"\"\"\n",
    "From: <{message['emails'][0]}>\n",
    "To: <{message['emails'][1]}>\n",
    "Subject: {message['subject']}\n",
    "{message['message']}\n",
    "\"\"\")"
   ]
  },
  {
   "cell_type": "markdown",
   "metadata": {},
   "source": [
    "Esto puede ser aún mejor: podemos pasar cualquier objeto como argumento, por ejemplo, una instancia de una clase. Luego, dentro del *string* podemos acceder a cualquiera de los atributos del objeto."
   ]
  },
  {
   "cell_type": "code",
   "execution_count": 10,
   "metadata": {},
   "outputs": [
    {
     "name": "stdout",
     "output_type": "stream",
     "text": [
      "\n",
      "From: <a@ejemplo.com>\n",
      "To: <b@ejemplo.com>\n",
      "Subject: Tienes un correo\n",
      "\n",
      "El mensaje es inútil\n",
      "\n",
      "Saludos\n"
     ]
    }
   ],
   "source": [
    "# Esta clase representa a un email\n",
    "class EMail:\n",
    "    def __init__(self, from_addr, to_addr, subject, message):\n",
    "        self.from_addr = from_addr\n",
    "        self.to_addr = to_addr\n",
    "        self.subject = subject\n",
    "        self.message = message\n",
    "\n",
    "\n",
    "# Creamos nuestra instancia de la clase\n",
    "email = EMail(\"a@ejemplo.com\", \"b@ejemplo.com\",\"Tienes un correo\",\"\\nEl mensaje es inútil\\n\\nSaludos\")\n",
    "\n",
    "print(f\"\"\"\n",
    "From: <{email.from_addr}>\n",
    "To: <{email.to_addr}>\n",
    "Subject: {email.subject}\n",
    "{email.message}\"\"\")"
   ]
  },
  {
   "cell_type": "markdown",
   "metadata": {},
   "source": [
    "Otro elemento muy útil de Python es el uso de `str.format()`. Si queremos usar una plantilla, es decir, un string que queremos usar muchas veces reemplazando elementos con distintas variables, podemos crear un string con una notación similar a la de *f-strings* y usar `str.format()` para hacer el reemplazo de los valores."
   ]
  },
  {
   "cell_type": "code",
   "execution_count": 11,
   "metadata": {},
   "outputs": [
    {
     "name": "stdout",
     "output_type": "stream",
     "text": [
      "Hola a@ejemplo.com, te damos la bienvenida!\n",
      "Hola b@ejemplo.com, te damos la bienvenida!\n"
     ]
    }
   ],
   "source": [
    "correo_1 = \"a@ejemplo.com\"\n",
    "correo_2 = \"b@ejemplo.com\"\n",
    "\n",
    "saludar_usuario = \"Hola {}, te damos la bienvenida!\"\n",
    "\n",
    "print(saludar_usuario.format(correo_1))\n",
    "print(saludar_usuario.format(correo_2))"
   ]
  },
  {
   "cell_type": "markdown",
   "metadata": {},
   "source": [
    "Sin embargo, dado que podemos hacer múltiples reemplazos a través del uso de múltiples llaves dentro del *string*, podemos asignarle un nombre a cada uno de estos espacios y elegir qué valor darle a ese espacio particular a través del uso de *keyword arguments*:"
   ]
  },
  {
   "cell_type": "code",
   "execution_count": 12,
   "metadata": {},
   "outputs": [
    {
     "name": "stdout",
     "output_type": "stream",
     "text": [
      "Hola b@ejemplo.com, te saluda el usuario a@ejemplo.com\n"
     ]
    }
   ],
   "source": [
    "saludo_entre_usuarios = \"Hola {saludado}, te saluda el usuario {saludador}\"\n",
    "\n",
    "print(saludo_entre_usuarios.format(saludado=correo_2, saludador=correo_1))"
   ]
  },
  {
   "cell_type": "markdown",
   "metadata": {},
   "source": [
    "### Mejorando la impresión de los *strings*"
   ]
  },
  {
   "cell_type": "markdown",
   "metadata": {},
   "source": [
    "También podemos mejorar el formato de los *strings* que se imprimen. Por ejemplo, en casos como la impresión de una tabla con datos, muchas veces queremos que datos pertenecientes a la misma variable se vean alineados en columnas:"
   ]
  },
  {
   "cell_type": "code",
   "execution_count": 13,
   "metadata": {},
   "outputs": [],
   "source": [
    "compra = [('leche', 2, 120), ('pan', 3.5, 800), ('arroz', 1.75, 960)]"
   ]
  },
  {
   "cell_type": "code",
   "execution_count": 14,
   "metadata": {},
   "outputs": [
    {
     "name": "stdout",
     "output_type": "stream",
     "text": [
      "PRODUCTO  CANTIDAD   PRECIO   SUBTOTAL\n",
      "leche 120 $2 $240\n",
      "pan 800 $3.5 $2800.0\n",
      "arroz 960 $1.75 $1680.0\n"
     ]
    }
   ],
   "source": [
    "print(\"PRODUCTO  CANTIDAD   PRECIO   SUBTOTAL\")\n",
    "for producto, precio, cantidad in compra:\n",
    "    subtotal = precio * cantidad\n",
    "    print(f\"{producto} {cantidad} ${precio} ${subtotal}\")"
   ]
  },
  {
   "cell_type": "markdown",
   "metadata": {},
   "source": [
    "Como puedes ver, los elementos de cada línea no quedan alineados, pero Python nos permite utilizar elementos extra en la formación de *strings* para darle una forma más estructurada:"
   ]
  },
  {
   "cell_type": "code",
   "execution_count": 15,
   "metadata": {},
   "outputs": [
    {
     "name": "stdout",
     "output_type": "stream",
     "text": [
      "PRODUCTO  CANTIDAD   PRECIO   SUBTOTAL\n",
      "leche      120       $2.00    $ 240.00\n",
      "pan        800       $3.50    $2800.00\n",
      "arroz      960       $1.75    $1680.00\n"
     ]
    }
   ],
   "source": [
    "print(\"PRODUCTO  CANTIDAD   PRECIO   SUBTOTAL\")\n",
    "for producto, precio, cantidad in compra:\n",
    "    subtotal = precio * cantidad\n",
    "    print(f\"{producto:8s}{cantidad: ^9d}    ${precio: <8.2f}${subtotal: >7.2f}\")"
   ]
  },
  {
   "cell_type": "markdown",
   "metadata": {},
   "source": [
    "Notar que, dentro de cada llave, existe un item tipo diccionario; es decir, antes de los dos puntos va la variable que utilizamos normalmente en nuestro *f-string*. Después de los dos puntos, por ejemplo, `8s`, significa que el dato es un *string* de ocho caracteres. Por defecto, si el *string* es más corto que los ocho caracteres, el resto se llenará con espacios (por la derecha). Notar que también, por defecto, si el *string* que ingresamos es más largo que los 8 caracteres, este no será truncado:"
   ]
  },
  {
   "cell_type": "code",
   "execution_count": 16,
   "metadata": {},
   "outputs": [],
   "source": [
    "compra = [('lecheeeeeeeeeeeeeee', 2, 120), ('pan', 3.5, 800), ('arroz', 1.75, 960)]"
   ]
  },
  {
   "cell_type": "code",
   "execution_count": 17,
   "metadata": {},
   "outputs": [
    {
     "name": "stdout",
     "output_type": "stream",
     "text": [
      "PRODUCTO  CANTIDAD   PRECIO   SUBTOTAL\n",
      "lecheeeeeeeeeeeeeee   120       $2.00    $ 240.00\n",
      "pan        800       $3.50    $2800.00\n",
      "arroz      960       $1.75    $1680.00\n"
     ]
    }
   ],
   "source": [
    "print(\"PRODUCTO  CANTIDAD   PRECIO   SUBTOTAL\")\n",
    "for producto, precio, cantidad in compra:\n",
    "    subtotal = precio * cantidad\n",
    "    print(f\"{producto:8s}{cantidad: ^9d}    ${precio: <8.2f}${subtotal: >7.2f}\")"
   ]
  },
  {
   "cell_type": "markdown",
   "metadata": {},
   "source": [
    "Podemos cambiar esta situación obligando a que el *string* sea truncado si se pasa del largo máximo. Basta con agregar un punto y la precisión luego del número que indica el largo del *string*. La precisión para tipos no numéricos indica el largo máximo de caracteres usados para este campo."
   ]
  },
  {
   "cell_type": "code",
   "execution_count": 18,
   "metadata": {},
   "outputs": [
    {
     "name": "stdout",
     "output_type": "stream",
     "text": [
      "PRODUCTO  CANTIDAD   PRECIO   SUBTOTAL\n",
      "lecheeee   120       $2.00    $ 240.00\n",
      "pan        800       $3.50    $2800.00\n",
      "arroz      960       $1.75    $1680.00\n"
     ]
    }
   ],
   "source": [
    "print(\"PRODUCTO  CANTIDAD   PRECIO   SUBTOTAL\")\n",
    "for producto, precio, cantidad in compra:\n",
    "    subtotal = precio * cantidad\n",
    "    print(f\"{producto:8.8s}{cantidad: ^9d}    ${precio: <8.2f}${subtotal: >7.2f}\")"
   ]
  },
  {
   "cell_type": "markdown",
   "metadata": {},
   "source": [
    "Para la cantidad de producto el formato es `{cantidad: ^9d}`, `cantidad` corresponde a la variable de la tupla en la iteración actual, el espacio después de los dos puntos dice que los lugares vacíos deben ser llenados con espacios (en los tipos enteros, por defecto, se llenará con ceros), el símbolo `^` es para que el número quede centrado en el espacio disponible, `9d` significa que será un entero de hasta nueve dígitos. Notar que siempre el orden de estos parámetros (aunque son opcionales) debe ser de izquierda a derecha después de los dos puntos: **primero el caracter para llenar los espacios vacíos, después el alineamiento, después el tamaño y finalmente el tipo**.\n",
    "\n",
    "Para el precio, por ejemplo, `{precio: <8.2f}` significa que el dato se leerá de la variable `precio`, luego los lugares que queden libres se llenarán con espacios, el símbolo `<` significa que el alineamiento es a la izquierda, el formato será un *float* (`f`) de hasta ocho caracteres, con dos decimales.\n",
    "\n",
    "De la misma forma, para el subtotal, `{subtotal: >7.2f}` significa que el dato se sacará de la variable `subtotal`, el caracter de llenado será espacio, el alineamiento es a la derecha y será un *float* de siete dígitos, dos de ellos decimales, incluyendo el `.` como carácter."
   ]
  },
  {
   "cell_type": "markdown",
   "metadata": {},
   "source": [
    "## *Bytes* y I/O\n",
    "\n",
    "Al comienzo del capítulo, dijimos que los *strings* en Python eran una colección de caracteres Unicode inmutables. Unicode no es realmente un formato de almacenamiento de datos, sino de representación. Muchas veces leemos información correspondiente a algún *string* desde un archivo o un [*socket*](https://es.wikipedia.org/wiki/Socket_de_Internet) en bytes, no en Unicode. Los *bytes* son el formato de almacenamiento de más bajo nivel. Representan una secuencia de 8 *bits*, descritas en general como un entero entre 0 y 255, un [hexadecimal](https://es.wikipedia.org/wiki/Sistema_hexadecimal) equivalente entre `0` y `FF`, o un literal (sólo se permiten los caracteres [ASCII](https://es.wikipedia.org/wiki/ASCII) para representar *bytes*). \n",
    "\n",
    "Los *bytes* a secas pueden representar cualquier entidad, desde caracteres codificados de un *string*, o pixeles de una imagen. En general, necesitamos saber la forma en que fueron codificados para poder interpretar el tipo de datos correcto representados por los *bytes*. Por ejemplo, un patrón binario de 8 *bits* (1 *byte*) puede corresponder a un carácter en particular si lo decodificamos como un ASCII, pero puede corresponder a un caracter completamente distinto si lo decodificamos como un caracter Unicode. \n",
    "\n",
    "En Python los *bytes* se representan con el objeto de tipo `bytes`. Un objeto de tipo `bytes` es una secuencia **inmutable**, tal como los `str`. Para declarar que un objeto es un *byte* simplemente se pone al comienzo del objeto una `b`. Por ejemplo:"
   ]
  },
  {
   "cell_type": "code",
   "execution_count": 19,
   "metadata": {},
   "outputs": [
    {
     "name": "stdout",
     "output_type": "stream",
     "text": [
      "b'clich\\xe9'\n",
      "cliché\n"
     ]
    }
   ],
   "source": [
    "caracteres = b'\\x63\\x6c\\x69\\x63\\x68\\xe9'  # Lo que está entre las comillas es un objeto de tipo bytes\n",
    "print(caracteres)\n",
    "\n",
    "# Con bytes.decode() interpretamos los bytes utilizando la representaicón latin-1 para obtener un string\n",
    "print(caracteres.decode(\"latin-1\"))"
   ]
  },
  {
   "cell_type": "code",
   "execution_count": 20,
   "metadata": {},
   "outputs": [
    {
     "name": "stdout",
     "output_type": "stream",
     "text": [
      "ab\n"
     ]
    }
   ],
   "source": [
    "caracteres = b\"\\x61\\x62\"  # 61 y 62 son la representación en hexadecimal de los caracteres a y b, respectivamente\n",
    "print(caracteres.decode(\"ascii\"))"
   ]
  },
  {
   "cell_type": "code",
   "execution_count": 21,
   "metadata": {},
   "outputs": [
    {
     "name": "stdout",
     "output_type": "stream",
     "text": [
      "b'ab'\n"
     ]
    }
   ],
   "source": [
    "caracteres = bytes((97, 98))  # 97 y 98 corresponden al código ASCII de los caracteres a y b, respectivamente\n",
    "print(caracteres)"
   ]
  },
  {
   "cell_type": "code",
   "execution_count": 22,
   "metadata": {},
   "outputs": [
    {
     "ename": "SyntaxError",
     "evalue": "bytes can only contain ASCII literal characters. (<ipython-input-22-43e059be2fa0>, line 2)",
     "output_type": "error",
     "traceback": [
      "\u001b[0;36m  File \u001b[0;32m\"<ipython-input-22-43e059be2fa0>\"\u001b[0;36m, line \u001b[0;32m2\u001b[0m\n\u001b[0;31m    caracteres = b\"áb\"\u001b[0m\n\u001b[0m                ^\u001b[0m\n\u001b[0;31mSyntaxError\u001b[0m\u001b[0;31m:\u001b[0m bytes can only contain ASCII literal characters.\n"
     ]
    }
   ],
   "source": [
    "# Esto generará un error ya que sólo se pueden usar literales ASCII para la creación de bytes\n",
    "caracteres = b\"áb\""
   ]
  },
  {
   "cell_type": "markdown",
   "metadata": {},
   "source": [
    "El símbolo escape `\\x` indica que los siguientes dos caracteres después de la `x` corresponden a un *byte* usando dígitos hexadecimales. Los *bytes* que coinciden con los *bytes* de ASCII son reconocidos inmediatamente, así cuando los tratamos de imprimir aparecen correctamente (*e.g.* `cliché`), el resto se imprime como hexadecimal. La `b` en la impresión nos recuerda que lo que está a la derecha es un objeto de tipo `bytes`, no un `str`. La sentencia `caracteres.decode(\"latin-1\")` decodifica la secuencia de *bytes* usando el alfabeto `latin-1`."
   ]
  },
  {
   "cell_type": "markdown",
   "metadata": {},
   "source": [
    "El método `decode` retorna un *string* normal (Unicode). Si, por ejemplo, hubiésemos usado otro alfabeto, habríamos obtenido otro *string*."
   ]
  },
  {
   "cell_type": "code",
   "execution_count": 23,
   "metadata": {},
   "outputs": [
    {
     "name": "stdout",
     "output_type": "stream",
     "text": [
      "cliché\n",
      "clichщ\n",
      "clichΘ\n"
     ]
    }
   ],
   "source": [
    "caracteres = b'\\x63\\x6c\\x69\\x63\\x68\\xe9'\n",
    "print(caracteres.decode(\"latin-1\"))\n",
    "print(caracteres.decode(\"iso8859-5\"))\n",
    "print(caracteres.decode(\"CP437\"))"
   ]
  },
  {
   "cell_type": "markdown",
   "metadata": {},
   "source": [
    "Para codificar un *string* en un alfabeto específico, simplemente usamos el método `encode` de la clase `str`. Es necesario ingresar como argumento el conjunto de caracteres o alfabeto con que se quiere codificar."
   ]
  },
  {
   "cell_type": "code",
   "execution_count": 24,
   "metadata": {},
   "outputs": [
    {
     "name": "stdout",
     "output_type": "stream",
     "text": [
      "b'estaci\\xc3\\xb3n'\n",
      "b'estaci\\xf3n'\n",
      "b'estaci\\xa2n'\n"
     ]
    },
    {
     "ename": "UnicodeEncodeError",
     "evalue": "'ascii' codec can't encode character '\\xf3' in position 6: ordinal not in range(128)",
     "output_type": "error",
     "traceback": [
      "\u001b[0;31m---------------------------------------------------------------------------\u001b[0m",
      "\u001b[0;31mUnicodeEncodeError\u001b[0m                        Traceback (most recent call last)",
      "\u001b[0;32m<ipython-input-24-787457a442dc>\u001b[0m in \u001b[0;36m<module>\u001b[0;34m\u001b[0m\n\u001b[1;32m      6\u001b[0m \u001b[0;31m# No se puede codificar en ASCII el caracter \"ó\" ya que no existe dentro\u001b[0m\u001b[0;34m\u001b[0m\u001b[0;34m\u001b[0m\u001b[0;34m\u001b[0m\u001b[0m\n\u001b[1;32m      7\u001b[0m \u001b[0;31m# de los 128 caracteres de ASCII\u001b[0m\u001b[0;34m\u001b[0m\u001b[0;34m\u001b[0m\u001b[0;34m\u001b[0m\u001b[0m\n\u001b[0;32m----> 8\u001b[0;31m \u001b[0mprint\u001b[0m\u001b[0;34m(\u001b[0m\u001b[0mcaracteres\u001b[0m\u001b[0;34m.\u001b[0m\u001b[0mencode\u001b[0m\u001b[0;34m(\u001b[0m\u001b[0;34m\"ascii\"\u001b[0m\u001b[0;34m)\u001b[0m\u001b[0;34m)\u001b[0m\u001b[0;34m\u001b[0m\u001b[0;34m\u001b[0m\u001b[0m\n\u001b[0m",
      "\u001b[0;31mUnicodeEncodeError\u001b[0m: 'ascii' codec can't encode character '\\xf3' in position 6: ordinal not in range(128)"
     ]
    }
   ],
   "source": [
    "caracteres = \"estación\"\n",
    "print(caracteres.encode(\"UTF-8\"))  # 8-bit Unicode Transformation Format\n",
    "print(caracteres.encode(\"latin-1\"))\n",
    "print(caracteres.encode(\"CP437\"))\n",
    "\n",
    "# No se puede codificar en ASCII el caracter \"ó\" ya que no existe dentro \n",
    "# de los 128 caracteres de ASCII\n",
    "print(caracteres.encode(\"ascii\"))  "
   ]
  },
  {
   "cell_type": "markdown",
   "metadata": {},
   "source": [
    "El método `encode` nos ofrece opciones de cómo manejar el caso en que el *string* que se quiere codificar no puede ser codificado con el alfabeto requerido. Estas opciones se ingresan a través del argumento opcional `errors`, donde los valores posibles son: `strict` (el valor por defecto), `replace`, `ignore` o `xmlcharrefreplace`. "
   ]
  },
  {
   "cell_type": "code",
   "execution_count": 25,
   "metadata": {},
   "outputs": [
    {
     "name": "stdout",
     "output_type": "stream",
     "text": [
      "b'estaci?n'\n",
      "b'estacin'\n",
      "b'estaci&#243;n'\n"
     ]
    }
   ],
   "source": [
    "print(caracteres.encode(\"ascii\", errors='replace'))  # en ascii se reemplaza el caracter desconocido con \"?\"\n",
    "print(caracteres.encode(\"ascii\", errors='ignore'))\n",
    "print(caracteres.encode(\"ascii\", errors='xmlcharrefreplace'))  # se crea una entidad xml que representa el caracter Unicode"
   ]
  },
  {
   "cell_type": "markdown",
   "metadata": {},
   "source": [
    "En general, si queremos codificar un *string* y no sabemos con qué alfabeto deberíamos codificar, lo mejor es usar UTF-8, ya que los primeros 128 caracteres de UTF-8 son los mismos que en ASCII (es *backwards* compatible con ASCII). Recordar siempre que los objetos tipo *byte* son **inmutables**."
   ]
  },
  {
   "cell_type": "markdown",
   "metadata": {},
   "source": [
    "## `bytearrays`\n",
    "\n",
    "Los *bytearrays* son **arreglos de `bytes`** que, a diferencia de los `bytes` **son mutables**. Los `bytearrays` se comportan como las listas: podemos indexar con la notación de *slicing*, y también podemos ir agregando `bytes` con el método `extend`. Para construir un `bytearray` podemos ingresar un objeto `bytes` inicial."
   ]
  },
  {
   "cell_type": "code",
   "execution_count": 26,
   "metadata": {},
   "outputs": [
    {
     "name": "stdout",
     "output_type": "stream",
     "text": [
      "bytearray(b'holamundo')\n",
      "bytearray(b'amun')\n",
      "bytearray(b'hola\\x15\\xa3ndo')\n",
      "bytearray(b'hola\\x15\\xa3ndoprograma')\n"
     ]
    }
   ],
   "source": [
    "ba = bytearray(b\"holamundo\")\n",
    "print(ba)\n",
    "\n",
    "# Podemos ocupar la notación de slicing\n",
    "print(ba[3:7])\n",
    "ba[4:6] = b\"\\x15\\xa3\"\n",
    "print(ba)\n",
    "\n",
    "# Podemos agregar bytes con el método extend\n",
    "ba.extend(b\"programa\")\n",
    "print(ba)"
   ]
  },
  {
   "cell_type": "code",
   "execution_count": 27,
   "metadata": {},
   "outputs": [
    {
     "name": "stdout",
     "output_type": "stream",
     "text": [
      "104\n",
      "0b1101000\n",
      "01101000\n"
     ]
    }
   ],
   "source": [
    "# Aquí se imprime un byte, representado por un entero, el ascii que corresponde a la letra \"h\"\n",
    "print(ba[0])\n",
    "# La función bin genera un string con la representación binaria del byte\n",
    "print(bin(ba[0]))\n",
    "# El método zfill(r) rellena con 0's al inicio hasta completar r caracteres\n",
    "print(bin(ba[0])[2:].zfill(8))"
   ]
  },
  {
   "cell_type": "markdown",
   "metadata": {},
   "source": [
    "La última línea permite imprimir directamente los valores de los *bits* correspondientes al primer *byte* (representado en el literal `h` o el entero 104). El `[2:]` es para partir desde la tercera posición, ya que las primeras dos posiciones contienen los caracteres `0b`, que simplemente indica que el formato es en binario (línea anterior). Al agregar `.zfill(8)` indicamos que se usarán 8 *bits* para representar el *byte*, lo cual tiene sentido cuando hay ceros por el lado izquierdo y el *default* no los muestra (línea anterior tiene sólo 7 bits después del `0b`). \n",
    "\n",
    "Un caracter de un *byte* puede ser convertido a un entero usando la función `ord`."
   ]
  },
  {
   "cell_type": "code",
   "execution_count": 28,
   "metadata": {},
   "outputs": [
    {
     "name": "stdout",
     "output_type": "stream",
     "text": [
      "97\n",
      "97\n"
     ]
    }
   ],
   "source": [
    "# Recordemos que imprimir un elemento de un bytearray nos muestra el int que le representa\n",
    "print(bytearray(b\"a\")[0])\n",
    "# La función ord hace esta conversión directamente a partir de un byte\n",
    "print(ord(b\"a\"))"
   ]
  },
  {
   "cell_type": "code",
   "execution_count": 29,
   "metadata": {},
   "outputs": [
    {
     "name": "stdout",
     "output_type": "stream",
     "text": [
      "bytearray(b'abcgDf')\n"
     ]
    }
   ],
   "source": [
    "# Aqui ocupamos ambas formas (int directamente y ord) para hacer cambios en un bytearray\n",
    "b = bytearray(b'abcdef')\n",
    "b[3] = ord(b'g')         # El caracter g tiene como código ascii el 103\n",
    "b[4] = 68                # El caracter D tiene como código ascii el 68, esto sería lo mismo que ingresar b[4] = ord(b'D')\n",
    "print(b)"
   ]
  },
  {
   "cell_type": "markdown",
   "metadata": {},
   "source": [
    "### *Chunks*\n",
    "\n",
    "Un concepto importante en el manejo de *bytes* es lo que se entiende por ***chunk***: un grupo de *bytes*. Cuando trabajamos con una cantidad importante de *bytes*, no es convenientoe leerlos todos a la vez, ya que pueden ser mucho y pueden no caber en nuestra memoria; ni tampoco uno por uno, pues requiere más operaciones de I/O y es más lento. Sin embargo, podemos utilizar el punto medio: leer los *bytes* en *chunks* (grupos) de cierta cantidad de *bytes*. Por ejemplo, el siguiente *bytearray* lo leeremos en *chunks* de tamaño 4 (`TAMANO_CHUNK`):"
   ]
  },
  {
   "cell_type": "code",
   "execution_count": 17,
   "metadata": {},
   "outputs": [
    {
     "name": "stdout",
     "output_type": "stream",
     "text": [
      "bytearray(b'Una ')\n",
      "bytearray(b'gran')\n",
      "bytearray(b' can')\n",
      "bytearray(b'tida')\n",
      "bytearray(b'd de')\n",
      "bytearray(b' byt')\n",
      "bytearray(b'es q')\n",
      "bytearray(b'ue q')\n",
      "bytearray(b'uier')\n",
      "bytearray(b'o le')\n",
      "bytearray(b'er d')\n",
      "bytearray(b'e a ')\n",
      "bytearray(b'poqu')\n",
      "bytearray(b'ito')\n"
     ]
    }
   ],
   "source": [
    "muchos_bytes = bytearray(b\"Una gran cantidad de bytes que quiero leer de a poquito\")\n",
    "TAMANO_CHUNK = 4\n",
    "\n",
    "for i in range(0, len(muchos_bytes), TAMANO_CHUNK):\n",
    "    # Aqui obtenemos nuestro chunk\n",
    "    chunk = bytearray(muchos_bytes[i:i+TAMANO_CHUNK])\n",
    "    print(chunk)"
   ]
  },
  {
   "cell_type": "markdown",
   "metadata": {},
   "source": [
    "## I/O de archivos\n",
    "\n",
    "Hasta ahora hemos operado con la lectura y escritura de archivos de texto; sin embargo, los sistemas operativos representan los archivos como secuencias de *bytes*, no como texto. Dado que leer *bytes* y convertirlos a texto es una operación muy común en archivos, los lenguajes de programación proveen maneras de manejar los *bytes* para transformarlos a una representación en *string* usando métodos de codificación (*encoding*) y decodificación (*decoding*). La función `open` nos permite, además de abrir archivos, ingresar como argumentos el set de caracteres que se usará para codificar los *bytes* y la estrategia que se debe seguir cuando aparezcan *bytes* inconsistentes con el formato:"
   ]
  },
  {
   "cell_type": "code",
   "execution_count": 31,
   "metadata": {},
   "outputs": [
    {
     "name": "stdout",
     "output_type": "stream",
     "text": [
      "sorry pero ahora yo soy lo que habr�� dentro del archivo\n",
      "yo me agregar�� al final\n",
      "\n"
     ]
    }
   ],
   "source": [
    "file = open('data/archivo_ejemplo', \"r\", encoding='ascii', errors='replace')\n",
    "print(file.read())\n",
    "file.close()"
   ]
  },
  {
   "cell_type": "markdown",
   "metadata": {},
   "source": [
    "Veamos cómo cambia esto, si es que eligimos otro *encoding*."
   ]
  },
  {
   "cell_type": "code",
   "execution_count": 32,
   "metadata": {},
   "outputs": [
    {
     "name": "stdout",
     "output_type": "stream",
     "text": [
      "sorry pero ahora yo soy lo que habrá dentro del archivo\n",
      "yo me agregaré al final\n",
      "\n"
     ]
    }
   ],
   "source": [
    "file = open('data/archivo_ejemplo', \"r\", encoding='utf-8', errors='replace')\n",
    "print(file.read())\n",
    "file.close()"
   ]
  },
  {
   "cell_type": "markdown",
   "metadata": {},
   "source": [
    "Ahora, escribiremos en un archivo el mismo contenido."
   ]
  },
  {
   "cell_type": "code",
   "execution_count": 33,
   "metadata": {},
   "outputs": [],
   "source": [
    "contenido = \"sorry pero ahora yo soy lo que habrá dentro del archivo\"\n",
    "file = open(\"data/archivo_ejemplo_1\", \"w\", encoding=\"utf-8\", errors=\"replace\")\n",
    "file.write(contenido)\n",
    "file.close()"
   ]
  },
  {
   "cell_type": "markdown",
   "metadata": {},
   "source": [
    "Podemos también agregar contenido al final del archivo, reemplazando el modo de apertura del archivo, cambiando la `w` por una `a`, de *append*."
   ]
  },
  {
   "cell_type": "code",
   "execution_count": 34,
   "metadata": {},
   "outputs": [
    {
     "name": "stdout",
     "output_type": "stream",
     "text": [
      "sorry pero ahora yo soy lo que habrá dentro del archivo\n",
      "yo me agregaré al final\n"
     ]
    }
   ],
   "source": [
    "contenido = \"\\nyo me agregaré al final\"\n",
    "file = open(\"data/archivo_ejemplo_1\", \"a\", encoding=\"utf-8\", errors=\"replace\")\n",
    "file.write(contenido)\n",
    "file.close()\n",
    "\n",
    "file = open('data/archivo_ejemplo_1', \"r\", encoding='utf-8', errors='replace')\n",
    "print(file.read())\n",
    "file.close()"
   ]
  },
  {
   "cell_type": "markdown",
   "metadata": {},
   "source": [
    "Para abrir un archivo como binario, simplemente debemos agregar una `b` por el lado derecho del modo de apertura. Por ejemplo, `wb` o `rb`. El archivo se comportará igual que un archivo de texto, sólo que sin la codificación automática de *byte* a texto."
   ]
  },
  {
   "cell_type": "code",
   "execution_count": 35,
   "metadata": {},
   "outputs": [
    {
     "name": "stdout",
     "output_type": "stream",
     "text": [
      "b'abcde12'\n"
     ]
    }
   ],
   "source": [
    "contenido = b\"abcde12\"\n",
    "file = open(\"data/archivo_ejemplo_2\", \"wb\")\n",
    "file.write(contenido)\n",
    "file.close()\n",
    "\n",
    "file = open('data/archivo_ejemplo_2', \"rb\")\n",
    "print(file.read())\n",
    "file.close()"
   ]
  },
  {
   "cell_type": "markdown",
   "metadata": {},
   "source": [
    "Podemos concatenar *bytes* simplemente con el operador `+`. En el siguiente ejemplo, construimos un contenido dinámico para ser escrito en un archivo de *bytes*. Después leemos una cantidad fija de *bytes* desde el mismo archivo:"
   ]
  },
  {
   "cell_type": "code",
   "execution_count": 36,
   "metadata": {},
   "outputs": [
    {
     "name": "stdout",
     "output_type": "stream",
     "text": [
      "b'linea_\\x00 abcde12 linea_\\x01 abcde12 linea_\\x02 a'\n"
     ]
    }
   ],
   "source": [
    "num_lineas = 100\n",
    "\n",
    "file = open(\"data/archivo_ejemplo_3\", \"wb\")\n",
    "for i in range(num_lineas):\n",
    "    # A la función \"bytes\" debemos pasarle un iterable con el contenido a convertir \n",
    "    # por eso le pasamos el entero dentro de una lista  \n",
    "    contenido = b\"linea_\" + bytes([i]) + b\" abcde12 \"                                             \n",
    "    file.write(contenido)\n",
    "file.close()\n",
    "\n",
    "file = open('data/archivo_ejemplo_3', \"rb\")\n",
    "# El número dentro de la función read nos dice el número de bytes que se van a leer del archivo\n",
    "print(file.read(41))\n",
    "file.close()"
   ]
  },
  {
   "cell_type": "markdown",
   "metadata": {},
   "source": [
    "## *Context Manager*\n",
    "\n",
    "Dado que siempre necesitamos cerrar un archivo después de usarlo, debemos considerar la posibilidad de que ocurran excepciones mientras el archivo está abierto. Una forma clara de hacerlo es cerrar el archivo dentro de la sentencia `finally` después de un `try`; sin embargo, esto genera bastante código extra. En Python existe una forma de hacer lo mismo con menos código, a través de un *context manager*, que se encarga de ejecutar las sentencias `try` y `finally` sin la necesidad de llamarlas directamente. Sólo necesitamos llamar al archivo que queremos abrir usando la sentencia `with`. Veamos un ejemplo."
   ]
  },
  {
   "cell_type": "code",
   "execution_count": 37,
   "metadata": {},
   "outputs": [],
   "source": [
    "with open(\"data/archivo_ejemplo_4\", \"r\") as file:\n",
    "    contenido = file.read()"
   ]
  },
  {
   "cell_type": "markdown",
   "metadata": {},
   "source": [
    "El código anterior sería equivalente a hacer lo siguiente:"
   ]
  },
  {
   "cell_type": "code",
   "execution_count": 38,
   "metadata": {},
   "outputs": [],
   "source": [
    "file = open(\"data/archivo_ejemplo_4\", \"r\")\n",
    "try:\n",
    "    contenido = file.read()\n",
    "finally:\n",
    "    file.close()"
   ]
  },
  {
   "cell_type": "markdown",
   "metadata": {},
   "source": [
    "Si ejecutamos `dir` en un objeto de tipo archivo:"
   ]
  },
  {
   "cell_type": "code",
   "execution_count": 39,
   "metadata": {},
   "outputs": [
    {
     "name": "stdout",
     "output_type": "stream",
     "text": [
      "['_CHUNK_SIZE', '__class__', '__del__', '__delattr__', '__dict__', '__dir__', '__doc__', '__enter__', '__eq__', '__exit__', '__format__', '__ge__', '__getattribute__', '__getstate__', '__gt__', '__hash__', '__init__', '__init_subclass__', '__iter__', '__le__', '__lt__', '__ne__', '__new__', '__next__', '__reduce__', '__reduce_ex__', '__repr__', '__setattr__', '__sizeof__', '__str__', '__subclasshook__', '_checkClosed', '_checkReadable', '_checkSeekable', '_checkWritable', '_finalizing', 'buffer', 'close', 'closed', 'detach', 'encoding', 'errors', 'fileno', 'flush', 'isatty', 'line_buffering', 'mode', 'name', 'newlines', 'read', 'readable', 'readline', 'readlines', 'seek', 'seekable', 'tell', 'truncate', 'writable', 'write', 'writelines']\n"
     ]
    }
   ],
   "source": [
    "file = open(\"data/archivo_ejemplo_4\", \"w\")\n",
    "print(dir(file))\n",
    "file.close()"
   ]
  },
  {
   "cell_type": "markdown",
   "metadata": {},
   "source": [
    "Vemos que existen dos métodos llamados `__enter__` y `__exit__`. Estos dos métodos transforman el archivo en un *context manager*. El método `__exit__` asegura que el archivo será cerrado incluso si aparece una excepción mientras esté abierto. El método `__enter__` inicializa el archivo o realiza cualquier acción necesaria para ajustar el contexto del objeto.\n",
    "\n",
    "Para asegurarnos que un archivo usará los métodos `__enter__` y `__exit__`, simplemente debemos llamar a la apertura del archivo con el método `with`.\n",
    "\n",
    "También podemos crear nuestros propios *context managers* a partir de cualquier clase. Simplemente agregamos los métodos `__enter__` y `__exit__` y podemos llamar a nuestra clase a través del método `with`. Del siguiente ejemplo, se puede ver cómo el método `__exit__` se ejecuta una vez que nos salimos del *scope* de la sentencia `with`."
   ]
  },
  {
   "cell_type": "code",
   "execution_count": 40,
   "metadata": {},
   "outputs": [
    {
     "name": "stdout",
     "output_type": "stream",
     "text": [
      "['b', 'p', 'a', 'd', 'o', 'h', 't', 'f', 'y', 'd', 'v', 'b', 'y', 'y', 'n', 's', 'e', 'g', 'n', 'q']\n",
      "['B', 'P', 'A', 'D', 'O', 'H', 'T', 'F', 'Y', 'D', 'V', 'B', 'Y', 'Y', 'N', 'S', 'E', 'G', 'N', 'Q']\n"
     ]
    }
   ],
   "source": [
    "import string, random\n",
    "\n",
    "class StringUpper(list): \n",
    "        \n",
    "    def __enter__(self):\n",
    "        return self\n",
    "    \n",
    "    def __exit__(self, exc_type, exc_value, traceback):\n",
    "        for index, char in enumerate(self):\n",
    "            self[index] = char.upper()\n",
    "\n",
    "with StringUpper() as s_upper:\n",
    "    for i in range(20):\n",
    "        # Aquí seleccionamos, en forma aleatoria, un ascii en minúsculas\n",
    "        # y las agregamos a la lista.\n",
    "        s_upper.append(random.choice(string.ascii_lowercase))\n",
    "    print(s_upper)\n",
    "        \n",
    "print(s_upper)"
   ]
  },
  {
   "cell_type": "markdown",
   "metadata": {},
   "source": [
    "El código anterior simplemente corresponde a una clase que hereda de la clase `list`. Al implementar los métodos `__enter__` y `__exit__`, podemos instanciar la clase a través de un *context manager*. En este ejemplo en particular, el *context manager* se encarga de transformar todos los caracteres ASCII de la lista a mayúsculas."
   ]
  },
  {
   "cell_type": "markdown",
   "metadata": {},
   "source": [
    "## Cómo emular archivos para I/O\n",
    "\n",
    "Muchas veces tenemos que interactuar con algunos módulos de software que sólo leen y escriben sus datos desde y hacia archivos. Si queremos comunicar nuestro código que genera, por ejemplo, *strings*, para evitar tener que escribir nuestros datos en un archivo para que el otro programa los lea, podemos *emular* el tener un archivo usando los módulos de Python `StringIO` o `BytesIO`. El siguiente ejemplo muestra cómo usar estos módulos:"
   ]
  },
  {
   "cell_type": "code",
   "execution_count": 41,
   "metadata": {},
   "outputs": [
    {
     "name": "stdout",
     "output_type": "stream",
     "text": [
      "b'informacin como texto y ms'\n"
     ]
    }
   ],
   "source": [
    "from io import StringIO, BytesIO\n",
    "file_in = StringIO(\"información como texto y más\") # aquí simulamos tener un archivo que contiene el string dado \n",
    "file_out = BytesIO()                               # aquí simulamos un archivo de Bytes para escribir la información\n",
    "\n",
    "char = file_in.read(1)\n",
    "while char:\n",
    "    file_out.write(char.encode(\"ascii\", \"ignore\"))\n",
    "    char = file_in.read(1)\n",
    "\n",
    "buffer_ = file_out.getvalue()\n",
    "print(buffer_)"
   ]
  },
  {
   "cell_type": "markdown",
   "metadata": {},
   "source": [
    "## Más información\n",
    "\n",
    "Para conocer más sobre *bytes*, puedes visitar [este enlace](http://www.dummies.com/programming/electronics/digital-electronics-binary-basics/)."
   ]
  }
 ],
 "metadata": {
  "anaconda-cloud": {},
  "kernelspec": {
   "display_name": "Python 3",
   "language": "python",
   "name": "python3"
  },
  "language_info": {
   "codemirror_mode": {
    "name": "ipython",
    "version": 3
   },
   "file_extension": ".py",
   "mimetype": "text/x-python",
   "name": "python",
   "nbconvert_exporter": "python",
   "pygments_lexer": "ipython3",
   "version": "3.7.4"
  },
  "varInspector": {
   "cols": {
    "lenName": 16,
    "lenType": 16,
    "lenVar": 40
   },
   "kernels_config": {
    "python": {
     "delete_cmd_postfix": "",
     "delete_cmd_prefix": "del ",
     "library": "var_list.py",
     "varRefreshCmd": "print(var_dic_list())"
    },
    "r": {
     "delete_cmd_postfix": ") ",
     "delete_cmd_prefix": "rm(",
     "library": "var_list.r",
     "varRefreshCmd": "cat(var_dic_list()) "
    }
   },
   "types_to_exclude": [
    "module",
    "function",
    "builtin_function_or_method",
    "instance",
    "_Feature"
   ],
   "window_display": false
  }
 },
 "nbformat": 4,
 "nbformat_minor": 1
}
