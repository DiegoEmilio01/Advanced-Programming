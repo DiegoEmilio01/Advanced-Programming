{
 "cells": [
  {
   "cell_type": "markdown",
   "metadata": {},
   "source": [
    "# Ejercicios propuestos: *Input*/*Output* + Serialización + RegEx"
   ]
  },
  {
   "cell_type": "markdown",
   "metadata": {},
   "source": [
    "Los siguientes problemas se dejan como opción para ejercitar los conceptos revisados sobre I/O, serialización y RegEx (semana 11). Si tienes dudas sobre algún problema o alguna solución, no dudes en dejar una issue en el foro del curso."
   ]
  },
  {
   "cell_type": "markdown",
   "metadata": {},
   "source": [
    "## Ejercicio 1: `bytearrays` y *context managers*"
   ]
  },
  {
   "cell_type": "markdown",
   "metadata": {},
   "source": [
    "El archivo **simpatico.bmp** ha sido corrompido con *bytes* no correspondientes. Para limpiarlo, deberás implementar el siguiente algoritmo:\n",
    "\n",
    "1. Abrir el archivo **malvado.mal** en modo lectura de *bytes*.\n",
    "2. Obtener *chunks* de 8 bytes.\n",
    "3. Encontrar el máximo de esos 8 *bytes*.\n",
    "4. Eliminar todos los *bytes* con ese valor dentro del *chunk*.\n",
    "5. Repetir el proceso con el resto de los *bytes*.\n",
    "6. Escribir el archivo **simpatico.bmp** con los bytes obtenidos.\n",
    "\n",
    "**Sobre los pasos 2 a 4**: \n",
    "\n",
    "- Considerando un *chunk* de 8 *bytes*, con los siguientes valores (paso 2): `4 8 255 15 16 23 255 42`\n",
    "- Se obtiene el máximo de ese *chunk* de bytes (paso 3): `255`.\n",
    "- Se eliminan todos los *bytes* con ese valor, resultando: `4 8 15 16 23 42`"
   ]
  },
  {
   "cell_type": "code",
   "execution_count": 1,
   "metadata": {},
   "outputs": [],
   "source": [
    "# Se abre el archivo\n",
    "with open('malvado.mal', 'rb') as bytefile:\n",
    "    byte_read = bytefile.read()\n",
    "    byte_out = bytearray()\n",
    "    # Se recorre su contenido en chunks de 8 bytes\n",
    "    for i in range(0, len(byte_read), 8):\n",
    "        # Se obtiene un chunk de 8 bytes\n",
    "        chunk = bytearray(byte_read[i:i+8])\n",
    "        # Se obtiene el valor más alto\n",
    "        maximum = max(chunk)\n",
    "        # Se eliminan todos los bytes con ese valor\n",
    "        while maximum in chunk:\n",
    "            chunk.remove(maximum)\n",
    "        byte_out += chunk\n",
    "\n",
    "# Se escribe el nuevo archivo\n",
    "with open('simpatico.bmp', 'wb') as file_out:\n",
    "    file_out.write(byte_out)"
   ]
  },
  {
   "cell_type": "markdown",
   "metadata": {},
   "source": [
    "## Ejercicio 2: Serialización con JSON  y *f-strings*"
   ]
  },
  {
   "cell_type": "markdown",
   "metadata": {},
   "source": [
    "¡Han contaminado el recetario de las pizzas del Tini Tamburini! Es por esta razón que han venido a pedirte ayuda mediante este ejercicio propuesto.\n",
    "\n",
    "Deberás deserializar el archivo **pizzeria.json** que contiene una lista de objetos de clase `Pizza`. Estos objetos tienen el atributo `ingredientes`, el cual ha sido contaminado con elementos que no son comestibles. Para identificarlos, el Tini le entrega un archivo llamado **comestibles.json**, el cual será de ayuda para filtrar los ingredientes mediante el uso un `object_hook`. Finalmente, imprime todas las pizzas utilizando *f-strings*."
   ]
  },
  {
   "cell_type": "code",
   "execution_count": 2,
   "metadata": {},
   "outputs": [
    {
     "name": "stdout",
     "output_type": "stream",
     "text": [
      "Pizza: hawaiana\n",
      "Ingredientes: ['pinia', 'queso', 'jamon']\n",
      "\n",
      "Pizza: vegetariana\n",
      "Ingredientes: ['queso', 'aceitunas', 'champiniones']\n",
      "\n",
      "Pizza: machas a la parmesana\n",
      "Ingredientes: ['machas', 'queso']\n",
      "\n",
      "Pizza: pepperoni\n",
      "Ingredientes: ['pepperoni', 'queso']\n",
      "\n",
      "Pizza: pollo bbq\n",
      "Ingredientes: ['cebolla', 'queso', 'pollo bbq']\n",
      "\n",
      "Pizza: jamon palmito\n",
      "Ingredientes: ['jamon', 'palmitos', 'queso']\n",
      "\n",
      "Pizza: white\n",
      "Ingredientes: ['aceitunas', 'tomate']\n",
      "\n",
      "Pizza: napolitana\n",
      "Ingredientes: ['queso', 'albahaca', 'tomate']\n",
      "\n",
      "Pizza: queso\n",
      "Ingredientes: ['queso', 'queso']\n",
      "\n"
     ]
    }
   ],
   "source": [
    "import json\n",
    "\n",
    "\n",
    "class Pizza:\n",
    "    def __init__(self, nombre, ingredientes, *args, **kwargs):\n",
    "        self.nombre = nombre\n",
    "        self.ingredientes = ingredientes\n",
    "    def __repr__(self):\n",
    "        return self.nombre\n",
    "    def __str__(self):\n",
    "        return f\"Pizza: {self.nombre}\\nIngredientes: {self.ingredientes}\"\n",
    "\n",
    "    \n",
    "def filtrar_comestibles(diccionario):\n",
    "    # Aquí deberás cargar la lista de comestibles y quitar del atributo\n",
    "    # correspondiente aquellos elementos que no lo sean\n",
    "    with open('comestibles.json') as comestibles_file:\n",
    "        comestible = json.load(comestibles_file)\n",
    "    diccionario['ingredientes'] = list(filter(lambda x: x in comestible, \n",
    "                                              diccionario['ingredientes']))\n",
    "    return Pizza(**diccionario)\n",
    "\n",
    "\n",
    "# Carga las pizzas del archivo pizzeria.json\n",
    "with open('pizzeria.json') as archivo_pizzas:\n",
    "    lista_pizzas = json.load(archivo_pizzas, object_hook=filtrar_comestibles)\n",
    "\n",
    "# y finalmente imprime la lista de pizzas usando f-strings\n",
    "for pizza in lista_pizzas:\n",
    "    print(pizza) # Se usa f-strings en el método __str__ de Pizza\n",
    "    print()"
   ]
  },
  {
   "cell_type": "markdown",
   "metadata": {},
   "source": [
    "## Ejercicio 3: Serialización con JSON y *pickle*"
   ]
  },
  {
   "cell_type": "markdown",
   "metadata": {},
   "source": [
    "Mientras estás de visita en un museo, se descubre que en las descripciones de un conjunto de obras de arte se encuentra un mensaje oculto, el cual solo se puede descifrar a través del uso de *pickle* para serialización. Es por esto, que el director del museo pide tu ayuda.\n",
    "\n",
    "Para lograr descifrar el mensaje oculto, deberás implementar las siguientes funciones:\n",
    "\n",
    "- `cargar_obras(ruta_obras)`: El archivo **operas.json** contiene toda la información de las obras. Las obras contienen algunos datos que no son relevantes para la solución de este misterio. Por esto, se te entrega el archivo **caratteristicas.json**, con las características que sí deberás obtener de las obras, mediante la función `obras_hook`, que deberá retornar una **lista de objetos de la clase `Obra`**.\n",
    "- `generar_mensaje(lista_obras)`: Esta función debe serializar cada una de las obras utilizando `pickle`. Durante este proceso, deberás agregar a cada obra el attributo `messaggio`, con un mensaje generado por 3 palabras al azar del atributo `descrizione`. Los archivos generados deben ser guardados en la carpeta **Obras** con el siguiente formato: `<nome>-<autore>.opera` (sin `<` ni `>`), donde `nome` y `autore` son el nombre de la obra y el nombre de su respectivo autor. "
   ]
  },
  {
   "cell_type": "code",
   "execution_count": 3,
   "metadata": {},
   "outputs": [
    {
     "name": "stdout",
     "output_type": "stream",
     "text": [
      "Cargando las obras...\n",
      "\n",
      "Codificando los mensajes (toma unos segundos)...\n",
      "\n",
      "Listo :)\n"
     ]
    }
   ],
   "source": [
    "import json\n",
    "import os\n",
    "import pickle\n",
    "import random\n",
    "\n",
    "\n",
    "CARATTERISTICAS_CAMMINO = 'caratteristicas.json'\n",
    "OPERAS_CAMMINO = 'operas.json'\n",
    "\n",
    "class Obra:\n",
    "    \"\"\"\n",
    "    Clase para las Obras de Antonini Da Ossa\n",
    "    \"\"\"\n",
    "\n",
    "    def __init__(self, nome=None, autore=None, anno=None, posto=None,\n",
    "                 stile=None, descrizione=None):\n",
    "\n",
    "        self.nome = nome\n",
    "        self.autore = autore\n",
    "        self.anno = anno\n",
    "        self.posto = posto\n",
    "        self.stile = stile\n",
    "        self.descrizione = descrizione\n",
    "\n",
    "    def __getstate__(self):\n",
    "        \"\"\"\n",
    "        Serializa las obras, agregando el atributo 'messaggio' al diccionario.\n",
    "        \"\"\"\n",
    "        # Se crea el 'messaggio'\n",
    "        messaggio = \" \".join(random.sample(self.descrizione.split(), 3))\n",
    "        # Se copia el diccionario y se serializa la nueva versión\n",
    "        nuevo_diccionario = self.__dict__.copy()\n",
    "        nuevo_diccionario.update({\"messaggio\": messaggio})\n",
    "        return nuevo_diccionario\n",
    "\n",
    "\n",
    "def cargar_obras(ruta_obras):\n",
    "    \"\"\"\n",
    "\n",
    "    Funcion que carga las obras con las características pedidas,\n",
    "    y luego entrega la lista de Obras.\n",
    "    :param ruta_obras: Path de archivo de obras a cargar\n",
    "\n",
    "    NOTA: DEBE USARSE la funcion obras_hook() como\n",
    "     object hook para hacer el filtrado\n",
    "\n",
    "    \"\"\"\n",
    "    with open(ruta_obras, encoding=\"utf-8\") as archivo_obras:\n",
    "        return json.load(archivo_obras, object_hook=obras_hook)\n",
    "\n",
    "\n",
    "def obras_hook(dict_obras):\n",
    "    \"\"\"\n",
    "    Object hook que hace los objetos de la clase Obra y los añade a una lista.\n",
    "    HINT: Utilizar aquí el archivo caratteristicas ;)\n",
    "    \"\"\"\n",
    "    with open(CARATTERISTICAS_CAMMINO) as archivo_caracteristicas:\n",
    "        lista_caracteristicas = json.load(archivo_caracteristicas)\n",
    "    # Se filtran los parametros del archivo de caracteristicas\n",
    "    diccionario_filtrado = {c: dict_obras[c] for c in lista_caracteristicas}\n",
    "    \n",
    "    # Se desempaqueta el diccionario y se pasan las llaves como kwargs\n",
    "    return Obra(**diccionario_filtrado)\n",
    "\n",
    "\n",
    "def generar_mensaje(lista_obras):\n",
    "    \"\"\"\n",
    "    Serializa las obras y las guarda en archivos\n",
    "    :param lista_obras: Lista de objetos de tipo obra cargados.\n",
    "    \"\"\"\n",
    "    # Se crea la carpeta 'Obras' si es que no existe\n",
    "    os.makedirs(\"Obras\", exist_ok=True)\n",
    "    \n",
    "    # Se serializa cada obra\n",
    "    for obra in lista_obras:\n",
    "        nombre_archivo = f\"{obra.nome}-{obra.autore}.opera\"\n",
    "        with open(os.path.join(\"Obras\", nombre_archivo), \"wb\") as archivo_obra:\n",
    "            pickle.dump(obra, archivo_obra)\n",
    "\n",
    "\n",
    "# Código principal\n",
    "print(\"Cargando las obras...\")\n",
    "lista_obras = cargar_obras(OPERAS_CAMMINO)\n",
    "print()\n",
    "print(\"Codificando los mensajes (toma unos segundos)...\")\n",
    "generar_mensaje(lista_obras)\n",
    "print()\n",
    "print(\"Listo :)\")"
   ]
  },
  {
   "cell_type": "markdown",
   "metadata": {},
   "source": [
    "## Ejercicio 4: Expresiones regulares"
   ]
  },
  {
   "cell_type": "markdown",
   "metadata": {},
   "source": [
    "El profesor Vicente es un muy buen baterista, y un día le llego una canción de un alumno escrita de una manera muy peculiar...\n",
    "\n",
    "```\n",
    "BUMpatapatapatatss;-;BUMBUMpatatsspatatss;-;BUMpataBUMpataBUM;-;BUMtsstssBUMpata...\n",
    "```\n",
    "\n",
    "Él, ingeniosamente, descubrió qué significa cada elemento y cómo asociarlo a su representación en una notación más amigable:\n",
    "\n",
    "- `BUM`: Bombo, que se representa con `O`\n",
    "- `pata`: Caja, que se representa con `././`\n",
    "- `tss`: Platillo, que se representa con `x/`\n",
    "- `;-;`: Esto representa una barra de compás ` | `\n",
    "\n",
    "Como favor, te pide que crees la función `traducir_pata(cancion)` que use *RegEx* para reemplazar los elementos de la canción por la nomenclatura que te presenta. Además, te deja un ejemplo:\n",
    "\n",
    "```\n",
    "BUMpatapatapatatss;-;BUMBUMpatatsspatatss;-;BUMpataBUMpataBUM;-;BUMtsstssBUMpata\n",
    "```\n",
    "\n",
    "La función `traducir_pata` debería retornar:\n",
    "\n",
    "```\n",
    "O ././ ././ ././ x/ | O O ././ x/ ././ x/ | O ././ O ././ O | O x/ x/ O ././ \n",
    "```"
   ]
  },
  {
   "cell_type": "code",
   "execution_count": 4,
   "metadata": {},
   "outputs": [
    {
     "name": "stdout",
     "output_type": "stream",
     "text": [
      "O ././ ././ ././ x/ | O O ././ x/ ././ x/ | O ././ O ././ O | O x/ x/ O ././ \n"
     ]
    }
   ],
   "source": [
    "import re\n",
    "\n",
    "def traducir_pata(cancion):\n",
    "    # Aqui deberás hacer los cambios correspondientes\n",
    "    cancion = re.sub(\"BUM\", \"O \", cancion)\n",
    "    cancion = re.sub(\"pata\", \"././ \", cancion)\n",
    "    cancion = re.sub(\"tss\", \"x/ \", cancion)\n",
    "    cancion = re.sub(\";-;\", '| ', cancion)\n",
    "    return cancion\n",
    "\n",
    "print(traducir_pata(\"BUMpatapatapatatss;-;BUMBUMpatatsspatatss;-;BUMpataBUMpataBUM;-;BUMtsstssBUMpata\"))"
   ]
  }
 ],
 "metadata": {
  "kernelspec": {
   "display_name": "Python 3",
   "language": "python",
   "name": "python3"
  },
  "language_info": {
   "codemirror_mode": {
    "name": "ipython",
    "version": 3
   },
   "file_extension": ".py",
   "mimetype": "text/x-python",
   "name": "python",
   "nbconvert_exporter": "python",
   "pygments_lexer": "ipython3",
   "version": "3.6.7"
  },
  "varInspector": {
   "cols": {
    "lenName": 16,
    "lenType": 16,
    "lenVar": 40
   },
   "kernels_config": {
    "python": {
     "delete_cmd_postfix": "",
     "delete_cmd_prefix": "del ",
     "library": "var_list.py",
     "varRefreshCmd": "print(var_dic_list())"
    },
    "r": {
     "delete_cmd_postfix": ") ",
     "delete_cmd_prefix": "rm(",
     "library": "var_list.r",
     "varRefreshCmd": "cat(var_dic_list()) "
    }
   },
   "types_to_exclude": [
    "module",
    "function",
    "builtin_function_or_method",
    "instance",
    "_Feature"
   ],
   "window_display": false
  }
 },
 "nbformat": 4,
 "nbformat_minor": 2
}
