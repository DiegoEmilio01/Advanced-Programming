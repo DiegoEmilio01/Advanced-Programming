{
 "cells": [
  {
   "cell_type": "markdown",
   "metadata": {},
   "source": [
    "# Actividad 11 2018-1, I/O: archivos y *bytes*"
   ]
  },
  {
   "cell_type": "markdown",
   "metadata": {},
   "source": [
    "Ocuparemos [esta actividad](https://github.com/IIC2233/Syllabus-2018-1/blob/master/Actividades/AC11/AC11.pdf) de hace algunos semestres para guiarlos en el proceso de leer y entender un enunciado, decidir dónde aplicar la materia y, finalmente, implementar. Recuerden el orden en que se hace este proceso: leer, entender, aplicar la materia y programar."
   ]
  },
  {
   "cell_type": "markdown",
   "metadata": {},
   "source": [
    "## Leyendo el enunciado"
   ]
  },
  {
   "cell_type": "markdown",
   "metadata": {},
   "source": [
    "Primero, obviamente, partiremos por el proceso de leer el enunciado. Sigan el link, lean la actividad por completo y, una vez que terminen de revisar todo (incluidas las Notas), vuelvan a este archivo."
   ]
  },
  {
   "cell_type": "markdown",
   "metadata": {},
   "source": [
    "## Parte 1: Encontrar archivos"
   ]
  },
  {
   "cell_type": "markdown",
   "metadata": {},
   "source": [
    "1. Ejecutar el archivo `esconder.py`, lo podemos hacer desde nuestro editor o de cualquier otra parte.\n",
    "2. Se crearán las carpetas, lo que generará algo como lo de la imagen:\n",
    "\n",
    "![](img/folders.jpg)\n",
    "\n",
    "3. En alguna de las carpetas se esconderán los archivos corruptos (`marciano64.png` y `marcianozurdo.pep`).\n",
    "4. Encontrar automáticamente la ruta a cada archivo."
   ]
  },
  {
   "cell_type": "markdown",
   "metadata": {},
   "source": [
    "En esta parte, estamos trabajando con archivos y rutas, por lo que debemos recurrir a la materia de *paths*. Lo que queremos hacer es entrar a cada una de esas carpetas, que dentro tendrán otras carpetas, hasta encontrar los archivos buscados: "
   ]
  },
  {
   "cell_type": "code",
   "execution_count": 1,
   "metadata": {
    "ExecuteTime": {
     "end_time": "2019-05-24T23:00:38.249921Z",
     "start_time": "2019-05-24T23:00:38.246672Z"
    }
   },
   "outputs": [],
   "source": [
    "import os"
   ]
  },
  {
   "cell_type": "markdown",
   "metadata": {},
   "source": [
    "Nuestra idea se ve algo así:\n",
    "\n",
    "0. A partir del directorio actual (\".\")\n",
    "1. Mira los elementos dentro de cada carpeta\n",
    "    1. Si el elemento es un archivo, compara si es el buscado\n",
    "    2. Si el elemento es una carpeta, mira sus contenidos (repetir 1, 1A y 1B)"
   ]
  },
  {
   "cell_type": "code",
   "execution_count": 2,
   "metadata": {
    "ExecuteTime": {
     "end_time": "2019-05-24T23:00:38.323145Z",
     "start_time": "2019-05-24T23:00:38.268767Z"
    }
   },
   "outputs": [
    {
     "name": "stdout",
     "output_type": "stream",
     "text": [
      "./potato3/potato3/marciano64.png\n",
      "./potato3/potato3/marcianozurdo.pep\n"
     ]
    }
   ],
   "source": [
    "def mirar_contenidos(carpeta):\n",
    "    # `os.listdir` solo nos da el nombre...\n",
    "    for elemento in os.listdir(carpeta):\n",
    "        # ... asi que para tener la ruta ocupamos `os.path.join`\n",
    "        ruta = os.path.join(carpeta, elemento)\n",
    "        if os.path.isfile(ruta):\n",
    "            # Ahora que sabemos que es un archivo, podemos extraer su nombre\n",
    "            nombre = os.path.basename(ruta)\n",
    "            if nombre in [\"marciano64.png\", \"marcianozurdo.pep\"]:\n",
    "                # Si su nombre está entre los buscados, imprimimos la ruta\n",
    "                print(ruta)\n",
    "        elif os.path.isdir(ruta):\n",
    "            mirar_contenidos(ruta)\n",
    "\n",
    "mirar_contenidos(\".\")"
   ]
  },
  {
   "cell_type": "markdown",
   "metadata": {},
   "source": [
    "Para esta parte, también podemos ocupar el método `os.walk(raiz)`, que nos permite recorrer las carpetas y archivos a partir de una raíz. En este caso, podemos partir desde el directorio actual (ya que las carpetas estarán junto a este archivo .py) y mirar dentro de las carpetas creadas si es que están los archivos buscados."
   ]
  },
  {
   "cell_type": "code",
   "execution_count": 3,
   "metadata": {
    "ExecuteTime": {
     "end_time": "2019-05-24T23:00:38.346866Z",
     "start_time": "2019-05-24T23:00:38.326896Z"
    }
   },
   "outputs": [
    {
     "name": "stdout",
     "output_type": "stream",
     "text": [
      "./potato3/potato3/marciano64.png\n",
      "./potato3/potato3/marcianozurdo.pep\n"
     ]
    }
   ],
   "source": [
    "# Subcarpeta es una subcarpeta dentro del directorio actual (\".\")\n",
    "# Carpetas son las carpetas dentro de \"subcarpeta\"\n",
    "# Archivos son los archivos dentro de \"subcarpeta\"\n",
    "for subcarpeta, carpetas, archivos in os.walk(\".\"):\n",
    "    # Para este problema solo nos interesa revisar los archivos\n",
    "    for archivo in archivos:\n",
    "        # Si el archivo se llama \"marciano64.png\" o \"marcianozurdo.pep\"\n",
    "        # es el archivo que estamos buscando\n",
    "        if archivo in [\"marciano64.png\", \"marcianozurdo.pep\"]:\n",
    "            # Imprimimos la ruta relativa al archivo\n",
    "            print(os.path.join(subcarpeta, archivo))\n"
   ]
  },
  {
   "cell_type": "markdown",
   "metadata": {},
   "source": [
    "Ahora, para facilitar nuestro uso posterior, crearemos un método que busque un archivo específico:"
   ]
  },
  {
   "cell_type": "code",
   "execution_count": 4,
   "metadata": {
    "ExecuteTime": {
     "end_time": "2019-05-24T23:00:38.380053Z",
     "start_time": "2019-05-24T23:00:38.350634Z"
    }
   },
   "outputs": [],
   "source": [
    "def buscar_archivo(archivo_buscado):\n",
    "    for subcarpeta, carpetas, archivos in os.walk(\".\"):\n",
    "        for archivo in archivos:\n",
    "            if archivo == archivo_buscado:\n",
    "                return os.path.join(subcarpeta, archivo)\n",
    "\n",
    "archivo_1 = buscar_archivo(\"marcianozurdo.pep\")\n",
    "archivo_2 = buscar_archivo(\"marciano64.png\")\n"
   ]
  },
  {
   "cell_type": "markdown",
   "metadata": {
    "ExecuteTime": {
     "end_time": "2019-05-24T14:40:09.110203Z",
     "start_time": "2019-05-24T14:40:09.102026Z"
    }
   },
   "source": [
    "**Importante:** Como podrán ver, esta parte se puede hacer de muchas formas, ya sea ocupando métodos que conozcan (que están en los contenidos) o métodos que no conozcan tanto pero que encuentren buscando en internet. Por ejemplo, si buscamos `python iterate folder` (tanto en Google como en DuckDuckGo) el primer resultado es [esta pregunta en StackOverflow](https://stackoverflow.com/questions/10377998/how-can-i-iterate-over-files-in-a-given-directory) donde hay muchas respuestas posibles, entre ellas la opción de utilizar `os.listdir` y un poco más abajo la de utilizar `os.walk`, entre otras que no se muestran aquí. Lo importante es que busquen, encuentren y prueben. Usar internet durante una actividad está permitido."
   ]
  },
  {
   "cell_type": "markdown",
   "metadata": {},
   "source": [
    "## Parte 2: Algoritmos"
   ]
  },
  {
   "cell_type": "markdown",
   "metadata": {},
   "source": [
    "### 1. Algoritmo base64"
   ]
  },
  {
   "cell_type": "markdown",
   "metadata": {},
   "source": [
    "El enunciado nos indica los pasos a seguir:"
   ]
  },
  {
   "cell_type": "code",
   "execution_count": 5,
   "metadata": {
    "ExecuteTime": {
     "end_time": "2019-05-24T23:00:38.392330Z",
     "start_time": "2019-05-24T23:00:38.383333Z"
    }
   },
   "outputs": [],
   "source": [
    "import string\n",
    "\n",
    "# Ocuparemos este diccionario para asignar un número a cada caracter\n",
    "caracteres = string.ascii_uppercase + \\\n",
    "            string.ascii_lowercase + \\\n",
    "            string.digits + \\\n",
    "            \"+\" + \"/\"\n",
    "base_to_num = dict(zip(caracteres, range(0,64)))\n",
    "# Este código es equivalente a hacer:\n",
    "# \n",
    "# base_to_num = dict()\n",
    "# i = 0\n",
    "# for caracter in caracteres:\n",
    "#     base_to_num[caracter] = i\n",
    "#     i += 1\n",
    "\n",
    "\n",
    "def algoritmo_base_64(archivo):\n",
    "    # Leemos los bytes del archivo\n",
    "    with open(archivo, \"rb\") as f:\n",
    "        conjunto_bits = \"\"\n",
    "        for byte in f.read():\n",
    "            # Transformamos cada byte a ASCII\n",
    "            byte_como_ascii = str(chr(byte))\n",
    "            # Cada caracter lo cambiamos a base64\n",
    "            caracter_base64 = base_to_num[byte_como_ascii]\n",
    "            # Convertimos cada valor a su versión binaria de 6 bits\n",
    "            caracter_bin6 = bin(caracter_base64)[2:].zfill(6)\n",
    "            # Concatenamos los conjuntos de 6 bits\n",
    "            conjunto_bits += caracter_bin6\n",
    "\n",
    "    # Ahora agrupamos de a 8 bytes\n",
    "    # Y cada grupo se convierte a decimal\n",
    "    output = bytearray() # Ocuparemos bytearray pero funciona como lista\n",
    "    for indice in range(0, len(conjunto_bits), 8):\n",
    "        # Grupo de 8 bytes\n",
    "        grupo = conjunto_bits[indice:indice+8]\n",
    "        # Convertir a decimal\n",
    "        grupo_como_int = int(grupo, 2)\n",
    "        output.append(grupo_como_int)\n",
    "    \n",
    "    return output\n"
   ]
  },
  {
   "cell_type": "markdown",
   "metadata": {},
   "source": [
    "### 2. Algoritmo Rotar hacia la izquierda (*rotate left*)"
   ]
  },
  {
   "cell_type": "markdown",
   "metadata": {},
   "source": [
    "Es un algoritmo simple donde el primer elemento pasa al final, y los demás se corren"
   ]
  },
  {
   "cell_type": "code",
   "execution_count": 6,
   "metadata": {
    "ExecuteTime": {
     "end_time": "2019-05-24T23:00:38.421326Z",
     "start_time": "2019-05-24T23:00:38.395409Z"
    }
   },
   "outputs": [],
   "source": [
    "# Como no sabemos sobre qué se aplicará el algoritmo asumiremos una lista \n",
    "def rotate_left(chunk):\n",
    "    primero = chunk.pop(0)\n",
    "    return chunk + [primero]\n"
   ]
  },
  {
   "cell_type": "markdown",
   "metadata": {},
   "source": [
    "## Parte 3: Juntar los archivos"
   ]
  },
  {
   "cell_type": "markdown",
   "metadata": {},
   "source": [
    "Nos dicen que el archivo resultante debería llamarse `resultado.png`, y que debería visualizarse correctamente como imagen."
   ]
  },
  {
   "cell_type": "code",
   "execution_count": 7,
   "metadata": {
    "ExecuteTime": {
     "end_time": "2019-05-24T23:00:38.448809Z",
     "start_time": "2019-05-24T23:00:38.424032Z"
    }
   },
   "outputs": [],
   "source": [
    "ruta_resultado = \"resultado.png\""
   ]
  },
  {
   "cell_type": "markdown",
   "metadata": {},
   "source": [
    "Esta sección es bastante larga y se ve complicada a primera vista. Primero escribiremos cómo haríamos esta función en seudocódigo, sin programar en Python (aún), y dejaremos a mano la imagen de la explicación del algoritmo:\n",
    "\n",
    "![](img/diagram.jpg)"
   ]
  },
  {
   "cell_type": "markdown",
   "metadata": {},
   "source": [
    "1. Debemos tener ambos archivos como un arreglo de bytes, los que iremos recorriendo al mismo tiempo.\n",
    "2. Necesitamos saber el tamaño de cada *chunk*, por lo que necesitamos ir avanzando en los dígitos de Fibonacci de forma ordenada. Podemos hacer esto con una función, con un generador o simplemente manejando las variables de forma inteligente (lo que se hace en esta solución).\n",
    "3. Aplicamos la transformación correspondiente en cada *chunk* impar (el segundo algoritmo, *rotate left*).\n",
    "4. Vamos actualizando el resultado.\n",
    "5. Guardamos el resultado con el nombre \"resultado.png\"."
   ]
  },
  {
   "cell_type": "markdown",
   "metadata": {},
   "source": [
    "Si les interesa conocer la versión de Fibonacci con generadores, se la dejamos a continuación (esta materia fue vista en el taller de programación funcional)"
   ]
  },
  {
   "cell_type": "code",
   "execution_count": 8,
   "metadata": {
    "ExecuteTime": {
     "end_time": "2019-05-24T23:00:38.476190Z",
     "start_time": "2019-05-24T23:00:38.451880Z"
    }
   },
   "outputs": [],
   "source": [
    "def fibonacci():\n",
    "    # Recordemos que en una secuencia de fibonacci, se parte con 1 y 1\n",
    "    # y el siguiente número es la suma de los dos anteriores:\n",
    "    # 1, 1, 2, 3, 5, 8, ...\n",
    "    a, b = 1, 1\n",
    "    while True:\n",
    "        yield a\n",
    "        a, b = b, a + b\n"
   ]
  },
  {
   "cell_type": "markdown",
   "metadata": {},
   "source": [
    "Ahora, cargaremos los bytes de los archivos:"
   ]
  },
  {
   "cell_type": "code",
   "execution_count": 9,
   "metadata": {
    "ExecuteTime": {
     "end_time": "2019-05-24T23:00:38.538800Z",
     "start_time": "2019-05-24T23:00:38.478903Z"
    }
   },
   "outputs": [],
   "source": [
    "# Guardamos los bytes del primer archivo\n",
    "# marcianozurdo.pep\n",
    "with open(archivo_1, \"rb\") as f:\n",
    "    bytes_archivo_1 = f.read()\n",
    "\n",
    "# Guardamos los bytes del segundo archivo\n",
    "# con el algoritmo ya aplicado\n",
    "# marciano64.png\n",
    "bytes_archivo_2 = algoritmo_base_64(archivo_2)\n"
   ]
  },
  {
   "cell_type": "markdown",
   "metadata": {},
   "source": [
    "Finalmente, implementamos la unión de los *chunks*:"
   ]
  },
  {
   "cell_type": "code",
   "execution_count": 10,
   "metadata": {
    "ExecuteTime": {
     "end_time": "2019-05-24T23:00:38.545894Z",
     "start_time": "2019-05-24T23:00:38.540815Z"
    }
   },
   "outputs": [],
   "source": [
    "# Almacenaremos el resultado en un bytearray\n",
    "resultado = bytearray()\n",
    "# (En la versión con la función generadora, instanciamos el generador)\n",
    "# fib = fibonacci()\n",
    "\n",
    "# Dígitos iniciales de Fibonacci\n",
    "a, b = 1, 1\n",
    "\n",
    "# Mientras tenga bytes para agregar, hago el siguiente proceso\n",
    "while (bytes_archivo_1 + bytes_archivo_2):\n",
    "    # Inicialmente, los chunks serán de tamaño 1 y 1, por lo que\n",
    "    # no cambian los valores de a y b, y se hace al final de la iteración\n",
    "\n",
    "    # (La versión con generadores llama next para obtener el siguiente dígito)\n",
    "    # a, b = next(fib), next(fib)\n",
    "    \n",
    "\n",
    "    # Hacemos esta transformación porque en nuestra función asumimos una lista\n",
    "    chunk1 = bytes_archivo_1[0:a]\n",
    "    chunk1 = bytearray(rotate_left(list(chunk1)))\n",
    "    chunk2 = bytes_archivo_2[0:b]\n",
    "    \n",
    "    # Unimos los chunks a nuestro resultado\n",
    "    resultado.extend(chunk1)\n",
    "    resultado.extend(chunk2)\n",
    "    \n",
    "    # Quitamos los bytes ya utilizados\n",
    "    bytes_archivo_1 = bytes_archivo_1[a:]\n",
    "    bytes_archivo_2 = bytes_archivo_2[b:]\n",
    "    \n",
    "    # Ahora, avanzamos los dígitos de fibonacci\n",
    "    # (En la versión con generadores no hacemos esto, la función lo hace)\n",
    "    a = a + b # El siguiente digito es la suma de los dos ultimos\n",
    "    b = a + b # Ahora el ultimo es el \"nuevo a\", asi que lo sumamos con b\n"
   ]
  },
  {
   "cell_type": "markdown",
   "metadata": {},
   "source": [
    "Finalmente, creamos el archivo con el resultado:"
   ]
  },
  {
   "cell_type": "code",
   "execution_count": 11,
   "metadata": {
    "ExecuteTime": {
     "end_time": "2019-05-24T23:00:38.594360Z",
     "start_time": "2019-05-24T23:00:38.548283Z"
    }
   },
   "outputs": [],
   "source": [
    "with open(ruta_resultado, \"wb\") as file:\n",
    "    file.write(resultado)\n"
   ]
  },
  {
   "cell_type": "markdown",
   "metadata": {},
   "source": [
    "Si todo funciona bien, en la siguiente celda podrás ver la imagen del resultado que generamos:"
   ]
  },
  {
   "cell_type": "markdown",
   "metadata": {
    "ExecuteTime": {
     "end_time": "2019-05-24T20:57:30.765223Z",
     "start_time": "2019-05-24T20:57:30.507088Z"
    }
   },
   "source": [
    "![](resultado.png)"
   ]
  }
 ],
 "metadata": {
  "kernelspec": {
   "display_name": "Python 3",
   "language": "python",
   "name": "python3"
  },
  "language_info": {
   "codemirror_mode": {
    "name": "ipython",
    "version": 3
   },
   "file_extension": ".py",
   "mimetype": "text/x-python",
   "name": "python",
   "nbconvert_exporter": "python",
   "pygments_lexer": "ipython3",
   "version": "3.7.4"
  },
  "varInspector": {
   "cols": {
    "lenName": 16,
    "lenType": 16,
    "lenVar": 40
   },
   "kernels_config": {
    "python": {
     "delete_cmd_postfix": "",
     "delete_cmd_prefix": "del ",
     "library": "var_list.py",
     "varRefreshCmd": "print(var_dic_list())"
    },
    "r": {
     "delete_cmd_postfix": ") ",
     "delete_cmd_prefix": "rm(",
     "library": "var_list.r",
     "varRefreshCmd": "cat(var_dic_list()) "
    }
   },
   "types_to_exclude": [
    "module",
    "function",
    "builtin_function_or_method",
    "instance",
    "_Feature"
   ],
   "window_display": false
  }
 },
 "nbformat": 4,
 "nbformat_minor": 2
}
