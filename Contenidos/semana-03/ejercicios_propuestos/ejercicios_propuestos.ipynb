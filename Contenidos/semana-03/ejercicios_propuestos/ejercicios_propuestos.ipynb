{
 "cells": [
  {
   "cell_type": "markdown",
   "metadata": {},
   "source": [
    "# Ejercicios propuestos: Estructuras Básicas"
   ]
  },
  {
   "cell_type": "markdown",
   "metadata": {},
   "source": [
    "Los siguientes problemas se dejan como opción para ejercitar los conceptos revisados en el material de Estructuras de Datos Básicas (`semana-03`). Si tienes dudas sobre algún problema o alguna solución, no dudes en dejar una *issue* en el [foro del curso](https://github.com/IIC2233/syllabus/issues). \n",
    "\n",
    "Uno de los objetivos de estos ejercicios es que practiquen el **uso de las estructuras de datos más apropiadas** para cada situación. Al momento de enfretarnos a un problema de programación, encontraremos que tenemos varias estructuras que pueden solucionar nuestro problema, pero algunas requerirán menos esfuerzo de implementación, o talvez resolverán el problema de manera más eficiente. Por esto, al momento de leer estos ejercicios, pon atención a la descripciones que te ayuden a determinar qué estructura de datos resuelve de mejor manera el problema. "
   ]
  },
  {
   "cell_type": "markdown",
   "metadata": {},
   "source": [
    "## Ejercicio 1: Comandos de git"
   ]
  },
  {
   "cell_type": "markdown",
   "metadata": {},
   "source": [
    "En este ejercicio debes intentar simular los comandos básicos de `git`: `add`, `commit` y `push` usando, para cada una de ellos, alguna estructura básica. Para esto, se te entrega la clase `Repositorio` en donde debes completar los siguientes métodos.\n",
    "\n",
    "- `git add`: No debe dejar que suba a tu repositorio **archivos repetidos**.\n",
    "- `git commit`: Aquí confirmas los cambios que indicaste con `git add` y los dejas \"*en espera*\" según una lógica **FIFO** ( _First in, First out_ ). \n",
    "- `git push`: Se realizan los cambios pedidos en el repositorio.\n",
    "\n",
    "Por simplicidad considera que cada cambio será agregar o eliminar archivos, y no modificaciones a un archivo.\n",
    "\n",
    "Puedes empezar con el siguiente código:"
   ]
  },
  {
   "cell_type": "code",
   "execution_count": null,
   "metadata": {},
   "outputs": [],
   "source": [
    "class Repositorio:\n",
    "    \n",
    "    def __init__(self, archivos=[]):\n",
    "        self.archivos_remotos = []\n",
    "        self.archivos_locales = archivos\n",
    "        #puedes agregar más atributos si lo estimas necesario ;)\n",
    "        \n",
    "    def git_add(self, archivos):\n",
    "        #debes completar aquí\n",
    "        pass\n",
    "        \n",
    "    def git_commit(self, comentario):\n",
    "        print(comentario)\n",
    "        #debes completar aquí\n",
    "        pass\n",
    "    \n",
    "    def git_push(self):\n",
    "        #debes completar aquí\n",
    "        pass\n",
    "    \n",
    "if __name__ == \"__main__\":\n",
    "    mi_repo = Repositorio([\"main.py\", \"windows.py\", \"user.txt\"])\n",
    "    mi_repo.git_add('README.md')\n",
    "    mi_repo.git_commit('Agregado el README :D')\n",
    "    mi_repo.git_push()\n",
    "    mi_repo.git_add([\"data.json\", \"client.py\", \"user.txt\"])\n",
    "    mi_repo.git_commit(\"subiendo datos\")\n",
    "    mi_repo.git_push()\n",
    "    "
   ]
  },
  {
   "cell_type": "markdown",
   "metadata": {},
   "source": [
    "## Ejercicio 2: Navegación en Páginas Web"
   ]
  },
  {
   "cell_type": "markdown",
   "metadata": {},
   "source": [
    "Debes simular un navegador que te muestre un la dirección de un sitio web, y que además te permite moverte hacia atrás y también hacia adelante en el historial de navegación usando una estructura de datos adecuada. **HINT**: debes usar una estructura que use la lógica **LIFO** _(Last In, First Out)_"
   ]
  },
  {
   "cell_type": "code",
   "execution_count": null,
   "metadata": {},
   "outputs": [],
   "source": [
    "class Navegador:\n",
    "    \n",
    "    def __init__(self):\n",
    "        self.actual_url = None\n",
    "        # Agregar atributos necesarios\n",
    "        pass\n",
    "    \n",
    "    def go_to_url(self, url):\n",
    "        print(\"Cargando URL:\")\n",
    "        self.actual_url = url\n",
    "        # Realizar acciones necesarias aquí\n",
    "        # Nota: en un navegador web, si volviste atrás y luego entras\n",
    "        # a otra página web, ya no puedes volver adelante.\n",
    "        pass\n",
    "    \n",
    "    def go_back(self):\n",
    "        # Realizar acciones necesarias aquí\n",
    "        pass\n",
    "    \n",
    "    def go_forward(self):\n",
    "        # Realizar acciones necesarias aquí\n",
    "        pass\n",
    "    \n",
    "    def __str__(self):\n",
    "        return \"Te encuentras en {}\".format(self.actual_url)\n",
    "\n",
    "\n",
    "if __name__ == \"__main__\":\n",
    "    browser = Navegador()\n",
    "    browser.go_to_url(\"https://intrawww.ing.puc.cl/\")\n",
    "    print(browser)\n",
    "    browser.go_to_url(\"https://mail.google.com/\")\n",
    "    print(browser)\n",
    "    browser.go_to_url(\"https://web.telegram.org/\")\n",
    "    print(browser)\n",
    "    browser.go_back()\n",
    "    print(browser)\n",
    "    browser.go_back()\n",
    "    print(browser)\n",
    "    browser.go_forward()\n",
    "    print(browser)\n",
    "    browser.go_to_url(\"https://intrawww.ing.puc.cl/\")\n",
    "    print(browser)\n",
    "    "
   ]
  },
  {
   "cell_type": "markdown",
   "metadata": {},
   "source": [
    "## Ejercicio 3: ¡A jugar *Pro-Gra-Oh*!"
   ]
  },
  {
   "cell_type": "markdown",
   "metadata": {},
   "source": [
    "Debes simular una versión simplificada del famoso juego de cartas Pro-Gra-Oh!.\n",
    "\n",
    "Para lo anterior deberás cargar las cartas del archivo `cards.csv` (que se encuentra en este mismo directorio), en una estructura de datos adecuada, y completar las funciones que se encuentran a continuación.\n",
    "\n",
    "En una partida de este juego, cada jugador recibirá 5 cartas y atacará con una de sus cartas (aleatoriamente) a una de las cartas del otro jugador (también al azar). Al realizar el ataque, se comparan los puntos de ataque del atacante con los puntos de defensa del defensor; la carta con menor valor debe ser descartada de la mano del jugador.\n",
    "\n",
    "La partida termina cuando un jugador se queda sin cartas."
   ]
  },
  {
   "cell_type": "code",
   "execution_count": null,
   "metadata": {},
   "outputs": [],
   "source": [
    "class Juego:\n",
    "    \n",
    "    def __init__(self, turnos):\n",
    "        \n",
    "        self.mazo = []\n",
    "        self.cartas_j1 = []\n",
    "        self.cartas_j2 = []\n",
    "        \n",
    "        self.read_file()\n",
    "        self.repartir_cartas()\n",
    "        self.comenzar_juego(turnos)\n",
    "    \n",
    "    def read_file(self):\n",
    "        # Leer las cartas y guardarlas en una estructura de datos adecuada\n",
    "        # NOTA: la primera fila del archivo son los atributos de las cartas\n",
    "        pass\n",
    "    \n",
    "    def repartir_cartas(self):\n",
    "        # Barajar las cartas y repartirlas de a 1\n",
    "        pass\n",
    "    \n",
    "    def atacar(self, atacante, defensa):\n",
    "        ptos_ataque = atacante.ataque\n",
    "        ptos_defensa = defensa.defensa\n",
    "        # Rellenar aquí\n",
    "    \n",
    "    def comenzar_juego(self, turnos):\n",
    "        for i in range(1, turnos + 1):\n",
    "            print(f\"Turno número {i}\")\n",
    "            if i % 2:\n",
    "                # Ataca el jugador 1\n",
    "                # Rellenar aquí\n",
    "                pass\n",
    "            else:\n",
    "                # Ataca el jugador 2\n",
    "                # Rellenar aquí\n",
    "                pass\n",
    "\n",
    "\n",
    "juego = Juego(10)"
   ]
  }
 ],
 "metadata": {
  "kernelspec": {
   "display_name": "Python 3",
   "language": "python",
   "name": "python3"
  },
  "language_info": {
   "codemirror_mode": {
    "name": "ipython",
    "version": 3
   },
   "file_extension": ".py",
   "mimetype": "text/x-python",
   "name": "python",
   "nbconvert_exporter": "python",
   "pygments_lexer": "ipython3",
   "version": "3.7.4"
  }
 },
 "nbformat": 4,
 "nbformat_minor": 2
}
