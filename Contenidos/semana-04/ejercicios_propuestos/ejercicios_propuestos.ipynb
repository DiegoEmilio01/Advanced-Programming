{
 "cells": [
  {
   "cell_type": "markdown",
   "metadata": {},
   "source": [
    "# Ejercicios propuestos: Programación Funcional y Built-Ins"
   ]
  },
  {
   "cell_type": "markdown",
   "metadata": {},
   "source": [
    "Los siguientes problemas se dejan como opción para ejercitar los conceptos revisados en el material de Programación Funcional y Built-ins (`semana-04`). Si tienes dudas sobre algún problema o alguna solución, no dudes en dejar una *issue* en el [foro del curso](https://github.com/IIC2233/syllabus/issues). \n",
    "\n",
    "Uno de los objetivos de estos ejercicios es que practiquen el **uso de programación funcional, generadores y decoradores** para cada situación. Al momento de enfretarnos a un problema de programación, podemos encontrarnos con ciertos procesos que se verían beneficiados en extremo de ser realizados funcionalmente. Esto no solo en un términos de menos lineas de código, sino que también en términos de eficiencia. Es escencial tener flexibilidad y manejo en cuanto a las distintas formas de enfrentar un problema. Esperamos que estos ejercicios les sirvan para practicar eso."
   ]
  },
  {
   "cell_type": "markdown",
   "metadata": {},
   "source": [
    "## Ejercicio 1: Iterables por Comprensión y Built Ins"
   ]
  },
  {
   "cell_type": "markdown",
   "metadata": {},
   "source": [
    "En este ejercicio te daremos tres iterables con mucha información inútil, dentro de la cual hay un atributo en especifico que es de interés. Deberás utilizar **iterables por comprensión** para extraer la información que necesitas. \n",
    "\n",
    "En la siguiente celda se carga la información a utilizar:"
   ]
  },
  {
   "cell_type": "code",
   "execution_count": null,
   "metadata": {},
   "outputs": [],
   "source": [
    "from collections import namedtuple\n",
    "\n",
    "Trash = namedtuple(\"Trash\", [\"trash_1\", \"trash_2\", \"trash_3\"])\n",
    "with open(\"data/names.csv\") as file:\n",
    "    names = file.read().splitlines()\n",
    "    \n",
    "with open(\"data/surnames.csv\") as file:\n",
    "    surnames = [Trash(*data.split(\",\")) for data in file.read().splitlines()]\n",
    "\n",
    "with open(\"data/money.csv\") as file:\n",
    "    money = list(map(int, file.read().splitlines()))"
   ]
  },
  {
   "cell_type": "markdown",
   "metadata": {},
   "source": [
    "Esta base de datos tiene información respecto a una persona y su estado económico. Esto es representado por su nombre su apellido y sus ahorros en millones de pesos.\n",
    "\n",
    "En primer lugar en el iterable `names` se encuentran todos los nombres de las personas, sin embargo se encuentran mezclados con strings corruptos. Estos strings corruptos están compuestos solo por números.\n",
    "\n",
    "Deberás utilizar una **lista por comprensión** para extraer solo los strings que **no son corruptos**. \n",
    "\n",
    "**Hint:** puedes utilizar la función `isnumeric`."
   ]
  },
  {
   "cell_type": "code",
   "execution_count": null,
   "metadata": {},
   "outputs": [],
   "source": [
    "# Escribe tu código aquí:\n",
    "# Este proceso es símil a la función filter"
   ]
  },
  {
   "cell_type": "markdown",
   "metadata": {},
   "source": [
    "En segundo lugar en el iterable `surnames` se encuentran todos los apellidos de las personas, sin embargo estás han sido cargadas a un `namedtuple` llamado `Trash`. Este tiene tres elementos, del cual solo nos interesa `trash_3`. \n",
    "\n",
    "Deberás utilizar una **lista por comprensión** para extraer solo el atributo `trash_3` del iterable."
   ]
  },
  {
   "cell_type": "code",
   "execution_count": null,
   "metadata": {},
   "outputs": [],
   "source": [
    "# Escribe tu código aquí:\n",
    "# Este proceso es símil a la función map"
   ]
  },
  {
   "cell_type": "markdown",
   "metadata": {},
   "source": [
    "Finalmente en el iterable `money` se encuentran todas las ganacias de las personas, sin embargo los datos se encuentran repetidos múltiples veces.\n",
    "\n",
    "Deberás utilizar un **set por comprensión** para eliminar la información repetida."
   ]
  },
  {
   "cell_type": "code",
   "execution_count": null,
   "metadata": {},
   "outputs": [],
   "source": [
    "# Escribe tu código aquí:"
   ]
  },
  {
   "cell_type": "markdown",
   "metadata": {},
   "source": [
    "Ahora que tienes todos tus resultados, es hora de mostrarlos adecuadamente. Deseas mostrar los tres datos uno al lado del otro más una numeración adecuada.\n",
    "\n",
    "Deberás utilizar `zip` y `enumerate`."
   ]
  },
  {
   "cell_type": "code",
   "execution_count": null,
   "metadata": {},
   "outputs": [],
   "source": [
    "# Escribe tu código aquí:"
   ]
  },
  {
   "cell_type": "markdown",
   "metadata": {},
   "source": [
    "## Ejercicio 2: Map y Filter"
   ]
  },
  {
   "cell_type": "markdown",
   "metadata": {},
   "source": [
    "Ahora, deberás manejar los datos mediante `map` y `filter`. "
   ]
  },
  {
   "cell_type": "code",
   "execution_count": null,
   "metadata": {},
   "outputs": [],
   "source": [
    "datos = list(zip(true_names, true_surnames, true_money))\n",
    "print(datos[:5])"
   ]
  },
  {
   "cell_type": "markdown",
   "metadata": {},
   "source": [
    "Primero, queremos obtener una lista con los nombres completos de cada persona, es decir, nombre + apellido, utilizando `map`. "
   ]
  },
  {
   "cell_type": "code",
   "execution_count": null,
   "metadata": {},
   "outputs": [],
   "source": [
    "# Escribe tu código acá\n",
    "nombres_completos = list()\n",
    "nombres_completos[:5]"
   ]
  },
  {
   "cell_type": "markdown",
   "metadata": {},
   "source": [
    "También deseamos saber quienes tienen un ingreso entre 8 y 15. La función `filter` permite esto fácilmente."
   ]
  },
  {
   "cell_type": "code",
   "execution_count": null,
   "metadata": {},
   "outputs": [],
   "source": [
    "# Escribe tu código acá\n",
    "filtrado = list()\n",
    "print(filtrado)"
   ]
  },
  {
   "cell_type": "markdown",
   "metadata": {},
   "source": [
    "Pero, esto no se ve bien, utilicemos `map` para ver sólo el nombre y apellido."
   ]
  },
  {
   "cell_type": "code",
   "execution_count": null,
   "metadata": {},
   "outputs": [],
   "source": [
    "# Escribe tu código acá\n",
    "nombres_filtro = list()\n",
    "print(nombres_filtro)"
   ]
  },
  {
   "cell_type": "markdown",
   "metadata": {},
   "source": [
    "Por último, quieres saber el nombre de las personas que su nombre empiece con la misma letra que su apellido."
   ]
  },
  {
   "cell_type": "code",
   "execution_count": null,
   "metadata": {},
   "outputs": [],
   "source": [
    "# Escribe tu código acá"
   ]
  },
  {
   "cell_type": "markdown",
   "metadata": {},
   "source": [
    "## Ejercicio 3: Reduce y Map  "
   ]
  },
  {
   "cell_type": "markdown",
   "metadata": {},
   "source": [
    "Nos acaban de informar que las bases de datos ocupadas en el ejercicio uno están malas! Más especificamente, el valor del dinero está completamente erroneo. En verdad representa pesos, no millones de pesos. Lamentablemente el cambio no es tan facil como multiplicar por un millón.\n",
    "\n",
    "Para poder obtener el valor correcto, deberás aplicar la función **factorial**, sin embargo, deberás implementarla haciendo uso de `reduce`. Luego, deberás aplicar a esta función a **todos los números de la lista**, para esto deberás hacer uso de la función `map`.\n",
    "\n",
    "A continuación encontrarás la lista con los números a modificar:"
   ]
  },
  {
   "cell_type": "code",
   "execution_count": null,
   "metadata": {},
   "outputs": [],
   "source": [
    "import random\n",
    "from functools import reduce\n",
    "\n",
    "numeros = [random.randint(0, 15) for _ in range(100)]"
   ]
  },
  {
   "cell_type": "code",
   "execution_count": null,
   "metadata": {},
   "outputs": [],
   "source": [
    "def factorial(n):\n",
    "    # Completa la función haciendo uso de reduce. \n",
    "    # Recuerda que factorial de 0 es 1. (Puedes implementar ese caso especifico sin reduce)\n",
    "    \n",
    "\n",
    "# Aqui haz uso de map con la función que acabas de definir:\n"
   ]
  },
  {
   "cell_type": "markdown",
   "metadata": {},
   "source": [
    "Finalmente, solo por temas estadísticos, requieres calcular el promedio de estos números. Como bien sabrás para poder lograr esto deberás sumar todos los números en primer lugar, para esto deberás utilizar la función `reduce` nuevamente."
   ]
  },
  {
   "cell_type": "code",
   "execution_count": null,
   "metadata": {},
   "outputs": [],
   "source": [
    "def suma(n):\n",
    "    # Completa la función haciendo uso de reduce.\n",
    "\n",
    "\n",
    "# Aquí haz uso de la función que acabas de utilizar para calcular el promedio:"
   ]
  },
  {
   "cell_type": "markdown",
   "metadata": {},
   "source": [
    "## Ejercicio 4: Generadores"
   ]
  },
  {
   "cell_type": "markdown",
   "metadata": {},
   "source": [
    "En este ejercicio tu tarea será definir un **generador** que entregue todos los números primos. Para esto definiremos la función auxiliar `es_primo`."
   ]
  },
  {
   "cell_type": "code",
   "execution_count": null,
   "metadata": {},
   "outputs": [],
   "source": [
    "def es_primo(nr):\n",
    "    if nr > 1:\n",
    "        for i in range(2, nr):\n",
    "            if not (nr % i):\n",
    "                return False\n",
    "        return True\n",
    "    return False"
   ]
  },
  {
   "cell_type": "markdown",
   "metadata": {},
   "source": [
    "Ahora, completa `iterador_primos` para que cada iteración retorne el siguiente número primo.\n",
    "\n",
    "*Hint: si al ejecutar la celda inferior lees `<generator object iterador_primos ...>` vas por buen camino.*"
   ]
  },
  {
   "cell_type": "code",
   "execution_count": null,
   "metadata": {},
   "outputs": [],
   "source": [
    "def iterador_primos():\n",
    "    # Completar utlizando yield, recuerda que debe ser un generador\n",
    "    \n",
    "\n",
    "\n",
    "generador_primos = iterador_primos()\n",
    "generador_primos"
   ]
  },
  {
   "cell_type": "code",
   "execution_count": null,
   "metadata": {},
   "outputs": [],
   "source": [
    "for i in range(1, 11):\n",
    "    print(f\"Primo {i}: {next(generador_primos)}\")"
   ]
  },
  {
   "cell_type": "markdown",
   "metadata": {},
   "source": [
    "## Ejercicio 5: Decoradores"
   ]
  },
  {
   "cell_type": "markdown",
   "metadata": {},
   "source": [
    "A continuación, te presentamos una simple calculadora que, por descuido del programador, no verifica la cantidad ni el tipo de los inputs.\n",
    "\n",
    "Dado que piensas que su código es espectacular y hermoso, no quieres modificarlo, por lo que decides utiliar decoradores para reparar el problema.\n",
    "\n",
    "Para lo anterior, necesitas crear **dos decoradores**, uno que verifique que la **cantidad de inputs** entregados a la función es la correcta y otro que revise que **los inputs son del tipo adecuado**. Para ambos, si el input entregado es correcto, la función (ya decorada) debe retornar el resultado esperado, mientras que, si el input es incorrecto, la función debe retornar el string _\"Error, parámetros incorrectos\"_"
   ]
  },
  {
   "cell_type": "code",
   "execution_count": null,
   "metadata": {},
   "outputs": [],
   "source": [
    "# crea tus decoradores aquí\n",
    "\n",
    "\n",
    "# decora aqui\n",
    "def suma(a, b):\n",
    "    return a + b\n",
    "\n",
    "# decora aqui\n",
    "def multiplicacion(a, b):\n",
    "    return a * b\n",
    "\n",
    "# decora aqui\n",
    "def potencia (a, b):\n",
    "    return a ** b\n",
    "\n",
    "# decora aqui\n",
    "def raiz(a):\n",
    "    return a ** (1 / 2)"
   ]
  },
  {
   "cell_type": "code",
   "execution_count": null,
   "metadata": {},
   "outputs": [],
   "source": [
    "# Recordemos que al ser funciones de primera clase,\n",
    "# podemos guardar las operaciones en alguna estructura de datos, \n",
    "# en particular, en un diccionario\n",
    "operaciones = {1: suma,\n",
    "               2: multiplicacion,\n",
    "               3: potencia,\n",
    "               4: raiz}\n",
    "\n",
    "\n",
    "menu_inicial = '''Ingrese el número de la operación que desea realizar:\n",
    "1: suma\n",
    "2: multiplicacion\n",
    "3: potencia\n",
    "4: raiz cuadrada\n",
    ">> '''\n",
    "\n",
    "menu_numeros = '''Ingrese los números que desea operar, separados por coma\n",
    ">> '''\n",
    "\n",
    "\n",
    "while True:\n",
    "    opcion = input(menu_inicial)\n",
    "    if opcion.isdigit() and 0 < int(opcion) < 5:\n",
    "        # Separamos los numeros de input\n",
    "        nums = input(menu_numeros).split(',')\n",
    "        # Ejecutamos la operacion correspondiente\n",
    "        result = operaciones[int(opcion)](*nums)\n",
    "        print(result)\n",
    "    else:\n",
    "        print('Opción inválida')"
   ]
  },
  {
   "cell_type": "markdown",
   "metadata": {},
   "source": [
    "## Ejercicio _Bonus_: Manejo de menús"
   ]
  },
  {
   "cell_type": "markdown",
   "metadata": {},
   "source": [
    "Como habrás notado, en el ejercicio 5 te entregamos hecho un menú que aprovecha parte de los contenidos de las dos últimas semanas (diccionarios y funciones de primera clase) para ahorrar una enorme cantidad de sentencias `if` y así lograr un código más legible.\n",
    "\n",
    "A pesar de lo anterior, si quisieramos agregar nuevas opciones a nuestro menú, tendríamos que editar manualmente el diccionario de opciones y el string de menú. \n",
    "\n",
    "Como ejercicio final, intenta crear el string \"menú_inicial\" directamente a partir del diccionario de operaciones, de tal manera que se actualice al agregar nuevas operaciones a nuestra calculadora."
   ]
  },
  {
   "cell_type": "code",
   "execution_count": null,
   "metadata": {},
   "outputs": [],
   "source": [
    "from functools import reduce\n",
    "\n",
    "# Recuerda decorar esta nueva funcion\n",
    "def factorial(n):\n",
    "    return reduce(lambda x, y: x * y, range(1, n+1))\n",
    "\n",
    "# Operaciones actualizadas\n",
    "operaciones = {1: suma,\n",
    "               2: multiplicacion,\n",
    "               3: potencia,\n",
    "               4: raiz,\n",
    "               5: factorial}\n",
    "\n",
    "\n",
    "# Completa o redefine el siguiente menu:\n",
    "menu_inicial = ''' Menú inicial\n",
    ">> '''\n",
    "\n",
    "\n",
    "while True:\n",
    "    opcion = input(menu_inicial)\n",
    "    if opcion.isdigit() and 0 < int(opcion) < 6:\n",
    "        # Separamos los numeros de input\n",
    "        nums = input(menu_numeros).split(',')\n",
    "        # Ejecutamos la operacion correspondiente\n",
    "        result = operaciones[int(opcion)](*nums)\n",
    "        print(result)\n",
    "    else:\n",
    "        print('Opción inválida')"
   ]
  }
 ],
 "metadata": {
  "kernelspec": {
   "display_name": "Python 3",
   "language": "python",
   "name": "python3"
  },
  "language_info": {
   "codemirror_mode": {
    "name": "ipython",
    "version": 3
   },
   "file_extension": ".py",
   "mimetype": "text/x-python",
   "name": "python",
   "nbconvert_exporter": "python",
   "pygments_lexer": "ipython3",
   "version": "3.6.8"
  }
 },
 "nbformat": 4,
 "nbformat_minor": 2
}
