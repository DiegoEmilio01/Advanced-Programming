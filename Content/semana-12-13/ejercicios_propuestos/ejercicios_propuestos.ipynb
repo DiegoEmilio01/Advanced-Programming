{
 "cells": [
  {
   "cell_type": "markdown",
   "metadata": {},
   "source": [
    "# Ejercicios propuestos: *Networking*"
   ]
  },
  {
   "cell_type": "markdown",
   "metadata": {},
   "source": [
    "Los siguientes problemas se dejan como opción para ejercitar los conceptos revisados sobre *networking* (semana 12-13). Si tienes dudas sobre algún problema o alguna solución, no dudes en dejar una issue en el foro del curso."
   ]
  },
  {
   "cell_type": "markdown",
   "metadata": {},
   "source": [
    "## Ejercicio 0: Analizar el código del servidor y del cliente TCP"
   ]
  },
  {
   "cell_type": "markdown",
   "metadata": {},
   "source": [
    "Lee con atención la estructura básica de la comunicación cliente-servidor de los contenidos, la necesitarás para los ejercicios que vienen ;)"
   ]
  },
  {
   "cell_type": "markdown",
   "metadata": {},
   "source": [
    "## Ejercicio 1: Haciendo \"eco\" a un cliente"
   ]
  },
  {
   "cell_type": "markdown",
   "metadata": {},
   "source": [
    "El malvado emperador EnZurg, hermano gemelo malvado de Enzo, ha desterrado a Enzo a las lejanas tierras del DCCampo. Hace un tiempo, por razones desconocidas, EnZurg está intentando contactar de nuevo Enzo a través de su servidor privado, pero este no quiere responderle y prefiere hacerlo perder el tiempo por haberlo desterrado. En este ejercicio deberás completar el servidor de Enzo.\n",
    "\n",
    "El servidor de Enzo funciona de una forma bastante especial. Cada vez que el cliente de EnZurg que se conecta le envía un mensaje, Enzo responde el mismo contenido (un \"eco\") pero con mayúsculas y minúsculas puestas al azar, deformando el *string*. Algo así:\n",
    "\n",
    "> EnZurg: Hola, Enzo\n",
    "> \n",
    "> Enzo: HoLa, eNzO\n",
    "\n",
    "Para esto, Enzo te entrega su función `deformador_string`. Finalmente, como Enzo creció junto con EnZurg, conoce a la perfección el código del cliente que está utilizando su hermano (podría serte útil para probar tu servidor). **Es tiempo de completar el servidor para molestar a EnZurg.**"
   ]
  },
  {
   "cell_type": "code",
   "execution_count": null,
   "metadata": {
    "code_folding": [],
    "scrolled": false
   },
   "outputs": [],
   "source": [
    "# Código funcion deformador_string\n",
    "import random\n",
    "\n",
    "\n",
    "def deformador_string(string):\n",
    "    string_deformado = \"\"\n",
    "    for caracter in string:\n",
    "        if random.random() <= 0.5:\n",
    "            string_deformado += caracter.upper()\n",
    "        else:\n",
    "            string_deformado += caracter.lower()\n",
    "    return string_deformado\n",
    "\n",
    "print(deformador_string(\"Hola, Enzo\"))\n"
   ]
  },
  {
   "cell_type": "code",
   "execution_count": null,
   "metadata": {},
   "outputs": [],
   "source": [
    "# Código cliente de EnZurg\n",
    "import socket\n",
    "\n",
    "\n",
    "# Creo un socket TCP\n",
    "sock = socket.socket(socket.AF_INET, socket.SOCK_STREAM)\n",
    "\n",
    "# Así puedo obtener el hostname de la máquina actual\n",
    "host = socket.gethostname()\n",
    "port = 9001\n",
    "\n",
    "# Me conecto al socket del servidor de Enzo\n",
    "sock.connect((host, port))\n",
    "\n",
    "try:\n",
    "    while True:\n",
    "        # Escribo el mensaje a enviarle a Enzo\n",
    "        mensaje = input(\"Yo a Enzo: \")\n",
    "        # Si escribo \"salir\", se corta la conexión\n",
    "        if mensaje.lower() == \"salir\":\n",
    "            sock.sendall(\"salir\".encode(\"utf-8\"))\n",
    "            break\n",
    "        # Envio mi mensaje al servidor\n",
    "        sock.sendall(mensaje.encode(\"utf-8\"))\n",
    "        # Recibo la respuesta que me envíe\n",
    "        data = sock.recv(4096)\n",
    "        print(\"Enzo a mi:\", data.decode(\"utf-8\"))\n",
    "except ConnectionError as e:\n",
    "    print(\"Ocurrió un error.\")\n",
    "finally:\n",
    "    sock.close()\n"
   ]
  },
  {
   "cell_type": "code",
   "execution_count": null,
   "metadata": {},
   "outputs": [],
   "source": [
    "# Código servidor de Enzo\n",
    "import random\n",
    "import socket\n",
    "\n",
    "sock = socket.socket(socket.AF_INET, socket.SOCK_STREAM)\n",
    "\n",
    "# Así podemos obtener el hostname de la máquina actual\n",
    "host = socket.gethostname()\n",
    "port = 9001\n",
    "\n",
    "# Dejamos el socket esperando (\"escuchando\") por conexiones\n",
    "sock.bind((host, port))\n",
    "sock.listen()\n",
    "\n",
    "# Aqui aceptamos la conexión de EnZurg\n",
    "socket_cliente, address = sock.accept()\n",
    "\n",
    "\n",
    "def deformador_string(string):\n",
    "    string_deformado = \"\"\n",
    "    for caracter in string:\n",
    "        if random.random() <= 0.5:\n",
    "            string_deformado += caracter.upper()\n",
    "        else:\n",
    "            string_deformado += caracter.lower()\n",
    "    return string_deformado\n",
    "\n",
    "\n",
    "# COMPLETAR AQUI\n",
    "# Debes recibir el mensaje de EnZurg,\n",
    "# aplicarle la función deformador_string\n",
    "# y enviar ese string modificado de vuelta a EnZurg\n"
   ]
  },
  {
   "cell_type": "markdown",
   "metadata": {},
   "source": [
    "## Ejercicio 2: Envío de mensajes desde el servidor"
   ]
  },
  {
   "cell_type": "markdown",
   "metadata": {},
   "source": [
    "En un nuevo intento por saber de Enzo, EnZurg decide dejar de intentar contactarlo y simplemente esperar a que le envíe él un mensaje. Es por esto que se te ocurre ayudar a Enzo enviando *spam* al cliente de EnZurg que se intentará conectar al servidor de Enzo, simplemente para llenarlo de basura e información no muy útil.\n",
    "\n",
    "En este ejercicio, deberás volver a implementar un servidor, pero deberá enviar un mensaje con *spam* **cada 5 segundos** al cliente que se conecte."
   ]
  },
  {
   "cell_type": "code",
   "execution_count": null,
   "metadata": {},
   "outputs": [],
   "source": [
    "# Código cliente de EnZurg\n",
    "import socket\n",
    "\n",
    "# Creo un socket TCP\n",
    "sock = socket.socket(socket.AF_INET, socket.SOCK_STREAM)\n",
    "\n",
    "# Así puedo obtener el hostname de la máquina actual\n",
    "host = socket.gethostname()\n",
    "port = 9002\n",
    "\n",
    "# Me conecto al socket del servidor de Enzo\n",
    "sock.connect((host, port))\n",
    "\n",
    "try:\n",
    "    while True:\n",
    "        # Voy a ir recibiendo sus mensajes\n",
    "        data = sock.recv(4096)\n",
    "        # Y ahora los voy a ir imprimiendo\n",
    "        print(\"Enzo a mi:\", data.decode(\"utf-8\"))\n",
    "except ConnectionError as e:\n",
    "    print(\"Ocurrió un error.\")\n",
    "finally:\n",
    "    sock.close()\n"
   ]
  },
  {
   "cell_type": "code",
   "execution_count": null,
   "metadata": {},
   "outputs": [],
   "source": [
    "# Código servidor de Enzo\n",
    "import random\n",
    "import socket\n",
    "import time\n",
    "\n",
    "sock = socket.socket(socket.AF_INET, socket.SOCK_STREAM)\n",
    "\n",
    "# Así podemos obtener el hostname de la máquina actual\n",
    "host = socket.gethostname()\n",
    "port = 9002\n",
    "\n",
    "# Dejamos el socket esperando (\"escuchando\") por conexiones\n",
    "sock.bind((host, port))\n",
    "sock.listen()\n",
    "\n",
    "# Aqui aceptamos la conexión de EnZurg\n",
    "socket_cliente, address = sock.accept()\n",
    "\n",
    "\n",
    "MENSAJES_SPAM = [\n",
    "    \"SPAM!! SPAM!! SPAM!! SPAM!! SPAM!!\",\n",
    "    \"lalalalalalalalalalalalala\",\n",
    "    \"Intentando sobrecargar el cliente de EnZurg\",\n",
    "    \"La respuesta a la Vida, el Universo, y Todo lo Demás es... 42\",\n",
    "]\n",
    "\n",
    "# COMPLETAR AQUI\n",
    "# Cada 5 segundos debes enviar un mensaje\n",
    "# de la lista MENSAJES_SPAM a EnZurg\n"
   ]
  },
  {
   "cell_type": "markdown",
   "metadata": {},
   "source": [
    "## Ejercicio 3: Definiendo un protocolo más formal de comunicación"
   ]
  },
  {
   "cell_type": "markdown",
   "metadata": {},
   "source": [
    "Finalmente, Enzo decide aceptar conversar con EnZorg. Como su relación es bastante complicada, deciden establecer un protocolo de comunicación formal para no tener problemas de comunicación en el futuro. Lamentablemente, como ambos son bastante tercos, este sistema que podría ser bastante simple termina siendo más complejo de lo necesario (algunos dicen que por su complejidad podría ser utilizado en una tarea).\n",
    "\n",
    "Las reglas del protocolo son las siguientes:\n",
    "* Los primeros 4 bytes de un mensaje indicarán el largo del contenido del mensaje, los que tendrán que estar en formato *little endian*\n",
    "* El contenido del mensaje debe ser dividido en tantos bloques de 80 *bytes* como sea necesario, y para cada bloque se deberán anteponer 4 *bytes* que indiquen el número de bloque, codificado en *big endian*.\n",
    "* Para transformar *strings* a *bytes* se deberá utilizar UTF-8.\n",
    "\n",
    "En este ejercicio, deberás primero hacer funciones que permitan trabajar fácilmente con el protocolo (parte A) y luego implementar un cliente y un servidor que utilice dicho protocolo (parte B), que serán utilizados por Enzo y EnZurg desde ahora en adelante."
   ]
  },
  {
   "cell_type": "markdown",
   "metadata": {},
   "source": [
    "### Parte A: Implementación del protocolo"
   ]
  },
  {
   "cell_type": "markdown",
   "metadata": {},
   "source": [
    "Primero que todo, el [*endiannes*](https://es.wikipedia.org/wiki/Endianness) se refiere al orden en que se guardan los *bytes* que representan un número. Dado que un número puede requerir representarse con más de un *byte*, es importante saber si primero tenemos los bytes más significativos o los menos significativos. \n",
    "\n",
    "Cuando convertimos un número a *bytes*, podemos elegir cuántos bytes utilizar (primer argumento) y el *endiannes* (`byteorder`) de su representación (segundo argumento):"
   ]
  },
  {
   "cell_type": "code",
   "execution_count": 4,
   "metadata": {
    "ExecuteTime": {
     "end_time": "2019-11-22T12:46:28.438252Z",
     "start_time": "2019-11-22T12:46:28.432661Z"
    }
   },
   "outputs": [
    {
     "data": {
      "text/plain": [
       "b'\\x01\\x04\\x00\\x00'"
      ]
     },
     "execution_count": 4,
     "metadata": {},
     "output_type": "execute_result"
    }
   ],
   "source": [
    "(1025).to_bytes(4, byteorder=\"little\") # little endian"
   ]
  },
  {
   "cell_type": "code",
   "execution_count": 5,
   "metadata": {
    "ExecuteTime": {
     "end_time": "2019-11-22T12:46:29.700065Z",
     "start_time": "2019-11-22T12:46:29.691675Z"
    }
   },
   "outputs": [
    {
     "data": {
      "text/plain": [
       "b'\\x00\\x00\\x04\\x01'"
      ]
     },
     "execution_count": 5,
     "metadata": {},
     "output_type": "execute_result"
    }
   ],
   "source": [
    "(1025).to_bytes(4, byteorder=\"big\") # big endian"
   ]
  },
  {
   "cell_type": "markdown",
   "metadata": {},
   "source": [
    "Como puedes ver, estamos representando el número 1025 con 4 *bytes* en ambas celdas, pero el orden de los *bytes* en cada celda cambia."
   ]
  },
  {
   "cell_type": "markdown",
   "metadata": {},
   "source": [
    "A continuación, se hará un ejemplo paso a paso del protocolo."
   ]
  },
  {
   "cell_type": "code",
   "execution_count": 1,
   "metadata": {
    "ExecuteTime": {
     "end_time": "2019-11-22T12:45:33.448720Z",
     "start_time": "2019-11-22T12:45:33.442751Z"
    }
   },
   "outputs": [],
   "source": [
    "# Este es el mensaje de ejemplo (sí, es una receta para hacer sopaipillas)\n",
    "MENSAJE = (\"Lo primero que hay que tener en cuenta para saber cómo hacer \"\n",
    "           \"sopaipillas, es hacer un “volcán” con la harina dejando un hueco \"\n",
    "           \"al medio, vierta al centro la manteca derretida con la leche o el \"\n",
    "           \"agua, la sal y el zapallo previamente molido hasta formar una \"\n",
    "           \"pasta suave, mezcle todo hasta formar una masa suave y elástica, \"\n",
    "           \"esta no debe tener grumos y no se tiene que pegar a la mesa.\\n\"\n",
    "           \"\\n\"\n",
    "           \"El siguiente paso para saber cómo hacer sopaipillas es amasar la \"\n",
    "           \"masa con un uslero o a mano dejándola de aproximadamente 5mm de \"\n",
    "           \"grosor, luego  cortarla en  círculos de 10cm (esto es a gusto, \"\n",
    "           \"pueden ser más gruesas y más pequeñas), se recomienda pincharlas \"\n",
    "           \"con un tenedor para que al momento de freírlas la masa no se \"\n",
    "           \"arruine.\\n\"\n",
    "           \"\\n\"\n",
    "           \"El último paso es freír la masa en un sartén profundo y caliente \"\n",
    "           \"el aceite a fuego alto, para probar el aceite lance un pequeño \"\n",
    "           \"trozo de masa, debe burbujear y flotar en la superficie, coloque \"\n",
    "           \"de 2 a 3 sopaipillas y fríalas 1 minuto por lado, no se deben \"\n",
    "           \"dorar demasiado. Una vez fritas se sacan de la freidora y dejan en \"\n",
    "           \"papel absorbente.\\n\"\n",
    "           \"\\n\"\n",
    "           \"Luego de haber leído esta receta de comida típica chilena, usted \"\n",
    "           \"ya habrá sabido cómo hacer sopaipillas.\")"
   ]
  },
  {
   "cell_type": "markdown",
   "metadata": {},
   "source": [
    "**Paso 0:** Convertir el contenido a *bytes* (usando UTF-8)"
   ]
  },
  {
   "cell_type": "markdown",
   "metadata": {},
   "source": [
    "**Paso 1:** Obtener el largo del contenido y representar dicho largo en 4 *bytes* (*little endian*). Este es el **primer bloque**"
   ]
  },
  {
   "cell_type": "markdown",
   "metadata": {},
   "source": [
    "**Paso 2:** Dividir el contenido en bloques de 80 *bytes*, y mantener el orden de los bloques\n",
    "* **Paso 2a:** En este mismo paso, se puede convertir el índice del bloque a su representación en el protocolo (4 *bytes* en formato *big endian*)\n",
    "* **Paso 2b:** Conservar cada bloque (ya sea de contenido o su posición) en su posición correcta (a partir del primer bloque)\n",
    "\n",
    "> *Hint*: Recuerda la sección chunks del primer notebook de la semana pasada"
   ]
  },
  {
   "cell_type": "markdown",
   "metadata": {},
   "source": [
    "Ahora, deberás crear **una función `codificar`** que retorne la lista de bloques a enviar, con la codificación del contenido ya explicada."
   ]
  },
  {
   "cell_type": "code",
   "execution_count": 2,
   "metadata": {
    "ExecuteTime": {
     "end_time": "2019-11-22T12:45:37.766033Z",
     "start_time": "2019-11-22T12:45:37.757176Z"
    }
   },
   "outputs": [],
   "source": [
    "def codificar(contenido):\n",
    "    contenido_como_bytes = None # Paso 0 (COMPLETAR)\n",
    "    largo = len(contenido_como_bytes)\n",
    "    largo_como_bytes = None # Paso 1 (COMPLETAR)\n",
    "    BLOQUES = [largo_como_bytes]\n",
    "    for ... in ...: # Paso 2 (COMPLETAR)\n",
    "        posicion_como_bytes = None # Paso 2a (COMPLETAR)\n",
    "        chunk_como_bytes = None # Paso 2 (COMPLETAR)\n",
    "        BLOQUES.append(posicion_como_bytes) # Paso 2b\n",
    "        BLOQUES.append(chunk_como_bytes) # Paso 2b\n",
    "    return BLOQUES"
   ]
  },
  {
   "cell_type": "code",
   "execution_count": 3,
   "metadata": {
    "ExecuteTime": {
     "end_time": "2019-11-22T12:45:39.245908Z",
     "start_time": "2019-11-22T12:45:39.226689Z"
    }
   },
   "outputs": [
    {
     "data": {
      "text/plain": [
       "[b'\\x99\\x04\\x00\\x00',\n",
       " b'\\x00\\x00\\x00\\x00',\n",
       " b'Lo primero que hay que tener en cuenta para saber c\\xc3\\xb3mo hacer sopaipillas, es ha',\n",
       " b'\\x00\\x00\\x00\\x01',\n",
       " b'cer un \\xe2\\x80\\x9cvolc\\xc3\\xa1n\\xe2\\x80\\x9d con la harina dejando un hueco al medio, vierta al centro l',\n",
       " b'\\x00\\x00\\x00\\x02',\n",
       " b'a manteca derretida con la leche o el agua, la sal y el zapallo previamente moli',\n",
       " b'\\x00\\x00\\x00\\x03',\n",
       " b'do hasta formar una pasta suave, mezcle todo hasta formar una masa suave y el\\xc3\\xa1s',\n",
       " b'\\x00\\x00\\x00\\x04',\n",
       " b'tica, esta no debe tener grumos y no se tiene que pegar a la mesa.\\n\\nEl siguiente',\n",
       " b'\\x00\\x00\\x00\\x05',\n",
       " b' paso para saber c\\xc3\\xb3mo hacer sopaipillas es amasar la masa con un uslero o a man',\n",
       " b'\\x00\\x00\\x00\\x06',\n",
       " b'o dej\\xc3\\xa1ndola de aproximadamente 5mm de grosor, luego  cortarla en  c\\xc3\\xadrculos de ',\n",
       " b'\\x00\\x00\\x00\\x07',\n",
       " b'10cm (esto es a gusto, pueden ser m\\xc3\\xa1s gruesas y m\\xc3\\xa1s peque\\xc3\\xb1as), se recomienda ',\n",
       " b'\\x00\\x00\\x00\\x08',\n",
       " b'pincharlas con un tenedor para que al momento de fre\\xc3\\xadrlas la masa no se arruine',\n",
       " b'\\x00\\x00\\x00\\t',\n",
       " b'.\\n\\nEl \\xc3\\xbaltimo paso es fre\\xc3\\xadr la masa en un sart\\xc3\\xa9n profundo y caliente el aceite',\n",
       " b'\\x00\\x00\\x00\\n',\n",
       " b' a fuego alto, para probar el aceite lance un peque\\xc3\\xb1o trozo de masa, debe burbu',\n",
       " b'\\x00\\x00\\x00\\x0b',\n",
       " b'jear y flotar en la superficie, coloque de 2 a 3 sopaipillas y fr\\xc3\\xadalas 1 minuto',\n",
       " b'\\x00\\x00\\x00\\x0c',\n",
       " b' por lado, no se deben dorar demasiado. Una vez fritas se sacan de la freidora y',\n",
       " b'\\x00\\x00\\x00\\r',\n",
       " b' dejan en papel absorbente.\\n\\nLuego de haber le\\xc3\\xaddo esta receta de comida t\\xc3\\xadpica',\n",
       " b'\\x00\\x00\\x00\\x0e',\n",
       " b' chilena, usted ya habr\\xc3\\xa1 sabido c\\xc3\\xb3mo hacer sopaipillas.']"
      ]
     },
     "execution_count": 3,
     "metadata": {},
     "output_type": "execute_result"
    }
   ],
   "source": [
    "codificar(MENSAJE)"
   ]
  },
  {
   "cell_type": "markdown",
   "metadata": {},
   "source": [
    "### Parte B: Usando el protocolo en el servidor y el cliente"
   ]
  },
  {
   "cell_type": "markdown",
   "metadata": {},
   "source": [
    "Ahora, basandote en el código de cliente y servidor utilizado en los pasos anteriores, deberás implementar un servidor y un cliente que utilicen el protocolo. Presta especial atención al uso de los datos en cada parte. Como notarás, deberás recibir primero los bytes que indiquen el largo del mensaje, estimar la cantidad de bloques y para cada bloque recibir su respeciva posición y contenido."
   ]
  }
 ],
 "metadata": {
  "kernelspec": {
   "display_name": "Python 3",
   "language": "python",
   "name": "python3"
  },
  "language_info": {
   "codemirror_mode": {
    "name": "ipython",
    "version": 3
   },
   "file_extension": ".py",
   "mimetype": "text/x-python",
   "name": "python",
   "nbconvert_exporter": "python",
   "pygments_lexer": "ipython3",
   "version": "3.6.8"
  },
  "varInspector": {
   "cols": {
    "lenName": 16,
    "lenType": 16,
    "lenVar": 40
   },
   "kernels_config": {
    "python": {
     "delete_cmd_postfix": "",
     "delete_cmd_prefix": "del ",
     "library": "var_list.py",
     "varRefreshCmd": "print(var_dic_list())"
    },
    "r": {
     "delete_cmd_postfix": ") ",
     "delete_cmd_prefix": "rm(",
     "library": "var_list.r",
     "varRefreshCmd": "cat(var_dic_list()) "
    }
   },
   "types_to_exclude": [
    "module",
    "function",
    "builtin_function_or_method",
    "instance",
    "_Feature"
   ],
   "window_display": false
  }
 },
 "nbformat": 4,
 "nbformat_minor": 2
}
