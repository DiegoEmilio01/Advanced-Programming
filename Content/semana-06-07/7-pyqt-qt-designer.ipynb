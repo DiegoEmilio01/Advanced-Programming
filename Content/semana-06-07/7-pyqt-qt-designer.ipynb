{
 "cells": [
  {
   "cell_type": "markdown",
   "metadata": {},
   "source": [
    "###### <p>\n",
    "<font size='5' face='Georgia, Arial'>IIC-2233 Apunte Programación Avanzada</font><br>\n",
    "<font size='1'>&copy; 2015 Karim Pichara - Christian Pieringer. Todos los derechos reservados. Editado por Equipo Docente IIC2233 2018-1, 2018-2 y 2019-2; y extendido con material creado en 2017-2 por Hugo Navarrete e Ignacio Acevedo.</font>\n",
    "</p>"
   ]
  },
  {
   "cell_type": "markdown",
   "metadata": {},
   "source": [
    "# Qt Designer\n",
    "\n",
    "Cuando las interfaces gráficas poseen pocos *widgets* resulta sencillo crearlas manualmente agregando cada uno de ellos mediante líneas de código. Sin embargo, cuando la interfaz incluye un mayor número de objetos, interacciones o controles, la labor de codificarlos manualmente no es tan rápido. PyQt incluye una herramienta llamada **Qt Designer** que permite construir la interfaz gráfica visualmente. Qt Designer, además de crear cada *widget* de la interfaz, permite leer y modificar las propiedades de los *widgets*. La siguiente figura muestra un ejemplo de la ventana principal de Qt Designer."
   ]
  },
  {
   "cell_type": "markdown",
   "metadata": {},
   "source": [
    "![](img/pyqt-qt-designer.png)"
   ]
  },
  {
   "cell_type": "markdown",
   "metadata": {},
   "source": [
    "### Encontrar Qt-desginer\n",
    "\n",
    "Antes que todo, deben asegurarse de tener instalado Qtdesigner, para esto deben escribir uno de los siguientes comandos en consola, dependiendo si `pip` o `pip3` está disponible en tu máquina:\n",
    "\n",
    "`pip install PyQt5-tools`\n",
    "\n",
    "`pip3 install PyQt5-tools`\n",
    "\n",
    "\n",
    "El siguiente paso es encontrar Qtdesginer, ya que no aparecera por defecto en el escritorio ni en un lugar de fácil acceso. Pueden buscar designer en el buscador para encontrarlo como se muestra en la siguiente imagen:\n",
    "\n",
    "![Comentario Chau](https://cloud.githubusercontent.com/assets/16126322/26363862/5ca7d80e-3fb0-11e7-82ba-45636dfaa03f.png)\n",
    "\n",
    "*Fuente: Comentario de [@stephichau](https://github.com/stephichau) en issue [#516](https://github.com/IIC2233/Syllabus-2017-1/issues/516) del semestre 2017-1*\n",
    "\n",
    "En caso de que no lo encuentren, pueden intentar en una ruta de la siguiente forma (el programa se llama `designer.exe`):\n",
    "\n",
    "**`\"C:\\Users\\[Acá va su nombre de usuario del PC]\\AppData\\Local\\Programs\\Python\\Python[version]\\Lib\\site-packages\\pyqt5-tools\\designer\"`**\n",
    "\n",
    "Se recomienda que una vez que encuentren, dejen un acceso directo en el escritorio para que sea de rápido acceso."
   ]
  },
  {
   "cell_type": "markdown",
   "metadata": {},
   "source": [
    "### Abriendo y conociendo Qt-desginer\n",
    "\n",
    "La primera ventana con la que se encontrarán les preguntará ¿que tipo de ventana quieren comenzar a crear?, tal como muestra la siguiente imagen:\n",
    "\n",
    "![](img/designer/1.PNG)\n",
    "\n",
    "Luego de seleccionar verán la ventana de trabajo principal de designer. En esta tendrán distintas barras de herramientas como se muestra a continuación:\n",
    "\n",
    "![Contenido de designer](img/designer/desgloce.png)"
   ]
  },
  {
   "cell_type": "markdown",
   "metadata": {},
   "source": [
    "#### 1-. Ventana de edición\n",
    "\n",
    "Es el lugar en donde se edita el *widget* o ventana que estas creando. En esta zona debes agregar todos los *widgets* que te ofrece PyQt5 para formar la ventana tal cual quieres.\n",
    "\n",
    "\n",
    "#### 2-. Caja de *widgets*\n",
    "\n",
    "En esta barra de herramientas encuentras los *widgets* que puedes agregar a la ventana que estás creando. Solo debes clickear uno de ellos y arrastrarlo hasta donde quieras que quede en tu ventana. Debes explorar todos los *widgets* que están en esta caja ya que cada uno está diseñado para una función específica. Esto puede facilitarte el desarrollo de tus tareas.\n",
    "\n",
    "#### 3-. Inspector de objetos\n",
    "\n",
    "En esta barra de herramientas puedes ver todos los *widgets* que se encuentran actualmente en tu ventana. Además, puedes observar que *widget* se encuentra al interior de otro *widget* y puedes seleccionar cualquiera de ellos para examinar sus propiedades en el editor de propiedades.\n",
    "\n",
    "#### 4-. Editor de propiedades\n",
    "\n",
    "En esta barra de herramientas puedes encontrar todas las propiedades del objeto que tengas seleccionado. Encontrarás separadas las propiedades del objeto que son heredadas de las definidas para sí mismo. Todos los cambios que realices en esta sección quedaran guardados en el archivo de la interfaz, por lo que es una manera sencilla y gráfica de controlar que propiedades tienen los *widgets* que estás utilizando. \n",
    "\n",
    "#### 5-. Editor de señales/ Editor de acciones / Navegador de recursos\n",
    "\n",
    "En el editor de señales puedes crear de manera rápida señales e indicar que tipo de objeto las emitirá y que tipo de objeto las recibira.\n",
    "\n",
    "#### 6-. Herramientas del archivo y Modo de edición\n",
    "\n",
    "Las primeras herramientas son las usuales de todos los programas: abrir un nuevo archivo, guardar el actual o abrir uno existente. Las otras herramientas son para modificar lo que se está editando en la ventana de edición, por defecto está seleccionado el modo de edición de *widgets* pero si presionamos los otros botones, podrán notar que pueden modificar las señales de los objetos de la ventana."
   ]
  },
  {
   "cell_type": "markdown",
   "metadata": {},
   "source": [
    "### Utilizando Qt-Designer\n",
    "\n",
    "Una vez que un *widget* es agregado a la interfaz, se le asigna un nombre por defecto al campo `objectName` del editor de propiedades. Este nombre será el que usaremos para referenciar al objeto desde el código Python que maneja la interfaz, y puede ser cambiado directamente en Qt Designer, como muestra la siguiente figura. \n",
    "\n",
    "![](img/qt-designer-property-editor.png)\n",
    "\n",
    "Una forma rápida de ver el resultado, sin agregarlo en el código final, es usar el modo *preview* de Qt Designer pulsando `Ctrl + R`. Como resultado podemos ver la interfaz creada, pero solo como *front-end*. Una vez que concluimos con la creación de la interfaz, debemos guardarla en un archivo con extensión `.ui`. Finalmente, debemos ensamblarla en el programa en Python que contendrá el resto de las funcionalidades de los *widgets* incluidos en la interfaz.\n",
    "\n",
    "Para incorporar la interfaz a nuestro código debemos utilizar el módulo ``uic``. Este módulo nos permite cargar la interfaz mediante el método `loadUiType(<nombre-interfaz.ui>)`. Este método retorna una tupla con dos elementos. El primero corresponde a una clase con el nombre de la ventana definida en la propiedad `objectName` de Qt Designer. El segundo corresponde al nombre de la clase de la cual hereda los comportamientos.\n",
    "\n",
    "![](img/qt-designer-window-name.png)\n",
    "\n",
    "El siguiente ejemplo muestra como realizar este procedimiento usando una interfaz previamente creada. En este caso, al invocar `uic.loadUiType(<archivo.ui>)`, obtenemos una tupla `(class 'Ui_MainWindow', class 'PyQt5.QtGui.QMainWindow')`. El prefijo **Ui** asociado al nombre de la clase que contiene la interfaz es asignado por el módulo `uic` durante la carga de la interfaz. Una vez que hemos cargado la interfaz, debemos inicializarla dentro del método `__init()__` de la clase que hereda la interfaz. Esta inicialización se realiza mediante el método `setupUi(self)` que recibe como parámetro la misma instancia.\n",
    "\n",
    "La creación de la aplicación debe ser realizada usando la estructura del programa principal `main` visto durante el comienzo de la explicación de interfaces gráficas."
   ]
  },
  {
   "cell_type": "code",
   "execution_count": null,
   "metadata": {},
   "outputs": [],
   "source": [
    "import sys\n",
    "from PyQt5 import uic\n",
    "from PyQt5.QtWidgets import QApplication\n",
    "\n",
    "\"\"\"\n",
    "Creamos nuestra ventana principal heredando desde la GUI creada con Designer.\n",
    "La función loadUiType retorna una tupla en donde el primer elemento\n",
    "corresponde al nombre de la ventana definido en QtDesigner, y el segundo\n",
    "elemento a la clase base de la GUI.\n",
    "\"\"\"\n",
    "\n",
    "window_name, base_class = uic.loadUiType(\"qt-designer-label.ui\")\n",
    "\n",
    "\n",
    "class MainWindow(window_name, base_class):\n",
    "    def __init__(self):\n",
    "        super().__init__()\n",
    "        self.setupUi(self)\n",
    "\n",
    "\n",
    "if __name__ == '__main__':\n",
    "    app = QApplication([])\n",
    "    form = MainWindow()\n",
    "    form.show()\n",
    "    sys.exit(app.exec_())\n"
   ]
  },
  {
   "cell_type": "markdown",
   "metadata": {},
   "source": [
    "La siguiente figura muestra el resultado al usar la interfaz creada en Qt Designer y luego embeberla en un programa en Python.\n",
    "\n",
    "![](img/qt-designer-label.png)"
   ]
  },
  {
   "cell_type": "markdown",
   "metadata": {},
   "source": [
    "Los comportamientos de cada *widget* deben ser definidos mediante *signals* y *slots* tal como se explicó anteriormente. A continuación se muestra un ejemplo con una interfaz que realiza la división entre dos números. El botón creado en Qt Designer despliega el resultado sobre una etiqueta.\n",
    "\n",
    "![](img/qt-designer-division-ui.png)"
   ]
  },
  {
   "cell_type": "code",
   "execution_count": null,
   "metadata": {},
   "outputs": [],
   "source": [
    "import sys\n",
    "from PyQt5 import uic\n",
    "from PyQt5.QtWidgets import (QApplication, QMessageBox)\n",
    "\n",
    "# Cargamos el formulario usando uic\n",
    "window_name, base_class = uic.loadUiType(\"qt-designer-mainwindow.ui\")\n",
    "\n",
    "\n",
    "class MainWindow(window_name, base_class):\n",
    "    def __init__(self):\n",
    "        super().__init__()\n",
    "        self.setupUi(self)\n",
    "\n",
    "        \"\"\"Creamos las conexiones con los puertos.\"\"\"\n",
    "        self.pushButton1.clicked.connect(self.click_button)\n",
    "\n",
    "    def click_button(self):\n",
    "        \"\"\"\n",
    "        Este método controla la acción ejecuta cada vez que presionamos el\n",
    "        botón1.\n",
    "        \"\"\"\n",
    "\n",
    "        try:\n",
    "            self.label_3.setText('= ' + str(\n",
    "                float(self.lineEdit1.text()) / float(self.lineEdit2.text())))\n",
    "        except ValueError as err:\n",
    "            \"\"\"Existen cuadros de diálogo pre-construidos. En este caso\n",
    "            usaremos un MessageBox para mostrar el mensaje de error.\n",
    "            \"\"\"\n",
    "            QMessageBox.warning(self, '', str(err))\n",
    "\n",
    "\n",
    "if __name__ == '__main__':\n",
    "    app = QApplication([])\n",
    "    form = MainWindow()\n",
    "    form.show()\n",
    "    sys.exit(app.exec_())\n"
   ]
  },
  {
   "cell_type": "markdown",
   "metadata": {},
   "source": [
    "En Qt Designer es fácil incluir *widgets* que hacen más fácil la interacción del usuario con la interfaz. Un ejemplo es el **Radio Button**, que permite capturar opciones del usuario en el formulario. Una ventaja que presenta este *widget* es que disminuye la ambigüedad de la información ingresada por los usuarios. Por defecto, los *radio buttons* de un formulario son autoexcluyentes, es decir, puede haber solo uno seleccionado. La siguiente figura muestra un ejemplo del diseño de formularios utilizando *radio buttons* y el código en Python utilizado para poder verificar los valores.\n",
    "\n",
    "![](img/qt-designer-radiobutton.png)"
   ]
  },
  {
   "cell_type": "code",
   "execution_count": null,
   "metadata": {},
   "outputs": [],
   "source": [
    "import sys\n",
    "\n",
    "from PyQt5 import uic\n",
    "from PyQt5.QtWidgets import QApplication\n",
    "\n",
    "window_name, base_class = uic.loadUiType(\"qt-designer-radiobutton.ui\")\n",
    "print(window_name, base_class)\n",
    "\n",
    "\n",
    "class MainWindow(window_name, base_class):\n",
    "    def __init__(self):\n",
    "        super().__init__()\n",
    "        self.setupUi(self)\n",
    "        self.pushButton1.clicked.connect(self.mostrar_gustos)\n",
    "\n",
    "    def mostrar_gustos(self):\n",
    "        for rb_id in range(1, 3):\n",
    "            if getattr(self, 'radioButton' + str(rb_id)).isChecked():\n",
    "                opcion = getattr(self, 'radioButton' + str(rb_id)).text()\n",
    "                self.label2.setText(f'prefiere: {opcion}')\n",
    "\n",
    "\n",
    "if __name__ == '__main__':\n",
    "    app = QApplication([])\n",
    "    form = MainWindow()\n",
    "    form.show()\n",
    "    sys.exit(app.exec_())\n"
   ]
  },
  {
   "cell_type": "markdown",
   "metadata": {},
   "source": [
    "El estado de un *radio button* puede ser verificado usando el método ```isChecked()``` y la información que despliega corresponde al texto, que puede ser retornado mediante el método ```text()```."
   ]
  }
 ],
 "metadata": {
  "kernelspec": {
   "display_name": "Python 3",
   "language": "python",
   "name": "python3"
  },
  "language_info": {
   "codemirror_mode": {
    "name": "ipython",
    "version": 3
   },
   "file_extension": ".py",
   "mimetype": "text/x-python",
   "name": "python",
   "nbconvert_exporter": "python",
   "pygments_lexer": "ipython3",
   "version": "3.6.6"
  },
  "varInspector": {
   "cols": {
    "lenName": 16,
    "lenType": 16,
    "lenVar": 40
   },
   "kernels_config": {
    "python": {
     "delete_cmd_postfix": "",
     "delete_cmd_prefix": "del ",
     "library": "var_list.py",
     "varRefreshCmd": "print(var_dic_list())"
    },
    "r": {
     "delete_cmd_postfix": ") ",
     "delete_cmd_prefix": "rm(",
     "library": "var_list.r",
     "varRefreshCmd": "cat(var_dic_list()) "
    }
   },
   "types_to_exclude": [
    "module",
    "function",
    "builtin_function_or_method",
    "instance",
    "_Feature"
   ],
   "window_display": false
  }
 },
 "nbformat": 4,
 "nbformat_minor": 1
}
