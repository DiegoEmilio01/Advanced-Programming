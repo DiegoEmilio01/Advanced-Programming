{
 "cells": [
  {
   "cell_type": "markdown",
   "metadata": {},
   "source": [
    "## Ejercicio extenso propuesto: Interfaces gráficas\n",
    "\n",
    "Se presenta el siguiente problema extenso separado por pasos como opción para ejercitar los conceptos revisados en el material sobre interfaces gráficas (semana-06-07). Si tienes dudas sobre algún problema o alguna solución, no dudes en dejar una issue en el foro del curso.\n",
    "\n",
    "El objetivo es poner en práctica con un ejercicio más extenso y complejo, pero separado por pasos incrementales que expanden las funcionalidades del programa propuesto. Cada paso está asociado a un jupyter de la semana diferente, de modo que a medida que uno avanza en el estudio y lectura, pueda continuar con el paso asignado siguiente."
   ]
  },
  {
   "cell_type": "markdown",
   "metadata": {},
   "source": [
    "## Problema General"
   ]
  },
  {
   "cell_type": "markdown",
   "metadata": {},
   "source": [
    "Este ejercicio extenso consta de dos partes: la primera está asociada a los primeros 4 notebooks del material de interfaces gráficas, mientras que la segunda corresponde a los archivos restantes.\n",
    "\n",
    "A lo largo de los pasos de este ejercicio iremos armando nuestra propia versión de Instagram, partiendo por un perfil de un usuario cualquiera. En los primeros pasos se unirán los *widgets* necesarios para formar la interfaz, y en los siguientes el programa se irá expandiendo para agregarle más funcionalidades a nuestro Instagram.\n",
    "\n",
    "Dentro de los archivos de esta semana, en `ejercicios_propuestos/img/food`, dejamos algunas imágenes que podrías utilizar para colocar en el perfil (son las que usamos en el ejemplo). Recuerda que para tener la ruta a una imagen se recomienda usar `os.path.join`. (*Hint*: Para tener una lista con los archivos dentro de una carpeta, puedes utilizar el método `os.listdir`: `os.listdir(ruta_a_carpeta)`."
   ]
  },
  {
   "cell_type": "markdown",
   "metadata": {},
   "source": [
    "### Paso 1: Jupyter `2-elementos-gráficos-básicos`"
   ]
  },
  {
   "cell_type": "markdown",
   "metadata": {},
   "source": [
    "En este ejercicio te pedimos que utilices algunos de los distintos *widgets* que conoces para hacer tu propia versión de un perfil de Instagram. Deberás crear una clase `PerfilInstagram` que debe contener al menos los siguientes elementos (puedes agregar más):\n",
    "\n",
    "* Nombre de usuario (`QLabel`)\n",
    "* Descripción del usuario (`QLabel`)\n",
    "* Botón para seguir (`QPushButton`)\n",
    "* Botón para enviar un mensaje al usuario (`QPushButton`)\n",
    "* Una foto del usuario (Usando un `QPixmap` dentro de un `QLabel`)\n",
    "\n",
    "Usando estos widgets junto con `QHBoxLayout` (en los botones) y `QVBoxLayout` (para los primeros `QLabel` y luego para juntar todo), la estructura sería más o menos como la siguiente:\n",
    "\n",
    "![](./img/ex-step1.jpg)"
   ]
  },
  {
   "cell_type": "markdown",
   "metadata": {},
   "source": [
    "### Paso 2: Jupyter `2-elementos-gráficos-básicos`"
   ]
  },
  {
   "cell_type": "markdown",
   "metadata": {},
   "source": [
    "Si pensamos en un perfil normal de Instagram, no se ve tan parecida nuestra ventana... podemos hacerlo mejor! En este paso haremos la vista de grilla de las imágenes de un perfil (lo que está encerrado en el rectángulo verde): \n",
    "\n",
    "![](./img/ex-step2-pre.jpg)\n",
    "\n",
    "Si le damos un par de vueltas... esto se parece a un *layout*, ya que corresponde a cómo se colocan las imágenes (que son otro *wdiget*, `QLabel`). Tal como se explica en el material, deberás hacer una clase `FotosInstagram` que herede de `QGrid`. Esta clase además deberá tener los siguientes atributos:\n",
    "\n",
    "* `columnas`: `int` correspondiente a la cantidad de columnas de imágenes que se desean ver\n",
    "* `imagenes`: `list` con las rutas de las imágenes (donde cada ruta es un `str`. Otra opción es que este atributo sea un `str` con la ruta a una carpeta con las imágenes (de donde deberás tomar cada imagen)\n",
    "\n",
    "Creando una instancia de `FotosInstagram` en el código del paso anterior, y usando 3 o 4 columnas, quedaría algo así:\n",
    "\n",
    "![](./img/ex-step2-a.jpg)![](./img/ex-step2-b.jpg)\n",
    "\n",
    "> **Bonus:** Si te animas, puedes hacer una versión del *widget* que muestras las imágenes en un orden aleatorio, es decir, cada vez que ejecutes tu programa, las imágenes se cambiarán de lugar"
   ]
  },
  {
   "cell_type": "markdown",
   "metadata": {},
   "source": [
    "### Paso 3: Jupyter `3-eventos-y-señales`"
   ]
  },
  {
   "cell_type": "markdown",
   "metadata": {},
   "source": [
    "Ahora empezaremos a agregar funcionalidades a nuestra ventana para hacerla interactiva. Una característica conocida de Instagram es que puedes seguir perfiles, así que partamos por ahí. Lo que queremos hacer es utilizar el botón \"Seguir\" que definimos en el paso 1.\n",
    "\n",
    "Al hacer clic en el botón, el texto de este debe cambiar a \"Dejar de seguir\", y al hacer clic de nuevo este debe volver a \"Seguir\". \n",
    "\n",
    "> **Bonus:** si no sigues un perfil el botón \"Seguir\" debe verse azul/celeste. Para esto puedes ocupar el método `setStyleSheet`, que recibe un `str`. Puedes ver algunos ejemplos [en la documentación de PyQt](https://doc.qt.io/qt-5/stylesheet-examples.html). Como notarás, esto no es materia del curso, dado que no se presenta en ninguna parte de los contenidos, pero sí es algo de PyQt que puedes usar por tu cuenta para hacer tus programas más estilosos.\n",
    "Al hacer clic en el botón Seguir, este debe cambiar a \"Dejar de seguir\" y viceversa. Al hacer clic en Enviar Mensaje, se debe imprimir un mensaje (los pondría al revés porque el segundo es más fácil)\n",
    "\n",
    "![](./img/ex-step3.jpg)"
   ]
  },
  {
   "cell_type": "markdown",
   "metadata": {},
   "source": [
    "### Paso 4: Jupyter `4-diseño-front-back`"
   ]
  },
  {
   "cell_type": "markdown",
   "metadata": {},
   "source": [
    "Es hora de separar la interfaz de la lógica de nuestro programa. Lo que hemos hecho en los primeros pasos es definir una interfaz en base al perfil de un usuario, pero podríamos perfectamente tener un código que modele a un usuario de Instagram e incorporar la interfaz posteriormente. \n",
    "\n",
    "En este paso, deberás hacer los siguientes módulos:\n",
    "\n",
    "* `usuario.py`: Este módulo tendrá toda la lógica del programa (o sea, es parte del *back-end*) que no tiene que ver con la interfaz, por lo que deberá contener lo siguiente.\n",
    "    * Clase `UsuarioInstagram`: Esta clase representa a un usuario, que tiene un perfil, y que deberá tener (al menos) los siguientes atributos:\n",
    "        * `username`: `str`, usuario de Instagram\n",
    "        * `descripcion`: `str`, texto describiendo al perfil del usuario\n",
    "        * `fotos`: `list` de `str` con las rutas a las fotos del usuario (*hint*: similar a `imagenes` en `FotosInstragram`)\n",
    "* `interfaz.py`: Este módulo contendrá las clases de *widgets* que hemos definido hasta ahora y nuestra ventana (es decir, componen el *front-end* de nuestro programa):\n",
    "    * Clase `PerfilInstagram`: La clase que trabajamos desde el paso 1\n",
    "    * Clase `FotosInstagram`: La clase que trabajamos en el paso 2\n",
    "* `instagram.py`: Este módulo importará a los dos anteriores y tendrá la responsabilidad de unirlos. La idea es que tu clase `PerfilInstagram` reciba una instancia de `UsuarioInstagram` y pueda armar la interfaz a partir de esta. Esto podrías hacerlo en Algo así:\n",
    "\n",
    "```python\n",
    "if __name__ == \"__main__\":\n",
    "    # Usuario en back-end\n",
    "    usuario = UsuarioInstagram(...)\n",
    "    # Ventanas en front-end\n",
    "    app = QApplication([])\n",
    "    # (Nuestro widget recibe al usuario)\n",
    "    ventana = PerfilInstagram(usuario)\n",
    "    sys.exit(app.exec_())\n",
    "```\n",
    "\n",
    "¿Cómo saber si funciona bien? Si al ejecutar `instagram.py`, se abre la ventana con los datos con los que instanciaste `UsuarioInstagram`."
   ]
  }
 ],
 "metadata": {
  "kernelspec": {
   "display_name": "Python 3",
   "language": "python",
   "name": "python3"
  },
  "language_info": {
   "codemirror_mode": {
    "name": "ipython",
    "version": 3
   },
   "file_extension": ".py",
   "mimetype": "text/x-python",
   "name": "python",
   "nbconvert_exporter": "python",
   "pygments_lexer": "ipython3",
   "version": "3.6.7"
  },
  "varInspector": {
   "cols": {
    "lenName": 16,
    "lenType": 16,
    "lenVar": 40
   },
   "kernels_config": {
    "python": {
     "delete_cmd_postfix": "",
     "delete_cmd_prefix": "del ",
     "library": "var_list.py",
     "varRefreshCmd": "print(var_dic_list())"
    },
    "r": {
     "delete_cmd_postfix": ") ",
     "delete_cmd_prefix": "rm(",
     "library": "var_list.r",
     "varRefreshCmd": "cat(var_dic_list()) "
    }
   },
   "types_to_exclude": [
    "module",
    "function",
    "builtin_function_or_method",
    "instance",
    "_Feature"
   ],
   "window_display": false
  }
 },
 "nbformat": 4,
 "nbformat_minor": 2
}
