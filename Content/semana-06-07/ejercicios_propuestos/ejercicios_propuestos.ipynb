{
 "cells": [
  {
   "cell_type": "markdown",
   "metadata": {},
   "source": [
    "## Ejercicios propuestos: Interfaces gráficas\n",
    "\n",
    "Los siguientes problemas se dejan como opción para ejercitar los conceptos revisados en el material sobre interfaces gráficas (semana-06-07). Si tienes dudas sobre algún problema o alguna solución, no dudes en dejar una issue en el foro del curso.\n",
    "\n",
    "El objetivo es poner en práctica la creación de interfaces gráficas, explorando distintos elementos *widgets* que pueden ser de utilidad e implementando distintos requerimientos."
   ]
  },
  {
   "cell_type": "markdown",
   "metadata": {},
   "source": [
    "## Problema 1"
   ]
  },
  {
   "cell_type": "markdown",
   "metadata": {},
   "source": [
    "A continuación, se presenta el primer código de ejemplo para crear un programa con una ventana. Las dimensiones y título de la ventana están *\"hardcodeados\"*, es decir, sus valores están fijos dentro de su definición. \n",
    "\n",
    "Toma el siguiente código, y alteralo para que al instanciar `MiVentana` reciba la posición `(x, y)`, las dimensiones `(ancho, alto)` y el título `(titulo)` para fijar la ventana creada. Luego, instancia **cinco** ventanas simultaneas con distintos valores para los argumentos anteriores. "
   ]
  },
  {
   "cell_type": "code",
   "execution_count": null,
   "metadata": {},
   "outputs": [],
   "source": [
    "import sys\n",
    "from PyQt5.QtWidgets import QWidget, QApplication\n",
    "\n",
    "class MiVentana(QWidget):\n",
    "    def __init__(self):\n",
    "        super().__init__()\n",
    "        self.setGeometry(200, 100, 300, 300)\n",
    "        self.setWindowTitle('Mi Primera Ventana')\n",
    "\n",
    "\n",
    "if __name__ == '__main__':\n",
    "    app = QApplication([])\n",
    "    ventana = MiVentana()\n",
    "    ventana.show()\n",
    "    sys.exit(app.exec_())"
   ]
  },
  {
   "cell_type": "markdown",
   "metadata": {},
   "source": [
    "La siguiente imagen muestra un ejemplo, no es necesario que siga las mismas dimensiones y nombres que este:\n",
    "\n",
    "![](img/prob1.png)"
   ]
  },
  {
   "cell_type": "markdown",
   "metadata": {},
   "source": [
    "## Problema 2"
   ]
  },
  {
   "cell_type": "markdown",
   "metadata": {},
   "source": [
    "El objetivo de este problema es que crees una ventana de **inicio de sesión** de tu red social favorita. Esta no tendrá comportamiento de interacción, solo será estática. Para crear esta ventana, debes indicarle al usuario dónde especificar su información personal para identificarlo. Específicamente, debe contener:\n",
    "\n",
    "- Etiquetas que digan \"Usuario\", \"Correo\" y \"Contraseña\". Utiliza `QLabel`.\n",
    "- Para cada una de las etiquetas mencionadas, agrega un campo de texto diferente y posiciónalo contiguo a la etiqueta correspondiente. Utiliza `QLineEdit`.\n",
    "- Una imagen del logo de tu red social favorita. Puedes buscarla en la web, descargarla y cargarla para lograrlo. Utiliza `QPixMap` y `QLabel`.\n",
    "- Un botón que diga \"Ingresar\". Utiliza `QPushButton`.\n",
    "\n",
    "Como ubiques los elementos queda a criterio tuyo, puedes encontrar un ejemplo de un resultado posible a continuación:\n",
    "\n",
    "![](img/prob2.png)"
   ]
  },
  {
   "cell_type": "markdown",
   "metadata": {},
   "source": [
    "## Problema 3"
   ]
  },
  {
   "cell_type": "markdown",
   "metadata": {},
   "source": [
    "Una vez realizado el problema anterior, haz un duplicado del programa y arreglalo para que las posiciones de los elementos se mantengan centradas y ordenadas si cambias el tamaño de la ventana.\n",
    "\n",
    "Utiliza algún (o algunos) tipo(s) de *layouts* para lograrlo: `QHBoxLayout`, `QVBoxLayout` o `QGridLayout`."
   ]
  },
  {
   "cell_type": "markdown",
   "metadata": {},
   "source": [
    "## Problema 4"
   ]
  },
  {
   "cell_type": "markdown",
   "metadata": {},
   "source": [
    "Ahora, el objetivo de este problema es crear una ventana de **registro** de tu red social favorita. Para esto, es necesario crear campos distintos para ingresar datos del usuario. Esta ventana debe contener:\n",
    "\n",
    "- Etiquetas que digan \"Usuario\", \"Género\", \"Edad\" y \"Configuración\". Utiliza `QLabel`.\n",
    "- Para el campo de usuario, agrega un campo de texto. Utiliza `QLineEdit`.\n",
    "- Para el campo de género, agrega botones radiales con opciones: \"Femenino\", \"Masculino\", \"No Binario\", \"No mencionar\" (y otras opciones que desees agregar). Para lograrlo, busca en la web el *widget*: `QRadioButton`, y utilizalo.\n",
    "- Para el campo de edad, agrega un campo numérico con valor mínimo 18 y sin valor máximo. Para lograrlo, busca en la web el *widget*: `QSpinBox`, y utilizalo.\n",
    "- Para el campo configuración, agrega botones para marcar con opciones: \"Cuenta privada\", \"Recibir noticias\", \"Acepto términos y condiciones\". Para lograrlo, busca en la web el *widget*: `QCheckBox`, y utilizalo.\n",
    "- Finalmente, agrega un botón que diga \"Continuar\". Utiliza `QPushButton`.\n",
    "\n",
    "Como ubiques los elementos queda a criterio tuyo, puedes encontrar un ejemplo de un resultado posible a continuación:\n",
    "\n",
    "![](img/prob4.png)"
   ]
  },
  {
   "cell_type": "markdown",
   "metadata": {},
   "source": [
    "## Problema 5"
   ]
  },
  {
   "cell_type": "markdown",
   "metadata": {},
   "source": [
    "Crea una ventana que contenga:\n",
    "\n",
    "- Una etiqueta de texto que diga \"0 clics\".\n",
    "- Un botón (`QPushButton`).\n",
    "\n",
    "Agrega el siguiente comportamiento: cada vez que se haga clic sobre el botón, se debe actualizar el contenido de la etiqueta con el número actual de clics que se han realizado.\n",
    "\n",
    "Se muestra un ejemplo a continuación:\n",
    "\n",
    "![](img/prob5.png)"
   ]
  },
  {
   "cell_type": "markdown",
   "metadata": {},
   "source": [
    "## Problema 6"
   ]
  },
  {
   "cell_type": "markdown",
   "metadata": {},
   "source": [
    "Crea una ventana que contenga:\n",
    "\n",
    "- Una etiqueta de texto que diga \"Texto\".\n",
    "- Un campo numérico (`QSpinBox`) con valor inicial `15`.\n",
    "\n",
    "Agrega el siguiente comportamiento: cada vez que se actualice por el usuario el valor en el campo numérico, debes alterar el tamaño de la etiqueta de texto y su contenido a: `\"Texto: valor\"`, dónde valor es el tamñano actual.\n",
    "\n",
    "Para lograr lo anterior, busca en la web:\n",
    "- Cómo conectar el evento de cambio de valor en `QSpinBox` a un método.\n",
    "- Qué es el objeto `QFont` para definir fuentes de texto con distintos tamaños.\n",
    "- Cómo fijar una fuente para un `QLabel`, desde un objeto `QFont`.\n",
    "\n",
    "\n",
    "Se muestra un ejemplo a continuación:\n",
    "\n",
    "![](img/prob6-1.png)\n",
    "![](img/prob6-2.png)"
   ]
  },
  {
   "cell_type": "markdown",
   "metadata": {},
   "source": [
    "## Problema 7"
   ]
  },
  {
   "cell_type": "markdown",
   "metadata": {},
   "source": [
    "Crea una ventana de tamaño 500 por 500, que contenga un rectangulo de color verde dentro. Su posición inicial debe ser aleatoria y de dimensiones: 50 por 50. Para crear el rectángulo, utiliza `QPixMap` y un `QLabel` dentro de la ventana.\n",
    "\n",
    "Agrega el siguiente comportamiento: si el usuario hace clic dentro de la región que abarca el rectangulo verde, entonces su posición se mueve a una nueva posición aleatoria. Si hace clic fuera de la región abarcada por el rectangulo, no hay efecto. El movimiento del rectangulo debe ser instantaneo, no gradual.\n",
    "\n",
    "Se muestra un ejemplo a continuación:\n",
    "\n",
    "![](img/prob7.png)"
   ]
  },
  {
   "cell_type": "markdown",
   "metadata": {},
   "source": [
    "## Problema 8"
   ]
  },
  {
   "cell_type": "markdown",
   "metadata": {},
   "source": [
    "Mejora el programa del problema anterior de forma que al hacer clic sobre la región del rectangulo, este se mueva hacia la nueva posición, pero de forma gradual, como una animación. Utiliza `QThread` y **señales** para lograrlo."
   ]
  },
  {
   "cell_type": "markdown",
   "metadata": {},
   "source": [
    "## Problema 9"
   ]
  },
  {
   "cell_type": "markdown",
   "metadata": {},
   "source": [
    "Crea una ventana de 250 por 250 que contenga:\n",
    "- dos cuadrados: de tamaño 50 por 50, en posiciones iniciales a tu elección.\n",
    "- dos botones: uno con el texto \"Iniciar\", y el otro con el texto \"Detener\".\n",
    "\n",
    "Agrega el siguiente comportamiento: \n",
    "\n",
    "- Al hacer clic sobre el botón \"Iniciar\", los cuadrados comienzan a cambiar gradualmente de tamaño. Uno comienza disminuyendo, mientras que el otro aumentando de tamaño. Si alguno alcanza el mínimo tamaño de 25 por 25, entonces comienza a aumentar, mientras que si alcanza el máximo tamaño de 75 por 75, comienza a disminuir de tamaño. \n",
    "- Al hacer clic sobre el botón \"Detener\", se detiene el crecimiento/decrecimiento gradual de los cuadrados, pero al hacer clic sobre \"Iniciar\" nuevamente, debe resumir el movimiento como habian quedado al presionar \"Detener\".\n",
    "\n",
    "Utiliza `QTimer` y **señales** para lograrlo. Un ejemplo visual a continuación, dónde la ventana comienza como la primera imagen, y luego evoluciona a mostrarse como en la segunda y tercera imagen:\n",
    "\n",
    "![](img/prob9-1.png)\n",
    "![](img/prob9-2.png)\n",
    "![](img/prob9-3.png)"
   ]
  }
 ],
 "metadata": {
  "kernelspec": {
   "display_name": "Python 3",
   "language": "python",
   "name": "python3"
  },
  "language_info": {
   "codemirror_mode": {
    "name": "ipython",
    "version": 3
   },
   "file_extension": ".py",
   "mimetype": "text/x-python",
   "name": "python",
   "nbconvert_exporter": "python",
   "pygments_lexer": "ipython3",
   "version": "3.6.6"
  },
  "varInspector": {
   "cols": {
    "lenName": 16,
    "lenType": 16,
    "lenVar": 40
   },
   "kernels_config": {
    "python": {
     "delete_cmd_postfix": "",
     "delete_cmd_prefix": "del ",
     "library": "var_list.py",
     "varRefreshCmd": "print(var_dic_list())"
    },
    "r": {
     "delete_cmd_postfix": ") ",
     "delete_cmd_prefix": "rm(",
     "library": "var_list.r",
     "varRefreshCmd": "cat(var_dic_list()) "
    }
   },
   "types_to_exclude": [
    "module",
    "function",
    "builtin_function_or_method",
    "instance",
    "_Feature"
   ],
   "window_display": false
  }
 },
 "nbformat": 4,
 "nbformat_minor": 2
}
