{
 "cells": [
  {
   "cell_type": "markdown",
   "metadata": {},
   "source": [
    "<p>\n",
    "<font size='5' face='Georgia, Arial'>IIC-2233 Apunte Programación Avanzada</font><br>\n",
    "<font size='1'> Equipo Docente IIC2233 2019-1 y editado el 2019-2.</font>\n",
    "</p>"
   ]
  },
  {
   "cell_type": "markdown",
   "metadata": {},
   "source": [
    "## Conexiones entre múltiples ventanas  en PyQt\n",
    "\n",
    "Al crear interfaces con múltiples ventanas, es natural y común querer cominicarlas y específicamente, cambiar entre una ventana y otra. Desde los ejemplos iniciales, uno puede verse tentado a utilizar la interfaz de `show` y `hide` para mostrar y ocultar ventanas. \n",
    "\n",
    "Uno puede verse tentado a intentar algo del siguiente estilo inicialmente, dónde una ventana instancia otra e intenta abrirla:"
   ]
  },
  {
   "cell_type": "code",
   "execution_count": null,
   "metadata": {},
   "outputs": [],
   "source": [
    "import sys\n",
    "from PyQt5.QtWidgets import QApplication, QWidget, QPushButton\n",
    "\n",
    "class Ventana(QWidget):\n",
    "    def __init__(self, titulo, x, y):\n",
    "        super().__init__()\n",
    "        self.setWindowTitle(titulo)\n",
    "        self.setGeometry(x, y, 200, 50)\n",
    "        self.boton = QPushButton(\"Abrir otra ventana\", self)\n",
    "        self.boton.clicked.connect(self.abrir_otra_ventana)\n",
    "\n",
    "    def abrir_otra_ventana(self):\n",
    "        self.hide()\n",
    "        otra_ventana = Ventana(\"Otra ventana\", 300, 100)\n",
    "        otra_ventana.show()\n",
    "\n",
    "\n",
    "if __name__ == '__main__':\n",
    "    app = QApplication([])\n",
    "    ventana = Ventana(\"Inicial\", 100, 100)\n",
    "    ventana.show()\n",
    "    sys.exit(app.exec_())"
   ]
  },
  {
   "cell_type": "markdown",
   "metadata": {},
   "source": [
    "Al ejecutarlo, se observa un comportamiento innesperado: **no se muestra la segunda ventana**.\n",
    "\n",
    "Intentemos un ángulo distinto, instanciemos la segunda ventana antes y la pasamos como un argumento a la ventana inicial:"
   ]
  },
  {
   "cell_type": "code",
   "execution_count": null,
   "metadata": {},
   "outputs": [],
   "source": [
    "import sys\n",
    "from PyQt5.QtWidgets import QApplication, QWidget, QPushButton\n",
    "\n",
    "class Ventana(QWidget):\n",
    "    def __init__(self, titulo, x, y, otra_ventana=None):\n",
    "        super().__init__()\n",
    "        self.otra_ventana = otra_ventana\n",
    "        self.setWindowTitle(titulo)\n",
    "        self.setGeometry(x, y, 200, 50)\n",
    "        self.boton = QPushButton(\"Abrir otra ventana\", self)\n",
    "        self.boton.clicked.connect(self.abrir_otra_ventana)\n",
    "\n",
    "    def abrir_otra_ventana(self):\n",
    "        if self.otra_ventana:\n",
    "            self.hide()\n",
    "            self.otra_ventana.show()\n",
    "\n",
    "\n",
    "if __name__ == '__main__':\n",
    "    app = QApplication([])\n",
    "    otra_ventana = Ventana(\"Otra ventana\", 300, 100)\n",
    "    ventana = Ventana(\"Inicial\", 100, 100, otra_ventana)\n",
    "    ventana.show()\n",
    "    sys.exit(app.exec_())"
   ]
  },
  {
   "cell_type": "markdown",
   "metadata": {},
   "source": [
    "Este sí funciona. ¿Qué ocurrió en el primero entonces? \n",
    "\n",
    "El detalle, es que al instanciar un *widget* como una variable dentro de un método, como toda **variable local** del método, cuando se termine dicho método, Python **descarta** la variable.\n",
    "\n",
    "```python\n",
    "def abrir_otra_ventana(self):\n",
    "    self.hide()\n",
    "    otra_ventana = Ventana(\"Otra ventana\", 300, 100)\n",
    "    otra_ventana.show()\n",
    "```\n",
    "\n",
    "El método `abrir_otra_ventana` guarda en la variable `otra_ventana` el nuevo *widget* a mostrar. Pero, como `otra_ventana` es una variable local del método, cuando termine de ejecutarse, `otra_ventana` será descartada completamente, eliminando incluso el *widget* recién creado (y mostrado).\n",
    "\n",
    "La diferencia en el segundo código, es que `otra_ventana` existe fuera de la definición del método, por lo que el hecho de que termine el método, no genera que se descarte la variable y objeto.\n",
    "\n",
    "Siguiendo esa misma idea, entonces, almacenar la variable `otra_ventana` como un atributo de instancia debería también arreglar el problema. Y es cierto:"
   ]
  },
  {
   "cell_type": "code",
   "execution_count": null,
   "metadata": {},
   "outputs": [],
   "source": [
    "import sys\n",
    "from PyQt5.QtWidgets import QApplication, QWidget, QPushButton\n",
    "\n",
    "class Ventana(QWidget):\n",
    "    def __init__(self, titulo, x, y):\n",
    "        super().__init__()\n",
    "        self.setWindowTitle(titulo)\n",
    "        self.setGeometry(x, y, 200, 50)\n",
    "        self.boton = QPushButton(\"Abrir otra ventana\", self)\n",
    "        self.boton.clicked.connect(self.abrir_otra_ventana)\n",
    "\n",
    "    def abrir_otra_ventana(self):\n",
    "        self.hide()\n",
    "        self.otra_ventana = Ventana(\"Otra ventana\", 300, 100)\n",
    "        self.otra_ventana.show()\n",
    "\n",
    "\n",
    "if __name__ == '__main__':\n",
    "    app = QApplication([])\n",
    "    ventana = Ventana(\"Inicial\", 100, 100)\n",
    "    ventana.show()\n",
    "    sys.exit(app.exec_())"
   ]
  },
  {
   "cell_type": "markdown",
   "metadata": {},
   "source": [
    "¿Por qué? Porque si se almacena la segunda instancia de ventana como un atributo de la primera, al salir del método `abrir_otra_ventana` no se descarta al objeto ventana; este quedó referenciado en un nivel mayor al método: en la  instancia de la primera ventana.."
   ]
  },
  {
   "cell_type": "markdown",
   "metadata": {},
   "source": [
    "#### ¿Es esa la mejor manera de modelar este comportamiento?\n",
    "\n",
    "La solución anterior funciona. Y para casos pequeños, basta. El problema es en aplicaciones más grandes, donde múltiples ventanas pueden llamarse y hacerse aparecer. Es más, la modelación anterior muestra una relación de **composición** entre las ventanas, es decir, la segunda solo existe bajo la existencia de la primera. Y esta modelación no aplica para todos los casos. \n",
    "\n",
    "Múltiples ventanas pueden ser independientes pero aún así puede gatillarse un evento que haga aparecer una desde otra. ¿Cómo puede modelarse esto?\n",
    "\n",
    "### ¡Señales!\n",
    "\n",
    "Como a casi todos nuestros problemas, señales son la solución. De forma similar a como se mostró en el cuaderno sobre *front-end* y *back-end*, señales ayudan a des-acoplar programas. De la misma forma, el uso de señales en este contexto es ventajoso ya que nos permite independizar ventanas y conectarlas mediante señales:"
   ]
  },
  {
   "cell_type": "code",
   "execution_count": null,
   "metadata": {},
   "outputs": [],
   "source": [
    "import sys\n",
    "from PyQt5.QtWidgets import QApplication, QWidget, QPushButton\n",
    "from PyQt5.QtCore import pyqtSignal\n",
    "\n",
    "class Ventana(QWidget):\n",
    "    \n",
    "    # Cada ventana se instancia con una señal para ser abierta\n",
    "    senal_abrir_ventana = pyqtSignal()\n",
    "    \n",
    "    def __init__(self, titulo, x, y):\n",
    "        super().__init__()\n",
    "        # Definimos lo básico de la ventana\n",
    "        self.setWindowTitle(titulo)\n",
    "        self.setGeometry(x, y, 200, 50)\n",
    "        \n",
    "        # La señal que le permite a esta ventana abrirse, \n",
    "        # se conecta a su propio show. Así, si alguien\n",
    "        # emite la señal, esta ventana se mostrará\n",
    "        self.senal_abrir_ventana.connect(self.show)\n",
    "        \n",
    "        # Definimos el atributo de instancia que contendría una\n",
    "        # señal para abrir otra ventana, comienza como None\n",
    "        self.senal_abrir_otra_ventana = None\n",
    "        \n",
    "        # Creamos botón que se conecta a método self.abrir_otra_ventana\n",
    "        self.boton = QPushButton(\"Abrir otra ventana\", self)\n",
    "        self.boton.clicked.connect(self.abrir_otra_ventana)\n",
    "\n",
    "    def abrir_otra_ventana(self):\n",
    "        # Si tenemos una señal asociada para abrir otra ventana\n",
    "        if self.senal_abrir_otra_ventana:\n",
    "            # Ocultamos esta ventana y emitimos la señal para abrir otra\n",
    "            self.hide()\n",
    "            self.senal_abrir_otra_ventana.emit()\n",
    "\n",
    "\n",
    "if __name__ == '__main__':\n",
    "    app = QApplication([])\n",
    "    \n",
    "    # Instanciamos dos ventanas distintas\n",
    "    # Cada una comienza con una señal propia que\n",
    "    # le permite ser abierta por otra.\n",
    "    ventana_1 = Ventana(\"Inicial\", 100, 100)\n",
    "    ventana_2 = Ventana(\"Alternativa\", 500, 100)\n",
    "    \n",
    "    # Conectamos las señales correspondientes:\n",
    "    # ventana 1 tiene acceso a la señal de ventana 2\n",
    "    # Ahora ventana 2 puede ser abierta desde ventana 1\n",
    "    ventana_1.senal_abrir_otra_ventana = ventana_2.senal_abrir_ventana\n",
    "    \n",
    "    # Con esta también vinculamos a ventana 1 desde ventana 2\n",
    "    ventana_2.senal_abrir_otra_ventana = ventana_1.senal_abrir_ventana\n",
    "    \n",
    "    ventana_1.show()\n",
    "    sys.exit(app.exec_())"
   ]
  },
  {
   "cell_type": "markdown",
   "metadata": {},
   "source": [
    "Así, cada instancia de `Ventana` es independiente. Es mediante señales que se comunican que una ventana debe aparecer luego de la otra, sin contener directamente una instancia dentro de otra instancia de `Ventana`."
   ]
  }
 ],
 "metadata": {
  "kernelspec": {
   "display_name": "Python 3",
   "language": "python",
   "name": "python3"
  },
  "language_info": {
   "codemirror_mode": {
    "name": "ipython",
    "version": 3
   },
   "file_extension": ".py",
   "mimetype": "text/x-python",
   "name": "python",
   "nbconvert_exporter": "python",
   "pygments_lexer": "ipython3",
   "version": "3.6.6"
  },
  "varInspector": {
   "cols": {
    "lenName": 16,
    "lenType": 16,
    "lenVar": 40
   },
   "kernels_config": {
    "python": {
     "delete_cmd_postfix": "",
     "delete_cmd_prefix": "del ",
     "library": "var_list.py",
     "varRefreshCmd": "print(var_dic_list())"
    },
    "r": {
     "delete_cmd_postfix": ") ",
     "delete_cmd_prefix": "rm(",
     "library": "var_list.r",
     "varRefreshCmd": "cat(var_dic_list()) "
    }
   },
   "types_to_exclude": [
    "module",
    "function",
    "builtin_function_or_method",
    "instance",
    "_Feature"
   ],
   "window_display": false
  }
 },
 "nbformat": 4,
 "nbformat_minor": 2
}
