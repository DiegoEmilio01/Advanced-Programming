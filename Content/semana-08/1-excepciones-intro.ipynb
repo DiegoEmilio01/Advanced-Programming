{
 "cells": [
  {
   "cell_type": "markdown",
   "metadata": {},
   "source": [
    "<p>\n",
    "<font size='5' face='Georgia, Arial'>IIC-2233 Apunte Programación Avanzada</font><br>\n",
    "<font size='1'>&copy; 2015 Karim Pichara - Christian Pieringer. Todos los derechos reservados.</font>\n",
    "<br>\n",
    "<font size='1'> Modificado en 2017-2, 2018-1, 2018-2, 2019-1 y 2019-2 por Equipo Docente IIC2233</font>\n",
    "</p>"
   ]
  },
  {
   "cell_type": "markdown",
   "metadata": {},
   "source": [
    "# Excepciones"
   ]
  },
  {
   "cell_type": "markdown",
   "metadata": {},
   "source": [
    "En ciencia de la computación, una **excepción** se refiere a una condición anómala o inesperada que ocurre durante un proceso de cómputo. Los sistemas computacionales suelen generar eventos llamados **excepciones** cuando ocurre una condición que altera el flujo normal o esperado de un programa.\n",
    "\n",
    "Algunos ejemplos de condiciones anómalas que suelen generar una excepción son: operaciones no definidas como intentar efectuar una división por cero; ó acceso a regiones prohibidas de la memoria como cuando se intenta leer más allá de los límites de una lista o se intenta acceder a una *key* inexistente de un diccionario.\n",
    "\n",
    "Las excepciones también se utilizan para señalar que **alguna acción no pudo ser ejecutada tal como se esperaba**. Por ejemplo, al intentar construir un entero a partir de un *string* que trae un formato incorrecto: `int(\"34C\")`; intentar leer el valor de una variable que no hemos creado; o invocar un método inexistente en un objeto.\n",
    "\n",
    "Si bien muchos de estos casos podrían abordarse como casos especiales usando control de flujo, el tratarlos como una secuencia de `if`/`elif`/`else` hace que el código se vea más complicado de entender y mantener ya que debemos cubrir una serie de casos particulares antes de poder seguir el flujo principal de nuestro programas, y cualquier condición nueva puede implicar reescribir varios casos de `if`/`elif`/`else` en distintas partes de nuestro código con la posibilidad cierta de introducir más errores.\n",
    "\n",
    "Es por esto que lenguajes de programación como Python permiten definir secciones de código donde las excepciones que se **generan**, gatillan, lanzan o levantan (*exception raise*) pueden ser **atrapadas** o **capturadas** (*exception catch*), y tratadas a través de un **flujo especial** en el cual la excepción puede ser **manejada** (*exception handling*) y puede ser corregida, reportada, ignorada o alguna otra acción que permita que el programa pueda continuar y regresar a un flujo normal.\n",
    "\n",
    "En general cuando un programa lanza una excepción que no es manejada apropiadamente, ésta es reportada al sistema operativo, el cual típicamente terminará el programa (en nuestro caso, el intérprete de Python) y veremos que nuestro programa se \"caerá\", posiblemente mostrando un mensaje que indica qué tipo de excepción se produjo."
   ]
  },
  {
   "cell_type": "markdown",
   "metadata": {},
   "source": [
    "En Python, las excepciones se representan como objetos de la clase [`Exception`](https://docs.python.org/3/library/exceptions.html#Exception) que se crean al detectarse la excepción. Algunas excepciones en Python 3.x pueden deberse a:\n",
    "- Error del usuario al ingresar algún dato\n",
    "- Parámetros de *input* no válidos al llamar una función (cantidad de parámetros, tipo de los parámetros, etc.)\n",
    "- Error de sintaxis, el cual se gatilla cuando se intenta llamar a la función mal definida\n",
    "- Intentar utilizar variables inexistentes, lo que se genera solo cuando se intenta utilizar esa variable\n",
    "- Invocar un método inexistente dentro de un objeto\n",
    "- Intentar ejecutar una operación prohibida para un tipo de datos, como modificar un elemento de una tupla\n",
    "\n",
    "Al ser Python un lenguaje **interpretado**, las excepciones que se producen ocurren al momento de ejecutar una instrucción. Se conocen como **excepciones de tiempo de ejecución** o ***runtime exceptions***. Es por esto que un programa que contenga un error (por ejemplo, leer una variable no definida), puede que nunca genere esa excepción si el flujo del programa nunca llega a esa instrucción.\n",
    "\n",
    "Los lenguajes que son **compilados** (como Java, C, ó C#) deben ser traducidos a un lenguaje entendible por el computador antes de ser ejecutados. El proceso de compilación, que ocurre previamente a la ejecución, permite detectar algunos errores (como el uso de variables o métodos no definidos o el uso incorrecto de tipos de datos) y lanzar excepciones de manera prematura. Si bien esto permite detectar *bugs* de manera temprana, las excepciones de *runtime* no pueden ser detectadas hasta el momento de ejecutar.\n",
    "\n",
    "Un **manejo apropiado de excepciones** nos permitirá construir programas más **robustos** que puedan sobreponerse a condiciones no esperadas de la ejecución, o por algún mal manejo de parte del usuario. Después de todo, no nos gustaría que nuestro juego favorito se cayera por completo cada vez que nos equivocamos y escribimos una `O` en un lugar de un `0` (o una `l` en lugar de `1`)."
   ]
  },
  {
   "cell_type": "markdown",
   "metadata": {},
   "source": [
    "# Tipos de excepciones"
   ]
  },
  {
   "cell_type": "markdown",
   "metadata": {},
   "source": [
    "Cada lenguaje posee distintos tipos de excepciones. A continuación revisaremos algunos ejemplos de clases de excepciones comunes en Python. Todas ellas son clases que heredan de `Exception`."
   ]
  },
  {
   "cell_type": "markdown",
   "metadata": {},
   "source": [
    "## `SyntaxError`\n",
    "\n",
    "Se genera cuando una sentencia del programa está mal escrita y viola sus reglas sintácticas.\n",
    "\n",
    "Por ejemplo, el uso de la sentencia `print` sin paréntesis es válido en Python 2.x, pero incorrecto en Python3.x."
   ]
  },
  {
   "cell_type": "code",
   "execution_count": 1,
   "metadata": {},
   "outputs": [
    {
     "ename": "SyntaxError",
     "evalue": "Missing parentheses in call to 'print'. Did you mean print(\"Hola Mundo\")? (<ipython-input-1-d9ec7d547a2c>, line 1)",
     "output_type": "error",
     "traceback": [
      "\u001b[0;36m  File \u001b[0;32m\"<ipython-input-1-d9ec7d547a2c>\"\u001b[0;36m, line \u001b[0;32m1\u001b[0m\n\u001b[0;31m    print \"Hola Mundo\"\u001b[0m\n\u001b[0m                     ^\u001b[0m\n\u001b[0;31mSyntaxError\u001b[0m\u001b[0;31m:\u001b[0m Missing parentheses in call to 'print'. Did you mean print(\"Hola Mundo\")?\n"
     ]
    }
   ],
   "source": [
    "print \"Hola Mundo\""
   ]
  },
  {
   "cell_type": "markdown",
   "metadata": {},
   "source": [
    "En cambio, el uso de `print` válido en Python3.x. es como una función y require parámetros dentro de paréntesis `()`. En Python2.x `print` es una palabra clave reservada, pero no una función."
   ]
  },
  {
   "cell_type": "code",
   "execution_count": 2,
   "metadata": {},
   "outputs": [
    {
     "name": "stdout",
     "output_type": "stream",
     "text": [
      "Hola Mundo\n"
     ]
    }
   ],
   "source": [
    "print(\"Hola Mundo\")"
   ]
  },
  {
   "cell_type": "markdown",
   "metadata": {},
   "source": [
    "Cuando se nos olvida cerrar un paréntesis, o escribir un `:` también es un error de sintaxis."
   ]
  },
  {
   "cell_type": "code",
   "execution_count": 3,
   "metadata": {},
   "outputs": [
    {
     "ename": "SyntaxError",
     "evalue": "invalid syntax (<ipython-input-3-28f8ec38166d>, line 1)",
     "output_type": "error",
     "traceback": [
      "\u001b[0;36m  File \u001b[0;32m\"<ipython-input-3-28f8ec38166d>\"\u001b[0;36m, line \u001b[0;32m1\u001b[0m\n\u001b[0;31m    for x in range(9)\u001b[0m\n\u001b[0m                     ^\u001b[0m\n\u001b[0;31mSyntaxError\u001b[0m\u001b[0;31m:\u001b[0m invalid syntax\n"
     ]
    }
   ],
   "source": [
    "for x in range(9)"
   ]
  },
  {
   "cell_type": "markdown",
   "metadata": {},
   "source": [
    "## `NameError`\n",
    "\n",
    "Se genera cuando no se encuentra una declaración local o global asociada a algún nombre o función. Es decir, cuando se intenta utilizar algo (variable, función o clase) con algún nombre que es desconocido para el programa.\n",
    "\n",
    "Por ejemplo, la entrada de datos (*string* del usuario) en Python2.x es distinta a como se realiza en Python3.x."
   ]
  },
  {
   "cell_type": "code",
   "execution_count": 4,
   "metadata": {},
   "outputs": [
    {
     "ename": "NameError",
     "evalue": "name 'raw_input' is not defined",
     "output_type": "error",
     "traceback": [
      "\u001b[0;31m---------------------------------------------------------------------------\u001b[0m",
      "\u001b[0;31mNameError\u001b[0m                                 Traceback (most recent call last)",
      "\u001b[0;32m<ipython-input-4-30dce9498fee>\u001b[0m in \u001b[0;36m<module>\u001b[0;34m\u001b[0m\n\u001b[0;32m----> 1\u001b[0;31m \u001b[0ma\u001b[0m \u001b[0;34m=\u001b[0m \u001b[0mraw_input\u001b[0m\u001b[0;34m(\u001b[0m\u001b[0;34m\"Ingrese un número: \"\u001b[0m\u001b[0;34m)\u001b[0m\u001b[0;34m\u001b[0m\u001b[0m\n\u001b[0m\u001b[1;32m      2\u001b[0m \u001b[0ma\u001b[0m\u001b[0;34m\u001b[0m\u001b[0m\n",
      "\u001b[0;31mNameError\u001b[0m: name 'raw_input' is not defined"
     ]
    }
   ],
   "source": [
    "a = raw_input(\"Ingrese un número: \")\n",
    "a"
   ]
  },
  {
   "cell_type": "markdown",
   "metadata": {},
   "source": [
    "En Python3.x. la función `raw_input()` fue renombrada a `input()`, por lo tanto la llamada a este primer nombre no puede ser hallado por el intérprete de Python."
   ]
  },
  {
   "cell_type": "code",
   "execution_count": 5,
   "metadata": {},
   "outputs": [
    {
     "name": "stdout",
     "output_type": "stream",
     "text": [
      "Ingrese un número: 42\n"
     ]
    },
    {
     "data": {
      "text/plain": [
       "'42'"
      ]
     },
     "execution_count": 5,
     "metadata": {},
     "output_type": "execute_result"
    }
   ],
   "source": [
    "a = input(\"Ingrese un número: \")\n",
    "a"
   ]
  },
  {
   "cell_type": "markdown",
   "metadata": {},
   "source": [
    "Cuando se intenta leer el valor de una variable que no ha sido previamente definida, también ocurre un error de nombre."
   ]
  },
  {
   "cell_type": "code",
   "execution_count": 6,
   "metadata": {},
   "outputs": [
    {
     "ename": "NameError",
     "evalue": "name 'c' is not defined",
     "output_type": "error",
     "traceback": [
      "\u001b[0;31m---------------------------------------------------------------------------\u001b[0m",
      "\u001b[0;31mNameError\u001b[0m                                 Traceback (most recent call last)",
      "\u001b[0;32m<ipython-input-6-d3806b0d935c>\u001b[0m in \u001b[0;36m<module>\u001b[0;34m\u001b[0m\n\u001b[1;32m      1\u001b[0m \u001b[0ma\u001b[0m \u001b[0;34m=\u001b[0m \u001b[0;36m42\u001b[0m\u001b[0;34m\u001b[0m\u001b[0m\n\u001b[0;32m----> 2\u001b[0;31m \u001b[0mb\u001b[0m \u001b[0;34m=\u001b[0m \u001b[0mc\u001b[0m \u001b[0;34m+\u001b[0m \u001b[0ma\u001b[0m\u001b[0;34m\u001b[0m\u001b[0m\n\u001b[0m",
      "\u001b[0;31mNameError\u001b[0m: name 'c' is not defined"
     ]
    }
   ],
   "source": [
    "a = 42\n",
    "b = c + a"
   ]
  },
  {
   "cell_type": "markdown",
   "metadata": {},
   "source": [
    "Recordemos que las excepciones en Python solo se detectan en tiempo de ejecución (*runtime*) ya que se un lenguaje interpretado. Observe el siguiente código:"
   ]
  },
  {
   "cell_type": "code",
   "execution_count": 7,
   "metadata": {},
   "outputs": [
    {
     "name": "stdout",
     "output_type": "stream",
     "text": [
      "84\n"
     ]
    }
   ],
   "source": [
    "a = 42\n",
    "if a < 42:\n",
    "    b = c + a\n",
    "else:\n",
    "    b = a * 2\n",
    "print(b)"
   ]
  },
  {
   "cell_type": "markdown",
   "metadata": {},
   "source": [
    "Este ejemplo contiene un error, al igual que el código anterior ya que no define la variable `c`. Sin embargo si esa instrucción nunca se ejecuta, la excepción no se genera. Si hubiésemos escrito un código similar en un lenguaje compilado, el proceso de compilación sí hubiese detectado este error (y lo hubiésemos corregido)."
   ]
  },
  {
   "cell_type": "markdown",
   "metadata": {},
   "source": [
    "## `ZeroDivisionError`\n",
    "\n",
    "Esta excepción es lanzada cuando el segundo elemento o denominador de una división es cero.\n",
    "\n",
    "En el ejemplo vemos que la función `dividir` está correctamente escrita, sin embargo, los valores ingresados por el usuario producen este error matemático."
   ]
  },
  {
   "cell_type": "code",
   "execution_count": 8,
   "metadata": {},
   "outputs": [
    {
     "name": "stdout",
     "output_type": "stream",
     "text": [
      "1.25\n"
     ]
    },
    {
     "ename": "ZeroDivisionError",
     "evalue": "division by zero",
     "output_type": "error",
     "traceback": [
      "\u001b[0;31m---------------------------------------------------------------------------\u001b[0m",
      "\u001b[0;31mZeroDivisionError\u001b[0m                         Traceback (most recent call last)",
      "\u001b[0;32m<ipython-input-8-7e25f9098d79>\u001b[0m in \u001b[0;36m<module>\u001b[0;34m\u001b[0m\n\u001b[1;32m      5\u001b[0m \u001b[0mw\u001b[0m \u001b[0;34m=\u001b[0m \u001b[0mdividir\u001b[0m\u001b[0;34m(\u001b[0m\u001b[0;36m5\u001b[0m\u001b[0;34m,\u001b[0m \u001b[0mr\u001b[0m\u001b[0;34m)\u001b[0m\u001b[0;34m\u001b[0m\u001b[0m\n\u001b[1;32m      6\u001b[0m \u001b[0mprint\u001b[0m\u001b[0;34m(\u001b[0m\u001b[0mw\u001b[0m\u001b[0;34m)\u001b[0m\u001b[0;34m\u001b[0m\u001b[0m\n\u001b[0;32m----> 7\u001b[0;31m \u001b[0mz\u001b[0m \u001b[0;34m=\u001b[0m \u001b[0mdividir\u001b[0m\u001b[0;34m(\u001b[0m\u001b[0;36m5\u001b[0m\u001b[0;34m,\u001b[0m \u001b[0mr\u001b[0m \u001b[0;34m-\u001b[0m \u001b[0;36m4\u001b[0m\u001b[0;34m)\u001b[0m\u001b[0;34m\u001b[0m\u001b[0m\n\u001b[0m\u001b[1;32m      8\u001b[0m \u001b[0mprint\u001b[0m\u001b[0;34m(\u001b[0m\u001b[0mz\u001b[0m\u001b[0;34m)\u001b[0m\u001b[0;34m\u001b[0m\u001b[0m\n",
      "\u001b[0;32m<ipython-input-8-7e25f9098d79>\u001b[0m in \u001b[0;36mdividir\u001b[0;34m(x, y)\u001b[0m\n\u001b[1;32m      1\u001b[0m \u001b[0;32mdef\u001b[0m \u001b[0mdividir\u001b[0m\u001b[0;34m(\u001b[0m\u001b[0mx\u001b[0m\u001b[0;34m,\u001b[0m \u001b[0my\u001b[0m\u001b[0;34m)\u001b[0m\u001b[0;34m:\u001b[0m\u001b[0;34m\u001b[0m\u001b[0m\n\u001b[0;32m----> 2\u001b[0;31m     \u001b[0;32mreturn\u001b[0m \u001b[0mx\u001b[0m \u001b[0;34m/\u001b[0m \u001b[0my\u001b[0m\u001b[0;34m\u001b[0m\u001b[0m\n\u001b[0m\u001b[1;32m      3\u001b[0m \u001b[0;34m\u001b[0m\u001b[0m\n\u001b[1;32m      4\u001b[0m \u001b[0mr\u001b[0m \u001b[0;34m=\u001b[0m \u001b[0;36m4\u001b[0m\u001b[0;34m\u001b[0m\u001b[0m\n\u001b[1;32m      5\u001b[0m \u001b[0mw\u001b[0m \u001b[0;34m=\u001b[0m \u001b[0mdividir\u001b[0m\u001b[0;34m(\u001b[0m\u001b[0;36m5\u001b[0m\u001b[0;34m,\u001b[0m \u001b[0mr\u001b[0m\u001b[0;34m)\u001b[0m\u001b[0;34m\u001b[0m\u001b[0m\n",
      "\u001b[0;31mZeroDivisionError\u001b[0m: division by zero"
     ]
    }
   ],
   "source": [
    "def dividir(x, y):\n",
    "    return x / y\n",
    "\n",
    "r = 4\n",
    "w = dividir(5, r)\n",
    "print(w)\n",
    "z = dividir(5, r - 4)\n",
    "print(z)"
   ]
  },
  {
   "cell_type": "markdown",
   "metadata": {},
   "source": [
    "Aquí el error no es que la función `dividir` esté mal escrita (si bien es ahí donde se levanta la excepción), sino el **uso** que se le da a la función de acuerdo a los parámetros que se le entregan. En el primer llamado se le entregan parámetros \"sanos\", sin embargo en el segundo llamado se le entregan valores que generan la excepción (¿podríamos haberlo sabido antes de llamar a `dividir`?). Este tipo de error es únicamente detectable en tiempo de ejecución, ya que con solo leer la función `dividir` no podemos saber si en algún momento será llamada con un valor de `y` que sea `0`.\n",
    "\n",
    "La función no es robusta, sin embargo cuando aprendamos de detectar y manejar excepciones podremos hacer algo al respecto."
   ]
  },
  {
   "cell_type": "markdown",
   "metadata": {},
   "source": [
    "## `IndexError`\n",
    "\n",
    "Se lanza cuando existe una indexación fuera de rango, es decir, un acceso a un índice no válido.\n",
    "\n",
    "El error más típico es referenciar un elemento dentro de una lista (o tupla, o alguna estructura indexable) con un índice que excede los valores válidos acorde la cantidad de objetos que contiene dicha la estructura. Hay que recordar que en Python estructuras como las listas siempre se indexan desde `0` hasta `len(lista) - 1`."
   ]
  },
  {
   "cell_type": "code",
   "execution_count": 9,
   "metadata": {},
   "outputs": [
    {
     "ename": "IndexError",
     "evalue": "tuple index out of range",
     "output_type": "error",
     "traceback": [
      "\u001b[0;31m---------------------------------------------------------------------------\u001b[0m",
      "\u001b[0;31mIndexError\u001b[0m                                Traceback (most recent call last)",
      "\u001b[0;32m<ipython-input-9-5ddb5628be79>\u001b[0m in \u001b[0;36m<module>\u001b[0;34m\u001b[0m\n\u001b[1;32m      1\u001b[0m \u001b[0medad\u001b[0m \u001b[0;34m=\u001b[0m \u001b[0;34m(\u001b[0m\u001b[0;36m36\u001b[0m\u001b[0;34m,\u001b[0m \u001b[0;36m23\u001b[0m\u001b[0;34m,\u001b[0m \u001b[0;36m12\u001b[0m\u001b[0;34m)\u001b[0m\u001b[0;34m\u001b[0m\u001b[0m\n\u001b[0;32m----> 2\u001b[0;31m \u001b[0medad\u001b[0m\u001b[0;34m[\u001b[0m\u001b[0;36m3\u001b[0m\u001b[0;34m]\u001b[0m\u001b[0;34m\u001b[0m\u001b[0m\n\u001b[0m",
      "\u001b[0;31mIndexError\u001b[0m: tuple index out of range"
     ]
    }
   ],
   "source": [
    "edad = (36, 23, 12)\n",
    "edad[3]"
   ]
  },
  {
   "cell_type": "markdown",
   "metadata": {},
   "source": [
    "## `KeyError`\n",
    "\n",
    "Esta excepción alerta sobre el uso incorrecto o inválido de llaves (*keys*) en diccionarios, similarmente a `IndexError` en listas.\n",
    "\n",
    "En el ejemplo a continuación, el usuario pide un dato asociado a una llave inexistente en el diccionario. Al no existir, se levanta la excepción (podríamos haber usado `defaultdict`)."
   ]
  },
  {
   "cell_type": "code",
   "execution_count": 10,
   "metadata": {},
   "outputs": [
    {
     "ename": "KeyError",
     "evalue": "'editorial'",
     "output_type": "error",
     "traceback": [
      "\u001b[0;31m---------------------------------------------------------------------------\u001b[0m",
      "\u001b[0;31mKeyError\u001b[0m                                  Traceback (most recent call last)",
      "\u001b[0;32m<ipython-input-10-e44fe2bacced>\u001b[0m in \u001b[0;36m<module>\u001b[0;34m\u001b[0m\n\u001b[1;32m      2\u001b[0m          \"páginas\": 9877}\n\u001b[1;32m      3\u001b[0m \u001b[0;34m\u001b[0m\u001b[0m\n\u001b[0;32m----> 4\u001b[0;31m \u001b[0mlibro\u001b[0m\u001b[0;34m[\u001b[0m\u001b[0;34m\"editorial\"\u001b[0m\u001b[0;34m]\u001b[0m\u001b[0;34m\u001b[0m\u001b[0m\n\u001b[0m",
      "\u001b[0;31mKeyError\u001b[0m: 'editorial'"
     ]
    }
   ],
   "source": [
    "libro = {\"autor\": \"Juanito Los Palotes\",\n",
    "         \"páginas\": 9877}\n",
    "\n",
    "libro[\"editorial\"]"
   ]
  },
  {
   "cell_type": "markdown",
   "metadata": {},
   "source": [
    "## `AttributeError`\n",
    "\n",
    "Esta excepción alerta sobre el uso incorrecto de métodos o atributos de una clase o tipo de dato.\n",
    "\n",
    "En este ejemplo, la clase `Auto` ha definido el método avanzar. Sin embargo, el usuario ejecuta el método `frenar()` que no existe en ella."
   ]
  },
  {
   "cell_type": "code",
   "execution_count": 11,
   "metadata": {},
   "outputs": [
    {
     "ename": "AttributeError",
     "evalue": "'Auto' object has no attribute 'frenar'",
     "output_type": "error",
     "traceback": [
      "\u001b[0;31m---------------------------------------------------------------------------\u001b[0m",
      "\u001b[0;31mAttributeError\u001b[0m                            Traceback (most recent call last)",
      "\u001b[0;32m<ipython-input-11-de0863a6069f>\u001b[0m in \u001b[0;36m<module>\u001b[0;34m\u001b[0m\n\u001b[1;32m      9\u001b[0m \u001b[0;34m\u001b[0m\u001b[0m\n\u001b[1;32m     10\u001b[0m \u001b[0mchevi\u001b[0m \u001b[0;34m=\u001b[0m \u001b[0mAuto\u001b[0m\u001b[0;34m(\u001b[0m\u001b[0;34m)\u001b[0m\u001b[0;34m\u001b[0m\u001b[0m\n\u001b[0;32m---> 11\u001b[0;31m \u001b[0mchevi\u001b[0m\u001b[0;34m.\u001b[0m\u001b[0mfrenar\u001b[0m\u001b[0;34m(\u001b[0m\u001b[0;34m)\u001b[0m\u001b[0;34m\u001b[0m\u001b[0m\n\u001b[0m",
      "\u001b[0;31mAttributeError\u001b[0m: 'Auto' object has no attribute 'frenar'"
     ]
    }
   ],
   "source": [
    "class Auto:\n",
    "    \n",
    "    def __init__(self, puertas=4):\n",
    "        self.puertas = puertas\n",
    "        \n",
    "    def avanzar(self):\n",
    "        print(\"avanzando\")\n",
    "\n",
    "        \n",
    "chevi = Auto()\n",
    "chevi.frenar()"
   ]
  },
  {
   "cell_type": "markdown",
   "metadata": {},
   "source": [
    "## `TypeError`\n",
    "\n",
    "Esta excepción indica que hubo un manejo erróneo de **tipos** de datos. Es decir, cuando se intenta ejecutar una operación o función con un argumento que no pertenece al tipo correcto para la ejecución.\n",
    "\n",
    "Un error común es concatenar una lista con algo que no es del tipo `list`. En este ejemplo, la función está definida como la suma de variables, sin embargo, debido al *duck-typing*, el operador `+` se comporta distinto de acuerdo a los tipos de los datos que recibe."
   ]
  },
  {
   "cell_type": "code",
   "execution_count": 12,
   "metadata": {},
   "outputs": [
    {
     "name": "stdout",
     "output_type": "stream",
     "text": [
      "63\n",
      "[36, 23, 12, 40, 25]\n"
     ]
    },
    {
     "ename": "TypeError",
     "evalue": "unsupported operand type(s) for +: 'int' and 'list'",
     "output_type": "error",
     "traceback": [
      "\u001b[0;31m---------------------------------------------------------------------------\u001b[0m",
      "\u001b[0;31mTypeError\u001b[0m                                 Traceback (most recent call last)",
      "\u001b[0;32m<ipython-input-12-a0712946a58b>\u001b[0m in \u001b[0;36m<module>\u001b[0;34m\u001b[0m\n\u001b[1;32m      7\u001b[0m \u001b[0mprint\u001b[0m\u001b[0;34m(\u001b[0m\u001b[0mjuntar\u001b[0m\u001b[0;34m(\u001b[0m\u001b[0medades\u001b[0m\u001b[0;34m[\u001b[0m\u001b[0;36m1\u001b[0m\u001b[0;34m]\u001b[0m\u001b[0;34m,\u001b[0m \u001b[0mmas_edades\u001b[0m\u001b[0;34m[\u001b[0m\u001b[0;36m0\u001b[0m\u001b[0;34m]\u001b[0m\u001b[0;34m)\u001b[0m\u001b[0;34m)\u001b[0m\u001b[0;34m\u001b[0m\u001b[0m\n\u001b[1;32m      8\u001b[0m \u001b[0mprint\u001b[0m\u001b[0;34m(\u001b[0m\u001b[0mjuntar\u001b[0m\u001b[0;34m(\u001b[0m\u001b[0medades\u001b[0m\u001b[0;34m,\u001b[0m \u001b[0mmas_edades\u001b[0m\u001b[0;34m)\u001b[0m\u001b[0;34m)\u001b[0m\u001b[0;34m\u001b[0m\u001b[0m\n\u001b[0;32m----> 9\u001b[0;31m \u001b[0mprint\u001b[0m\u001b[0;34m(\u001b[0m\u001b[0mjuntar\u001b[0m\u001b[0;34m(\u001b[0m\u001b[0;36m2\u001b[0m\u001b[0;34m,\u001b[0m \u001b[0medades\u001b[0m\u001b[0;34m)\u001b[0m\u001b[0;34m)\u001b[0m\u001b[0;34m\u001b[0m\u001b[0m\n\u001b[0m",
      "\u001b[0;32m<ipython-input-12-a0712946a58b>\u001b[0m in \u001b[0;36mjuntar\u001b[0;34m(x, y)\u001b[0m\n\u001b[1;32m      1\u001b[0m \u001b[0;32mdef\u001b[0m \u001b[0mjuntar\u001b[0m\u001b[0;34m(\u001b[0m\u001b[0mx\u001b[0m\u001b[0;34m,\u001b[0m \u001b[0my\u001b[0m\u001b[0;34m)\u001b[0m\u001b[0;34m:\u001b[0m\u001b[0;34m\u001b[0m\u001b[0m\n\u001b[0;32m----> 2\u001b[0;31m     \u001b[0;32mreturn\u001b[0m \u001b[0mx\u001b[0m \u001b[0;34m+\u001b[0m \u001b[0my\u001b[0m\u001b[0;34m\u001b[0m\u001b[0m\n\u001b[0m\u001b[1;32m      3\u001b[0m \u001b[0;34m\u001b[0m\u001b[0m\n\u001b[1;32m      4\u001b[0m \u001b[0;34m\u001b[0m\u001b[0m\n\u001b[1;32m      5\u001b[0m \u001b[0medades\u001b[0m \u001b[0;34m=\u001b[0m \u001b[0;34m[\u001b[0m\u001b[0;36m36\u001b[0m\u001b[0;34m,\u001b[0m \u001b[0;36m23\u001b[0m\u001b[0;34m,\u001b[0m \u001b[0;36m12\u001b[0m\u001b[0;34m]\u001b[0m\u001b[0;34m\u001b[0m\u001b[0m\n",
      "\u001b[0;31mTypeError\u001b[0m: unsupported operand type(s) for +: 'int' and 'list'"
     ]
    }
   ],
   "source": [
    "def juntar(x, y):\n",
    "    return x + y\n",
    "\n",
    "\n",
    "edades = [36, 23, 12]\n",
    "mas_edades = [40, 25]\n",
    "print(juntar(edades[1], mas_edades[0]))\n",
    "print(juntar(edades, mas_edades))\n",
    "print(juntar(2, edades))"
   ]
  },
  {
   "cell_type": "markdown",
   "metadata": {},
   "source": [
    "Podemos observar que en el primer llamado el operador `+` recibió dos `int` por lo tanto se comportó como una suma aritmética. En el segundo llamado, el operador `+` recibió dos `list` por lo tanto se comportó como una concatenación de listas. Sin embargo, en el tercer caso recibió `int` y `list`, y no estaba definido qué hacer con ese tipo de operandos."
   ]
  },
  {
   "cell_type": "markdown",
   "metadata": {},
   "source": [
    "## `ValueError`\n",
    "\n",
    "Esta excepción indica que hubo un manejo erróneo de **valor** de datos. Es decir, cuando se intenta ejecutar una operación o función con un argumento cuyo **valor no era apropiado** para la ejecución esperada.\n",
    "\n",
    "Podemos encontrar este tipo de error en múltiples funciones conocidas. Por ejemplo, los *strings* de Python tienen el método `split` que permite separar la cadena de texto según algún separador que recibe como argumento:"
   ]
  },
  {
   "cell_type": "code",
   "execution_count": 13,
   "metadata": {},
   "outputs": [
    {
     "data": {
      "text/plain": [
       "['Mi', 'string', 'separable', 'por', 'espacios']"
      ]
     },
     "execution_count": 13,
     "metadata": {},
     "output_type": "execute_result"
    }
   ],
   "source": [
    "'Mi string separable por espacios'.split(' ')"
   ]
  },
  {
   "cell_type": "code",
   "execution_count": 14,
   "metadata": {},
   "outputs": [
    {
     "ename": "ValueError",
     "evalue": "empty separator",
     "output_type": "error",
     "traceback": [
      "\u001b[0;31m---------------------------------------------------------------------------\u001b[0m",
      "\u001b[0;31mValueError\u001b[0m                                Traceback (most recent call last)",
      "\u001b[0;32m<ipython-input-14-e55159099475>\u001b[0m in \u001b[0;36m<module>\u001b[0;34m\u001b[0m\n\u001b[0;32m----> 1\u001b[0;31m \u001b[0;34m'Mi string separable por espacios'\u001b[0m\u001b[0;34m.\u001b[0m\u001b[0msplit\u001b[0m\u001b[0;34m(\u001b[0m\u001b[0;34m''\u001b[0m\u001b[0;34m)\u001b[0m\u001b[0;34m\u001b[0m\u001b[0m\n\u001b[0m",
      "\u001b[0;31mValueError\u001b[0m: empty separator"
     ]
    }
   ],
   "source": [
    "'Mi string separable por espacios'.split('')"
   ]
  },
  {
   "cell_type": "markdown",
   "metadata": {},
   "source": [
    "Si a esta función le entregamos como argumento un *string* vacío, arroja `ValueError` debido a que necesita que este tenga contenido para lograr separar una palabra.\n",
    "\n",
    "Otro ejemplo es el método `remove` de listas de Python, este recibe un elemento que remover de la lista y de encontrarlo, lo hace:"
   ]
  },
  {
   "cell_type": "code",
   "execution_count": 15,
   "metadata": {},
   "outputs": [
    {
     "data": {
      "text/plain": [
       "[1, 2, 4, 5]"
      ]
     },
     "execution_count": 15,
     "metadata": {},
     "output_type": "execute_result"
    }
   ],
   "source": [
    "lista = [1, 2, 3, 4, 5]\n",
    "lista.remove(3)\n",
    "lista"
   ]
  },
  {
   "cell_type": "code",
   "execution_count": 16,
   "metadata": {},
   "outputs": [
    {
     "ename": "ValueError",
     "evalue": "list.remove(x): x not in list",
     "output_type": "error",
     "traceback": [
      "\u001b[0;31m---------------------------------------------------------------------------\u001b[0m",
      "\u001b[0;31mValueError\u001b[0m                                Traceback (most recent call last)",
      "\u001b[0;32m<ipython-input-16-6b4f35259f22>\u001b[0m in \u001b[0;36m<module>\u001b[0;34m\u001b[0m\n\u001b[1;32m      1\u001b[0m \u001b[0mlista\u001b[0m \u001b[0;34m=\u001b[0m \u001b[0;34m[\u001b[0m\u001b[0;36m1\u001b[0m\u001b[0;34m,\u001b[0m \u001b[0;36m2\u001b[0m\u001b[0;34m,\u001b[0m \u001b[0;36m3\u001b[0m\u001b[0;34m,\u001b[0m \u001b[0;36m4\u001b[0m\u001b[0;34m,\u001b[0m \u001b[0;36m5\u001b[0m\u001b[0;34m]\u001b[0m\u001b[0;34m\u001b[0m\u001b[0m\n\u001b[0;32m----> 2\u001b[0;31m \u001b[0mlista\u001b[0m\u001b[0;34m.\u001b[0m\u001b[0mremove\u001b[0m\u001b[0;34m(\u001b[0m\u001b[0;36m6\u001b[0m\u001b[0;34m)\u001b[0m\u001b[0;34m\u001b[0m\u001b[0m\n\u001b[0m\u001b[1;32m      3\u001b[0m \u001b[0mlista\u001b[0m\u001b[0;34m\u001b[0m\u001b[0m\n",
      "\u001b[0;31mValueError\u001b[0m: list.remove(x): x not in list"
     ]
    }
   ],
   "source": [
    "lista = [1, 2, 3, 4, 5]\n",
    "lista.remove(6)\n",
    "lista"
   ]
  },
  {
   "cell_type": "markdown",
   "metadata": {},
   "source": [
    "En el último caso, si se le entrega un elemento que no existe en la lista, arroja `ValueError` debido a que necesita a que el elemento esté en la lista para removerlo. A diferencia del ejemplo anterior, el error no era intrinseco del valor del argumento, si no que era específico a la lista que llamó el método. Al llamar `remove(6)` de una lista que si contiene un `6`, no hubiera arrojado un error. Para `remove` el valor no era apropiado para la instancia que llamaba al método, mientras que el ejemplo de `split` el valor no era apropiado para ningún caso de llamado.\n",
    "\n",
    "Es importante notar la sutil diferencia entre `ValueError` y `TypeError`. De cierta forma, todo `TypeError` es un `ValueError`, ya que detecta problemas del tipo de un argumento, que inherentemente habla del valor recibido, pero no todo `ValueError` es un `TypeError`. Prueba de esto último fueron los últimos dos ejemplos, donde los argumentos tenian un tipo apropiado para el contexto, pero no el valor.\n",
    "\n",
    "Pero si todo `TypeError` es un `ValueError`, ¿por qué definir y usar ambos? La respuesta radica a que es más conveniente siempre tener la mayor información posible sobre las excepciones que se lancen. `TypeError` es un caso específico de `ValueError`, y por lo tanto aporta más información sobre el problema que ocurrió en la ejecución del código, y por lo tanto, ayuda más a manejarlo después. `ValueError` es un error bastante genérico, y ocurre cada vez que se **espera** que el *input* recibido cumpla cierta propiedad y no lo hace."
   ]
  }
 ],
 "metadata": {
  "kernelspec": {
   "display_name": "Python 3",
   "language": "python",
   "name": "python3"
  },
  "language_info": {
   "codemirror_mode": {
    "name": "ipython",
    "version": 3
   },
   "file_extension": ".py",
   "mimetype": "text/x-python",
   "name": "python",
   "nbconvert_exporter": "python",
   "pygments_lexer": "ipython3",
   "version": "3.6.6"
  }
 },
 "nbformat": 4,
 "nbformat_minor": 1
}
