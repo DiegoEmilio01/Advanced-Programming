{
 "cells": [
  {
   "cell_type": "markdown",
   "metadata": {},
   "source": [
    "# Ejercicios propuestos: Estructuras nodales II"
   ]
  },
  {
   "cell_type": "markdown",
   "metadata": {},
   "source": [
    "Los siguientes problemas se dejan como opción para ejercitar los conceptos revisados en la segunda parte sobre estructuras nodales (semana 10). Si tienes dudas sobre algún problema o alguna solución, no dudes en dejar una issue en el foro del curso.\n"
   ]
  },
  {
   "cell_type": "markdown",
   "metadata": {},
   "source": [
    "Este conjunto de ejercicios es acumulativo y construyen sobre la misma base.\n",
    "\n",
    "Primero, se te entrega la siguinte lista de tuplas que representa las conexiones entre los nodos de un grafo. Donde la tupla se lee cómo: el primer valor tiene una conexion con el segundo valor (`(x, y)` es equivalente a la conexión `x -> y`)."
   ]
  },
  {
   "cell_type": "code",
   "execution_count": null,
   "metadata": {},
   "outputs": [],
   "source": [
    "conexiones = [(1, 2), (2, 3), (3, 2), (3, 4), (3, 5), (4, 5), (1, 6), (2, 7), (7, 10), (7, 11), (6, 8), (6, 9)]"
   ]
  },
  {
   "cell_type": "markdown",
   "metadata": {},
   "source": [
    "### Ejercicio 1: Listas de adyacencia\n",
    "\n",
    "Escriba el grafo anterior en representación de listas de adyacencia. Específicamente, como un diccionario en donde cada llave del diccionario es el valor de un nodo, y el valor asociado del diccionario, es una lista de adyacencia para el nodo ascodiado en la llave."
   ]
  },
  {
   "cell_type": "code",
   "execution_count": null,
   "metadata": {},
   "outputs": [],
   "source": [
    "grafo = dict()\n",
    "\n",
    "\n",
    "# rellenar aquí para poblar el grafo\n",
    "\n",
    "\n",
    "for nodo in grafo:\n",
    "    print(f\"{nodo} -> {grafo[nodo]}\")"
   ]
  },
  {
   "cell_type": "markdown",
   "metadata": {},
   "source": [
    "### Ejercicio 2: Representación nodal\n",
    "\n",
    "Escriba el grafo anterior en su representación nodal utilizando clases para tanto nodos como el grafo completo. Al tratarse de representación **nodal**, la clase `Nodo` es quien maneja las conexiones a los vecinos respectivos. Por otro lado, la clase `Grafo` almanecena los nodos y los manipula. \n",
    "\n",
    "Tu implementación debe tener: \n",
    "- un método `crear_nodo(valor)` el cual crea una instancia de la clase `Nodo` con su valor respectivo;\n",
    "- un método `agregar_conexion(valor_origen, valor_destino)` que crea en el nodo cuyo valor es `valor_origen` una conexion hacia el nodo cuyo valor es `valor_destino` en el grafo, y en caso de que alguno de los nodos asociados a `valor_origen` o `valor_destino` no existan previamente en el grafo, los debe crear y agregar;\n",
    "- y un método `imprimir_grafo()` que imprime al grafo con sus respectivas conexiones."
   ]
  },
  {
   "cell_type": "code",
   "execution_count": null,
   "metadata": {},
   "outputs": [],
   "source": [
    "class Nodo:\n",
    "\n",
    "    def __init__(self, valor):\n",
    "        self.valor = valor\n",
    "        # ¿algo más?\n",
    "        \n",
    "    def agregar_arista(self, nodo):\n",
    "        # Implementar\n",
    "        pass\n",
    "\n",
    "    \n",
    "    def __repr__(self):\n",
    "        return f'{self.valor}'\n",
    "\n",
    "class Grafo:\n",
    "\n",
    "    def __init__(self):\n",
    "        # Implementar\n",
    "        pass\n",
    "\n",
    "    def crear_nodo(self, valor):\n",
    "        # Implementar\n",
    "        pass\n",
    "\n",
    "    def agregar_conexion(self, valor_origen, valor_destino):\n",
    "        # Implementar\n",
    "        pass\n",
    "\n",
    "    def imprimir_grafo(self):\n",
    "        # Implementar\n",
    "        pass\n",
    "    \n",
    "            \n",
    "grafo = Grafo()\n",
    "\n",
    "for conexion in conexiones:\n",
    "    origen, destino = conexion\n",
    "    grafo.agregar_conexion(origen, destino)\n",
    "\n",
    "grafo.imprimir_grafo()"
   ]
  },
  {
   "cell_type": "markdown",
   "metadata": {},
   "source": [
    "### Ejercicio 3: Extender representación nodal\n",
    "\n",
    "Este ejercicio tiene por objetivo extender la clase de grafo implementada en el ejercicio anterior método por método. Luego de este enunciado puedes encontrar código para probar sobre tus implementaciones.\n",
    "\n",
    "#### Parte 1: BFS\n",
    "\n",
    "Extiende la clase `Grafo` anterior e implemente el método `recorrer_bfs()` para recorrer el grafo usando BFS desde algún nodo y que retorna una lista con los nodos visitados en orden.\n",
    "\n",
    "\n",
    "#### Parte 2: DFS\n",
    "\n",
    "Extiende la clase `Grafo` anterior e implemente el método `recorrer_dfs()` para recorrer el grafo usando DFS desde algún nodo y que retorna una lista con los nodos visitados en orden.\n",
    "\n",
    "\n",
    "#### Parte 3: Buscando mínimo\n",
    "\n",
    "Extiende la clase `Grafo` anterior e implemente el método `encontrar_minimo()` para encontrar el nodo con valor mínimo en el grafo y que retorne su valor.\n",
    "\n",
    "\n",
    "#### Parte 4: Encontrando caminos\n",
    "\n",
    "Extiende la clase `Grafo` anterior e implemente el método `existe_camino(valor_origen, valor_destino)` que retorne `True` si existe el camino entre el nodo cuyo valor es `valor_origen` al nodo cuyo valor es `valor_destino`, `False` en el caso contrario.\n",
    "\n",
    "*Hint*: Puedes reutilizar el código de la Parte 1 o 2 y alterarla para lograrlo, o hacer una solución recursiva.\n",
    "\n",
    "#### Parte 5: Encontrando distancia\n",
    "\n",
    "Extiende la clase `Grafo` anterior e implemente el método `distancia_entre(valor_origen, valor_destino)` que retorne un `int` con la distancia entre los nodos origen (cuyo valor es `valor_origen`) y destinto (cuyo valor es `valor_destino`). Asume que cada conexión en el grafo es de distancia 1, por lo tanto: la distancia desde un nodo hasta el mismo nodo es 0, la distancia entre un nodo y uno de sus vecinos es 1, la distancia entre un nodo y alguno de los vecinos de sus vecinos es 2 (a menos de que también sea vecino suyo o si mismo), etc...\n",
    "\n",
    "*Hint*: De forma similar a los anteriores, puedes usar el código de uno de los algoritmos de navegación y alterarlo para lograr el objetivo, pero uno puede que te sirva más que el otro. **¿Cuál?**\n",
    "\n",
    "\n",
    "#### Parte 6: Encontrando ciclos\n",
    "\n",
    "Extiende la clase `Grafo` anterior e implemente el método `existe_ciclo()` que retorne `True` si existe un ciclo en el grafo, y `False` en caso contrario. Considera un ciclo en este caso sin considerar la dirección de las conexiones del grafo, es decir, existe un ciclo si hay más de una forma de llegar a un nodo mediante navegación.\n",
    "\n",
    "*Hint*: Puedes reutilizar el código de la Parte 1 o 2 y alterarla para lograrlo, o hacer una solución recursiva.\n",
    "\n"
   ]
  },
  {
   "cell_type": "code",
   "execution_count": null,
   "metadata": {},
   "outputs": [],
   "source": [
    "grafo = Grafo()\n",
    "\n",
    "for conexion in conexiones:\n",
    "    origen, destino = conexion\n",
    "    grafo.agregar_conexion(origen, destino)\n",
    "    \n",
    "\n",
    "# Parte 1\n",
    "print(\"Parte 1\")\n",
    "print(grafo.recorrer_bfs())\n",
    "\n",
    "# Parte 2\n",
    "print(\"Parte 2\")\n",
    "print(grafo.recorrer_dfs())\n",
    "\n",
    "# Parte 3\n",
    "print(\"Parte 3\")\n",
    "print(grafo.encontrar_minimo())\n",
    "\n",
    "# Parte 4\n",
    "print(\"Parte 4\")\n",
    "print(grafo.existe_camino(3, 5))\n",
    "print(grafo.existe_camino(10, 12))\n",
    "\n",
    "# Parte 5\n",
    "print(\"Parte 5\")\n",
    "print(grafo.distancia_entre(1, 11))\n",
    "\n",
    "# Parte 6\n",
    "print(\"Parte 6\")\n",
    "print(grafo.existe_ciclo())"
   ]
  }
 ],
 "metadata": {
  "kernelspec": {
   "display_name": "Python 3",
   "language": "python",
   "name": "python3"
  },
  "language_info": {
   "codemirror_mode": {
    "name": "ipython",
    "version": 3
   },
   "file_extension": ".py",
   "mimetype": "text/x-python",
   "name": "python",
   "nbconvert_exporter": "python",
   "pygments_lexer": "ipython3",
   "version": "3.6.6"
  }
 },
 "nbformat": 4,
 "nbformat_minor": 2
}
