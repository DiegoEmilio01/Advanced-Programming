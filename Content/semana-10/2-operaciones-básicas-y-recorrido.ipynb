{
 "cells": [
  {
   "cell_type": "markdown",
   "metadata": {},
   "source": [
    "## Operaciones básicas en grafos\n",
    "\n",
    "Las operaciones básicas que implementan estas estructuras de datos para un grafo `G` son:\n",
    "\n",
    "**`adyacentes(G, x, y)`** verifica que exista una arista entre `x` e `y`.\n",
    "\n",
    "**`vecinos(G, x)`** entrega una lista con todos los vértices `y` tales que existe una arista entre `x` e `y`.\n",
    "\n",
    "**`agregar_vertice(G, x)`** agrega el vértice `x`.\n",
    "\n",
    "**`remover_vertice(G, x)`** remueve el vértice `x`.\n",
    "\n",
    "**`agregar_arista(G, x, y)`** agrega una arista entre los vértices `x` e `y`.\n",
    "\n",
    "**`remover_arista(G, x, y)`** remueve la arista entre `x` e `y`."
   ]
  },
  {
   "cell_type": "markdown",
   "metadata": {},
   "source": [
    "Además de las operaciones mencionadas anteriormente, se pueden implementar funciones para obtener y fijar valores de vertices o aristas en el grafo. Estas no son consideradas necesariamente operaciones básicas de grafos, ya que su implementación depende fuertemente de la modelación y estructura utilizada. Utilizaremos las listadas como las básicas para el siguiente ejemplo."
   ]
  },
  {
   "cell_type": "markdown",
   "metadata": {},
   "source": [
    "## Ejemplo\n",
    "\n",
    "Supongamos que quieres representar a tus amigos como un grafo. **Cada nodo sería una persona**, y cada vez que un nodo $A$ se conecte con un nodo $B$ significa que **$A$ considera que $B$ es su amigo 😄**. No siempre esta relación es simétrica; es decir, no siempre nuestros amigos creen que somos sus amigos. De hecho, cerca de la mitad de las personas que consideramos nuestros amigos no nos consideran amigos suyos 😢 ([comprobado cientificamente](http://www.nytimes.com/2016/08/07/opinion/sunday/do-your-friends-actually-like-you.html)). Por lo tanto el grafo que tendremos que representar es un **grafo dirigido**.\n",
    "\n",
    "Partamos con la clase `Persona`."
   ]
  },
  {
   "cell_type": "code",
   "execution_count": 1,
   "metadata": {},
   "outputs": [],
   "source": [
    "class Persona:\n",
    "\n",
    "    def __init__(self, nombre, edad):\n",
    "        self.nombre = nombre\n",
    "        self.edad = edad\n",
    "\n",
    "    def __repr__(self):\n",
    "        return self.nombre"
   ]
  },
  {
   "cell_type": "markdown",
   "metadata": {},
   "source": [
    "Como dijimos, cada nodo es una persona. Para esto tenemos dos posibilidades: cada nodo tiene como valor a un objeto del tipo `Persona`, o cada Persona es un nodo en el grafo. Para este ejemplo, crearemos una clase `Nodo` cuyo valor sea del tipo `Persona`. Esto simplemente es una decisión de modelación, donde `Nodo` es la clase para encapsular posibles valores, e independizarlo del tipo del valor que contiene, que en este caso son de la clase `Persona`."
   ]
  },
  {
   "cell_type": "code",
   "execution_count": 2,
   "metadata": {},
   "outputs": [],
   "source": [
    "class Nodo:\n",
    "\n",
    "    def __init__(self, valor):\n",
    "        self.valor = valor\n",
    "        \n",
    "    def __repr__(self):\n",
    "        return repr(self.valor)"
   ]
  },
  {
   "cell_type": "markdown",
   "metadata": {},
   "source": [
    "Ahora definimos la clase `Grafo`, sobre la cual realizaremos nuestras operaciones."
   ]
  },
  {
   "cell_type": "code",
   "execution_count": 3,
   "metadata": {},
   "outputs": [],
   "source": [
    "class Grafo:\n",
    "\n",
    "    def __init__(self, lista_adyacencia=None):\n",
    "        self.lista_adyacencia = dict() if lista_adyacencia is None else lista_adyacencia\n",
    "\n",
    "    def adyacentes(self, x, y):\n",
    "        return y in self.lista_adyacencia[x]\n",
    "\n",
    "    def vecinos(self, x):\n",
    "        return self.lista_adyacencia[x]\n",
    "\n",
    "    def agregar_vertice(self, x):\n",
    "        self.lista_adyacencia[x] = set()\n",
    "\n",
    "    def remover_vertice(self, x):\n",
    "        self.lista_adyacencia.pop(x, None)\n",
    "        for k, v in self.lista_adyacencia.items():\n",
    "            if x in v:\n",
    "                v.remove(x)\n",
    "\n",
    "    def agregar_arista(self, x, y):\n",
    "        if x in self.lista_adyacencia:\n",
    "            self.lista_adyacencia[x].add(y)\n",
    "\n",
    "    def remover_arista(self, x, y):\n",
    "        vecinos_x = self.lista_adyacencia.get(x, set())\n",
    "        if y in vecinos_x:\n",
    "            vecinos_x.remove(y)\n",
    "\n",
    "    def __repr__(self):\n",
    "        texto_nodos = []\n",
    "        for nodo, vecinos in self.lista_adyacencia.items():\n",
    "            texto_nodos.append(f\"Amigos de {nodo}: {vecinos}.\")\n",
    "        return \"\\n\".join(texto_nodos)"
   ]
  },
  {
   "cell_type": "markdown",
   "metadata": {},
   "source": [
    "Veamos cómo se llevan algunos ayudantes del curso.  \n",
    "(*Las opiniones vertidas en éste código son de exclusiva responsabilidad de quienes coordinaron el curso en el 2017-1 (a.k.a. Bastián) y no representan necesariamente el pensamiento de quien programó este código.*)"
   ]
  },
  {
   "cell_type": "code",
   "execution_count": 4,
   "metadata": {},
   "outputs": [
    {
     "data": {
      "text/plain": [
       "Amigos de Bastián: {Ivania, Antonio, Florencia B, Matías, Florencia V, Freddie}.\n",
       "Amigos de Florencia V: {Ivania, Freddie, Florencia B}.\n",
       "Amigos de Antonio: {Florencia V, Ivania, Matías}.\n",
       "Amigos de Matías: {Freddie, Antonio}.\n",
       "Amigos de Florencia B: {Florencia V, Ivania, Matías, Antonio}.\n",
       "Amigos de Ivania: {Florencia V, Freddie, Florencia B, Antonio}."
      ]
     },
     "execution_count": 4,
     "metadata": {},
     "output_type": "execute_result"
    }
   ],
   "source": [
    "# Creamos a nuestros ayudantes y los guardamos en nodos.\n",
    "bamavrakis = Nodo(Persona(\"Bastián\", 15))\n",
    "fvr1 = Nodo(Persona(\"Florencia V\", 20))\n",
    "aaossa = Nodo(Persona(\"Antonio\", 21))\n",
    "flobarrios = Nodo(Persona(\"Florencia B\", 20))\n",
    "mjjunemann = Nodo(Persona(\"Matías\", 20))\n",
    "fgvenegas = Nodo(Persona(\"Freddie\", 10))\n",
    "indonoso = Nodo(Persona(\"Ivania\", 22))\n",
    "\n",
    "# Definimos las amistades.\n",
    "amistades = {\n",
    "    bamavrakis: set([fvr1, aaossa, flobarrios, mjjunemann, fgvenegas, indonoso]),\n",
    "    fvr1: set([flobarrios, fgvenegas, indonoso]),\n",
    "    aaossa: set([fvr1, mjjunemann, indonoso]),\n",
    "    mjjunemann: set([aaossa, fgvenegas]),\n",
    "    flobarrios: set([fvr1, aaossa, mjjunemann, indonoso]),\n",
    "    indonoso: set([fvr1, aaossa, flobarrios, fgvenegas])\n",
    "}\n",
    "\n",
    "grafo = Grafo(amistades)\n",
    "grafo"
   ]
  },
  {
   "cell_type": "code",
   "execution_count": 5,
   "metadata": {},
   "outputs": [
    {
     "name": "stdout",
     "output_type": "stream",
     "text": [
      "Amigos de Freddie: set()\n",
      "Amigos de Freddie: {Bastián, Antonio}\n"
     ]
    }
   ],
   "source": [
    "# ¡Rayos! Nos olvidamos de un ayudante...\n",
    "# Siempre nos olvidamos de Freddie :(\n",
    "grafo.agregar_vertice(fgvenegas)\n",
    "print(f\"Amigos de Freddie: {grafo.vecinos(fgvenegas)}\")\n",
    "\n",
    "# Freddie dice que tiene algunos amigos.\n",
    "grafo.agregar_arista(fgvenegas, aaossa)\n",
    "grafo.agregar_arista(fgvenegas, bamavrakis)\n",
    "print(f\"Amigos de Freddie: {grafo.vecinos(fgvenegas)}\")\n",
    "\n",
    "# Y Jüne dice que Freddie es su amigo.\n",
    "grafo.agregar_arista(mjjunemann, fgvenegas)"
   ]
  },
  {
   "cell_type": "code",
   "execution_count": 6,
   "metadata": {},
   "outputs": [
    {
     "data": {
      "text/plain": [
       "Amigos de Bastián: {Ivania, Antonio, Florencia B, Matías, Freddie}.\n",
       "Amigos de Antonio: {Ivania, Matías}.\n",
       "Amigos de Matías: {Freddie, Antonio}.\n",
       "Amigos de Florencia B: {Ivania, Matías, Antonio}.\n",
       "Amigos de Ivania: {Freddie, Florencia B, Antonio}.\n",
       "Amigos de Freddie: {Bastián, Antonio}."
      ]
     },
     "execution_count": 6,
     "metadata": {},
     "output_type": "execute_result"
    }
   ],
   "source": [
    "# A Flory le cae mal Freddie, así que renuncia.\n",
    "grafo.remover_vertice(fvr1)\n",
    "grafo"
   ]
  },
  {
   "cell_type": "markdown",
   "metadata": {},
   "source": [
    "## Cómo recorrer un grafo\n",
    "\n",
    "Podemos usar los mismos métodos que usamos para árboles (BFS y DFS). Pero, no es tan fácil en el caso general de grafos, intentemos aplicar el mismo algoritmo de BFS que usamos para árbol. Agregaremos un argumento `limite` para limitar la cantidad de nodos que visitamos:"
   ]
  },
  {
   "cell_type": "code",
   "execution_count": 7,
   "metadata": {},
   "outputs": [],
   "source": [
    "from collections import deque\n",
    "\n",
    "def bfs(grafo, inicio, limite = 20):   \n",
    "    # La cola de siempre, comienza desde el nodo inicio.\n",
    "    cola = deque([inicio])\n",
    "    \n",
    "    # Mientras queden vertices por visitar y no nos pasemos del limite de navegación\n",
    "    while len(cola) > 0 and limite > 0:\n",
    "        # Obtenemos de la cola el próximo vertice\n",
    "        vertice = cola.popleft()\n",
    "        print(vertice)\n",
    "        # Agregamos los vecinos al stack\n",
    "        for vecino in grafo[vertice]:\n",
    "            cola.append(vecino)\n",
    "        # Visitamos un nodo, bajamos el límite en 1\n",
    "        limite -= 1"
   ]
  },
  {
   "cell_type": "markdown",
   "metadata": {},
   "source": [
    "Ahora intentemos visitar el grafo de amistades anterior, partiendo por Bastían:"
   ]
  },
  {
   "cell_type": "code",
   "execution_count": 8,
   "metadata": {},
   "outputs": [
    {
     "name": "stdout",
     "output_type": "stream",
     "text": [
      "Bastián\n",
      "Ivania\n",
      "Antonio\n",
      "Florencia B\n",
      "Matías\n",
      "Freddie\n",
      "Freddie\n",
      "Florencia B\n",
      "Antonio\n",
      "Ivania\n",
      "Matías\n",
      "Ivania\n",
      "Matías\n",
      "Antonio\n",
      "Freddie\n",
      "Antonio\n",
      "Bastián\n",
      "Antonio\n",
      "Bastián\n",
      "Antonio\n"
     ]
    }
   ],
   "source": [
    "bfs(amistades, bamavrakis)"
   ]
  },
  {
   "cell_type": "markdown",
   "metadata": {},
   "source": [
    "Notamos rápidamente que lo impreso está repitiendo nombres. Si aumentamos `limite`, sigue pasando lo mismo. ¿Qué ocurre? \n",
    "\n",
    "Si vemos las amistades, eventualmente encontraremos que hay un ciclo de personas que son amigos uno tras el otro, volviendo a la persona inicial. Por ejemplo, Matías y Antonio son amigos mutuamente. Al mismo tiempo, Bastián tiene de amiga a Florencia B, quien tiene de amigo a Matías, quien tiene de amigo a Freddie, quien tiene de amigo a Bastián nuevamente. Luego, al visitar estos vértices, volvemos a agregar vértices que ya revisamos. Quedamos atrapados en un **ciclo** dentro del grafo.\n",
    "\n",
    "¿Por qué no pasó esto con los árboles? Porque debido a la estructura de un árbol, solo hay **una única** forma de llegar a un vértice cualquiera, a través de su padre. Es decir, nunca se agrega dos veces un mismo vértice con el algoritmo anterior (para un árbol). Sin embargo, en el caso de grafos general, debemos recordar qué vértices hemos visitado hasta el momento, pues un grafo puede contener ciclos. Esto es importante para no quedarse atrapado en uno; en caso contrario, nuestro programa _nunca_ terminaría. De no agregar el límite en el ejemplo anterior, éste nunca terminaría.\n",
    "\n",
    "A continuación, veremos las implementaciones para BFS y DFS que sí verifica no recorrer dos veces un mismo vértice."
   ]
  },
  {
   "cell_type": "markdown",
   "metadata": {},
   "source": [
    "### BFS\n",
    "\n",
    "BFS recorre exhaustivamente el grafo, dado un punto de partida. Por lo tanto, si un nodo no fue visitado en el recorrido, significa que **no es alcanzable** desde ese punto de partida."
   ]
  },
  {
   "cell_type": "code",
   "execution_count": 9,
   "metadata": {},
   "outputs": [],
   "source": [
    "from collections import deque\n",
    "\n",
    "def bfs(grafo, inicio):\n",
    "    # Vamos a mantener una lista con los nodos visitados.\n",
    "    visitados = []\n",
    "    # La cola de siempre, comienza desde el nodo inicio.\n",
    "    queue = deque([inicio])\n",
    "    \n",
    "    while len(queue) > 0:\n",
    "        vertice = queue.popleft()\n",
    "        # Detalle clave: si ya visitamos el nodo, no hacemos nada!\n",
    "        if vertice not in visitados:\n",
    "            print(vertice)\n",
    "            # Lo visitamos\n",
    "            visitados.append(vertice)\n",
    "            # Agregamos los vecinos a la cola si es que no han sido visitados.\n",
    "            for vecino in grafo[vertice]:\n",
    "                if vecino not in visitados:\n",
    "                    queue.append(vecino)\n",
    "    return visitados"
   ]
  },
  {
   "cell_type": "code",
   "execution_count": 10,
   "metadata": {},
   "outputs": [
    {
     "name": "stdout",
     "output_type": "stream",
     "text": [
      "Bastián\n",
      "Ivania\n",
      "Antonio\n",
      "Florencia B\n",
      "Matías\n",
      "Freddie\n"
     ]
    },
    {
     "data": {
      "text/plain": [
       "[Bastián, Ivania, Antonio, Florencia B, Matías, Freddie]"
      ]
     },
     "execution_count": 10,
     "metadata": {},
     "output_type": "execute_result"
    }
   ],
   "source": [
    "bfs(amistades, bamavrakis)"
   ]
  },
  {
   "cell_type": "markdown",
   "metadata": {},
   "source": [
    "Notamos que primero: el algoritmo termina gracias a que mantenemos un registro en `visitados` de todos los nodos revisados. Y segundo que: obtenemos todas las personas como resultado, ya que todas son alcanzables desde alguna otra persona. \n",
    "\n",
    "Pero si cambiamos un poco el grafo, dónde no todos los nodos están conectados por caminos, solo obtenemos algunos nodos:"
   ]
  },
  {
   "cell_type": "code",
   "execution_count": 11,
   "metadata": {},
   "outputs": [],
   "source": [
    "grafo = {\n",
    "    'A': ['B', 'C'],\n",
    "    'B': ['D', 'A'],\n",
    "    'C': ['D'],\n",
    "    'D': ['B'],\n",
    "    'E': ['F'],\n",
    "    'F': ['E'],\n",
    "    'G': ['A', 'F'],\n",
    "}"
   ]
  },
  {
   "cell_type": "code",
   "execution_count": 12,
   "metadata": {},
   "outputs": [
    {
     "name": "stdout",
     "output_type": "stream",
     "text": [
      "A\n",
      "B\n",
      "C\n",
      "D\n",
      "Nodos alcanzables desde A: ['A', 'B', 'C', 'D']\n"
     ]
    }
   ],
   "source": [
    "print(f\"Nodos alcanzables desde A: {bfs(grafo, 'A')}\")"
   ]
  },
  {
   "cell_type": "code",
   "execution_count": 13,
   "metadata": {},
   "outputs": [
    {
     "name": "stdout",
     "output_type": "stream",
     "text": [
      "E\n",
      "F\n",
      "Nodos alcanzables desde E: ['E', 'F']\n"
     ]
    }
   ],
   "source": [
    "print(f\"Nodos alcanzables desde E: {bfs(grafo, 'E')}\")"
   ]
  },
  {
   "cell_type": "code",
   "execution_count": 14,
   "metadata": {},
   "outputs": [
    {
     "name": "stdout",
     "output_type": "stream",
     "text": [
      "G\n",
      "A\n",
      "F\n",
      "B\n",
      "C\n",
      "E\n",
      "D\n",
      "Nodos alcanzables desde G: ['G', 'A', 'F', 'B', 'C', 'E', 'D']\n"
     ]
    }
   ],
   "source": [
    "print(f\"Nodos alcanzables desde G: {bfs(grafo, 'G')}\")"
   ]
  },
  {
   "cell_type": "markdown",
   "metadata": {},
   "source": [
    "Haz el ejercicio de dibujar el grafo anterior, y sigue como el algoritmo va recorriendo que nodos. Como nuestra implementación usa una lista para guardar a los nodos visitados, se mantiene el orden en que fueron agregados. Revisa por qué tiene ese orden los nodos alcanzables de cada resultado."
   ]
  },
  {
   "cell_type": "markdown",
   "metadata": {},
   "source": [
    "### DFS\n",
    "\n",
    "Al igual que BFS, DFS recorre exhaustivamente el grafo, dado un punto de partida. Si un nodo no fue visitado en el recorrido, significa que **no es alcanzable** desde ese punto de partida.\n",
    "\n",
    "La diferencia con BFS es, principalmente, el orden en que se recorren los nodos. Como BFS es una búsqueda por nivel, encontrará los nodos según cuán lejos estén del punto de partida. Así, ese algoritmo garantiza que si se visitó al nodo $n_1$ antes que el nodo $n_2$, entonces $n_1$ está más cerca o a la misma distancia del punto de partida que $n_2$."
   ]
  },
  {
   "cell_type": "code",
   "execution_count": 15,
   "metadata": {},
   "outputs": [],
   "source": [
    "def dfs(grafo, inicio):\n",
    "    # Vamos a mantener una lista con los nodos visitados.\n",
    "    visitados = []\n",
    "    \n",
    "    # El stack de siempre, comienza desde el nodo inicio.\n",
    "    stack = [inicio]\n",
    "    \n",
    "    while len(stack) > 0:\n",
    "        vertice = stack.pop()\n",
    "        # Detalle clave: si ya visitamos el nodo, ¡no hacemos nada!\n",
    "        if vertice not in visitados:\n",
    "            print(vertice)\n",
    "            # Lo visitamos\n",
    "            visitados.append(vertice)\n",
    "            # Agregamos los vecinos al stack si es que no han sido visitados.\n",
    "            for vecino in grafo[vertice]:\n",
    "                if vecino not in visitados:\n",
    "                    stack.append(vecino)   \n",
    "    return visitados"
   ]
  },
  {
   "cell_type": "code",
   "execution_count": 16,
   "metadata": {},
   "outputs": [
    {
     "name": "stdout",
     "output_type": "stream",
     "text": [
      "Bastián\n",
      "Freddie\n",
      "Antonio\n",
      "Matías\n",
      "Ivania\n",
      "Florencia B\n"
     ]
    },
    {
     "data": {
      "text/plain": [
       "[Bastián, Freddie, Antonio, Matías, Ivania, Florencia B]"
      ]
     },
     "execution_count": 16,
     "metadata": {},
     "output_type": "execute_result"
    }
   ],
   "source": [
    "dfs(amistades, bamavrakis)"
   ]
  },
  {
   "cell_type": "code",
   "execution_count": 17,
   "metadata": {},
   "outputs": [
    {
     "name": "stdout",
     "output_type": "stream",
     "text": [
      "A\n",
      "C\n",
      "D\n",
      "B\n",
      "Nodos alcanzables desde A: ['A', 'C', 'D', 'B']\n"
     ]
    }
   ],
   "source": [
    "print(f\"Nodos alcanzables desde A: {dfs(grafo, 'A')}\")"
   ]
  },
  {
   "cell_type": "code",
   "execution_count": 18,
   "metadata": {},
   "outputs": [
    {
     "name": "stdout",
     "output_type": "stream",
     "text": [
      "E\n",
      "F\n",
      "Nodos alcanzables desde E: ['E', 'F']\n"
     ]
    }
   ],
   "source": [
    "print(f\"Nodos alcanzables desde E: {dfs(grafo, 'E')}\")"
   ]
  },
  {
   "cell_type": "code",
   "execution_count": 19,
   "metadata": {},
   "outputs": [
    {
     "name": "stdout",
     "output_type": "stream",
     "text": [
      "G\n",
      "F\n",
      "E\n",
      "A\n",
      "C\n",
      "D\n",
      "B\n",
      "Nodos alcanzables desde G: ['G', 'F', 'E', 'A', 'C', 'D', 'B']\n"
     ]
    }
   ],
   "source": [
    "print(f\"Nodos alcanzables desde G: {dfs(grafo, 'G')}\")"
   ]
  },
  {
   "cell_type": "markdown",
   "metadata": {},
   "source": [
    "Nota que los resultados (como conjuntos de nodos) son iguales que en DFS, pero el orden es lo que cambia. Revisa en este caso el por qué aparecen en el orden en que imprimen."
   ]
  }
 ],
 "metadata": {
  "kernelspec": {
   "display_name": "Python 3",
   "language": "python",
   "name": "python3"
  },
  "language_info": {
   "codemirror_mode": {
    "name": "ipython",
    "version": 3
   },
   "file_extension": ".py",
   "mimetype": "text/x-python",
   "name": "python",
   "nbconvert_exporter": "python",
   "pygments_lexer": "ipython3",
   "version": "3.6.6"
  }
 },
 "nbformat": 4,
 "nbformat_minor": 2
}
