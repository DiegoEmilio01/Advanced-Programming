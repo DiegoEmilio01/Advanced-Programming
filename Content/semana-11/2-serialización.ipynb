{
 "cells": [
  {
   "cell_type": "markdown",
   "metadata": {},
   "source": [
    "<p>\n",
    "<font size='5' face='Georgia, Arial'>IIC-2233 Apunte Programación Avanzada</font><br>\n",
    "<font size='1'> Modificado en 2018-1, 2018-2 y 2019-2 por Equipo Docente IIC2233. Creado por equipo docente en 2015-1.</font>\n",
    "</p>"
   ]
  },
  {
   "cell_type": "markdown",
   "metadata": {},
   "source": [
    "# Serialización de objetos\n",
    "\n",
    "Como revisamos en el material anterior, toda la información que almacena un computador se guarda en base a *bits* (ceros y unos). Por ejemplo, imaginemos que buscamos guardar una estructura de datos o una instancia de una clase. De alguna forma, estos datos deben ser guardados como una serie o secuencia de *bytes*. Aquí es cuando aparece el concepto de **serialización**.\n",
    "\n",
    "Este concepto se refiere al procedimiento de transformar cualquier objeto en una secuencia o serie de *bytes*. Esto nos permite almacenar el estado de un objeto de forma persistente, por ejemplo en un archivo o una base de datos que podemos consultar más tarde. También nos permite enviar el objeto a otros computadores y programas.\n",
    "\n",
    "## *Pickle*\n",
    "\n",
    "El módulo *pickle* de Python permite guardar y cargar casi cualquier objeto de Python, incluyendo listas. Esta librería ofrece los métodos:\n",
    "\n",
    "- `dumps`: serializa un objeto, es decir, lo **guarda**.\n",
    "- `loads`: deserializa un objeto serializado, es decir, **carga** un objeto a su estado original.\n",
    "\n",
    "Una vez que un objeto es serializado, este es persistente y está listo para volver a ser usado en el futuro por el mismo programa."
   ]
  },
  {
   "cell_type": "code",
   "execution_count": 1,
   "metadata": {
    "scrolled": true
   },
   "outputs": [
    {
     "name": "stdout",
     "output_type": "stream",
     "text": [
      "b'\\x80\\x03(X\\x01\\x00\\x00\\x00aq\\x00K\\x01K\\x03X\\x04\\x00\\x00\\x00holaq\\x01tq\\x02.'\n",
      "<class 'bytes'>\n",
      "('a', 1, 3, 'hola')\n"
     ]
    }
   ],
   "source": [
    "import pickle\n",
    "\n",
    "tupla = (\"a\", 1, 3, \"hola\")\n",
    "serializacion = pickle.dumps(tupla)\n",
    "\n",
    "print(serializacion)\n",
    "print(type(serializacion))\n",
    "\n",
    "deserializado = pickle.loads(serializacion)\n",
    "print(deserializado)"
   ]
  },
  {
   "cell_type": "markdown",
   "metadata": {},
   "source": [
    "*Pickle* también nos ofrece los métodos `dump` y `load` (casi el mismo nombre que antes pero sin la *s*). Estos métodos también serializan y deserializan, pero **a través de archivos**: \n",
    "\n",
    "- `dump`: guarda un archivo con el objeto serializado.\n",
    "- `load`: deserializa un objeto almacenado en un archivo (lo trae de vuelta)."
   ]
  },
  {
   "cell_type": "code",
   "execution_count": 2,
   "metadata": {},
   "outputs": [
    {
     "name": "stdout",
     "output_type": "stream",
     "text": [
      "Lista original: [1, 2, 3, 7, 8, 3]\n",
      "Lista cargada : [1, 2, 3, 7, 8, 3]\n",
      "¿Las listas son iguales? True\n",
      "¿Las listas son el mismo objeto? False\n"
     ]
    }
   ],
   "source": [
    "lista = [1, 2, 3, 7, 8, 3]\n",
    "\n",
    "with open(\"mi_lista.bin\", 'wb') as file:\n",
    "    pickle.dump(lista, file)\n",
    "\n",
    "with open(\"mi_lista.bin\", 'rb') as file:\n",
    "    lista_cargada = pickle.load(file)\n",
    "\n",
    "print(f\"Lista original: {lista}\")\n",
    "print(f\"Lista cargada : {lista_cargada}\")\n",
    "print(f\"¿Las listas son iguales? {lista == lista_cargada}\")\n",
    "print(f\"¿Las listas son el mismo objeto? {lista is lista_cargada}\")"
   ]
  },
  {
   "cell_type": "markdown",
   "metadata": {},
   "source": [
    "*Pickle* es un módulo no seguro. Esto implica que **nunca** debes cargar un archivo *pickle* cuando no conoces su procedencia, ya que éste podría ejecutar código malicioso en tu computador. No entraremos en detalles sobre cómo inyectar código a través del módulo *pickle*, pero los interesados pueden revisar este [enlace](http://www.cs.jhu.edu/~s/musings/pickle.html).\n",
    "\n",
    "### Personalizar la serialización\n",
    "\n",
    "Cuando *pickle* trata de serializar un objeto, lo primero que hará es verificar que el objeto que se quiere serializar sea de una clase que tenga implementado el método `__getstate__`. Este método debe retornar un diccionario con los atributos que se quieren serializar. Si `__getstate__` no estuviese implementado, entonces *pickle* guardará el atributo `__dict__` del objeto. El atributo `__dict__` es un diccionario que guarda todos los atributos y métodos de un objeto. Por ejemplo, `o.atributo` es equivalente a `o.__dict__[\"atributo\"]` y `o.atributo = 42` es equivalente a `o.__dict__[\"atributo\"] = 42`.\n",
    "\n",
    "El método `__getstate__` nos permite personalizar la serialización del objeto. Usando este método podemos crear un diccionario que contenga solo la información que deseamos guardar. "
   ]
  },
  {
   "cell_type": "code",
   "execution_count": 3,
   "metadata": {},
   "outputs": [],
   "source": [
    "class Persona:\n",
    "    def __init__(self, nombre, edad):\n",
    "        self.nombre = nombre\n",
    "        self.edad = edad\n",
    "        self.mensaje = \"No pasa nada\"\n",
    "        \n",
    "    def __getstate__(self):\n",
    "        \"\"\"\n",
    "        Retorna el estado actual del objeto, para que sea serializado por pickle\n",
    "        \n",
    "        Aquí creamos una copia del diccionario actual, para modificar la copia \n",
    "        y no el objeto original\n",
    "        \"\"\"\n",
    "        # Usamos una copia del diccionario original para alterar solo la copia\n",
    "        nueva = self.__dict__.copy()\n",
    "        # Modificamos un atributo en el objeto serializado. Sin embargo el objeto original no ha cambiado.\n",
    "        nueva.update({\"mensaje\" : \"¡Me están serializando!\"})\n",
    "        # Lo que retornemos es lo que será serializado por pickle\n",
    "        return nueva"
   ]
  },
  {
   "cell_type": "code",
   "execution_count": 4,
   "metadata": {},
   "outputs": [
    {
     "name": "stdout",
     "output_type": "stream",
     "text": [
      "Mensaje original: No pasa nada\n",
      "Mensaje original: No pasa nada\n",
      "Mensaje deserializado: ¡Me están serializando!\n"
     ]
    }
   ],
   "source": [
    "original = Persona(\"Juan\", 30)\n",
    "print(\"Mensaje original:\", original.mensaje)\n",
    "serializado = pickle.dumps(original)\n",
    "deserializado = pickle.loads(serializado)\n",
    "\n",
    "# El objeto original sigue igual\n",
    "print(\"Mensaje original:\", original.mensaje)\n",
    "print(\"Mensaje deserializado:\", deserializado.mensaje)"
   ]
  },
  {
   "cell_type": "markdown",
   "metadata": {},
   "source": [
    "### Personalizar la deserialización\n",
    "\n",
    "De forma análoga, podemos personalizar la **deserialización**. Para esto debemos implementar el método `__setstate__`, que se ejecutará cada vez que llamemos a `load` o `loads`. El método `__setstate__` recibe como argumento el diccionario que representa el estado del objeto que fue serializado. Luego debe asignarlo al diccionario del objeto `self.__dict__ = diccionario_con_estado`. Esto no impide que se realicen otras acciones que modifiquen `diccionario_con_estado` antes o después de la asignación.\n",
    "\n",
    "Si el método `__setstate__` no estuviese implementado, entonces se asignará al `__dict__` del objeto el estado deserializado sin realizar otras acciones adicionales. Un ejemplo"
   ]
  },
  {
   "cell_type": "code",
   "execution_count": 5,
   "metadata": {},
   "outputs": [],
   "source": [
    "class Persona:\n",
    "    def __init__(self, nombre, edad):\n",
    "        self.nombre = nombre\n",
    "        self.edad = edad\n",
    "        self.mensaje = \"No pasa nada\"\n",
    "        \n",
    "    def __getstate__(self):\n",
    "        nueva = self.__dict__.copy()\n",
    "        print(f\"[__getstate__] Serializando a {nueva['nombre']}\")\n",
    "        nueva.update({\"mensaje\": \"¡Me están serializando!\"})\n",
    "        # Lo que retornemos es lo que será serializado por pickle\n",
    "        return nueva \n",
    "\n",
    "    def __setstate__(self, state):\n",
    "        print(\"[__setstate__] Objeto recién deserializado, actualizando su estado\")\n",
    "        # Al desarializar modificamos el estado\n",
    "        state.update({\"nombre\": state[\"nombre\"] + \" deserializado\"})\n",
    "        self.__dict__ = state"
   ]
  },
  {
   "cell_type": "code",
   "execution_count": 6,
   "metadata": {},
   "outputs": [
    {
     "name": "stdout",
     "output_type": "stream",
     "text": [
      "Nombre original: Juan\n",
      "[__getstate__] Serializando a Juan\n"
     ]
    }
   ],
   "source": [
    "original = Persona(\"Juan\", 30)\n",
    "print(\"Nombre original:\", original.nombre)\n",
    "# Al usar pickle.dumps() se ejecuta el método __getstate__\n",
    "serializado = pickle.dumps(original)"
   ]
  },
  {
   "cell_type": "code",
   "execution_count": 7,
   "metadata": {},
   "outputs": [
    {
     "name": "stdout",
     "output_type": "stream",
     "text": [
      "¡Ejecutar loads → deserializar!\n",
      "[__setstate__] Objeto recién deserializado, actualizando su estado\n",
      "Nombre deserializado: Juan deserializado, y su mensaje: ¡Me están serializando!\n"
     ]
    }
   ],
   "source": [
    "print(\"¡Ejecutar loads → deserializar!\")\n",
    "# Al usar pickle.loads() se ejecuta el método __setstate__\n",
    "deserializado = pickle.loads(serializado)\n",
    "print(f\"Nombre deserializado: {deserializado.nombre}, y su mensaje: {deserializado.mensaje}\")"
   ]
  },
  {
   "cell_type": "markdown",
   "metadata": {},
   "source": [
    "Una aplicación práctica de los métodos `__getstate__` y `__setstate__` es cuando necesitamos serializar un objeto que contiene un atributo que depende de las condiciones actuales del programa. Por ejemplo, imaginemos que un objeto mantiene una conexión a una base de datos. Supongamos, además, que esta conexión tiene atributos relacionados con el estado del programa: tiempo de conexión, puertos utilizados, *host*, entre otros. Cuando guardamos el objeto, deberíamos eliminar la conexión, ya que este atributo no podrá ser utilizado en otra instancia del programa. Para lograr esto usamos el método `__getstate__`. \n",
    "\n",
    "Cuando se cargue el mismo objeto desde el archivo serializado, será necesario volver a crear la conexión con las condiciones del programa. Para realizar esto tendremos que implementar `__setstate__`."
   ]
  },
  {
   "cell_type": "markdown",
   "metadata": {},
   "source": [
    "## Serialización de objetos con JSON\n",
    "\n",
    "Una de las desventajas de los objetos serializados con `pickle` es que sólo pueden ser deserializados por otros programas escritos en Python. Por otra parte, **JSON** (JavaScript Object Notation) es un formato estándar de intercambio de datos que puede ser interpretado por muchos lenguajes. JSON además es *human-readable*, es decir, puede ser fácilmente leído y entendido por humanos.\n",
    "\n",
    "**El formato en que almacena la información es similar a los diccionarios de Python.**\n",
    "\n",
    "En JSON sólo es posible serializar instancias de `int`, `str`, `float`, `dict`, `bool`, `list`, `tuple` y `NoneType`, de acuerdo a esta tabla de transformación que puedes revisar en [este link](https://docs.python.org/3.6/library/json.html#encoders-and-decoders). Por defecto no es posible serializar funciones o instancias de otras clases.\n",
    "\n",
    "En Python, existe un módulo llamado `json` que provee métodos para serializar objetos en el  formato JSON. Este módulo provee una interfaz similar a la de `pickle`, es decir, los métodos `dump`(`s`) y `load`(`s`). "
   ]
  },
  {
   "cell_type": "code",
   "execution_count": 8,
   "metadata": {},
   "outputs": [],
   "source": [
    "from itertools import count\n",
    "import json\n",
    "\n",
    "class Persona:\n",
    "    id = count()\n",
    "    \n",
    "    def __init__(self, nombre, edad, estado_civil):\n",
    "        self.nombre = nombre\n",
    "        self.edad = edad\n",
    "        self.estado_civil = estado_civil\n",
    "        self.id_ = next(self.id)"
   ]
  },
  {
   "cell_type": "code",
   "execution_count": 9,
   "metadata": {},
   "outputs": [
    {
     "name": "stdout",
     "output_type": "stream",
     "text": [
      "Datos en formato JSON: <class 'str'> {\"nombre\": \"Juan\", \"edad\": 35, \"estado_civil\": \"Soltero\", \"id_\": 0}\n",
      "Datos en formato Python: <class 'dict'> {'nombre': 'Juan', 'edad': 35, 'estado_civil': 'Soltero', 'id_': 0}\n"
     ]
    }
   ],
   "source": [
    "p = Persona(\"Juan\", 35, \"Soltero\")\n",
    "\n",
    "json_string = json.dumps(p.__dict__)\n",
    "print(\"Datos en formato JSON:\", type(json_string), json_string)\n",
    "\n",
    "json_deserializado = json.loads(json_string)\n",
    "print(\"Datos en formato Python:\", type(json_deserializado), json_deserializado)"
   ]
  },
  {
   "cell_type": "markdown",
   "metadata": {},
   "source": [
    "### Personalizar la serialización\n",
    "\n",
    "Cuando queremos guardar un objeto como JSON podemos personalizar la transformación utilizando un `json.JSONEncoder`, de forma análoga a como lo hicimos con `__getstate__`. Para esto debemos crear una clase que hereda de la clase `json.JSONEncoder` y sobreescribir el método `default`:"
   ]
  },
  {
   "cell_type": "code",
   "execution_count": 10,
   "metadata": {},
   "outputs": [],
   "source": [
    "from datetime import datetime\n",
    "\n",
    "\n",
    "class PersonaEncoder(json.JSONEncoder):\n",
    "       def default(self, obj):\n",
    "            \"\"\"Serializa en forma personalizada el tipo de objeto Persona\"\"\"\n",
    "            \n",
    "            if isinstance(obj, Persona):\n",
    "                return {'Persona_id': obj.id_, \n",
    "                        'nombre': obj.nombre, \n",
    "                        'edad': obj.edad, \n",
    "                        'estado_civil': obj.estado_civil, \n",
    "                        'ano_nacimiento' : datetime.now().year - obj.edad}\n",
    "            \n",
    "            # Mantenemos la serialización por defecto para otros tipos\n",
    "            return super().default(obj)\n",
    "\n",
    "        \n",
    "# Creamos tres instancias\n",
    "p1 = Persona(\"Juanita\", 37, \"Soltera\")\n",
    "p2 = Persona(\"Jorge\", 33, \"Casado\")\n",
    "p3 = Persona(\"Mariela\", 24, \"Soltera\")"
   ]
  },
  {
   "cell_type": "markdown",
   "metadata": {},
   "source": [
    "Probamos la serialización usando el *default*:"
   ]
  },
  {
   "cell_type": "code",
   "execution_count": 11,
   "metadata": {
    "scrolled": true
   },
   "outputs": [
    {
     "name": "stdout",
     "output_type": "stream",
     "text": [
      "{\"nombre\": \"Juanita\", \"edad\": 37, \"estado_civil\": \"Soltera\", \"id_\": 1}\n"
     ]
    }
   ],
   "source": [
    "json_string = json.dumps(p1.__dict__)\n",
    "\n",
    "print(json_string)"
   ]
  },
  {
   "cell_type": "markdown",
   "metadata": {},
   "source": [
    "Ahora, serializamos usando el método personalizado:"
   ]
  },
  {
   "cell_type": "code",
   "execution_count": 12,
   "metadata": {},
   "outputs": [
    {
     "name": "stdout",
     "output_type": "stream",
     "text": [
      "{\"Persona_id\": 1, \"nombre\": \"Juanita\", \"edad\": 37, \"estado_civil\": \"Soltera\", \"ano_nacimiento\": 1982}\n",
      "{\"Persona_id\": 2, \"nombre\": \"Jorge\", \"edad\": 33, \"estado_civil\": \"Casado\", \"ano_nacimiento\": 1986}\n",
      "{\"Persona_id\": 3, \"nombre\": \"Mariela\", \"edad\": 24, \"estado_civil\": \"Soltera\", \"ano_nacimiento\": 1995}\n"
     ]
    }
   ],
   "source": [
    "json_string = json.dumps(p1, cls=PersonaEncoder)\n",
    "print(json_string)\n",
    "\n",
    "json_string = json.dumps(p2, cls=PersonaEncoder)\n",
    "print(json_string)\n",
    "\n",
    "json_string = json.dumps(p3, cls=PersonaEncoder)\n",
    "print(json_string)"
   ]
  },
  {
   "cell_type": "markdown",
   "metadata": {},
   "source": [
    "### Personalizar la deserialización\n",
    "\n",
    "Cuando queremos transformar un JSON a un objeto Python podemos utilizar los `object_hook`, de forma análoga a como lo hicimos con `__setstate__`. \n",
    "\n",
    "El `object_hook` es un parámetro de los métodos `load` y `loads`, que espera una función que sea capaz de manejar un diccionario y retorne un objeto de Python. En el proceso de deserialización, todo objeto JSON será convertido a un diccionario de Python, y luego pasado a la función `object_hook` para hacer la transformación final.\n",
    "\n",
    "Por ejemplo, si queremos cargar datos JSON en una lista de tuplas en vez de un diccionario:"
   ]
  },
  {
   "cell_type": "code",
   "execution_count": 13,
   "metadata": {},
   "outputs": [
    {
     "name": "stdout",
     "output_type": "stream",
     "text": [
      "[('nombre', 'Jorge'), ('edad', 34), ('estado_civil', 'casado'), ('puntaje', 90.5)]\n"
     ]
    }
   ],
   "source": [
    "def funcion_hook(diccionario):\n",
    "    return [(key, value) for key, value in diccionario.items()]\n",
    "\n",
    "json_string = '{\"nombre\": \"Jorge\", \"edad\": 34, \"estado_civil\": \"casado\", \"puntaje\": 90.5}'\n",
    "datos = json.loads(json_string, object_hook=funcion_hook)\n",
    "\n",
    "print(datos)"
   ]
  },
  {
   "cell_type": "markdown",
   "metadata": {},
   "source": [
    "Es importante recordar que **todo** objeto de JSON es convertido a un diccionario, y luego entregado al `object_hook`. Esto tiene implicancias cuando tenemos un JSON con objetos anidados:"
   ]
  },
  {
   "cell_type": "code",
   "execution_count": 14,
   "metadata": {},
   "outputs": [
    {
     "name": "stdout",
     "output_type": "stream",
     "text": [
      "Me llegó el diccionario: {}\n",
      "Lo transformaré en 42\n",
      "\n",
      "Me llegó el diccionario: {'f': True}\n",
      "Lo transformaré en 42\n",
      "\n",
      "Me llegó el diccionario: {'b': 1, 'c': [2, 3, 42], 'd': None, 'e': 42}\n",
      "Lo transformaré en 33\n",
      "\n",
      "Me llegó el diccionario: {'a': 33}\n",
      "Lo transformaré en 42\n",
      "\n",
      "42\n"
     ]
    }
   ],
   "source": [
    "def funcion_hook(diccionario):\n",
    "    \"\"\"Esta función transforma un diccionario en un número\"\"\"\n",
    "    print(f\"Me llegó el diccionario: {diccionario}\")\n",
    "    valor = 33 if len(diccionario) > 1 else 42\n",
    "    print(f\"Lo transformaré en {valor}\\n\")\n",
    "    return valor\n",
    "\n",
    "\n",
    "json_string = '{\"a\": {\"b\": 1, \"c\": [2, 3, {}], \"d\": null, \"e\": {\"f\": true}}}'\n",
    "datos = json.loads(json_string, object_hook=funcion_hook)\n",
    "\n",
    "print(datos)"
   ]
  },
  {
   "cell_type": "markdown",
   "metadata": {},
   "source": [
    "¿Qué pasó ahí arriba? Lo primero que podemos notar es que el proceso de conversión funciona de adentro hacia afuera, y además que el resultado que entregue `object_hook` se arrastra en el proceso."
   ]
  }
 ],
 "metadata": {
  "kernelspec": {
   "display_name": "Python 3",
   "language": "python",
   "name": "python3"
  },
  "language_info": {
   "codemirror_mode": {
    "name": "ipython",
    "version": 3
   },
   "file_extension": ".py",
   "mimetype": "text/x-python",
   "name": "python",
   "nbconvert_exporter": "python",
   "pygments_lexer": "ipython3",
   "version": "3.6.7"
  },
  "varInspector": {
   "cols": {
    "lenName": 16,
    "lenType": 16,
    "lenVar": 40
   },
   "kernels_config": {
    "python": {
     "delete_cmd_postfix": "",
     "delete_cmd_prefix": "del ",
     "library": "var_list.py",
     "varRefreshCmd": "print(var_dic_list())"
    },
    "r": {
     "delete_cmd_postfix": ") ",
     "delete_cmd_prefix": "rm(",
     "library": "var_list.r",
     "varRefreshCmd": "cat(var_dic_list()) "
    }
   },
   "types_to_exclude": [
    "module",
    "function",
    "builtin_function_or_method",
    "instance",
    "_Feature"
   ],
   "window_display": false
  }
 },
 "nbformat": 4,
 "nbformat_minor": 1
}
