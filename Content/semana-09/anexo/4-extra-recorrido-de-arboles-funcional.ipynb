{
 "cells": [
  {
   "cell_type": "markdown",
   "metadata": {},
   "source": [
    "_Este material es adicional al contenido mínimo del curso. Se deja aquí para quien quiera explorar cómo implementar los algoritmos de recorrido de árboles BFS y DFS pero utilizando herramientas de Programación Funcional. Esto no será evaluado a lo largo del curso, pero siempre es entretenido conocer más._"
   ]
  },
  {
   "cell_type": "markdown",
   "metadata": {},
   "source": [
    "# Recorrido de árboles: Versión funcional"
   ]
  },
  {
   "cell_type": "markdown",
   "metadata": {},
   "source": [
    "Un caso de uso frecuente que podríamos necesitar es recorrer un árbol según algún orden (BFS o DFS) y realizar algún trabajo o revisión sobre los nodos en cada paso. Si bien, el código antes presentado en el material mínimo se puede alterar fácilmente dependiendo de la sitaución, requiere re-escribir el código de recorrido para cada caso particular.\n",
    "\n",
    "Lo conveniente sería crear algún tipo de interfaz para recorrer un árbol que nos permita obtener el `nodo_actual` en cada paso y nos permita trabajar con el. Para esto, utilizaremos los conceptos de estructuras **iterables** y **generadores** de programación funcional en Python.\n",
    "\n",
    "Primero, se vuelve a crear la clase `Arbol` base, **identica** a la del material de esta semana:"
   ]
  },
  {
   "cell_type": "code",
   "execution_count": 1,
   "metadata": {
    "ExecuteTime": {
     "end_time": "2019-04-05T03:56:17.238819Z",
     "start_time": "2019-04-05T03:56:17.224825Z"
    }
   },
   "outputs": [],
   "source": [
    "# textwrap tiene varias funciones convenientes para el manejo de strings\n",
    "from textwrap import indent\n",
    "\n",
    "class Arbol:\n",
    "    \"\"\"\n",
    "    Esta clase representa un árbol\n",
    "    \n",
    "    La estructura es recursiva, de manera que cada nodo es la raíz de un sub-árbol.\n",
    "    Los nodos hijos pueden ser guardados en una estructura, como lista o diccionario.\n",
    "    En este ejemplo, los nodos hijos serán guardados en un diccionario.\n",
    "    \"\"\"\n",
    "\n",
    "    def __init__(self, id_nodo, valor=None, padre=None):\n",
    "        \"\"\"\n",
    "        Inicializa la estructura básica del árbol.\n",
    "        \n",
    "        Tiene un identificador propio, la referencia a su padre, el valor almacenado\n",
    "        y una estructura con sus hijos.\n",
    "        \"\"\"\n",
    "        self.id_nodo = id_nodo\n",
    "        self.padre = padre\n",
    "        self.valor = valor\n",
    "        self.hijos = {}\n",
    "        \n",
    "\n",
    "    def obtener_nodo(self, id_nodo):\n",
    "        \"\"\"\n",
    "        Obtiene el nodo con el id dado, en forma recursiva\n",
    "        \n",
    "        A partir del nodo actual, buscamos el nodo 'id_nodo' entre sus hijos\n",
    "        y lo retornamos si existe.\n",
    "        \"\"\"\n",
    "        # Caso base: ¡Lo encontramos!\n",
    "        if self.id_nodo == id_nodo:\n",
    "            return self\n",
    "\n",
    "        # Buscamos recursivamente entre los hijos\n",
    "        for hijo in self.hijos.values():\n",
    "            nodo = hijo.obtener_nodo(id_nodo)\n",
    "            # Si lo encontró, lo retornamos\n",
    "            if nodo:\n",
    "                return nodo\n",
    "        \n",
    "        # Si no lo encuentra, retorna None\n",
    "        return None\n",
    "\n",
    "\n",
    "    def agregar_nodo(self, id_nodo, valor, id_padre):\n",
    "        \"\"\"Agrega un nodo con el id y valor dado, como hijo del nodo con el id 'id_padre'\"\"\"\n",
    "        # Primero, tenemos que encontrar al padre\n",
    "        padre = self.obtener_nodo(id_padre)\n",
    "        # En caso de que el padre no exista no hacemos nada\n",
    "        if padre is None:\n",
    "            return\n",
    "        \n",
    "        # Creamos el nodo\n",
    "        # Nos aseguramos de que el nodo nuevo sea del mismo tipo que la raíz\n",
    "        # Esto lo ocuparemos cuando heredemos de este árbol\n",
    "        nodo = type(self)(id_nodo, valor, padre)\n",
    "        # Agregamos el nodo como hijo de su padre\n",
    "        padre.hijos[id_nodo] = nodo\n",
    "        \n",
    "        \n",
    "    def __repr__(self):\n",
    "        \"\"\"\n",
    "        Entrega una representación del árbol, en forma recursiva.\n",
    "        \n",
    "        Para ello, tenemos que pedir la representación de cada hijo recursivamente. \n",
    "        Esto nos lleva a recorrer todos los nodos del árbol.\n",
    "        \"\"\"\n",
    "        # Texto de este nodo.\n",
    "        # Si el nodo es hoja, se avisa de ello.\n",
    "        # Si el nodo no es hoja, se deja un salto de línea para poder nombrar a los hijos.\n",
    "        if len(self.hijos) > 0:\n",
    "            texto = f\"id: {self.id_nodo}, valor: {self.valor}\\n\"\n",
    "        else:\n",
    "            texto = f\"id: {self.id_nodo}, valor: {self.valor}, nodo hoja\"\n",
    "\n",
    "        # Extrae el repr a cada hijo, en forma recursiva.\n",
    "        texto_hijos = [repr(hijo) for hijo in self.hijos.values()]\n",
    "        \n",
    "        # Indentamos cada línea del texto de los hijos con dos espacios.\n",
    "        # Esto es para que se note el nivel del nodo.\n",
    "        texto_hijos = [indent(x, \"  \")  for x in texto_hijos]\n",
    "        \n",
    "        return texto + \"\\n\".join(texto_hijos)\n"
   ]
  },
  {
   "cell_type": "markdown",
   "metadata": {},
   "source": [
    "## BFS\n",
    "\n",
    "En el siguiente _snippet_, hacemos que el árbol sea un iterador (y por lo tanto iterable). Una forma de hacerlo, es definiendo una función generadora para `__iter__`. La idea es que al iterar el árbol, nos entregue los nodos en orden BFS. Para detalles sobre iteradores, iterables y generadores, pueden revisar el material de programación funcional."
   ]
  },
  {
   "cell_type": "code",
   "execution_count": 2,
   "metadata": {
    "ExecuteTime": {
     "end_time": "2019-04-05T03:56:17.293789Z",
     "start_time": "2019-04-05T03:56:17.251154Z"
    }
   },
   "outputs": [],
   "source": [
    "from collections import deque\n",
    "\n",
    "class ArbolBFS(Arbol):\n",
    "    \n",
    "    def __iter__(self):\n",
    "        \"\"\"Itera el árbol según BFS\"\"\"\n",
    "        # Utilizamos una cola para almacenar los nodos por visitar\n",
    "        cola = deque()\n",
    "        # El primer nodo a visitar será la raíz\n",
    "        cola.append(self)\n",
    "        \n",
    "        # Mientras queden nodos por visitar en la cola\n",
    "        while len(cola) > 0:\n",
    "            # Extraemos el primero de la cola\n",
    "            nodo = cola.popleft()\n",
    "            \n",
    "            # Lo visitamos y entrega\n",
    "            yield nodo\n",
    "            \n",
    "            # Agregamos todos los nodos hijos a la cola\n",
    "            for hijo in nodo.hijos.values():\n",
    "                cola.append(hijo)"
   ]
  },
  {
   "cell_type": "code",
   "execution_count": 3,
   "metadata": {
    "ExecuteTime": {
     "end_time": "2019-04-05T03:56:17.322043Z",
     "start_time": "2019-04-05T03:56:17.297303Z"
    }
   },
   "outputs": [],
   "source": [
    "T = ArbolBFS(0, 10)\n",
    "T.agregar_nodo(1, 8, 0)\n",
    "T.agregar_nodo(3, 12, 0)\n",
    "T.agregar_nodo(2, 9, 1)\n",
    "T.agregar_nodo(4, 5, 3)\n",
    "T.agregar_nodo(5, 14, 3)\n",
    "T.agregar_nodo(6, 20, 3)\n",
    "T.agregar_nodo(8, 4, 2)\n",
    "T.agregar_nodo(7, 8, 4)\n",
    "T.agregar_nodo(9, 15, 6)\n",
    "T.agregar_nodo(10, 6, 6)"
   ]
  },
  {
   "cell_type": "markdown",
   "metadata": {},
   "source": [
    "Ahora, como es un iterable, podemos realizar un `for` sobre el directamente, donde el orden de nodos sigue el orden BFS:"
   ]
  },
  {
   "cell_type": "code",
   "execution_count": 4,
   "metadata": {
    "ExecuteTime": {
     "end_time": "2019-04-05T03:56:17.354529Z",
     "start_time": "2019-04-05T03:56:17.325088Z"
    }
   },
   "outputs": [
    {
     "name": "stdout",
     "output_type": "stream",
     "text": [
      "Recorrido EN AMPLITUD (BFS, o 'por niveles')\n",
      "Número de visita: 0 — visitando nodo con id: 0\n",
      "Número de visita: 1 — visitando nodo con id: 1\n",
      "Número de visita: 2 — visitando nodo con id: 3\n",
      "Número de visita: 3 — visitando nodo con id: 2\n",
      "Número de visita: 4 — visitando nodo con id: 4\n",
      "Número de visita: 5 — visitando nodo con id: 5\n",
      "Número de visita: 6 — visitando nodo con id: 6\n",
      "Número de visita: 7 — visitando nodo con id: 8\n",
      "Número de visita: 8 — visitando nodo con id: 7\n",
      "Número de visita: 9 — visitando nodo con id: 9\n",
      "Número de visita: 10 — visitando nodo con id: 10\n"
     ]
    }
   ],
   "source": [
    "print(\"Recorrido EN AMPLITUD (BFS, o 'por niveles')\")\n",
    "for i, nodo in enumerate(T):\n",
    "    print(f\"Número de visita: {i} — visitando nodo con id: {nodo.id_nodo}\")"
   ]
  },
  {
   "cell_type": "markdown",
   "metadata": {},
   "source": [
    "## DFS"
   ]
  },
  {
   "cell_type": "markdown",
   "metadata": {},
   "source": [
    "En el siguiente trozo de código, hacemos que un árbol sea iterable con el recorrido DFS."
   ]
  },
  {
   "cell_type": "code",
   "execution_count": 5,
   "metadata": {
    "ExecuteTime": {
     "end_time": "2019-04-05T03:56:17.381292Z",
     "start_time": "2019-04-05T03:56:17.361183Z"
    }
   },
   "outputs": [],
   "source": [
    "from collections import deque\n",
    "\n",
    "class ArbolDFS(Arbol):\n",
    "    \"\"\"Heredamos de la clase Arbol para hacerla iterable según el orden con DFS\"\"\"\n",
    "    \n",
    "    def __iter__(self):\n",
    "        \"\"\"Itera el árbol según DFS\"\"\"\n",
    "        # Utilizamos un stack para almacenar los nodos por visitar\n",
    "        stack = deque()\n",
    "        # El primer nodo a visitar será la raíz\n",
    "        stack.append(self)\n",
    "        \n",
    "        # Mientras queden nodos por visitar en el stack\n",
    "        while len(stack) > 0:\n",
    "            # Extraemos el que está en el tope del stack\n",
    "            nodo = stack.pop()\n",
    "            \n",
    "            # Lo visitamos\n",
    "            yield nodo\n",
    "            \n",
    "            # Agregamos todos los nodos hijos al stack\n",
    "            for hijo in nodo.hijos.values():\n",
    "                stack.append(hijo)"
   ]
  },
  {
   "cell_type": "markdown",
   "metadata": {},
   "source": [
    "Poblamos el árbol con los datos usados en el ejemplo de la clase `Arbol`"
   ]
  },
  {
   "cell_type": "code",
   "execution_count": 6,
   "metadata": {
    "ExecuteTime": {
     "end_time": "2019-04-05T03:56:17.430841Z",
     "start_time": "2019-04-05T03:56:17.383995Z"
    }
   },
   "outputs": [
    {
     "data": {
      "text/plain": [
       "id: 0, valor: 10\n",
       "  id: 1, valor: 8\n",
       "    id: 2, valor: 9\n",
       "      id: 8, valor: 4, nodo hoja\n",
       "  id: 3, valor: 12\n",
       "    id: 4, valor: 5\n",
       "      id: 7, valor: 8, nodo hoja\n",
       "    id: 5, valor: 14, nodo hoja\n",
       "    id: 6, valor: 20\n",
       "      id: 9, valor: 15, nodo hoja\n",
       "      id: 10, valor: 6, nodo hoja"
      ]
     },
     "execution_count": 6,
     "metadata": {},
     "output_type": "execute_result"
    }
   ],
   "source": [
    "T = ArbolDFS(0, 10)\n",
    "T.agregar_nodo(1, 8, 0)\n",
    "T.agregar_nodo(3, 12, 0)\n",
    "T.agregar_nodo(2, 9, 1)\n",
    "T.agregar_nodo(4, 5, 3)\n",
    "T.agregar_nodo(5, 14, 3)\n",
    "T.agregar_nodo(6, 20, 3)\n",
    "T.agregar_nodo(8, 4, 2)\n",
    "T.agregar_nodo(7, 8, 4)\n",
    "T.agregar_nodo(9, 15, 6)\n",
    "T.agregar_nodo(10, 6, 6)\n",
    "T"
   ]
  },
  {
   "cell_type": "code",
   "execution_count": 7,
   "metadata": {
    "ExecuteTime": {
     "end_time": "2019-04-05T03:56:17.474152Z",
     "start_time": "2019-04-05T03:56:17.444222Z"
    }
   },
   "outputs": [
    {
     "name": "stdout",
     "output_type": "stream",
     "text": [
      "Recorrido EN PROFUNDIDAD (DFS, o 'por ramas')\n",
      "Número de visita: 0 — visitando nodo con id: 0\n",
      "Número de visita: 1 — visitando nodo con id: 3\n",
      "Número de visita: 2 — visitando nodo con id: 6\n",
      "Número de visita: 3 — visitando nodo con id: 10\n",
      "Número de visita: 4 — visitando nodo con id: 9\n",
      "Número de visita: 5 — visitando nodo con id: 5\n",
      "Número de visita: 6 — visitando nodo con id: 4\n",
      "Número de visita: 7 — visitando nodo con id: 7\n",
      "Número de visita: 8 — visitando nodo con id: 1\n",
      "Número de visita: 9 — visitando nodo con id: 2\n",
      "Número de visita: 10 — visitando nodo con id: 8\n"
     ]
    }
   ],
   "source": [
    "print(\"Recorrido EN PROFUNDIDAD (DFS, o 'por ramas')\")\n",
    "for i, nodo in enumerate(T):\n",
    "    print(f\"Número de visita: {i} — visitando nodo con id: {nodo.id_nodo}\")"
   ]
  },
  {
   "cell_type": "markdown",
   "metadata": {},
   "source": [
    "#### DFS recursivo\n",
    "\n",
    "Es muy sencillo implementar DFS mediante una recursión, tal y como se muestra en el siguiente código:"
   ]
  },
  {
   "cell_type": "code",
   "execution_count": 8,
   "metadata": {
    "ExecuteTime": {
     "end_time": "2019-04-05T03:56:17.505755Z",
     "start_time": "2019-04-05T03:56:17.479834Z"
    }
   },
   "outputs": [],
   "source": [
    "from collections import deque\n",
    "\n",
    "class ArbolDFSRecursivo(Arbol):\n",
    "    \"\"\"Heredamos de la clase Arbol para hacerla iterable según el orden con DFS recursivo\"\"\"\n",
    "    \n",
    "    def __iter__(self):\n",
    "        \"\"\"Itera el árbol según DFS recursivo\"\"\"\n",
    "        # Visitamos el nodo actual\n",
    "        yield self\n",
    "        # Aplicamos esto recursivamente a cada hijo\n",
    "        for hijo in self.hijos.values():\n",
    "            yield from hijo"
   ]
  },
  {
   "cell_type": "code",
   "execution_count": 9,
   "metadata": {
    "ExecuteTime": {
     "end_time": "2019-04-05T03:56:17.544881Z",
     "start_time": "2019-04-05T03:56:17.511942Z"
    }
   },
   "outputs": [],
   "source": [
    "T = ArbolDFSRecursivo(0, 10)\n",
    "T.agregar_nodo(1, 8, 0)\n",
    "T.agregar_nodo(3, 12, 0)\n",
    "T.agregar_nodo(2, 9, 1)\n",
    "T.agregar_nodo(4, 5, 3)\n",
    "T.agregar_nodo(5, 14, 3)\n",
    "T.agregar_nodo(6, 20, 3)\n",
    "T.agregar_nodo(8, 4, 2)\n",
    "T.agregar_nodo(7, 8, 4)\n",
    "T.agregar_nodo(9, 15, 6)\n",
    "T.agregar_nodo(10, 6, 6)"
   ]
  },
  {
   "cell_type": "code",
   "execution_count": 10,
   "metadata": {
    "ExecuteTime": {
     "end_time": "2019-04-05T03:56:17.606837Z",
     "start_time": "2019-04-05T03:56:17.548528Z"
    }
   },
   "outputs": [
    {
     "name": "stdout",
     "output_type": "stream",
     "text": [
      "Recorrido EN PROFUNDIDAD (DFS, o 'por ramas')\n",
      "Número de visita: 0 — visitando nodo con id: 0\n",
      "Número de visita: 1 — visitando nodo con id: 1\n",
      "Número de visita: 2 — visitando nodo con id: 2\n",
      "Número de visita: 3 — visitando nodo con id: 8\n",
      "Número de visita: 4 — visitando nodo con id: 3\n",
      "Número de visita: 5 — visitando nodo con id: 4\n",
      "Número de visita: 6 — visitando nodo con id: 7\n",
      "Número de visita: 7 — visitando nodo con id: 5\n",
      "Número de visita: 8 — visitando nodo con id: 6\n",
      "Número de visita: 9 — visitando nodo con id: 9\n",
      "Número de visita: 10 — visitando nodo con id: 10\n"
     ]
    }
   ],
   "source": [
    "print(\"Recorrido EN PROFUNDIDAD (DFS, o 'por ramas')\")\n",
    "for i, nodo in enumerate(T):\n",
    "    print(f\"Número de visita: {i} — visitando nodo con id: {nodo.id_nodo}\")"
   ]
  }
 ],
 "metadata": {
  "kernelspec": {
   "display_name": "Python 3",
   "language": "python",
   "name": "python3"
  },
  "language_info": {
   "codemirror_mode": {
    "name": "ipython",
    "version": 3
   },
   "file_extension": ".py",
   "mimetype": "text/x-python",
   "name": "python",
   "nbconvert_exporter": "python",
   "pygments_lexer": "ipython3",
   "version": "3.6.6"
  },
  "varInspector": {
   "cols": {
    "lenName": 16,
    "lenType": 16,
    "lenVar": 40
   },
   "kernels_config": {
    "python": {
     "delete_cmd_postfix": "",
     "delete_cmd_prefix": "del ",
     "library": "var_list.py",
     "varRefreshCmd": "print(var_dic_list())"
    },
    "r": {
     "delete_cmd_postfix": ") ",
     "delete_cmd_prefix": "rm(",
     "library": "var_list.r",
     "varRefreshCmd": "cat(var_dic_list()) "
    }
   },
   "types_to_exclude": [
    "module",
    "function",
    "builtin_function_or_method",
    "instance",
    "_Feature"
   ],
   "window_display": false
  }
 },
 "nbformat": 4,
 "nbformat_minor": 2
}
