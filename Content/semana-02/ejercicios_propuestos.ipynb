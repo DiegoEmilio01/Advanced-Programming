{
 "cells": [
  {
   "cell_type": "markdown",
   "metadata": {},
   "source": [
    "# Ejercicios propuestos OOP"
   ]
  },
  {
   "cell_type": "markdown",
   "metadata": {},
   "source": [
    "Los siguientes problemas se dejan como opción para ejercitar los conceptos revisados en el material de Programación Orientada a Objetos. Si tienes dudas sobre algún problema o alguna solución, no dudes en dejar una *issue* en el [foro del curso](https://github.com/IIC2233/syllabus/issues). Se recomienda que resuelvas estos ejercicios escribiendo en módulos de extensión `.py` desde cero para acostumbrarte a la _sintaxis_ de clases, herencia, *properties*, etc..."
   ]
  },
  {
   "cell_type": "markdown",
   "metadata": {},
   "source": [
    "## Ejercicio 1: Autos y *properties*"
   ]
  },
  {
   "cell_type": "markdown",
   "metadata": {},
   "source": [
    "Crea una clase ```Vehículo``` con los atributos ```modelo```, ```marca``` y ```patente```. Luego, crea una clase ```Deportivo```que herede de ```Vehículo``` y tenga adicionalmente un atributo ```precio``` y ```fecha_de_compra```(sólo el año, por simplicidad). \n",
    "\n",
    "Las instancias de ```Deportivo```deben poder describir su ```adquisicion``` mediante un método, el cual **imprime** el siguiente _string_ `\"Auto adquirido el: 'año'\"`, dónde `'año'` es la ```fecha_de_compra``` de la instancia.\n",
    "\n",
    "Implementa también una *property* ```depreciación_acumulada``` para `Deportivo` que calcula el valor de precio que el vehículo ha perdido en el tiempo. Este valor se calcular de la siguiente forma: ```(precio / 10)*(fecha_actual - fecha_de_compra)```.\n",
    "\n",
    "Finalmente, debes escribir un código principal que genere una instancia de `Deportivo`, imprima todos sus atributos, imprima su `depreciación_acumulada` y finalmente llame al método `adquisicion`.\n",
    "\n",
    "Puedes empezar a partir del siguiente código."
   ]
  },
  {
   "cell_type": "code",
   "execution_count": null,
   "metadata": {},
   "outputs": [],
   "source": [
    "class Vehiculo:\n",
    "    \n",
    "    def __init__(self, modelo, marca, patente):\n",
    "        self.modelo = modelo\n",
    "        self.marca = marca\n",
    "        self.patente = patente\n",
    "        \n",
    "class Deportivo(Vehiculo):\n",
    "    \n",
    "    def __init__(self, modelo, marca, patente, precio, fecha_de_compra):\n",
    "        pass\n",
    "        \n",
    "    def adquisicion(self):\n",
    "        pass\n",
    "        \n",
    "    @property\n",
    "    def depreciacion_acumulada(self):\n",
    "        pass\n",
    "\n",
    "\n",
    "if __name__ == \"__main__\":\n",
    "    auto = Deportivo('SuperCaro', 'DCC', 'IIC2233', 10000, 2017)\n",
    "    # ..."
   ]
  },
  {
   "cell_type": "markdown",
   "metadata": {},
   "source": [
    "## Ejercicio 2: DCCgram"
   ]
  },
  {
   "cell_type": "markdown",
   "metadata": {},
   "source": [
    "La red social DCCgram necesita de tu ayuda como programador para controlar la edicion de la información por parte de sus usuarios. Específicamente, debes implementar una forma de que los atributos de una clase solo se modifiquen cuando cumplen ciertas reglas.\n",
    "\n",
    "Primero, debes crear la clase ```DCCgram```, la que debe tener como **atributo** una lista que contenga usuarios, que serán instancias de la clase `Usuario`. Luego, debes implementar ```Usuario```, la que debe tener la posibilidad de registrar el ```username```, ```mail```, ```edad```,  y ```rut``` como atributos.\n",
    "\n",
    "Debes implementar *properties* en `Usuario` para asegurar la posibilidad de modificar todos sus atributos fácilmente, pero teniendo en cuenta las siguientes restricciones:\n",
    "\n",
    "- ```edad``` solo puede ser mayor o igual a 18 años\n",
    "- ```rut``` debe tener un solo guión (`\"-\"`) y no tener más de 10 dígitos\n",
    "- ```mail``` debe permitir solo dominio ```\"uc.cl\"```\n",
    "\n",
    "Además, debes implementar un método de `DCCgram` que agregue nuevos usuarios a la plataforma, pero solo lo haga si cada nuevo usuario cumple con todos los requisitos y si su `username` no existe previamente.\n",
    "\n",
    "Toma el siguiente código como base para implementar lo pedido."
   ]
  },
  {
   "cell_type": "code",
   "execution_count": null,
   "metadata": {},
   "outputs": [],
   "source": [
    "class DCCgram:\n",
    "    \n",
    "    def __init__(self):\n",
    "        self.usuarios = []\n",
    "    \n",
    "    def agregar(self, nuevo_usuario):\n",
    "        pass\n",
    "        \n",
    "class Usuario:\n",
    "    \n",
    "    def __init__(self, username, mail, edad, rut):\n",
    "        # Así validamos de inmediato los atributos\n",
    "        self.__username = None\n",
    "        self.__mail = None\n",
    "        self.__edad = None\n",
    "        self.__rut = None\n",
    "        self.username = username\n",
    "        self.mail = mail\n",
    "        self.edad = edad\n",
    "        self.rut = rut\n",
    "    \n",
    "    @property\n",
    "    def username(self):\n",
    "        pass\n",
    "    \n",
    "    @username.setter\n",
    "    def username(self, value):\n",
    "        pass\n",
    "    \n",
    "    @property\n",
    "    def mail(self):\n",
    "        pass\n",
    "    \n",
    "    @mail.setter\n",
    "    def mail(self, value):\n",
    "        pass\n",
    "        \n",
    "    @property\n",
    "    def edad(self):\n",
    "        pass\n",
    "    \n",
    "    @edad.setter\n",
    "    def edad(self, value):\n",
    "        pass\n",
    "        \n",
    "    @property\n",
    "    def rut(self):\n",
    "        pass\n",
    "    \n",
    "    @rut.setter\n",
    "    def rut(self, value):\n",
    "        pass\n",
    "    \n",
    "    \n",
    "\n",
    "if __name__ == \"__main__\":\n",
    "\n",
    "    dcc_gram = DCCgram()\n",
    "    u1 = Usuario('usuario1', 'usuario1@uc.cl', 17, '00000-0')\n",
    "    u2 = Usuario('usuario2', 'usuario2@uc.cl', 19, '00000')\n",
    "    u3 = Usuario('usuario3', 'usuario1@gmail.cl', 19, '00001-0')\n",
    "    u4 = Usuario('usuario4', 'usuario4@uc.cl', 18, '00002-0')\n",
    "\n",
    "    dcc_gram.agregar(u1)\n",
    "    dcc_gram.agregar(u2)\n",
    "    dcc_gram.agregar(u3)\n",
    "    dcc_gram.agregar(u4)\n",
    "    # Si todo ha salido bien, solo user 4 debería estar en la lista\n",
    "    print(dcc_gram.usuarios)  # ¿Qué método deberias implementar para poder verlo en la lista?"
   ]
  },
  {
   "cell_type": "markdown",
   "metadata": {},
   "source": [
    "## Ejercicio 3: _prints_ extraños"
   ]
  },
  {
   "cell_type": "markdown",
   "metadata": {},
   "source": [
    "Utilizando el **Ejercicio 1**, crea un objeto e imprímelo. Verás que algo extraño aparecerá en la pantalla. Dado lo anterior, se te solicita que modifiques la clase ```Vehiculo``` para que sea capaz de mostrar toda la información relacionada a ella, es decir, su ```modelo```, ```marca```y ```patente```al momento de imprimir una instancia de esta clase.\n",
    "\n",
    "***Hint:*** Te puede ser útil revisar la materia de Polimorfismo."
   ]
  },
  {
   "cell_type": "code",
   "execution_count": null,
   "metadata": {},
   "outputs": [],
   "source": [
    "class Vehiculo:\n",
    "    \n",
    "    def __init__(self, modelo, marca, patente):\n",
    "        self.modelo = modelo\n",
    "        self.marca = marca\n",
    "        self.patente = patente\n",
    "    \n",
    "    def __str__(self):\n",
    "        pass\n",
    "    \n",
    "    def __repr__(self):\n",
    "        pass\n",
    "\n",
    "    \n",
    "if __name__ == \"__main__\":\n",
    "    auto = Vehiculo('SuperCaro', 'DCC', 'IIC2233-1')\n",
    "    camion =  Vehiculo('camion', 'DCC', 'IIC2233-1')\n",
    "    # Con estos prints se nota la diferencia entre repr y str\n",
    "    print(auto)\n",
    "    print(camion)\n",
    "    print([auto, camion])"
   ]
  },
  {
   "cell_type": "markdown",
   "metadata": {},
   "source": [
    "## Encuentra los errores"
   ]
  },
  {
   "cell_type": "markdown",
   "metadata": {},
   "source": [
    "En los ejercicios 4 y 5 te mostraremos código con errores relacionados a la materia, con el objetivo de que tú identifiques donde están los errores y los corrijas. También, algunos ejercicios pueden incluir maneras distintas de aplicar los contenidos, esto con el objetivo de mostrar distintas formas de ejecutar el código.\n",
    "\n",
    "**Atención**: Debes tener en cuenta que el código presentado puede estar hecho con el objetivo de dificultar la lectura, por lo que queda a tú criterio si usas de referencia alguno de estos ejercicios para hacer una implementación."
   ]
  },
  {
   "cell_type": "markdown",
   "metadata": {},
   "source": [
    "## Ejercicio 4: Un misterioso error"
   ]
  },
  {
   "cell_type": "markdown",
   "metadata": {},
   "source": [
    "El código que se te presenta a continuación contiene un error. Debes leer el código, identificar en qué parte está el error y luego debes solucionarlo.\n",
    "\n",
    "***Hint***: No tomes en cuenta aquellas líneas de código raro, céntrate en las de la materia. Hay solo **un** error, pero puede estar presente en múltiples líneas."
   ]
  },
  {
   "cell_type": "code",
   "execution_count": null,
   "metadata": {},
   "outputs": [],
   "source": [
    "from random import randint, sample\n",
    "\n",
    "class Misterio:\n",
    "    def __init__(self, atributo_1, atributo_2, atributo_3):\n",
    "        self.atributo_1 = atributo_1\n",
    "        self.atributo_2 = atributo_2\n",
    "        self._atributo_3 = atributo_3\n",
    "    \n",
    "    # ¿Todo bien con estas properties?\n",
    "    @property\n",
    "    def atributo_3(self):\n",
    "        return self.atributo_3\n",
    "    \n",
    "    @atributo_3.setter\n",
    "    def atributo_3(self, value):\n",
    "        if value % 2:  # ¿A qué se compara esto?\n",
    "            self.atributo_3 = value + 1\n",
    "        else:\n",
    "            self.atributo_3 = value\n",
    "        # Atributo_3 será siempre impar\n",
    "    \n",
    "    def __add__(self, otro):\n",
    "        return self.atributo_1 + otro.atributo_1\n",
    "    \n",
    "    def __str__(self):\n",
    "        return f'Atributo 1 : {self.atributo_1} - Atributo 2 : {self.atributo_2} - Atributo_3 : {self.atributo_3}'\n",
    "    \n",
    "    def __repr__(self):\n",
    "        return f'Atributo 1 : {self.atributo_1} - Atributo 2 : {self.atributo_2} - Atributo_3 : {self.atributo_3}'\n",
    "\n",
    "class CajaMisteriosa:\n",
    "    abcedario = list('abcdefghijklmnopqrstuvwxyz')  # ¿Esto se puede?\n",
    "    def __init__(self):\n",
    "        # ¿Qué clase de Python es este?\n",
    "        self.caja = [Misterio(randint(1, 100), ''.join(sample(CajaMisteriosa.abcedario,i)), i) for i in range(10)]\n",
    "    \n",
    "    def __add__(self, misterio):\n",
    "        # ¿Y este add tendrá algo malo?\n",
    "        haremos_algo_de_seguro = False\n",
    "        for algo in filter(lambda x: x.atributo_1 == misterio.atributo_1, self.caja):\n",
    "            # ¿Todo bien con la conversion de tipos?\n",
    "            algo.atributo_3 = len(misterio.atributo_2) * misterio.atributo_3\n",
    "            haremos_algo_de_seguro = True\n",
    "        if not haremos_algo_de_seguro:  # Nuevamente no comparamos, ¿será un error?\n",
    "            self.caja[-1].atributo_3 = len(misterio.atributo_2) * misterio.atributo_3\n",
    "\n",
    "# Herencia, por supuesto, ¿Aquí debería estar el error o no?\n",
    "class CajaDinamica(CajaMisteriosa):\n",
    "    def __init__(self, nombre):\n",
    "        self.nombre = nombre\n",
    "        super().__init__()\n",
    "        \n",
    "    @property\n",
    "    def largo(self):\n",
    "        # Pero no existe self._caja ni self._largo, de seguro eso es\n",
    "        return len(self.caja)\n",
    "    \n",
    "    @largo.setter\n",
    "    def largo(self, valor):\n",
    "        if type(valor) == list:\n",
    "            #  Esto si que es raro no?\n",
    "            self + valor[-1]\n",
    "    \n",
    "\n",
    "# Uff, ¿y si el error es en la implementacion?\n",
    "if __name__ == \"__main__\":\n",
    "\n",
    "    misterio_1 = Misterio(1, 'error', 3)\n",
    "    mi_caja = CajaDinamica('mi caja sin error')\n",
    "\n",
    "    # Que extraño largo al parecer funciona bien\n",
    "    print(mi_caja.largo)\n",
    "    mi_caja.largo += 12 \n",
    "    print(mi_caja.largo)\n",
    "    print(mi_caja.caja)\n",
    "    mi_caja.largo = mi_caja.caja + [misterio_1]\n"
   ]
  },
  {
   "cell_type": "markdown",
   "metadata": {},
   "source": [
    "## Ejercicio 5: Bonito Diamante"
   ]
  },
  {
   "cell_type": "markdown",
   "metadata": {},
   "source": [
    "El DCC estuvo tratando de modelar el funcionamiento del cuerpo de ayudantes, sin embargo tuvieron complicaciones con la creación de clases y nadie ha podido resolver el modelo. Debes usar el siguiente método y el siguiente atributo. Ten en cuenta que si ejecutas el código en la celda arrojará un error, pues estos métodos están pensados para que los **copies y pegues** dentro de una clase:"
   ]
  },
  {
   "cell_type": "code",
   "execution_count": null,
   "metadata": {},
   "outputs": [],
   "source": [
    "#Método a copiar\n",
    "def asistir_a_catedra(self):  \n",
    "        print('¡¡Voy a la cátedra!!')\n",
    "\n",
    "#Atributo a copiar\n",
    "self.mensaje_de_apoyo = mensaje"
   ]
  },
  {
   "cell_type": "markdown",
   "metadata": {},
   "source": [
    "**Atención**: Tienes ciertas restricciones.\n",
    "- Solo puedes copiar y pegar el atributo y el método, **no puedes agregar nada más**\n",
    "- Solo puedes copiar **una vez** el atributo y el método, por lo que debes escoger bien en qué clase quedará.\n",
    "\n",
    "\n",
    "Es por esto que debes escoger bien en qué clases implementarás el método y el atributo. Si tu elección es la correcta, el código del final debe ejecutarse sin problemas."
   ]
  },
  {
   "cell_type": "code",
   "execution_count": null,
   "metadata": {},
   "outputs": [],
   "source": [
    "class FullDocencia:\n",
    "    def __init__(self, nombre, mensaje):\n",
    "        self.nombre = nombre\n",
    "\n",
    "    \n",
    "    def mostrar_apoyo(self):\n",
    "        print(f'Vamos, tú puedes, {self.mensaje_de_apoyo}')\n",
    "\n",
    "class FullTarea:  # La condicion es que FullTarea nunca ejecutará su método\n",
    "    def __init__(self, nombre, mensaje):\n",
    "        self.nombre = nombre\n",
    "    \n",
    "    def ayudar_en_catedra(self):\n",
    "        # ¿Y de donde sacará este atributo?\n",
    "        print(f'{self.mensaje_de_apoyo}!!')\n",
    "\n",
    "class HibridoTarea(FullTarea, FullDocencia):\n",
    "    def __init__(self, nombre, mensaje):\n",
    "        FullTarea.__init__(self, nombre, mensaje)\n",
    "        FullDocencia.__init__(self,nombre, mensaje)\n",
    "\n",
    "class HibridoDocencia(FullDocencia, FullTarea):\n",
    "    def __init__(self, nombre, mensaje):\n",
    "        FullDocencia.__init__(self,nombre, mensaje)\n",
    "        FullTarea.__init__(self, nombre, mensaje)\n",
    "        \n",
    "# ¿Puedes identificar a estos ayudantes?\n",
    "ay_1 = HibridoTarea('Antonio Aguilar', 'Ánimo que se puede')\n",
    "ay_2 = HibridoDocencia('Jorge Negrete', 'Da lo mejor de ti') \n",
    "ay_3 = FullTarea('Miguel Aceves Mejía', '¡¡Siempre hay una segunda oportunidad!!')  \n",
    "ay_4 = FullDocencia('Pedro Infante', 'Un tropezon no es caida') # Parcial\n",
    "\n",
    "ay_2.asistir_a_catedra()\n",
    "ay_1.asistir_a_catedra()\n",
    "\n",
    "ay_2.mostrar_apoyo()\n",
    "ay_1.mostrar_apoyo()\n",
    "ay_4.mostrar_apoyo()\n"
   ]
  },
  {
   "cell_type": "markdown",
   "metadata": {},
   "source": [
    "Si lograste hacer funcionar el código, podrás haber notado que éste presenta una restricción en particular para que funcione. \n",
    "\n",
    "¿Es correcta esta forma de modelar? ¿Es válida esa restricción al modelo? ¿Se puede hacer de manera distinta?"
   ]
  }
 ],
 "metadata": {
  "kernelspec": {
   "display_name": "Python 3",
   "language": "python",
   "name": "python3"
  },
  "language_info": {
   "codemirror_mode": {
    "name": "ipython",
    "version": 3
   },
   "file_extension": ".py",
   "mimetype": "text/x-python",
   "name": "python",
   "nbconvert_exporter": "python",
   "pygments_lexer": "ipython3",
   "version": "3.7.4"
  }
 },
 "nbformat": 4,
 "nbformat_minor": 2
}
