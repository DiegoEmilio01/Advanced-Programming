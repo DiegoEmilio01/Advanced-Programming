{
 "cells": [
  {
   "cell_type": "markdown",
   "metadata": {},
   "source": [
    "<p>\n",
    "<font size='5' face='Georgia, Arial'>IIC2233 Apunte Programación Avanzada</font><br>\n",
    "<font size='1'>Basado en: &copy; 2015 Karim Pichara - Christian Pieringer. Todos los derechos reservados. Modificado el 2018-1 y 2019-2 por el Equipo IIC2233</font>\n",
    "</p>"
   ]
  },
  {
   "cell_type": "markdown",
   "metadata": {},
   "source": [
    "# Tabla de contenidos\n",
    "\n",
    "1. [Diagrama de Clases](#Diagrama-de-Clases)\n",
    "    1. [Elementos de un diagrama de clases](#Elementos-de-un-diagrama-de-clases)\n",
    "        1. [Clases](#Clases)\n",
    "        2. [Relaciones](#Relaciones)"
   ]
  },
  {
   "cell_type": "markdown",
   "metadata": {},
   "source": [
    "# Diagrama de Clases\n",
    "\n",
    "El **diagrama de clases** es una herramienta muy útil que permite visualizar fácilmente las clases que componen un sistema, así como también sus atributos, métodos y las interacciones que existen entre ellas. Este tipo de diagrama pertenece al conjunto de herramientas provistas por el *Lenguaje de Modelado Unificado* (UML, *Unified Modeling Language*). Aunque UML permite incorporar otros elementos y herramientas para modelar sistemas más complejos, en este curso sólo consideraremos el modelamiento de las clases y sus relaciones. Aprenderemos que hacer un diagrama de clases previo a la codificación nos permitirá planificar mejor nuestros programas.\n",
    "\n",
    "Como primer paso, durante el modelamiento de clases debemos analizar acuciosamente los requerimientos del sistema, para poder interpretar y traducir adecuadamente esta información a cada una de las clases creadas.\n",
    "\n",
    "\n",
    "\n",
    "## Elementos de un diagrama de clases\n",
    "\n",
    "Un diagrama de clases se compone de **clases** y **relaciones**.\n",
    "\n",
    "\n",
    "### Clases\n",
    "\n",
    "Las clases corresponden a las estructuras básicas que __*encapsulan*__ la información. Debemos recopilar la información a encapsular de forma independiente para cada clase, aisladas unas de otras. Una buena recomendación es realizar esta tarea comenzado desde las clases más simples a las más complejas.\n",
    "\n",
    "Gráficamente, como muestra la figura a continuación, representaremos una clase con un rectángulo dividido en tres niveles. El primer nivel contiene el nombre de la clase; el segundo contiene los atributos o variables propias de la clase; y, finalmente, el tercero contiene los métodos propios de la clase. \n",
    "\n",
    "![](img/UML_class.png)"
   ]
  },
  {
   "cell_type": "markdown",
   "metadata": {},
   "source": [
    "Por ejemplo, consideremos que usando OOP queremos modelar el famoso juego Super Mario Bros.\n",
    "\n",
    "<img src=\"img/OOP_mario.png\" width=\"600\">"
   ]
  },
  {
   "cell_type": "markdown",
   "metadata": {},
   "source": [
    "Primero, listemos las principales clases involucradas en este juego:\n",
    "\n",
    "1. Juego\n",
    "1. Mario Bros\n",
    "1. Goomba (villano)\n",
    "1. Champiñón (superpoder)\n",
    "1. Planta piraña\n",
    "1. Ladrillo monedas\n",
    "1. Ladrillo móvil\n",
    "1. Ladrillo estático\n",
    "\n",
    "Por otro lado, tenemos otros personajes que no aparecen en la imagen:\n",
    "\n",
    "1. Bowser (el archienemigo de Mario)\n",
    "1. Princesa\n",
    "\n",
    "Usando los diagramas de clases podemos modelar algunas de estas clases como se muestran a continuación:\n",
    "\n",
    "<img src=\"img/UML_mario_01.png\" width=\"600\">"
   ]
  },
  {
   "cell_type": "markdown",
   "metadata": {},
   "source": [
    "Podemos observar que, para los atributos, se debe especificar su nombre y tipo de variable. Por otro lado, para los métodos se debe especificar su nombre y el tipo de variable esperado para su valor de retorno."
   ]
  },
  {
   "cell_type": "markdown",
   "metadata": {},
   "source": [
    "### Relaciones\n",
    "\n",
    "Los diagramas de clases explican cómo ocurre la interacción entre las clases dentro del sistema que modelamos. Las relaciones más comunes son: **composición**, **agregación** y **herencia**.\n",
    "\n",
    "\n",
    "#### Composición\n",
    "\n",
    "En este tipo de relación, los objetos de la clase que creamos se contruyen a partir de la **inclusión** de otros elementos. El tiempo de vida del objeto que componemos *está **condicionado** por el tiempo de vida del objeto que lo incluye*. En otras palabras, **la existencia de los objetos incluidos depende de la existencia del objeto que los incluye**. La relación de composición entre clases se indica por una flecha que parte desde el objeto base y va hasta el objeto que componemos (incluímos). La base de la flecha es un **rombo relleno**. "
   ]
  },
  {
   "cell_type": "markdown",
   "metadata": {},
   "source": [
    "Consideremos el caso del juego que hemos descrito anteriormente, en que cada instancia del juego se compone de un conjunto de otros objetos. Una instancia de Mario solo existe como parte de una instancia del juego, y no tienen sentido en nuestro modelo como clases independientes. Lo mismo pasa con los ladrillos, goombas y champiñones. Si eliminamos el objeto `Juego`, también deberíamos eliminar a `Mario`, y su conjunto de ladrillos. Así es como se determina que se trata de una relación de composición. La composición se representa gráficamente como muestra la siguiente figura: \n",
    "\n",
    "<img src=\"img/UML_mario_03.png\" width=\"600\">"
   ]
  },
  {
   "cell_type": "markdown",
   "metadata": {},
   "source": [
    "#### Agregación\n",
    "\n",
    "En este tipo de relación también construimos la clase base usando otros objetos, pero en este caso, el tiempo de vida del objeto que agregamos es **independiente** del tiempo de vida del objeto que lo incluye. La asociación entre los objetos se indica por una flecha que parte desde el objeto base y va hasta el objeto que agregamos. A diferencia de la composición, la base de la flecha es un **rombo sin rellenar**."
   ]
  },
  {
   "cell_type": "markdown",
   "metadata": {},
   "source": [
    "Consideremos el caso del objeto `Bowser`, el archienemigo de Mario. Para hacerse poderoso tiene que aliarse con muchos objetos de la clase `Goomba`, quienes pasan a ser parte de su `Ejercito`. Sin embargo, si desaparece la clase `Ejercito`, los `Goomba` siguen vivos, esto implica una relación de agregación. Los `Goomba` eran parte del `Ejercito`, pero también pueden vivir como independientes.\n",
    "\n",
    "Otra forma de ver este concepto de agregación es pensar en que Mario tiene un `Estante` de objetos `Libro` en el castillo, si se destruye el `Estante`, los `Libro` siguen existiendo. La agregación se representa gráficamente como muestra la siguiente figura.\n",
    "\n",
    "<img src=\"img/UML_mario_04.png\" width=\"200\">"
   ]
  },
  {
   "cell_type": "markdown",
   "metadata": {},
   "source": [
    "#### Cardinalidad de las relaciones\n",
    "\n",
    "Tanto para la composición como la agregación, utilizaremos el concepto de **cardinalidad** para indicar el grado y nivel de dependencia entre las relaciones. La cardinalidad la indicamos en cada extremo de la relación. Los posibles casos de cardinalidad son:\n",
    "\n",
    "- 1 o muchos: 1..*\n",
    "- 0 o muchos: 0..*\n",
    "- Número fijo: n\n",
    "\n",
    "Según esta notación, podemos ver en el caso de agregación (mostrado en la figura anterior) que un ejército puede tener *1 o muchos* goombas asociadas a él, sin embargo, un goomba *sólo puede ser parte de un* ejército."
   ]
  },
  {
   "cell_type": "markdown",
   "metadata": {},
   "source": [
    "\n",
    "#### Herencia\n",
    "\n",
    "Recordemas que la herencia es una relación de **especialización y generalización**, donde una **subclase** *hereda* atributos y métodos desde una **superclase**. La subclase posee todos los atributos y métodos de la superclase, pero además tiene sus propios métodos y atributos específicos.\n",
    "\n",
    "Continuando con el ejemplo anterior, es posible ver que existen muchos tipos de `Ladrillo`: objetos definidos porque el personaje Mario no puede atravesarlos ya que son barreras, y por lo tanto comparten ese **mismo comportamiento** general. Además de este comportamiento general en la interacción, todos tienen posiciones. Podemos pensar entonces que tiene sentido crear una superclase `Ladrillo` y subclases `LadrilloMoneda` y `LadrilloMovil` (`LadrilloEstatico` sería completamente reemplazado por `Ladrillo`). Ahora cuando `Mario` choque con un objeto, solo preguntaremos si es de la superclase `Ladrillo`, en vez de preguntar por todos los tipos posibles de ladrillos. Esta relación de herencia se define gráficamente con una flecha de punta vacía que apunta hacia la superclase, como muestra la siguiente figura.\n",
    "\n",
    "<img src=\"img/UML_mario_05.png\" width=\"600\">"
   ]
  },
  {
   "cell_type": "markdown",
   "metadata": {},
   "source": [
    "#### Modelo integrado\n",
    "\n",
    "Podemos entonces unir todo el modelamiento descrito anteriormente usando diagramas de clases como se muestra a continuación):\n",
    "\n",
    "<img src=\"img/UML_mario_07.png\" width=\"800\">"
   ]
  },
  {
   "cell_type": "markdown",
   "metadata": {},
   "source": [
    "Una vez que está construido el diagrama de clases, tenemos un esqueleto inicial de nuestro programa. A partir del diagrama es fácil construir la primera versión de nuestro código."
   ]
  },
  {
   "cell_type": "code",
   "execution_count": 2,
   "metadata": {},
   "outputs": [],
   "source": [
    "class Juego:\n",
    "    def __init__(self):\n",
    "        self.timestamp_inicio = 0\n",
    "        self.tiempo_actual = 0\n",
    "        self.personaje = Mario()     # Al ser relación de composición, creamos a Mario dentro de juego\n",
    "        self.puntaje = 0\n",
    "        self.goombas = list()        # Aquí incluiremos goombas que crearemos durante la inicialización del juego\n",
    "        self.champiñones = list()    # Aquí incluiremos champiñones que crearemos durante la inicialización del juego\n",
    "        self.ladrillos = list()      # Aquí incluiremos ladrillos que crearemos durante la inicialización del juego\n",
    "        \n",
    "    def iniciar_juego():\n",
    "        pass\n",
    "    \n",
    "    def finalizar_juego():\n",
    "        pass\n",
    "    \n",
    "class Mario:\n",
    "    def __init__(self):\n",
    "        self.posicion_x = 0\n",
    "        self.posicion_y = 0\n",
    "        self.cantidad_de_vidas = 5\n",
    "        self.poders = list()         # Aquí incluiremos champiñones que Mario obtendrá durante el juego\n",
    "        \n",
    "    def avanzar():\n",
    "        pass\n",
    "    \n",
    "    def retroceder():\n",
    "        pass\n",
    "    \n",
    "    def saltar():\n",
    "        pass\n",
    "    \n",
    "    def disparar(poder):\n",
    "        pass\n",
    "    \n",
    "class Goomba:\n",
    "    def __init__(self):\n",
    "        self.posicion_x = 0\n",
    "        self.posicion_y = 0\n",
    "        self.vivo = True\n",
    "        \n",
    "class Ejercito:\n",
    "    def __init__(self, lista_goombas):\n",
    "        self.goombas = lista_goombas     # Al ser relación de agregación, suponemos que los objetos ya están\n",
    "                                         # creados, o bien se agregarán de manera externa al __init__\n",
    "        \n",
    "class Champiñon:\n",
    "    def __init__(self, x, y):\n",
    "        self.posicion_x = x\n",
    "        self.posicion_y = y\n",
    "        \n",
    "class Ladrillo:\n",
    "    def __init__(self, x, y):\n",
    "        self.posicion_x = x\n",
    "        self.posicion_y = y\n",
    "\n",
    "class LadrilloMoneda(Ladrillo):\n",
    "    def __init__(self, x, y):\n",
    "        super().__init__(x, y)\n",
    "        self.valor_moneda = 10\n",
    "        \n",
    "class LadrilloMovil(Ladrillo):\n",
    "    def __init__(self, x, y):\n",
    "        super().__init__(x, y)\n",
    "        self.esconde_champiñon = False"
   ]
  }
 ],
 "metadata": {
  "kernelspec": {
   "display_name": "Python 3",
   "language": "python",
   "name": "python3"
  },
  "language_info": {
   "codemirror_mode": {
    "name": "ipython",
    "version": 3
   },
   "file_extension": ".py",
   "mimetype": "text/x-python",
   "name": "python",
   "nbconvert_exporter": "python",
   "pygments_lexer": "ipython3",
   "version": "3.7.4"
  }
 },
 "nbformat": 4,
 "nbformat_minor": 1
}
