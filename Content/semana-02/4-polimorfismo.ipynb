{
 "cells": [
  {
   "cell_type": "markdown",
   "metadata": {},
   "source": [
    "<p>\n",
    "<font size='5' face='Georgia, Arial'>IIC2233 Apunte Programación Avanzada</font><br>\n",
    "<font size='1'>Basado en: &copy; 2015 Karim Pichara - Christian Pieringer. Todos los derechos reservados. Modificado en 2018-1 y 2019-2 por Equipo IIC2233</font>\n",
    "</p>"
   ]
  },
  {
   "cell_type": "markdown",
   "metadata": {},
   "source": [
    "# Tabla de contenidos\n",
    "1. [Polimorfismo](#Polimorfismo)\n",
    "    1. [Overloading de operadores en Python](#Overloading-de-operadores-en-Python)\n",
    "    2. [`__repr__` vs `__str__`](#__repr__-vs-__str__)\n",
    "2. [Duck typing](#Duck-typing)"
   ]
  },
  {
   "cell_type": "markdown",
   "metadata": {},
   "source": [
    "## Polimorfismo\n",
    "\n",
    "El **polimorfismo** \"se refiere a la propiedad por la que es posible enviar mensajes sintácticamente iguales a objetos de tipos distintos\" ([Wikipedia](https://es.wikipedia.org/wiki/Polimorfismo_(inform%C3%A1tica), 2017)). Básicamente se trata de utilizar objetos de distinto tipo con la misma *interfaz*. _Overriding_ y _overloading_ son dos maneras de hacer polimorfismo.\n",
    "\n",
    "- **Overriding**: ocurre cuando se implementa un método en una subclase que \"invalida\" la implementación del mismo método en la super clase\n",
    "   \n",
    "- **Overloading**: es la capacidad de definir un método con el mismo nombre pero con distinto número y tipo de argumentos. Es la capacidad de una función de ejecutar distintas acciones dependiendo del tipo y número de argumentos que recibe. \n",
    "  \n",
    "Python no soporta _function overloading_. No se puede definir la función más de una vez con distintos tipos y números de argumentos y esperar que ambas definiciones sean consideradas por el programa. Sin embargo, se puede \"simular\" usando algunos parámetros con valores por defecto o número de argumentos variables.\n",
    "   \n",
    "\n",
    "#### Ejemplo:\n",
    "\n",
    "En este ejemplo, la clase `Variable` representa un conjunto de datos cualquiera, mientras que las subclases `Ingresos`, `Comuna` y `Puesto` contiene cada una método para calcular un valor \"representante\" (algo así como el promedio, mediana, moda, etc.) de ese conjunto de datos. El cómo se obtiene ese valor representante dependerá de la subclase.\n",
    "\n",
    "- Si los datos corresponden a ingresos, el valor representante es el promedio. \n",
    "- Si los datos corresponden a la comuna, el valor representante es la comuna que más se repite. \n",
    "- Si los datos corresponden al puesto de trabajo, entonces el valor representante es el que tiene el puesto más alto según la jerarquía especificada en la lista \"categorías\"."
   ]
  },
  {
   "cell_type": "code",
   "execution_count": 1,
   "metadata": {},
   "outputs": [],
   "source": [
    "import statistics\n",
    "\n",
    "class Variable:\n",
    "    \n",
    "    def __init__(self, data):\n",
    "        self.data = data\n",
    "\n",
    "    def representante(self):\n",
    "        pass\n",
    "\n",
    "\n",
    "class Ingresos(Variable):\n",
    "    \n",
    "    def representante(self):\n",
    "        return statistics.mean(self.data)\n",
    "\n",
    "\n",
    "class Comunas(Variable):\n",
    "    \n",
    "    def representante(self):\n",
    "        return statistics.mode(self.data)\n",
    "\n",
    "\n",
    "class Puestos(Variable):\n",
    "    \n",
    "    # Ordenadas de menor a mayor\n",
    "    # Este es un atributo de la clase Puestos, compartida por todas sus instancias\n",
    "    categorias = ['Alumno en Practica', 'Analista', 'SubGerente', 'Gerente']\n",
    "\n",
    "    def representante(self):\n",
    "        # Paso 1: Transformar la lista en lista de números, donde 0 es alumno en práctica y 3 gerente\n",
    "        puestos = []\n",
    "        for cargo in self.data:\n",
    "            puestos.append(Puestos.categorias.index(cargo))\n",
    "        # Paso 2: Vemos cuál es el máximo\n",
    "        maximo = max(puestos)\n",
    "        # Paso 3: Retornar cargo asociado\n",
    "        return Puestos.categorias[maximo]"
   ]
  },
  {
   "cell_type": "code",
   "execution_count": 2,
   "metadata": {},
   "outputs": [
    {
     "name": "stdout",
     "output_type": "stream",
     "text": [
      "79.36363636363636\n",
      "Santiago\n",
      "SubGerente\n"
     ]
    }
   ],
   "source": [
    "lista_pesos = Ingresos([50, 80, 90, 150, 45, 65, 78, 89, 59, 77, 90])\n",
    "lista_comunas = Comunas(['Providencia', 'Macul' , 'La Reina' ,'Santiago', 'Providencia', 'Puente Alto',\n",
    "                        'Macul', 'Santiago', 'Santiago'])\n",
    "lista_puestos = Puestos(['SubGerente', 'Analista','SubGerente','Analista','Alumno en Practica',\n",
    "                        'Alumno en Practica'])\n",
    "\n",
    "print(lista_pesos.representante())\n",
    "print(lista_comunas.representante())\n",
    "print(lista_puestos.representante())"
   ]
  },
  {
   "cell_type": "markdown",
   "metadata": {},
   "source": [
    "Podemos ver que, si bien las clases `Ingresos`, `Comunas` y `Puestos` poseen distintos tipos de datos, para cada una de ellas podemos llamar de la misma manera a su método `representante` y, de acuerdo a la clase que corresponda, se llama a la versión correcta del método."
   ]
  },
  {
   "cell_type": "markdown",
   "metadata": {},
   "source": [
    "### Overloading de operadores en Python\n",
    "\n",
    "Existen muchos operadores en Python que funcionan para varias de las clases *built-in*. Por ejemplo, el operador \"+\" puede sumar dos números, concatenar dos strings, mezclar dos listas, etc. dependiendo de la clase con la que estemos trabajando:"
   ]
  },
  {
   "cell_type": "code",
   "execution_count": 3,
   "metadata": {},
   "outputs": [
    {
     "name": "stdout",
     "output_type": "stream",
     "text": [
      "[1, 2, 3, 4, 5, 6, 7, 8]\n",
      "Hola Mundo\n"
     ]
    }
   ],
   "source": [
    "a = [1, 2, 3, 4]\n",
    "b = [5, 6, 7, 8]\n",
    "print(a + b)\n",
    "c = \"Hola\"\n",
    "d = \" Mundo\"\n",
    "print(c + d)"
   ]
  },
  {
   "cell_type": "markdown",
   "metadata": {},
   "source": [
    "Nosotros también podemos personalizar el método `__add__` para que funcione en algún tipo de clase específica que necesitemos. Por ejemplo, supongamos una clase que representa un carro de compra:"
   ]
  },
  {
   "cell_type": "code",
   "execution_count": 19,
   "metadata": {},
   "outputs": [],
   "source": [
    "class Carro:\n",
    "\n",
    "    def __init__(self, pan, leche, agua):\n",
    "        self.pan = pan\n",
    "        self.leche = leche\n",
    "        self.agua = agua\n",
    "    \n",
    "    def __add__(self, otro):\n",
    "        \n",
    "        suma_pan = self.pan + otro.pan\n",
    "        suma_leche = self.leche + otro.leche\n",
    "        suma_agua = self.agua + otro.agua\n",
    "            \n",
    "        return Carro(suma_pan, suma_leche, suma_agua)\n",
    "    \n",
    "    def __str__(self):\n",
    "        return f\"Pan:{self.pan}, Leche:{self.leche}, Agua:{self.agua}\""
   ]
  },
  {
   "cell_type": "code",
   "execution_count": 20,
   "metadata": {},
   "outputs": [
    {
     "name": "stdout",
     "output_type": "stream",
     "text": [
      "Pan:4, Leche:6, Agua:8\n"
     ]
    }
   ],
   "source": [
    "carro_1 = Carro(1, 2, 3)\n",
    "carro_2 = Carro(3, 4, 5)\n",
    "carro_sumado = carro_1 + carro_2\n",
    "print(carro_sumado)"
   ]
  },
  {
   "cell_type": "markdown",
   "metadata": {},
   "source": [
    "De la misma forma, podemos personalizar la mayoría de los operadores. Por ejemplo, para personalizar el operador \"menor que\" implementamos `__lt__` (del inglés *less than*):"
   ]
  },
  {
   "cell_type": "code",
   "execution_count": 6,
   "metadata": {},
   "outputs": [
    {
     "name": "stdout",
     "output_type": "stream",
     "text": [
      "True\n"
     ]
    }
   ],
   "source": [
    "import math\n",
    "\n",
    "class Vector: \n",
    "    \"\"\"Vector desde el origen\"\"\"\n",
    "    \n",
    "    def __init__(self, x, y): \n",
    "        self.x = x \n",
    "        self.y = y\n",
    "        \n",
    "    @property\n",
    "    def magnitud(self):\n",
    "        return math.sqrt(self.x ** 2 + self.y ** 2)\n",
    "    \n",
    "    def __lt__(self, otro_punto):\n",
    "        return self.magnitud < otro_punto.magnitud\n",
    "\n",
    "v1 = Vector(2,4)\n",
    "v2 = Vector(8,3)\n",
    "print(v1 < v2)"
   ]
  },
  {
   "cell_type": "markdown",
   "metadata": {},
   "source": [
    "### `__repr__` vs `__str__`"
   ]
  },
  {
   "cell_type": "markdown",
   "metadata": {},
   "source": [
    "Podemos implementar los métodos `__repr__` y `__str__` para entregar una representación en texto de nuestro objeto. Estos métodos deben retornar un string, el que podrá ser usado por la función `print`. Si se implementan ambos, `print` utiliza `__str__`.\n",
    "\n",
    "La diferencia entre  `__str__` y `__repr__` es sutil. Si bien ambos devuelven una representación del objeto en forma de *string*, cada representación persigue un objetivo distinto. Por una parte, `__str__` busca devolver una representación legible (*human-readable*) del objeto. Es como si un usuario del programa quisiera leer esa información. Por otra parte, `__repr__` tiene por objetivo ofrecer una representación completa y sin ambigüedades del objeto. Es como un desarrollador del programa quisiera leer esa información."
   ]
  },
  {
   "cell_type": "code",
   "execution_count": 7,
   "metadata": {},
   "outputs": [],
   "source": [
    "class Fraccion: \n",
    "\n",
    "    def __init__(self, numerador, denominador): \n",
    "        self.numerador = numerador \n",
    "        self.denominador = denominador\n",
    "        \n",
    "    def __repr__(self):\n",
    "        return f\"Fraccion({self.numerador}, {self.denominador})\"\n",
    "    \n",
    "    def __str__(self):\n",
    "        return f\"{self.numerador} / {self.denominador}\"\n",
    "    \n",
    "frac = Fraccion(3, 4)"
   ]
  },
  {
   "cell_type": "code",
   "execution_count": 8,
   "metadata": {},
   "outputs": [
    {
     "data": {
      "text/plain": [
       "'Fraccion(3, 4)'"
      ]
     },
     "execution_count": 8,
     "metadata": {},
     "output_type": "execute_result"
    }
   ],
   "source": [
    "repr(frac)"
   ]
  },
  {
   "cell_type": "code",
   "execution_count": 9,
   "metadata": {},
   "outputs": [
    {
     "data": {
      "text/plain": [
       "'3 / 4'"
      ]
     },
     "execution_count": 9,
     "metadata": {},
     "output_type": "execute_result"
    }
   ],
   "source": [
    "str(frac)"
   ]
  },
  {
   "cell_type": "code",
   "execution_count": 10,
   "metadata": {},
   "outputs": [
    {
     "name": "stdout",
     "output_type": "stream",
     "text": [
      "3 / 4\n"
     ]
    }
   ],
   "source": [
    "print(frac)"
   ]
  },
  {
   "cell_type": "markdown",
   "metadata": {},
   "source": [
    "Si no implementamos el método `__str__`, `print` va a imprimir el string que retorna la función `__repr__`"
   ]
  },
  {
   "cell_type": "code",
   "execution_count": 11,
   "metadata": {},
   "outputs": [
    {
     "name": "stdout",
     "output_type": "stream",
     "text": [
      "Fraccion(3, 4)\n"
     ]
    }
   ],
   "source": [
    "class Fraccion: \n",
    "\n",
    "    def __init__(self, numerador, denominador): \n",
    "        self.numerador = numerador \n",
    "        self.denominador = denominador\n",
    "        \n",
    "    def __repr__(self):\n",
    "        return f\"Fraccion({self.numerador}, {self.denominador})\"\n",
    "    \n",
    "frac = Fraccion(3, 4)\n",
    "print(frac)"
   ]
  },
  {
   "cell_type": "markdown",
   "metadata": {},
   "source": [
    "## _Duck typing_\n",
    "\n",
    "> \"If it walks like a duck and quacks like a duck then it is a duck\" \n",
    "(no importa de qué tipo sea un objeto mientras contenga la acción)\n",
    " \n",
    "_Duck typing_ es una característica de algunos lenguajes que hace que el polimorfismo sea menos atractivo, ya que el lenguaje por sí sólo es capaz de generar comportamiento polimórfico sin la necesidad de implementar el polimorfismo a través de la herencia. "
   ]
  },
  {
   "cell_type": "code",
   "execution_count": 22,
   "metadata": {},
   "outputs": [
    {
     "name": "stdout",
     "output_type": "stream",
     "text": [
      "Quack!\n",
      "Caminando como un pato\n",
      "¡Ahhh!\n",
      "Caminando como un humano\n"
     ]
    }
   ],
   "source": [
    "class Pato:\n",
    "    \n",
    "    def gritar(self):\n",
    "        print(\"Quack!\")\n",
    "        \n",
    "    def caminar(self):\n",
    "        print(\"Caminando como un pato\")        \n",
    "    \n",
    "class Persona:\n",
    "    \n",
    "    def gritar(self):\n",
    "        print(\"¡Ahhh!\")\n",
    "        \n",
    "    def caminar(self):\n",
    "        print(\"Caminando como un humano\")        \n",
    "\n",
    "        \n",
    "def activar(pato):  # Esto en otro tipo de lenguaje obligaría a que pato sea del tipo \"Pato\", por lo tanto\n",
    "    pato.gritar()   # la función activar no podría ser llamada con un argumento tipo \"Persona\"\n",
    "    pato.caminar()\n",
    "\n",
    "donald = Pato()\n",
    "juan = Persona()\n",
    "activar(donald)\n",
    "activar(juan)"
   ]
  },
  {
   "cell_type": "markdown",
   "metadata": {},
   "source": [
    "En este ejemplo hay dos clases distintas, `Pato` y `Persona`, sin ninguna relación de herencia entre ellas. Cada una tiene implementados los métodos `gritar` y `caminar`. La función `activar` recibe un argumento de nombre `pato`, pero no sabe (ni le interesa) si es un objeto de tipo `Pato` o `Persona`; simplemente llama a los métodos `gritar` y `caminar`, y en ese momento se determina si la clase a la cual pertenece el argumento `Pato` contiene una implementación del método que se necesita.\n",
    "\n",
    "En otros lenguajes de programación, como C, C++, Java ó C#, se obliga a que los argumentos tengan un tipo de dato definido (lenguajes con sistema de tipos estáticos), por lo tanto este mecanismo no funcionaría. Lenguajes como Python utilizan un sistema de tipos dinámicos, lo que permite que el tipo de una variable se determine al momento de ejecutar el código (y no al compilarlo). Gracias a esto, la función `activar` puede recibir cualquier tipo de argumentos. Sin embargo, si recibe un argumento que no posee una implementación para `gritar` o para `caminar`, se producirá un error."
   ]
  },
  {
   "cell_type": "markdown",
   "metadata": {},
   "source": [
    "## Comentarios finales\n",
    "\n",
    "Existen muchas opiniones acerca de la relación entre polimorfismo, herencia y ducktyping ([1](https://softwareengineering.stackexchange.com/questions/121778/is-duck-typing-a-subset-of-polymorphism), [2](https://stackoverflow.com/questions/11502433/what-is-the-difference-between-polymorphism-and-duck-typing), [3](https://www.reddit.com/r/learnprogramming/comments/2r30c0/is_ducktyping_and_advanced_form_of_polymorphism/) y otras). Lo importante para este curso es que entiendas cómo se implementan estos tres conceptos en python. Si tienes  dudas, te invitamos a crear una issue en el foro del curso 😃."
   ]
  }
 ],
 "metadata": {
  "kernelspec": {
   "display_name": "Python 3",
   "language": "python",
   "name": "python3"
  },
  "language_info": {
   "codemirror_mode": {
    "name": "ipython",
    "version": 3
   },
   "file_extension": ".py",
   "mimetype": "text/x-python",
   "name": "python",
   "nbconvert_exporter": "python",
   "pygments_lexer": "ipython3",
   "version": "3.7.4"
  }
 },
 "nbformat": 4,
 "nbformat_minor": 1
}
