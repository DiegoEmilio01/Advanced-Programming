{
 "cells": [
  {
   "cell_type": "markdown",
   "metadata": {},
   "source": [
    "## Ejercicios propuestos: *Threading*\n",
    "\n",
    "Los siguientes problemas se dejan como opción para ejercitar los conceptos revisados en el material sobre *theading* (semana-05). Si tienes dudas sobre algún problema o alguna solución, no dudes en dejar una issue en el foro del curso.\n",
    "\n",
    "El objetivo es poner en práctica el uso de *threads* y como esto afecta el flujo de un programa. A su vez, se busca vean en concreto los problemas de sincronización y comunicación entre *threads*. Este material nos acerca mucho a entender como funciona el sistema operativo de nuestros computadores, y nos permite modelar más situaciones."
   ]
  },
  {
   "cell_type": "code",
   "execution_count": null,
   "metadata": {},
   "outputs": [],
   "source": [
    "import threading\n",
    "import time"
   ]
  },
  {
   "cell_type": "markdown",
   "metadata": {},
   "source": [
    "## Problema 1"
   ]
  },
  {
   "cell_type": "markdown",
   "metadata": {},
   "source": [
    "A continuación, se te presenta la función `cuenta_hasta_diez`. Esta, como sugiere el nombre, cuenta hasta a diez desde el número uno, pero el tiempo (en segundos) que demora entre cada número es aleatorio entre uno y cinco segundos. Usando esta función, instancia 5 *threads* distintos, con nombres distintivos, y ejecútalos para que ejecuten la función simultáneamente. Una vez que escribas el código necesario, ejecútalo varias veces y ve el resultado que se produce."
   ]
  },
  {
   "cell_type": "code",
   "execution_count": null,
   "metadata": {},
   "outputs": [],
   "source": [
    "from random import randint\n",
    "\n",
    "def cuenta_hasta_diez():\n",
    "    nombre_thread = threading.current_thread().name\n",
    "    for numero in range(1, 11):\n",
    "        time.sleep(randint(1, 5))\n",
    "        print(f\"{nombre_thread}: {numero}...\")\n",
    "        \n",
    "# Instancia 5 threads distintos y ejecútalos.\n",
    "\n"
   ]
  },
  {
   "cell_type": "markdown",
   "metadata": {},
   "source": [
    "## Problema 2"
   ]
  },
  {
   "cell_type": "markdown",
   "metadata": {},
   "source": [
    "Ahora, de forma similar al problema anterior, se te presenta la función `deletrea_palabra`. Esta recibe como argumentos un *string* en `palabra` y un `int` en `periodo`. Esta imprime en orden las letras del *string* (`palabra`) entregado cada cierta cantidad de segundos, definido por `periodo`. \n",
    "\n",
    "Debes instanciar tres *threads* distintos que ejecuten esta función y ejecutalos simultaneamente, con los siguientes parámetros:\n",
    "- `\"flZ1\"` y `3`\n",
    "- `\"e  cIUes\"` y `5`\n",
    "- `\"i8Hq\"` y `7`"
   ]
  },
  {
   "cell_type": "code",
   "execution_count": null,
   "metadata": {},
   "outputs": [],
   "source": [
    "def deletrea_palabra(palabra, periodo):\n",
    "    for caracter in palabra:\n",
    "        time.sleep(periodo)\n",
    "        print(caracter.upper())\n",
    "\n",
    "\n",
    "# Instancia 3 threads distintos y ejecútalos con los parametros dados.\n",
    "\n"
   ]
  },
  {
   "cell_type": "markdown",
   "metadata": {},
   "source": [
    "## Problema 3"
   ]
  },
  {
   "cell_type": "markdown",
   "metadata": {},
   "source": [
    "Tienes tres funciones de cuenta, las cuales funcionan a diferentes ritmos, o sea, cuentan en diferentes cantidades.\n",
    " - `cuenta_1` cuenta de a 1 número cada 3 seg.\n",
    " - `cuenta_2` cuenta de a 2 números cada 2 seg.\n",
    " - `cuenta_3` cuenta de a 3 números cada 1 seg.\n",
    " \n",
    "Además, `cuenta_1` inicia un *thread* que ejecuta a `cuenta_2`, que a su vez inicia a `cuenta_3`. Esto produce que los tres conteos se inicien (casi) simultaneamente.\n",
    " \n",
    "Tú misión es editar el código de forma que `cuenta_2` solo comienza a contar una vez que `cuenta_3` terminó de contar; de la misma forma, que `cuenta_1` solo comience a contar una vez que `cuenta_2` terminó de contar; Y finalmente que el mensaje `\"¡Todos terminaron en orden!\"` que se imprime en el programa principal solo lo haga una vez que todos los contadores terminaron de contar. Es decir, deberías esperar que primero el contador de a 3 cuente, luego el contador de 2, luego el contador de 1 y finalmente se imprimea el mensaje `\"¡Todos terminaron en orden!\"`.\n",
    "\n",
    "Usa el método `join` de `Thread` para lograr el objetivo, y **solo debes agregar líneas al código presentado, no eliminar ni modificar líneas existentes**."
   ]
  },
  {
   "cell_type": "code",
   "execution_count": null,
   "metadata": {},
   "outputs": [],
   "source": [
    "def cuenta_3():\n",
    "    for i in range(1, 40, 3):\n",
    "        print(f\"Contando de a 3: {i}\")\n",
    "        time.sleep(1)\n",
    "    print(\"-- ¡Terminó cuenta 3! --\")\n",
    "\n",
    "def cuenta_2():\n",
    "    thread = threading.Thread(target=cuenta_3)\n",
    "    thread.start()\n",
    "    for i in range(1, 9, 2):\n",
    "        print(f\"Contando de a 2: {i}\")\n",
    "        time.sleep(2) \n",
    "    print(\"-- ¡Terminó cuenta 2! --\")\n",
    "\n",
    "def cuenta_1():\n",
    "    thread = threading.Thread(target=cuenta_2)\n",
    "    thread.start()\n",
    "    for i in range(1, 9):\n",
    "        print(f\"Contando de a 1: {i}\")\n",
    "        time.sleep(3)\n",
    "    print(\"-- ¡Terminó cuenta 1! --\")\n",
    "\n",
    "\n",
    "    \n",
    "thread = threading.Thread(target=cuenta_1)\n",
    "thread.start()\n",
    "print(\"¡Todos terminaron en orden!\")"
   ]
  },
  {
   "cell_type": "markdown",
   "metadata": {},
   "source": [
    "## Problema 4"
   ]
  },
  {
   "cell_type": "markdown",
   "metadata": {},
   "source": [
    "A continuación se te presenta la simulación de un restoran. Clientes pueden hacer pedidos de productos alimenticios y estos están almacenados en una cola. Para atender a los clientes, se ponen a trabajar a tres *threads* que ejecutan la misma misma función `atender_pedidos`. Pero estos trabajadores son medios torpes, cuando intentan generar un pedido, tiene una probabilidad de 50% de que se les caiga y no se complete el pedido. Además, los tres no se coordinan y suelen trabajar en el mismo pedido al mismo tiempo.\n",
    "\n",
    "Tu objetivo es arreglar esta situación para que logren coordinarse en la elaboración de pedidos. Utiliza un `Lock` para arreglarlo, y **solo debes agregar líneas al código presentado, no eliminar ni modificar líneas existentes**."
   ]
  },
  {
   "cell_type": "code",
   "execution_count": null,
   "metadata": {
    "scrolled": false
   },
   "outputs": [],
   "source": [
    "from collections import deque\n",
    "from random import randint\n",
    "\n",
    "clientes = {\n",
    "    \"Enzo\": [],\n",
    "    \"Dani\": [],\n",
    "    \"Dante\": [],\n",
    "    \"Josefina\": [],\n",
    "    \"Ian\": []\n",
    "}\n",
    "cola_de_pedidos = deque([(\"Enzo\", \"🍕\"), (\"Josefina\", \"🍣\"), (\"Dante\", \"🌭\"), (\"Dani\", \"🍟\"), (\"Ian\", \"🍔\"), (\"Ian\", \"🍰\"), (\"Enzo\", \"🌮\"), (\"Dani\", \"🍩\"), (\"Enzo\", \"🍫\")])\n",
    "\n",
    "\n",
    "def atender_pedidos(cola, clientes):\n",
    "    while len(cola) > 0:\n",
    "        print(\"¡Haré un pedido!\")\n",
    "        cliente, comida = cola[0]\n",
    "        print(f\"Preparando {comida} para {cliente}\")\n",
    "        time.sleep(1)\n",
    "        if randint(0, 1) == 1:\n",
    "            bandeja = clientes[cliente]\n",
    "            bandeja.append(comida)\n",
    "            print(f\"Pedido de {comida} entregado a {cliente}\")\n",
    "            cola.popleft()\n",
    "        else:\n",
    "            print(\"¡Se me cayó!\")\n",
    "        \n",
    "\n",
    "trabajador_1 = threading.Thread(target=atender_pedidos, args=(cola_de_pedidos, clientes))\n",
    "trabajador_2 = threading.Thread(target=atender_pedidos, args=(cola_de_pedidos, clientes))\n",
    "trabajador_3 = threading.Thread(target=atender_pedidos, args=(cola_de_pedidos, clientes))\n",
    "\n",
    "\n",
    "trabajador_1.start()\n",
    "trabajador_2.start()\n",
    "trabajador_3.start()\n",
    "\n",
    "\n",
    "trabajador_1.join()\n",
    "trabajador_2.join()\n",
    "trabajador_3.join()\n",
    "\n",
    "for cliente in clientes:\n",
    "    print(f\"La bandeja de {cliente} tiene: {clientes[cliente]}\")"
   ]
  },
  {
   "cell_type": "markdown",
   "metadata": {},
   "source": [
    "## Problema 5"
   ]
  },
  {
   "cell_type": "markdown",
   "metadata": {},
   "source": [
    "Ahora se te presenta un videojuego que consiste de cuatro niveles distintos. Pero como en todo buen videojuego, solo puedes acceder a un nivel si completaste el anterior. Es por esto, que los antiguos desarrolladores dejaron el objeto `Event`: `evento_nivel_terminado`, que reciben como argumento todos los niveles.\n",
    "\n",
    "Completa el código utilizando el objeto `Event` mencionado, pero **solo puedes agregar código dentro de la sección superior de la función `jugar_nivel` y bajo la sección comentada**."
   ]
  },
  {
   "cell_type": "code",
   "execution_count": null,
   "metadata": {},
   "outputs": [],
   "source": [
    "def jugar_nivel(nivel, evento_nivel):\n",
    "    ##### SOLO AGREGAR CÓDIGO EN ESTA FUNCIÓN\n",
    "    \n",
    "    print(f\"¡Jugando nivel {nivel}!\")\n",
    "    time.sleep(1)\n",
    "    print(f\"Batallando en el nivel {nivel}\")\n",
    "    time.sleep(3)\n",
    "    print(f\"Terminando el nivel {nivel}\")\n",
    "    \n",
    "    \n",
    "evento_nivel_terminado = threading.Event()\n",
    "\n",
    "n1 = threading.Thread(target=jugar_nivel, args=[1, evento_nivel_terminado])\n",
    "n2 = threading.Thread(target=jugar_nivel, args=[2, evento_nivel_terminado])\n",
    "n3 = threading.Thread(target=jugar_nivel, args=[3, evento_nivel_terminado])\n",
    "n4 = threading.Thread(target=jugar_nivel, args=[4, evento_nivel_terminado])\n",
    "\n",
    "# =========== SOLO AGREGAR CÓDIGO DESDE AQUÍ HACIA ABAJO =============\n",
    "\n",
    "n1.start()\n",
    "\n",
    "n2.start()\n",
    "\n",
    "n3.start()\n",
    "\n",
    "n4.start()"
   ]
  },
  {
   "cell_type": "markdown",
   "metadata": {},
   "source": [
    "## Problema 6"
   ]
  },
  {
   "cell_type": "markdown",
   "metadata": {},
   "source": [
    "Juan ha decidio mostrar sus nuevas habilidades como programador creando un sistema que simula como dormiría una siesta un día cualquiera. Para ello implemento todo un sistema con *threads* y eventos para no pasarse de la hora.\n",
    "\n",
    "Lamentablemente a Juan se le olvidó programar es sistema que activara su `alarma` luego de de 5 horas de siesta *(A Juan le gusta dormir mucho 😅)*. \n",
    "\n",
    "Es por esto que tú debes completar su programa y lograr que active la alarma **luego de 5 horas**, pero únicamente utilizando `Timer` de la librería `threading` y solo agregando código desde la sección comentada hacia abajo.\n",
    "\n",
    "\n",
    "**Aclaración:** Interpreta una hora como un segundo en el programa, no te quedes esperando cinco horas a ver si funciona, por favor."
   ]
  },
  {
   "cell_type": "code",
   "execution_count": null,
   "metadata": {},
   "outputs": [],
   "source": [
    "def dormir(hora_actual, alarma):\n",
    "    print(f\"Tomaré una siesta, son las {hora_actual}\")\n",
    "    for i in range(15):\n",
    "        if alarma.is_set():\n",
    "            print(\"¡Gracias despertador, desperté a la hora!\")\n",
    "            return\n",
    "        hora_actual += 1\n",
    "        print(f\"Estoy durmiendo a las {hora_actual}\")\n",
    "        time.sleep(1)\n",
    "    print(f\"¡Oh no!\\nMe quedé dormido, son las {hora_actual}!!\\n¡¡¡MALDITO DESPERTADOR!!!\")\n",
    "    \n",
    "hora = 9\n",
    "alarma = threading.Event()\n",
    "\n",
    "thread = threading.Thread(target=dormir, args=[hora, alarma])\n",
    "thread.start()\n",
    "\n",
    "# ================ AGREGAR CÓDIGO DESDE AQUÍ ===================\n",
    "\n"
   ]
  },
  {
   "cell_type": "markdown",
   "metadata": {},
   "source": [
    "## Problema 7"
   ]
  },
  {
   "cell_type": "markdown",
   "metadata": {},
   "source": [
    "Ha llegado el Circo y tienen a sus tres mejores vendedores vendiendo entradas para la siguiente función. Para esto el jefe ha diseñado un código que simula el sistema de ventas, donde: \n",
    "\n",
    "\n",
    "- `asientos_vendidos` es una lista que contiene a los asientos, donde cada uno es un `bool` para indicar si está ocupado (`True`) o no (`False`).\n",
    "\n",
    "\n",
    "- `entradas_vendidas` es el total de entradas vendidas por los vendedores.\n",
    "\n",
    "Luego de un tiempo el jefe se da cuenta que hay un error en su simulación, pues nunca se logran vender correctamente el total de tickets. Debes analizar el siguiente código y utilizando `Lock` arregla el comportamiento del programa dónde se logran vender todos los tickets del circo. Intenta lograrlo utilizando un atributo de la clase `Circo`."
   ]
  },
  {
   "cell_type": "code",
   "execution_count": null,
   "metadata": {},
   "outputs": [],
   "source": [
    "from threading import Thread, Lock\n",
    "\n",
    "class Circo:\n",
    "    \n",
    "    \n",
    "    \n",
    "    def __init__(self):\n",
    "        self.entradas_vendidas = 0\n",
    "        self.asientos_vendidos = [False for _ in range(1000000)]\n",
    "        self.v1 = Thread(target=self.vendedor_1)\n",
    "        self.v2 = Thread(target=self.vendedor_2)\n",
    "        self.v3 = Thread(target=self.vendedor_3)\n",
    "        \n",
    "    def vender(self):\n",
    "        self.v1.start()\n",
    "        self.v2.start()\n",
    "        self.v3.start()\n",
    "        self.v1.join()\n",
    "        self.v2.join()\n",
    "        self.v3.join()\n",
    "\n",
    "    def vendedor_1(self):\n",
    "        for posicion in range(len(self.asientos_vendidos)):\n",
    "            if not self.asientos_vendidos[posicion]:\n",
    "                self.asientos_vendidos[posicion] = True\n",
    "                self.entradas_vendidas += 1\n",
    "\n",
    "    def vendedor_2(self):\n",
    "        for posicion in range(len(self.asientos_vendidos)):\n",
    "            if not self.asientos_vendidos[posicion]:\n",
    "                self.asientos_vendidos[posicion] = True\n",
    "                self.entradas_vendidas += 1\n",
    "\n",
    "    def vendedor_3(self):\n",
    "        for posicion in range(len(self.asientos_vendidos)):\n",
    "            if not self.asientos_vendidos[posicion]:\n",
    "                self.asientos_vendidos[posicion] = True\n",
    "                self.entradas_vendidas += 1\n",
    "\n",
    "                \n",
    "cirque_du_soleil = Circo()\n",
    "cirque_du_soleil.vender()\n",
    "\n",
    "print(cirque_du_soleil.entradas_vendidas)"
   ]
  },
  {
   "cell_type": "markdown",
   "metadata": {},
   "source": [
    "## Problema 8"
   ]
  },
  {
   "cell_type": "markdown",
   "metadata": {},
   "source": [
    "En base al siguiente código, escribe el `output` que esperas se imprima al ejecutarlo. Luego responde las preguntas de al final."
   ]
  },
  {
   "cell_type": "code",
   "execution_count": null,
   "metadata": {},
   "outputs": [],
   "source": [
    "from random import shuffle\n",
    "\n",
    "bebestibles = [\"Vino\"] * 15 + [\"Pipeño\"]\n",
    "helados = [\"Vainilla\"] * 20 + [\"Piña\"]\n",
    "shuffle(bebestibles)\n",
    "shuffle(helados)\n",
    "\n",
    "pipeño_encontrado = threading.Event()\n",
    "helado_encontrado = threading.Event()\n",
    "\n",
    "def busca_pipeño():\n",
    "    print(\"¡Voy por el pipeño!\")\n",
    "    for bebestible in bebestibles:\n",
    "        time.sleep(1)\n",
    "        if bebestible == \"Pipeño\":\n",
    "            print(\"¡Encontré el pipeño!\")\n",
    "            helado_encontrado.wait()\n",
    "            pipeño_encontrado.set()\n",
    "            print(\"¡Salud!\")\n",
    "            return\n",
    "    \n",
    "def busca_helado_de_piña():\n",
    "    print(\"¡Voy por el helado de piña!\")\n",
    "    for helado in helados:\n",
    "        time.sleep(1)\n",
    "        if helado == \"Piña\":\n",
    "            print(\"¡Encontré el helado!\")\n",
    "            pipeño_encontrado.wait()\n",
    "            helado_encontrado.set()\n",
    "            print(\"¡Salud!\")\n",
    "            return\n",
    "\n",
    "\n",
    "\n",
    "thread_1 = threading.Thread(target=busca_pipeño)\n",
    "thread_2 = threading.Thread(target=busca_helado_de_piña)\n",
    "\n",
    "thread_1.start()\n",
    "thread_2.start()\n",
    "thread_1.join()\n",
    "thread_2.join()\n",
    "print(\"¡Ti-ki-ti-ki-ti!\")"
   ]
  },
  {
   "cell_type": "markdown",
   "metadata": {},
   "source": [
    "**¿Qué pasa que el código no termina de correr? ¿Puedes arreglarlo?**"
   ]
  }
 ],
 "metadata": {
  "kernelspec": {
   "display_name": "Python 3",
   "language": "python",
   "name": "python3"
  },
  "language_info": {
   "codemirror_mode": {
    "name": "ipython",
    "version": 3
   },
   "file_extension": ".py",
   "mimetype": "text/x-python",
   "name": "python",
   "nbconvert_exporter": "python",
   "pygments_lexer": "ipython3",
   "version": "3.6.6"
  }
 },
 "nbformat": 4,
 "nbformat_minor": 2
}
