{
 "cells": [
  {
   "cell_type": "markdown",
   "metadata": {},
   "source": [
    "<p>\n",
    "<font size='5' face='Georgia, Arial'>IIC-2233 Apunte Programación Avanzada</font><br>\n",
    "<font size='1'>Equipo Docente IIC2233 2018-1, editado el 2018-2 y 2019-2. Contiene partes de una creación de &copy; Karim Pichara - Christian Pieringer del año 2015 (Todos los derechos reservados).</font>\n",
    "</p>"
   ]
  },
  {
   "cell_type": "markdown",
   "metadata": {},
   "source": [
    "## Sincronización\n",
    "\n",
    "En el *notebook* anterior, vimos qué eran los *threads*, como crearlos, y hablamos sobre situaciones donde podrían ser útiles. Podemos hacer cosas **pseudo-paralelas**, ¿qué podría salir mal?\n",
    "\n",
    "Hagamos dos *threads* que aumenten un contador $10^6$ veces. Lo que esperaríamos es que el valor final sea $2 \\times 10^6$, ¿no es así?"
   ]
  },
  {
   "cell_type": "code",
   "execution_count": 1,
   "metadata": {},
   "outputs": [
    {
     "name": "stdout",
     "output_type": "stream",
     "text": [
      "Listo, nuestro contador vale 1638765\n"
     ]
    }
   ],
   "source": [
    "import threading\n",
    "\n",
    "\n",
    "class Contador: \n",
    "    def __init__(self):\n",
    "        self.valor = 0\n",
    "\n",
    "        \n",
    "def sumador(contador):\n",
    "    for _ in range(10 ** 6):\n",
    "        contador.valor += 1\n",
    "\n",
    "\n",
    "contador = Contador()        \n",
    "t1 = threading.Thread(target=sumador, args=(contador,))\n",
    "t2 = threading.Thread(target=sumador, args=(contador,))\n",
    "\n",
    "t1.start()\n",
    "t2.start()\n",
    "t1.join()\n",
    "t2.join()\n",
    "\n",
    "print(\"Listo, nuestro contador vale\", contador.valor)"
   ]
  },
  {
   "cell_type": "markdown",
   "metadata": {},
   "source": [
    "😱¿Qué pasó ahí? Como dice un viejo refrán:\n",
    "\n",
    "> Un programador tenía un problema y decidió usar *threads*. Tiene él problemas. Ahora dos.\n",
    "\n",
    "En este ejemplo, intentamos modificar **al mismo tiempo (concurrentemente)** un mismo valor o recurso con dos *threads* distintos. Para entender por qué eso no siempre resulta como pensábamos, tomemos en cuenta que:\n",
    "\n",
    "- Las operaciones de los *threads* pueden ser pausadas en cualquier momento para dar paso al otro *thread*.\n",
    "- Es imposible saber cómo se interlevan (entremezclan) los *threads*. Por ejemplo, es **incorrecto** pensar que el sistema operativo va a hacer una operación del *thread* 1, luego una del _thread_ 2, y así sucesivamente.\n",
    "\n",
    "Descompongamos en un pseudocódigo – lo más granular posible – lo que hace la máquina en una iteración en cada `sumador`:\n",
    "\n",
    "    1. Leer el valor de contador.valor\n",
    "    2. Sumar 1 al valor anterior\n",
    "    3. Almacenar el valor obtenido en contador.valor \n",
    "    \n",
    "Ahora veamos un escenario posible:\n",
    "\n",
    "    - T1 lee 0 de contador.valor\n",
    "    - T1 suma 1 => 1\n",
    "    - T1 guarda 1 en contador.valor\n",
    "    - T1 lee 1 de contador.valor\n",
    "    - T1 se pausa\n",
    "    - T2 lee 1 de contador.valor\n",
    "    - T2 suma 1 => 2\n",
    "    - T2 guarda 2 en contador.valor\n",
    "    - T2 lee 2 de contador.valor\n",
    "    - T2 suma 1 => 3\n",
    "    - T2 guarda 3 en contador.valor\n",
    "    - T2 se pausa\n",
    "    - T1 se reanuda\n",
    "    - T1 suma 1 => 2 (😨)\n",
    "    - T1 guarda 2 en contador.valor (😨😨😨)\n",
    "    - ..."
   ]
  },
  {
   "cell_type": "code",
   "execution_count": 2,
   "metadata": {},
   "outputs": [
    {
     "name": "stdout",
     "output_type": "stream",
     "text": [
      "T1: lee 0\n",
      "T1: suma 1 => 1\n",
      "T1: guarda 1\n",
      "T2: lee 1\n",
      "T2: suma 1 => 2\n",
      "T2: guarda 2\n",
      "T1: lee 2\n",
      "T1: suma 1 => 3\n",
      "T1: guarda 3\n",
      "T2: lee 3\n",
      "T2: suma 1 => 4\n",
      "T2: guarda 4\n",
      "T1: lee 4\n",
      "T1: suma 1 => 5\n",
      "T1: guarda 5\n",
      "T2: lee 5\n",
      "T2: suma 1 => 6\n",
      "T2: guarda 6\n",
      "T1: lee 6\n",
      "T1: suma 1 => 7\n",
      "T1: guarda 7\n",
      "T2: lee 7\n",
      "T2: suma 1 => 8\n",
      "T2: guarda 8\n",
      "T1: lee 8T2: lee 8\n",
      "T2: suma 1 => 9\n",
      "T2: guarda 9\n",
      "\n",
      "T1: suma 1 => 9\n",
      "T1: guarda 9\n",
      "T2: lee 9\n",
      "T2: suma 1 => 10\n",
      "T2: guarda 10\n",
      "T1: lee 10\n",
      "T1: suma 1 => 11\n",
      "T1: guarda 11\n",
      "T2: lee 11\n",
      "T2: suma 1 => 12\n",
      "T2: guarda 12\n",
      "T1: lee 12\n",
      "T1: suma 1 => 13\n",
      "T1: guarda 13\n",
      "T2: lee 13\n",
      "T2: suma 1 => 14\n",
      "T2: guarda 14\n",
      "T1: lee 14\n",
      "T1: suma 1 => 15\n",
      "T1: guarda 15\n",
      "T2: lee 15\n",
      "T2: suma 1 => 16\n",
      "T2: guarda 16\n",
      "T1: lee 16\n",
      "T1: suma 1 => 17\n",
      "T1: guarda 17\n",
      "T1: lee 17T2: lee 17\n",
      "T1: suma 1 => 18\n",
      "T1: guarda 18\n",
      "\n",
      "T2: suma 1 => 18\n",
      "T2: guarda 18\n",
      "Listo, nuestro contador vale 18\n"
     ]
    }
   ],
   "source": [
    "import time\n",
    "\n",
    "def sumador(contador):\n",
    "    nombre = threading.current_thread().name\n",
    "    for _ in range(10):\n",
    "        valor = contador.valor\n",
    "        print(f\"{nombre}: lee {valor}\")\n",
    "        nuevo_valor = valor + 1\n",
    "        print(f\"{nombre}: suma 1 => {nuevo_valor}\")\n",
    "        contador.valor = nuevo_valor\n",
    "        print(f\"{nombre}: guarda {nuevo_valor}\")\n",
    "        time.sleep(1)\n",
    "\n",
    "contador = Contador()        \n",
    "t1 = threading.Thread(name=\"T1\", target=sumador, args=(contador,))\n",
    "t2 = threading.Thread(name=\"T2\", target=sumador, args=(contador,))\n",
    "\n",
    "t1.start()\n",
    "t2.start()\n",
    "t1.join()\n",
    "t2.join()\n",
    "\n",
    "print(\"Listo, nuestro contador vale\", contador.valor)"
   ]
  },
  {
   "cell_type": "markdown",
   "metadata": {},
   "source": [
    "La situación anterior nos enseña que **deberíamos asegurarnos** de que la operación de aumentar el contador (`contador.valor += 1`) sea **atómica**, es decir, que un *thread* no la pueda iniciar a menos que ningún otro la esté haciendo. Un conjunto de instrucciones que debe ser **atómico** se denomina **sección crítica**.\n",
    "\n",
    "La situación que vimos es una de muchas donde más de un *thread* debe compartir el acceso a determinados recursos, como son archivos, variables, etc. En estos escenarios, **solo uno** de los *threads* debe tener acceso al recurso y el resto debe quedar en espera para su uso. Cuando existe **concurrencia** múltiple a un recurso es posible controlar el acceso a este mediante mecanismos de **sincronización** entre los *threads*."
   ]
  },
  {
   "cell_type": "markdown",
   "metadata": {},
   "source": [
    "## Mecanismos de sincronización\n",
    "\n",
    "Ahora, veremos dos formas de coordinar nuestros *threads*."
   ]
  },
  {
   "cell_type": "markdown",
   "metadata": {},
   "source": [
    "### *Lock*\n",
    "\n",
    "El *lock* es una primitiva de sincronización de *threads*, provista por la clase `Lock` de la librería `threading`. Se utiliza para que sólo un *thread* pueda estar en una misma sección crítica a la vez. En otras palabras, el *lock* permite la sincronización para el acceso a los recursos compartidos entre dos o más *threads*. \n",
    "\n",
    "\n",
    "Un *lock* puede estar **bloqueado** o **desbloqueado** (inicialmente está desbloqueado). Si un *thread* quiere entrar a una sección crítica, primero debe adquirir el *lock* mediante la operación `acquire()`. Una vez que el *thread* consigue adquirir el *lock*, lo deja bloqueado, haciendo que otros *threads* que quieran adquirir el mismo *lock* deban esperar. Cuando el *thread* quiera salir de la sección crítica, debe liberar el lock mediante `release()`, con lo que el *lock* queda desbloqueado, permitiendo que otro *thread* pueda adquirirlo.\n",
    "\n",
    "![lock](imgs/lock.png)\n",
    "\n",
    "Abajo, se ejemplifica el modo de usar un *lock*."
   ]
  },
  {
   "cell_type": "code",
   "execution_count": 3,
   "metadata": {},
   "outputs": [],
   "source": [
    "import threading\n",
    "\n",
    "lock_global = threading.Lock()\n",
    "\n",
    "def sumador_con_seccion_critica(contador):\n",
    "    for _ in range(10 ** 6):\n",
    "        # Pedimos el lock antes de entrar a la sección crítica.\n",
    "        lock_global.acquire()\n",
    "        # --- Sección crítica ---. \n",
    "        # Está garantizado que en estas líneas sólo habrá un thread a la vez.\n",
    "        contador.valor += 1\n",
    "        # --- Fin de la sección crítica ---.\n",
    "        # Liberamos el lock luego de salir de la sección crítica.\n",
    "        lock_global.release()"
   ]
  },
  {
   "cell_type": "markdown",
   "metadata": {},
   "source": [
    "Nuestro ejemplo del contador funcionará correctamente 👍."
   ]
  },
  {
   "cell_type": "code",
   "execution_count": 4,
   "metadata": {},
   "outputs": [
    {
     "name": "stdout",
     "output_type": "stream",
     "text": [
      "Listo, nuestro contador vale 2000000\n"
     ]
    }
   ],
   "source": [
    "contador = Contador()        \n",
    "t1 = threading.Thread(target=sumador_con_seccion_critica, args=(contador,))\n",
    "t2 = threading.Thread(target=sumador_con_seccion_critica, args=(contador,))\n",
    "\n",
    "t1.start()\n",
    "t2.start()\n",
    "t1.join()\n",
    "t2.join()\n",
    "\n",
    "print(\"Listo, nuestro contador vale\", contador.valor)"
   ]
  },
  {
   "cell_type": "markdown",
   "metadata": {},
   "source": [
    "Afortunadamente en Python los *locks* también pueden funcionar dentro de un *context manager* a través de la sentencia `with`. En este caso es el mismo `with` el que se encarga de llamar los métodos `acquire()` y `release()`. De esta forma el *lock* usado en la funcióm `sumador_con_seccion_critica` quedaría como se indica a continuación:"
   ]
  },
  {
   "cell_type": "code",
   "execution_count": 5,
   "metadata": {},
   "outputs": [],
   "source": [
    "lock_global = threading.Lock()\n",
    "\n",
    "def sumador_con_seccion_critica(contador):\n",
    "    for _ in range(10 ** 6):\n",
    "        with lock_global:\n",
    "            # --- Sección crítica ---. \n",
    "            # Está garantizado que en estas líneas sólo habrá un thread a la vez.\n",
    "            contador.valor += 1\n",
    "            # --- Fin de la sección crítica ---."
   ]
  },
  {
   "cell_type": "markdown",
   "metadata": {},
   "source": [
    "### Señales entre *threads*\n",
    "\n",
    "Otro patrón común que aparece en coordinación entre *threads* es comunicación de sucesos. Esto se refiere a la idea de que un *thread* sea capaz de esperar a cierto suceso ocurra para continuar sus operaciones, por ejemplo, un *thread* que debe esperar a que ciertos computos se hayan completado previamente para poder operar usar esos resultados. El método `join` podría ayudar a este cometido, el *thread* que espera puede usar `join` del(de los) *thead(s)* que espera. Pero `join` solo funciona para esperar el cumplimiento completo de un *thread*. ¿Qué ocurre si se desea esperar un suceso que ocurre durante la vida de otro *thread*? ¿Podemos tener un comportamiento similar pero donde el segundo *thread* no tenga que terminar necesariamente? Es decir, ¿cómo podemos hacer que un *thread* espere a que otro le avise cuando continuar?\n",
    "\n",
    "Para ello tenemos los objetos `Event`. Un *event* es uno de los mecanismos más simples de comunicación entre *threads*: un *thread* hace una señal, y otros *threads* esperan a que esa señal ocurra. Los `Event` tienen un *flag* interno, que toma el valor `True` cuando la señal está activa, y `False` cuando no.\n",
    "\n",
    "Un *thread* puede esperar una señal llamando al método `wait()` del `Event`, con ello, el *thread* quedará en pausa hasta que otro *thread* haga la señal correspondiente. En caso de que la señal ya haya estado activa antes de hacer `wait()`, el *thread* puede seguir inmediatamente sin esperar.\n",
    "\n",
    "Para hacer la señal, un *thread* debe llamar al método `set()`, que dejará el *flag* interno del objeto `Event` en `True`. Finalmente, un *thread* cualquiera puede **resetear** la señal llamando a `clear()` del objeto `Event`, dejando el *flag* en `False`.\n",
    "\n",
    "![](imgs/event.png)\n",
    "\n",
    "Un ejemplo es cuando queremos reproducir un audio y un video de la forma más sincronizada posible. Supongamos que tenemos un *thread* encargado de leer el audio, y otro de leer el video. El *thread* encargado del audio debería esperar a que el *thread* encargado del video esté listo para empezar, y viceversa:"
   ]
  },
  {
   "cell_type": "code",
   "execution_count": 6,
   "metadata": {},
   "outputs": [
    {
     "name": "stdout",
     "output_type": "stream",
     "text": [
      "Cargando audio 'No Te Enamores' - Paloma Mami en t=1567573799.890604\n",
      "Cargando video 'No Te Enamores' - Paloma Mami en t=1567573799.892780\n",
      "¡Video cargado! en t=1567573802.893165\n",
      "¡Audio cargado! en t=1567573804.891166\n",
      "Reproduciendo audio en t=1567573804.891388\n",
      "Reproduciendo video en t=1567573804.892818\n"
     ]
    }
   ],
   "source": [
    "# Ejemplo sacado de http://zulko.github.io/blog/2013/09/19/a-basic-example-of-threads-synchronization-in-python/\n",
    "\n",
    "import threading\n",
    "import time\n",
    "\n",
    "# Tenemos dos eventos o señales.\n",
    "# Esta es para avisar que el video ya está listo para ser reproducido.\n",
    "video_cargado = threading.Event()\n",
    "# Esta es para avisar que el audio ya está listo para ser reproducido.\n",
    "audio_cargado = threading.Event()\n",
    "\n",
    "def reproducir_video(nombre):\n",
    "    print(f\"Cargando video {nombre} en t={time.time():.6f}\")\n",
    "    # Supongamos que se demora 3 segundos\n",
    "    time.sleep(3)\n",
    "    print(f\"¡Video cargado! en t={time.time():.6f}\")\n",
    "    # Avisamos que el video ya está cargado\n",
    "    video_cargado.set()\n",
    "    # Esperamos a que el audio ya se haya cargado\n",
    "    audio_cargado.wait()\n",
    "    # ¡Listo!\n",
    "    print(f\"Reproduciendo video en t={time.time():.6f}\")\n",
    "    \n",
    "    \n",
    "def reproducir_audio(nombre):\n",
    "    print(f\"Cargando audio {nombre} en t={time.time():.6f}\")\n",
    "    # Supongamos que se demora 5 segundos\n",
    "    time.sleep(5)\n",
    "    print(f\"¡Audio cargado! en t={time.time():.6f}\")\n",
    "    # Avisamos que el audio ya está cargado\n",
    "    audio_cargado.set()\n",
    "    # Esperamos a que el video ya se haya cargado\n",
    "    video_cargado.wait()\n",
    "    # ¡Listo!\n",
    "    print(f\"Reproduciendo audio en t={time.time():.6f}\")\n",
    "    \n",
    "    \n",
    "t1 = threading.Thread(target=reproducir_audio, args=(\"'No Te Enamores' - Paloma Mami\",))\n",
    "t2 = threading.Thread(target=reproducir_video, args=(\"'No Te Enamores' - Paloma Mami\",))\n",
    "\n",
    "t1.start()\n",
    "t2.start()\n",
    "\n",
    "t1.join()\n",
    "t2.join()"
   ]
  },
  {
   "cell_type": "markdown",
   "metadata": {},
   "source": [
    "En el ejemplo anterior, gracias a la coordinación de *threads* con *events*, conseguimos que el audio y el video se empiecen a reproducir **casi** simultáneamente. De otra manera, el video habría empezado mucho antes, puesto que demoró solo 3 segundos en cargar, mientras que el audio tardó 5 segundos."
   ]
  },
  {
   "cell_type": "markdown",
   "metadata": {},
   "source": [
    "### Otros métodos de coordinación entre *threads*\n",
    "\n",
    "En Python existen otras maneras de coordinar *threads*, que son adecuadas para otras situaciones. No las veremos en detalle en este curso. Si gustas, puedes verlas en la [documentación](https://docs.python.org/3/library/threading.html#lock-objects), donde encontrarás información sobre objetos `RLock` (*lock* reentrante), objetos condición, objetos semáforo, objetos barrera y más."
   ]
  },
  {
   "cell_type": "markdown",
   "metadata": {},
   "source": [
    "## *Deadlocks*\n",
    "\n",
    "Introdujimos formas de coordinar *threads*, o de hacer que un *thread* espere al otro. Existen situaciones en que – por error – dos o más *threads* se esperan mutuamente, sin que ninguno finalmente avance. A este tipo de situaciones se le llama ***deadlock*** o **interbloqueo**, aunque hay nombres *menos afortunados*...\n",
    "\n",
    "![Abrazo mortal](imgs/abrazo-mortal.png)\n",
    "\n",
    "Veamos dos ejemplos concretos de ***deadlocks***.\n",
    "\n",
    "Ejemplo con *locks*:"
   ]
  },
  {
   "cell_type": "code",
   "execution_count": 7,
   "metadata": {},
   "outputs": [],
   "source": [
    "import threading\n",
    "import time\n",
    "\n",
    "\n",
    "lock_1 = threading.Lock()\n",
    "lock_2 = threading.Lock()\n",
    "\n",
    "\n",
    "def master():\n",
    "    time.sleep(2)\n",
    "    print(\"Master: adquiriendo lock_1\")\n",
    "    with lock_1:\n",
    "        time.sleep(2)\n",
    "        print(\"Master: adquiriendo lock_2\")\n",
    "        with lock_2:\n",
    "            print(\"Master: trabajando!\")\n",
    "\n",
    "\n",
    "def worker():\n",
    "    time.sleep(1.5)\n",
    "    print(\"Worker: adquiriendo lock_2\")\n",
    "    with lock_2:\n",
    "        time.sleep(2)\n",
    "        print(\"Worker: adquiriendo lock_1\")\n",
    "        with lock_1:\n",
    "            print(\"Worker: trabajando!\")\n",
    "\n",
    "\n",
    "t1 = threading.Thread(target=master)\n",
    "t2 = threading.Thread(target=worker)\n",
    "\n",
    "t1.start()\n",
    "t2.start()"
   ]
  },
  {
   "cell_type": "markdown",
   "metadata": {},
   "source": [
    "En el ejemplo anterior, tenemos dos *threads* y dos *locks*. El *thread master* alcanza a adquirir el `lock_1`, y el *thread worker* alcanza a adquirir el `lock_2`. Luego, *master* trata de adquirir `lock_2`, por lo que debe esperar que *worker* lo libere. Sin embargo, *worker* no liberará el `lock_2` sin antes poder adquirir `lock_1` 💀.\n",
    "\n",
    "Ejemplo con *events*. Nota que es el mismo que el de la sección de [señales entre _threads_](#Señales-entre-threads), solo que cambiamos el orden en que se revisan/levantan las señales:"
   ]
  },
  {
   "cell_type": "code",
   "execution_count": 8,
   "metadata": {},
   "outputs": [
    {
     "name": "stdout",
     "output_type": "stream",
     "text": [
      "Cargando audio 'No Te Enamores' - Paloma Mami en t=1567573812.277125\n",
      "Cargando video 'No Te Enamores' - Paloma Mami en t=1567573812.277899\n"
     ]
    }
   ],
   "source": [
    "import threading\n",
    "import time\n",
    "\n",
    "\n",
    "video_cargado = threading.Event()\n",
    "audio_cargado = threading.Event()\n",
    "\n",
    "def reproducir_video(nombre):\n",
    "    print(f\"Cargando video {nombre} en t={time.time():.6f}\")\n",
    "    time.sleep(3)\n",
    "    print(f\"¡Video cargado! en t={time.time():.6f}\")\n",
    "    audio_cargado.wait()\n",
    "    video_cargado.set()\n",
    "    print(f\"Reproduciendo video en t={time.time():.6f}\")\n",
    "    \n",
    "    \n",
    "def reproducir_audio(nombre):\n",
    "    print(f\"Cargando audio {nombre} en t={time.time():.6f}\")\n",
    "    time.sleep(5)\n",
    "    print(f\"¡Audio cargado! en t={time.time():.6f}\")\n",
    "    video_cargado.wait()\n",
    "    audio_cargado.set()\n",
    "    print(f\"Reproduciendo audio en t={time.time():.6f}\")\n",
    "    \n",
    "    \n",
    "t1 = threading.Thread(target=reproducir_audio, args=(\"'No Te Enamores' - Paloma Mami\",))\n",
    "t2 = threading.Thread(target=reproducir_video, args=(\"'No Te Enamores' - Paloma Mami\",))\n",
    "\n",
    "t1.start()\n",
    "t2.start()"
   ]
  },
  {
   "cell_type": "markdown",
   "metadata": {},
   "source": [
    "Esencialmente, en el ejemplo anterior estamos esperando que el otro *thread* avise que hizo su trabajo, antes de avisar que el *thread* actual hizo el suyo. Esto produce que `reproducir_video` espere a que la señal de `audio_cargado` se active, antes de activar `video_cargado`. Sin embargo, `reproducir_audio` está esperando que `video_cargado` se active para luego activar `audio_cargado` 💀. La que puede, puede, pero estos *threads* no pueden."
   ]
  },
  {
   "cell_type": "markdown",
   "metadata": {},
   "source": [
    "Lo importante – para ti como programador(a) – es saber que los ***deadlocks*** pueden ocurrir, y que debes tener cuidado al programar para que esto no te pase."
   ]
  }
 ],
 "metadata": {
  "kernelspec": {
   "display_name": "Python 3",
   "language": "python",
   "name": "python3"
  },
  "language_info": {
   "codemirror_mode": {
    "name": "ipython",
    "version": 3
   },
   "file_extension": ".py",
   "mimetype": "text/x-python",
   "name": "python",
   "nbconvert_exporter": "python",
   "pygments_lexer": "ipython3",
   "version": "3.6.6"
  },
  "varInspector": {
   "cols": {
    "lenName": 16,
    "lenType": 16,
    "lenVar": 40
   },
   "kernels_config": {
    "python": {
     "delete_cmd_postfix": "",
     "delete_cmd_prefix": "del ",
     "library": "var_list.py",
     "varRefreshCmd": "print(var_dic_list())"
    },
    "r": {
     "delete_cmd_postfix": ") ",
     "delete_cmd_prefix": "rm(",
     "library": "var_list.r",
     "varRefreshCmd": "cat(var_dic_list()) "
    }
   },
   "types_to_exclude": [
    "module",
    "function",
    "builtin_function_or_method",
    "instance",
    "_Feature"
   ],
   "window_display": false
  }
 },
 "nbformat": 4,
 "nbformat_minor": 1
}
